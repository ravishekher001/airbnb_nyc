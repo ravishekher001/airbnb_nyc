{
 "cells": [
  {
   "cell_type": "markdown",
   "metadata": {},
   "source": [
    "\n",
    "\n",
    "\n",
    "Motivation:\n",
    "\n",
    "As of August 2019 there are about 48,864 airbnb listings in New York City. \n",
    "\n",
    "Can we use Machine Learning to find similar airbnb listings based on the features like: amenities offerred, description, price, number of bedrooms/bathrooms, and numerous other features. \n",
    "\n",
    "The similarity is based on 2200 features that have been constructed for each listing. \n",
    "\n",
    "I have used 2200 features to group Airbnb listings based on how similar they are. \n",
    "\n",
    "Using a dimensionality reduction technique called t-SNE, we can visualize each of the listings in a 3D space. The below plot shows an interactive dashboard that was built using `plotly and dash`.\n",
    "\n",
    "\n",
    "\n",
    "The goal of this post is to show how we can use Machine Learning to find similar Airbnb listings. The similarity is not just based on the price, number of bedrooms, neighbourhood, amenities offerred et"
   ]
  },
  {
   "cell_type": "markdown",
   "metadata": {},
   "source": [
    "# Outline"
   ]
  },
  {
   "cell_type": "markdown",
   "metadata": {},
   "source": [
    "### Where to get the data?\n",
    "Each month [Inside Airbnb](http://insideairbnb.com/get-the-data.html) website releases data for several cities. The data behind the Inside Airbnb site is sourced from publicly available information from the Airbnb site."
   ]
  },
  {
   "cell_type": "markdown",
   "metadata": {},
   "source": [
    "### How to clean and pre-process the data?"
   ]
  },
  {
   "cell_type": "markdown",
   "metadata": {},
   "source": [
    "### How to use feature engineering to construct new features for each airbnb listing?"
   ]
  },
  {
   "cell_type": "markdown",
   "metadata": {},
   "source": [
    "### Apply PCA to reduce dimensions"
   ]
  },
  {
   "cell_type": "markdown",
   "metadata": {},
   "source": [
    "### Apply t-SNE to reduce to 3 dimensions "
   ]
  },
  {
   "cell_type": "markdown",
   "metadata": {},
   "source": [
    "### How to build an interactive dashboard using Dash?"
   ]
  },
  {
   "cell_type": "markdown",
   "metadata": {},
   "source": [
    "### How to deploy the Dash application to Heroku?"
   ]
  },
  {
   "cell_type": "code",
   "execution_count": null,
   "metadata": {},
   "outputs": [],
   "source": []
  }
 ],
 "metadata": {
  "kernelspec": {
   "display_name": "Python 3",
   "language": "python",
   "name": "python3"
  },
  "language_info": {
   "codemirror_mode": {
    "name": "ipython",
    "version": 3
   },
   "file_extension": ".py",
   "mimetype": "text/x-python",
   "name": "python",
   "nbconvert_exporter": "python",
   "pygments_lexer": "ipython3",
   "version": "3.7.3"
  }
 },
 "nbformat": 4,
 "nbformat_minor": 2
}
