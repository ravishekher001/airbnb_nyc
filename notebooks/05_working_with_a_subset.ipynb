{
 "cells": [
  {
   "cell_type": "code",
   "execution_count": 1,
   "metadata": {},
   "outputs": [],
   "source": [
    "import numpy as np\n",
    "import pandas as pd\n",
    "import matplotlib.pyplot as plt\n",
    "from IPython import display\n",
    "import os\n",
    "import json\n",
    "\n",
    "import bokeh\n",
    "import geopandas\n",
    "\n",
    "pd.options.display.max_colwidth=200\n",
    "%matplotlib inline"
   ]
  },
  {
   "cell_type": "code",
   "execution_count": 2,
   "metadata": {},
   "outputs": [],
   "source": [
    "# data directory\n",
    "data_dir = \"../data\"\n",
    "raw_data = os.path.join(data_dir, \"raw\")"
   ]
  },
  {
   "cell_type": "code",
   "execution_count": 3,
   "metadata": {},
   "outputs": [],
   "source": [
    "df = pd.read_csv(os.path.join(raw_data, \"summary_listings.csv\"))"
   ]
  },
  {
   "cell_type": "code",
   "execution_count": 4,
   "metadata": {},
   "outputs": [
    {
     "name": "stdout",
     "output_type": "stream",
     "text": [
      "<class 'pandas.core.frame.DataFrame'>\n",
      "RangeIndex: 48864 entries, 0 to 48863\n",
      "Data columns (total 16 columns):\n",
      "id                                48864 non-null int64\n",
      "name                              48848 non-null object\n",
      "host_id                           48864 non-null int64\n",
      "host_name                         48846 non-null object\n",
      "neighbourhood_group               48864 non-null object\n",
      "neighbourhood                     48864 non-null object\n",
      "latitude                          48864 non-null float64\n",
      "longitude                         48864 non-null float64\n",
      "room_type                         48864 non-null object\n",
      "price                             48864 non-null int64\n",
      "minimum_nights                    48864 non-null int64\n",
      "number_of_reviews                 48864 non-null int64\n",
      "last_review                       38733 non-null object\n",
      "reviews_per_month                 38733 non-null float64\n",
      "calculated_host_listings_count    48864 non-null int64\n",
      "availability_365                  48864 non-null int64\n",
      "dtypes: float64(3), int64(7), object(6)\n",
      "memory usage: 6.0+ MB\n"
     ]
    }
   ],
   "source": [
    "df.info()"
   ]
  },
  {
   "cell_type": "markdown",
   "metadata": {},
   "source": [
    "## Subset the dataset based on neighbourhood_group and room_type"
   ]
  },
  {
   "cell_type": "code",
   "execution_count": 7,
   "metadata": {},
   "outputs": [
    {
     "data": {
      "text/plain": [
       "Manhattan        21456\n",
       "Brooklyn         20114\n",
       "Queens            5811\n",
       "Bronx             1105\n",
       "Staten Island      378\n",
       "Name: neighbourhood_group, dtype: int64"
      ]
     },
     "execution_count": 7,
     "metadata": {},
     "output_type": "execute_result"
    }
   ],
   "source": [
    "df.neighbourhood_group.value_counts()"
   ]
  },
  {
   "cell_type": "code",
   "execution_count": 8,
   "metadata": {},
   "outputs": [
    {
     "data": {
      "text/plain": [
       "Entire home/apt    25296\n",
       "Private room       22397\n",
       "Shared room         1171\n",
       "Name: room_type, dtype: int64"
      ]
     },
     "execution_count": 8,
     "metadata": {},
     "output_type": "execute_result"
    }
   ],
   "source": [
    "df.room_type.value_counts()"
   ]
  },
  {
   "cell_type": "code",
   "execution_count": 14,
   "metadata": {},
   "outputs": [
    {
     "data": {
      "text/plain": [
       "neighbourhood_group  room_type      \n",
       "Bronx                Entire home/apt      378\n",
       "                     Private room         659\n",
       "                     Shared room           68\n",
       "Brooklyn             Entire home/apt     9565\n",
       "                     Private room       10131\n",
       "                     Shared room          418\n",
       "Manhattan            Entire home/apt    13054\n",
       "                     Private room        7931\n",
       "                     Shared room          471\n",
       "Queens               Entire home/apt     2118\n",
       "                     Private room        3489\n",
       "                     Shared room          204\n",
       "Staten Island        Entire home/apt      181\n",
       "                     Private room         187\n",
       "                     Shared room           10\n",
       "Name: price, dtype: int64"
      ]
     },
     "execution_count": 14,
     "metadata": {},
     "output_type": "execute_result"
    }
   ],
   "source": [
    "df.groupby(['neighbourhood_group', 'room_type'])['price'].count()"
   ]
  },
  {
   "cell_type": "code",
   "execution_count": 23,
   "metadata": {},
   "outputs": [
    {
     "data": {
      "text/plain": [
       "(13054, 16)"
      ]
     },
     "execution_count": 23,
     "metadata": {},
     "output_type": "execute_result"
    }
   ],
   "source": [
    "df = df[(df.neighbourhood_group == 'Manhattan') & (df.room_type == 'Entire home/apt')]\n",
    "df.shape"
   ]
  },
  {
   "cell_type": "markdown",
   "metadata": {},
   "source": [
    "## Construct a geopandas dataframe"
   ]
  },
  {
   "cell_type": "code",
   "execution_count": 24,
   "metadata": {},
   "outputs": [],
   "source": [
    "geo_df = geopandas.GeoDataFrame(df, geometry=geopandas.points_from_xy(df.longitude, df.latitude))"
   ]
  },
  {
   "cell_type": "code",
   "execution_count": 25,
   "metadata": {},
   "outputs": [],
   "source": [
    "# filter \n",
    "cols = ['price', 'neighbourhood', 'neighbourhood_group', 'geometry']\n",
    "price_df = geo_df[cols]"
   ]
  },
  {
   "cell_type": "code",
   "execution_count": 26,
   "metadata": {},
   "outputs": [
    {
     "data": {
      "text/html": [
       "<div>\n",
       "<style scoped>\n",
       "    .dataframe tbody tr th:only-of-type {\n",
       "        vertical-align: middle;\n",
       "    }\n",
       "\n",
       "    .dataframe tbody tr th {\n",
       "        vertical-align: top;\n",
       "    }\n",
       "\n",
       "    .dataframe thead th {\n",
       "        text-align: right;\n",
       "    }\n",
       "</style>\n",
       "<table border=\"1\" class=\"dataframe\">\n",
       "  <thead>\n",
       "    <tr style=\"text-align: right;\">\n",
       "      <th></th>\n",
       "      <th>price</th>\n",
       "      <th>neighbourhood</th>\n",
       "      <th>neighbourhood_group</th>\n",
       "      <th>geometry</th>\n",
       "      <th>mean_neibhourhood_price</th>\n",
       "    </tr>\n",
       "  </thead>\n",
       "  <tbody>\n",
       "    <tr>\n",
       "      <td>0</td>\n",
       "      <td>225</td>\n",
       "      <td>Midtown</td>\n",
       "      <td>Manhattan</td>\n",
       "      <td>POINT (-73.98376999999999 40.75362)</td>\n",
       "      <td>281.951103</td>\n",
       "    </tr>\n",
       "    <tr>\n",
       "      <td>229</td>\n",
       "      <td>250</td>\n",
       "      <td>Midtown</td>\n",
       "      <td>Manhattan</td>\n",
       "      <td>POINT (-73.96991 40.7589)</td>\n",
       "      <td>281.951103</td>\n",
       "    </tr>\n",
       "    <tr>\n",
       "      <td>241</td>\n",
       "      <td>110</td>\n",
       "      <td>Midtown</td>\n",
       "      <td>Manhattan</td>\n",
       "      <td>POINT (-73.96897 40.75749)</td>\n",
       "      <td>281.951103</td>\n",
       "    </tr>\n",
       "    <tr>\n",
       "      <td>372</td>\n",
       "      <td>139</td>\n",
       "      <td>Midtown</td>\n",
       "      <td>Manhattan</td>\n",
       "      <td>POINT (-73.98876 40.74503)</td>\n",
       "      <td>281.951103</td>\n",
       "    </tr>\n",
       "    <tr>\n",
       "      <td>380</td>\n",
       "      <td>145</td>\n",
       "      <td>Midtown</td>\n",
       "      <td>Manhattan</td>\n",
       "      <td>POINT (-73.96699 40.75579)</td>\n",
       "      <td>281.951103</td>\n",
       "    </tr>\n",
       "  </tbody>\n",
       "</table>\n",
       "</div>"
      ],
      "text/plain": [
       "     price neighbourhood neighbourhood_group  \\\n",
       "0      225       Midtown           Manhattan   \n",
       "229    250       Midtown           Manhattan   \n",
       "241    110       Midtown           Manhattan   \n",
       "372    139       Midtown           Manhattan   \n",
       "380    145       Midtown           Manhattan   \n",
       "\n",
       "                                geometry  mean_neibhourhood_price  \n",
       "0    POINT (-73.98376999999999 40.75362)               281.951103  \n",
       "229            POINT (-73.96991 40.7589)               281.951103  \n",
       "241           POINT (-73.96897 40.75749)               281.951103  \n",
       "372           POINT (-73.98876 40.74503)               281.951103  \n",
       "380           POINT (-73.96699 40.75579)               281.951103  "
      ]
     },
     "execution_count": 26,
     "metadata": {},
     "output_type": "execute_result"
    }
   ],
   "source": [
    "price_grouped = price_df.groupby('neighbourhood')[['price']].mean()\n",
    "mean_price_df = pd.merge(price_df, price_grouped, left_on='neighbourhood', right_index=True)\n",
    "mean_price_df.rename({'price_x': 'price', 'price_y': 'mean_neibhourhood_price'}, axis=1, inplace=True)\n",
    "\n",
    "mean_price_df.head()"
   ]
  },
  {
   "cell_type": "code",
   "execution_count": 28,
   "metadata": {},
   "outputs": [
    {
     "data": {
      "text/plain": [
       "Upper East Side        1287\n",
       "Upper West Side        1226\n",
       "Hell's Kitchen         1170\n",
       "East Village           1169\n",
       "Midtown                1043\n",
       "Harlem                 1030\n",
       "Chelsea                 819\n",
       "West Village            651\n",
       "Financial District      579\n",
       "Lower East Side         496\n",
       "East Harlem             483\n",
       "Murray Hill             403\n",
       "Kips Bay                331\n",
       "Washington Heights      302\n",
       "Greenwich Village       289\n",
       "Gramercy                252\n",
       "SoHo                    234\n",
       "Chinatown               206\n",
       "Nolita                  173\n",
       "Theater District        160\n",
       "Morningside Heights     146\n",
       "Tribeca                 142\n",
       "Inwood                  102\n",
       "Little Italy             77\n",
       "NoHo                     68\n",
       "Flatiron District        67\n",
       "Battery Park City        53\n",
       "Civic Center             32\n",
       "Two Bridges              26\n",
       "Roosevelt Island         19\n",
       "Stuyvesant Town          14\n",
       "Marble Hill               5\n",
       "Name: neighbourhood, dtype: int64"
      ]
     },
     "execution_count": 28,
     "metadata": {},
     "output_type": "execute_result"
    }
   ],
   "source": [
    "mean_price_df.neighbourhood.value_counts()"
   ]
  },
  {
   "cell_type": "code",
   "execution_count": 29,
   "metadata": {},
   "outputs": [
    {
     "data": {
      "text/plain": [
       "<Figure size 432x288 with 0 Axes>"
      ]
     },
     "metadata": {},
     "output_type": "display_data"
    },
    {
     "data": {
      "image/png": "[encoded data removed]",
      "text/plain": [
       "<Figure size 1440x864 with 2 Axes>"
      ]
     },
     "metadata": {
      "needs_background": "light"
     },
     "output_type": "display_data"
    }
   ],
   "source": [
    "plt.figure()\n",
    "mean_price_df.plot(figsize=(20, 12),\n",
    "                  column='mean_neibhourhood_price',\n",
    "                  markersize=1,\n",
    "                  cmap='BuGn',\n",
    "                  legend=True)\n",
    "plt.grid()\n",
    "plt.show()"
   ]
  },
  {
   "cell_type": "markdown",
   "metadata": {},
   "source": [
    "## Get the neighbourhood polygons"
   ]
  },
  {
   "cell_type": "code",
   "execution_count": 30,
   "metadata": {},
   "outputs": [],
   "source": [
    "nbhoods = geopandas.read_file('../data/raw/neighbourhoods.geojson')"
   ]
  },
  {
   "cell_type": "code",
   "execution_count": 31,
   "metadata": {},
   "outputs": [
    {
     "data": {
      "text/html": [
       "<div>\n",
       "<style scoped>\n",
       "    .dataframe tbody tr th:only-of-type {\n",
       "        vertical-align: middle;\n",
       "    }\n",
       "\n",
       "    .dataframe tbody tr th {\n",
       "        vertical-align: top;\n",
       "    }\n",
       "\n",
       "    .dataframe thead th {\n",
       "        text-align: right;\n",
       "    }\n",
       "</style>\n",
       "<table border=\"1\" class=\"dataframe\">\n",
       "  <thead>\n",
       "    <tr style=\"text-align: right;\">\n",
       "      <th></th>\n",
       "      <th>neighbourhood</th>\n",
       "      <th>neighbourhood_group</th>\n",
       "      <th>geometry</th>\n",
       "    </tr>\n",
       "  </thead>\n",
       "  <tbody>\n",
       "    <tr>\n",
       "      <td>0</td>\n",
       "      <td>Bayswater</td>\n",
       "      <td>Queens</td>\n",
       "      <td>(POLYGON ((-73.76670799999999 40.614911, -73.768253 40.614878, -73.773977 40.616004, -73.77363099999999 40.616327, -73.76873500000001 40.620901, -73.767459 40.620511, -73.76697799999999 40.616919,...</td>\n",
       "    </tr>\n",
       "    <tr>\n",
       "      <td>1</td>\n",
       "      <td>Allerton</td>\n",
       "      <td>Bronx</td>\n",
       "      <td>(POLYGON ((-73.848597 40.87167, -73.845823 40.870239, -73.85455899999999 40.859954, -73.854665 40.859586, -73.85638899999999 40.857594, -73.868882 40.857223, -73.868318 40.857862, -73.869553999999...</td>\n",
       "    </tr>\n",
       "    <tr>\n",
       "      <td>2</td>\n",
       "      <td>City Island</td>\n",
       "      <td>Bronx</td>\n",
       "      <td>(POLYGON ((-73.782822 40.843919, -73.782572 40.843295, -73.782607 40.843286, -73.782785 40.843755, -73.783092 40.843685, -73.78287400000001 40.843124, -73.782901 40.843118, -73.78313300000001 40.8...</td>\n",
       "    </tr>\n",
       "    <tr>\n",
       "      <td>3</td>\n",
       "      <td>Ditmars Steinway</td>\n",
       "      <td>Queens</td>\n",
       "      <td>(POLYGON ((-73.90160299999999 40.76777, -73.90390600000001 40.76814, -73.904667 40.768545, -73.90560499999999 40.768717, -73.916607 40.770407, -73.91726199999999 40.770785, -73.92232300000001 40.7...</td>\n",
       "    </tr>\n",
       "    <tr>\n",
       "      <td>4</td>\n",
       "      <td>Ozone Park</td>\n",
       "      <td>Queens</td>\n",
       "      <td>(POLYGON ((-73.83754399999999 40.691364, -73.83108300000001 40.678151, -73.83087500000001 40.678109, -73.83094 40.67812, -73.83208 40.675261, -73.83305300000001 40.675412, -73.83375599999999 40.67...</td>\n",
       "    </tr>\n",
       "  </tbody>\n",
       "</table>\n",
       "</div>"
      ],
      "text/plain": [
       "      neighbourhood neighbourhood_group  \\\n",
       "0         Bayswater              Queens   \n",
       "1          Allerton               Bronx   \n",
       "2       City Island               Bronx   \n",
       "3  Ditmars Steinway              Queens   \n",
       "4        Ozone Park              Queens   \n",
       "\n",
       "                                                                                                                                                                                                  geometry  \n",
       "0  (POLYGON ((-73.76670799999999 40.614911, -73.768253 40.614878, -73.773977 40.616004, -73.77363099999999 40.616327, -73.76873500000001 40.620901, -73.767459 40.620511, -73.76697799999999 40.616919,...  \n",
       "1  (POLYGON ((-73.848597 40.87167, -73.845823 40.870239, -73.85455899999999 40.859954, -73.854665 40.859586, -73.85638899999999 40.857594, -73.868882 40.857223, -73.868318 40.857862, -73.869553999999...  \n",
       "2  (POLYGON ((-73.782822 40.843919, -73.782572 40.843295, -73.782607 40.843286, -73.782785 40.843755, -73.783092 40.843685, -73.78287400000001 40.843124, -73.782901 40.843118, -73.78313300000001 40.8...  \n",
       "3  (POLYGON ((-73.90160299999999 40.76777, -73.90390600000001 40.76814, -73.904667 40.768545, -73.90560499999999 40.768717, -73.916607 40.770407, -73.91726199999999 40.770785, -73.92232300000001 40.7...  \n",
       "4  (POLYGON ((-73.83754399999999 40.691364, -73.83108300000001 40.678151, -73.83087500000001 40.678109, -73.83094 40.67812, -73.83208 40.675261, -73.83305300000001 40.675412, -73.83375599999999 40.67...  "
      ]
     },
     "execution_count": 31,
     "metadata": {},
     "output_type": "execute_result"
    }
   ],
   "source": [
    "nbhoods.head()"
   ]
  },
  {
   "cell_type": "code",
   "execution_count": 33,
   "metadata": {},
   "outputs": [
    {
     "data": {
      "text/plain": [
       "Queens           55\n",
       "Bronx            50\n",
       "Staten Island    48\n",
       "Brooklyn         48\n",
       "Manhattan        32\n",
       "Name: neighbourhood_group, dtype: int64"
      ]
     },
     "execution_count": 33,
     "metadata": {},
     "output_type": "execute_result"
    }
   ],
   "source": [
    "nbhoods.neighbourhood_group.value_counts()"
   ]
  },
  {
   "cell_type": "code",
   "execution_count": 35,
   "metadata": {},
   "outputs": [],
   "source": [
    "nbhoods = nbhoods[nbhoods.neighbourhood_group == 'Manhattan']"
   ]
  },
  {
   "cell_type": "code",
   "execution_count": 36,
   "metadata": {},
   "outputs": [
    {
     "data": {
      "text/html": [
       "<div>\n",
       "<style scoped>\n",
       "    .dataframe tbody tr th:only-of-type {\n",
       "        vertical-align: middle;\n",
       "    }\n",
       "\n",
       "    .dataframe tbody tr th {\n",
       "        vertical-align: top;\n",
       "    }\n",
       "\n",
       "    .dataframe thead th {\n",
       "        text-align: right;\n",
       "    }\n",
       "</style>\n",
       "<table border=\"1\" class=\"dataframe\">\n",
       "  <thead>\n",
       "    <tr style=\"text-align: right;\">\n",
       "      <th></th>\n",
       "      <th>neighbourhood</th>\n",
       "      <th>neighbourhood_group</th>\n",
       "      <th>geometry</th>\n",
       "    </tr>\n",
       "  </thead>\n",
       "  <tbody>\n",
       "    <tr>\n",
       "      <td>18</td>\n",
       "      <td>Battery Park City</td>\n",
       "      <td>Manhattan</td>\n",
       "      <td>(POLYGON ((-74.01375400000001 40.71369, -74.014262 40.710928, -74.016542 40.704733, -74.01617400000001 40.702572, -74.01563 40.701862, -74.01512700000001 40.70139, -74.014008 40.701043, -74.013959...</td>\n",
       "    </tr>\n",
       "    <tr>\n",
       "      <td>43</td>\n",
       "      <td>Chinatown</td>\n",
       "      <td>Manhattan</td>\n",
       "      <td>(POLYGON ((-73.99999099999999 40.717977, -73.998636 40.717077, -73.99779100000001 40.716793, -73.996478 40.719048, -73.99480800000001 40.718457, -73.989155 40.716708, -73.9902 40.714665, -73.99012...</td>\n",
       "    </tr>\n",
       "    <tr>\n",
       "      <td>52</td>\n",
       "      <td>Chelsea</td>\n",
       "      <td>Manhattan</td>\n",
       "      <td>(POLYGON ((-73.993464 40.75219, -73.987937 40.749855, -73.987933 40.749853, -73.987973 40.749467, -73.991356 40.744763, -73.99421100000001 40.741013, -73.989777 40.739169, -73.990371 40.737098, -7...</td>\n",
       "    </tr>\n",
       "    <tr>\n",
       "      <td>53</td>\n",
       "      <td>Civic Center</td>\n",
       "      <td>Manhattan</td>\n",
       "      <td>(POLYGON ((-73.99799400000001 40.712722, -73.99777 40.711971, -74.002363 40.711591, -74.003337 40.711236, -74.003355 40.71123, -74.00366200000001 40.711487, -74.005358 40.712151, -74.005769 40.712...</td>\n",
       "    </tr>\n",
       "    <tr>\n",
       "      <td>80</td>\n",
       "      <td>East Harlem</td>\n",
       "      <td>Manhattan</td>\n",
       "      <td>(POLYGON ((-73.93383 40.819521, -73.93383 40.819521, -73.933829 40.815585, -73.93394499999999 40.815588, -73.93394499999999 40.815588, -73.93394600000001 40.815588, -73.934015 40.814484, -73.93385...</td>\n",
       "    </tr>\n",
       "  </tbody>\n",
       "</table>\n",
       "</div>"
      ],
      "text/plain": [
       "        neighbourhood neighbourhood_group  \\\n",
       "18  Battery Park City           Manhattan   \n",
       "43          Chinatown           Manhattan   \n",
       "52            Chelsea           Manhattan   \n",
       "53       Civic Center           Manhattan   \n",
       "80        East Harlem           Manhattan   \n",
       "\n",
       "                                                                                                                                                                                                   geometry  \n",
       "18  (POLYGON ((-74.01375400000001 40.71369, -74.014262 40.710928, -74.016542 40.704733, -74.01617400000001 40.702572, -74.01563 40.701862, -74.01512700000001 40.70139, -74.014008 40.701043, -74.013959...  \n",
       "43  (POLYGON ((-73.99999099999999 40.717977, -73.998636 40.717077, -73.99779100000001 40.716793, -73.996478 40.719048, -73.99480800000001 40.718457, -73.989155 40.716708, -73.9902 40.714665, -73.99012...  \n",
       "52  (POLYGON ((-73.993464 40.75219, -73.987937 40.749855, -73.987933 40.749853, -73.987973 40.749467, -73.991356 40.744763, -73.99421100000001 40.741013, -73.989777 40.739169, -73.990371 40.737098, -7...  \n",
       "53  (POLYGON ((-73.99799400000001 40.712722, -73.99777 40.711971, -74.002363 40.711591, -74.003337 40.711236, -74.003355 40.71123, -74.00366200000001 40.711487, -74.005358 40.712151, -74.005769 40.712...  \n",
       "80  (POLYGON ((-73.93383 40.819521, -73.93383 40.819521, -73.933829 40.815585, -73.93394499999999 40.815588, -73.93394499999999 40.815588, -73.93394600000001 40.815588, -73.934015 40.814484, -73.93385...  "
      ]
     },
     "execution_count": 36,
     "metadata": {},
     "output_type": "execute_result"
    }
   ],
   "source": [
    "nbhoods.head()"
   ]
  },
  {
   "cell_type": "code",
   "execution_count": 52,
   "metadata": {},
   "outputs": [
    {
     "data": {
      "image/svg+xml": [
       "<svg xmlns=\"http://www.w3.org/2000/svg\" xmlns:xlink=\"http://www.w3.org/1999/xlink\" width=\"100.0\" height=\"100.0\" viewBox=\"-74.01311659999999 40.7342764 0.026152199999984305 0.02381019999999978\" preserveAspectRatio=\"xMinYMin meet\"><g transform=\"matrix(1,0,0,-1,0,81.492363)\"><g><path fill-rule=\"evenodd\" fill=\"#66cc99\" stroke=\"#555555\" stroke-width=\"0.0005230439999996861\" opacity=\"0.6\" d=\"M -73.993464,40.75219 L -73.987937,40.749855 L -73.987933,40.749853 L -73.987973,40.749467 L -73.991356,40.744763 L -73.994211,40.741013 L -73.989777,40.739169 L -73.990371,40.737098 L -73.991725,40.735245 L -73.996797,40.737364 L -74.00881,40.742378 L -74.009161,40.742509 L -74.009092,40.742886 L -74.00924,40.7429 L -74.00962,40.742951 L -74.00962,40.742952 L -74.009568,40.743258 L -74.009585,40.743264 L -74.012119,40.743517 L -74.012137,40.743532 L -74.012148,40.743559 L -74.01209,40.743898 L -74.012069,40.743922 L -74.012021,40.74394 L -74.009512,40.743676 L -74.009489,40.743696 L -74.009438,40.743971 L -74.009394,40.743969 L -74.0089,40.743918 L -74.00873,40.744882 L -74.009105,40.744931 L -74.009612,40.744998 L -74.009558,40.745289 L -74.009917,40.745327 L -74.009934,40.745317 L -74.009998,40.744955 L -74.009987,40.744944 L -74.009869,40.744934 L -74.009872,40.744917 L -74.010168,40.744942 L -74.010165,40.744964 L -74.010054,40.744954 L -74.010038,40.744963 L -74.009974,40.745323 L -74.009991,40.745337 L -74.010469,40.745387 L -74.010488,40.745376 L -74.01055,40.745013 L -74.010532,40.745003 L -74.010417,40.744994 L -74.010419,40.744977 L -74.010764,40.745005 L -74.010762,40.745024 L -74.010606,40.745011 L -74.010586,40.74502 L -74.010531,40.745382 L -74.010545,40.745392 L -74.011104,40.745448 L -74.011116,40.745436 L -74.011172,40.745078 L -74.011153,40.745069 L -74.011043,40.745061 L -74.011045,40.745046 L -74.011388,40.745073 L -74.011386,40.745088 L -74.01123,40.745076 L -74.011154,40.745446 L -74.011167,40.74546 L -74.01174,40.74552 L -74.011795,40.745155 L -74.011783,40.745135 L -74.011669,40.745127 L -74.011671,40.745114 L -74.011836,40.745126 L -74.011766,40.745578 L -74.011783,40.745602 L -74.011719,40.74594 L -74.011711,40.745961 L -74.011679,40.745979 L -74.011635,40.745978 L -74.010555,40.745871 L -74.010551,40.745903 L -74.010128,40.745857 L -74.010128,40.745842 L -74.009947,40.745817 L -74.009948,40.7458 L -74.009464,40.74575 L -74.009366,40.746337 L -74.011528,40.746575 L -74.011562,40.746587 L -74.011585,40.746609 L -74.011582,40.746636 L -74.011525,40.746973 L -74.011479,40.746985 L -74.011476,40.746997 L -74.009243,40.746763 L -74.009137,40.74736 L -74.00956,40.747403 L -74.00955,40.747371 L -74.009552,40.747339 L -74.009964,40.747378 L -74.009958,40.747412 L -74.009902,40.747438 L -74.011357,40.747592 L -74.011395,40.747611 L -74.011407,40.747631 L -74.011407,40.747631 L -74.011347,40.747976 L -74.011332,40.748001 L -74.011304,40.748015 L -74.011266,40.748014 L -74.009058,40.747786 L -74.008946,40.748412 L -74.008979,40.748413 L -74.008979,40.7484 L -74.009071,40.74841 L -74.009074,40.748395 L -74.009415,40.74843 L -74.009416,40.748437 L -74.009523,40.748448 L -74.009519,40.748474 L -74.011167,40.748645 L -74.011195,40.748657 L -74.011216,40.748678 L -74.011216,40.748697 L -74.011149,40.749026 L -74.011133,40.749042 L -74.011109,40.74905 L -74.011078,40.749052 L -74.009994,40.748937 L -74.009948,40.748932 L -74.00956,40.749935 L -74.009723,40.749972 L -74.009728,40.749964 L -74.010192,40.750109 L -74.010808,40.750319 L -74.010757,40.750411 L -74.009683,40.750063 L -74.009694,40.750044 L -74.009542,40.750001 L -74.009518,40.750107 L -74.009253,40.749985 L -74.009119,40.750332 L -74.010674,40.751072 L -74.010591,40.751323 L -74.009001,40.750648 L -74.008735,40.751349 L -74.008731,40.751466 L -74.008667,40.751628 L -74.008533,40.751884 L -74.00876,40.751948 L -74.009078,40.752069 L -74.010217,40.752548 L -74.010125,40.752669 L -74.008997,40.752189 L -74.008915,40.752164 L -74.008591,40.752028 L -74.008581,40.752044 L -74.009341,40.752356 L -74.009328,40.752374 L -74.008479,40.752019 L -74.008426,40.752158 L -74.009991,40.752816 L -74.00992,40.752912 L -74.009971,40.752934 L -74.009919,40.753004 L -74.009789,40.752948 L -74.009888,40.752814 L -74.009839,40.752795 L -74.009831,40.752803 L -74.00883,40.75238 L -74.008836,40.752372 L -74.008792,40.752352 L -74.008688,40.752494 L -74.008354,40.752351 L -74.007811,40.753779 L -74.007761,40.75391 L -74.00762,40.754281 L -74.007745,40.754337 L -74.007597,40.75453 L -74.007472,40.754477 L -74.007285,40.754736 L -74.007414,40.754789 L -74.007272,40.754986 L -74.007145,40.754932 L -74.006394,40.755972 L -74.005567,40.757118 L -74.004927,40.757023 L -73.993464,40.75219 z\" /></g></g></svg>"
      ],
      "text/plain": [
       "<shapely.geometry.multipolygon.MultiPolygon at 0x118d39940>"
      ]
     },
     "execution_count": 52,
     "metadata": {},
     "output_type": "execute_result"
    }
   ],
   "source": [
    "list(nbhoods[nbhoods.neighbourhood == 'Chelsea'].geometry)[0]"
   ]
  },
  {
   "cell_type": "code",
   "execution_count": 53,
   "metadata": {},
   "outputs": [],
   "source": [
    "chelsea = list(nbhoods[nbhoods.neighbourhood == 'Chelsea'].geometry)[0]"
   ]
  },
  {
   "cell_type": "markdown",
   "metadata": {},
   "source": [
    "## Get subway data"
   ]
  },
  {
   "cell_type": "code",
   "execution_count": 37,
   "metadata": {},
   "outputs": [],
   "source": [
    "subway = geopandas.read_file('../data/raw/subway.geojson')"
   ]
  },
  {
   "cell_type": "code",
   "execution_count": 38,
   "metadata": {},
   "outputs": [
    {
     "data": {
      "text/html": [
       "<div>\n",
       "<style scoped>\n",
       "    .dataframe tbody tr th:only-of-type {\n",
       "        vertical-align: middle;\n",
       "    }\n",
       "\n",
       "    .dataframe tbody tr th {\n",
       "        vertical-align: top;\n",
       "    }\n",
       "\n",
       "    .dataframe thead th {\n",
       "        text-align: right;\n",
       "    }\n",
       "</style>\n",
       "<table border=\"1\" class=\"dataframe\">\n",
       "  <thead>\n",
       "    <tr style=\"text-align: right;\">\n",
       "      <th></th>\n",
       "      <th>name</th>\n",
       "      <th>url</th>\n",
       "      <th>line</th>\n",
       "      <th>objectid</th>\n",
       "      <th>notes</th>\n",
       "      <th>geometry</th>\n",
       "    </tr>\n",
       "  </thead>\n",
       "  <tbody>\n",
       "    <tr>\n",
       "      <td>0</td>\n",
       "      <td>Astor Pl</td>\n",
       "      <td>http://web.mta.info/nyct/service/</td>\n",
       "      <td>4-6-6 Express</td>\n",
       "      <td>1</td>\n",
       "      <td>4 nights, 6-all times, 6 Express-weekdays AM southbound, PM northbound</td>\n",
       "      <td>POINT (-73.99106999861966 40.73005400028978)</td>\n",
       "    </tr>\n",
       "    <tr>\n",
       "      <td>1</td>\n",
       "      <td>Canal St</td>\n",
       "      <td>http://web.mta.info/nyct/service/</td>\n",
       "      <td>4-6-6 Express</td>\n",
       "      <td>2</td>\n",
       "      <td>4 nights, 6-all times, 6 Express-weekdays AM southbound, PM northbound</td>\n",
       "      <td>POINT (-74.00019299927328 40.71880300107709)</td>\n",
       "    </tr>\n",
       "    <tr>\n",
       "      <td>2</td>\n",
       "      <td>50th St</td>\n",
       "      <td>http://web.mta.info/nyct/service/</td>\n",
       "      <td>1-2</td>\n",
       "      <td>3</td>\n",
       "      <td>1-all times, 2-nights</td>\n",
       "      <td>POINT (-73.98384899986625 40.76172799961419)</td>\n",
       "    </tr>\n",
       "    <tr>\n",
       "      <td>3</td>\n",
       "      <td>Bergen St</td>\n",
       "      <td>http://web.mta.info/nyct/service/</td>\n",
       "      <td>2-3-4</td>\n",
       "      <td>4</td>\n",
       "      <td>4-nights, 3-all other times, 2-all times</td>\n",
       "      <td>POINT (-73.97499915116808 40.68086213682956)</td>\n",
       "    </tr>\n",
       "    <tr>\n",
       "      <td>4</td>\n",
       "      <td>Pennsylvania Ave</td>\n",
       "      <td>http://web.mta.info/nyct/service/</td>\n",
       "      <td>3-4</td>\n",
       "      <td>5</td>\n",
       "      <td>4-nights, 3-all other times</td>\n",
       "      <td>POINT (-73.89488591154061 40.66471445143568)</td>\n",
       "    </tr>\n",
       "  </tbody>\n",
       "</table>\n",
       "</div>"
      ],
      "text/plain": [
       "               name                                url           line  \\\n",
       "0          Astor Pl  http://web.mta.info/nyct/service/  4-6-6 Express   \n",
       "1          Canal St  http://web.mta.info/nyct/service/  4-6-6 Express   \n",
       "2           50th St  http://web.mta.info/nyct/service/            1-2   \n",
       "3         Bergen St  http://web.mta.info/nyct/service/          2-3-4   \n",
       "4  Pennsylvania Ave  http://web.mta.info/nyct/service/            3-4   \n",
       "\n",
       "  objectid  \\\n",
       "0        1   \n",
       "1        2   \n",
       "2        3   \n",
       "3        4   \n",
       "4        5   \n",
       "\n",
       "                                                                    notes  \\\n",
       "0  4 nights, 6-all times, 6 Express-weekdays AM southbound, PM northbound   \n",
       "1  4 nights, 6-all times, 6 Express-weekdays AM southbound, PM northbound   \n",
       "2                                                   1-all times, 2-nights   \n",
       "3                                4-nights, 3-all other times, 2-all times   \n",
       "4                                             4-nights, 3-all other times   \n",
       "\n",
       "                                       geometry  \n",
       "0  POINT (-73.99106999861966 40.73005400028978)  \n",
       "1  POINT (-74.00019299927328 40.71880300107709)  \n",
       "2  POINT (-73.98384899986625 40.76172799961419)  \n",
       "3  POINT (-73.97499915116808 40.68086213682956)  \n",
       "4  POINT (-73.89488591154061 40.66471445143568)  "
      ]
     },
     "execution_count": 38,
     "metadata": {},
     "output_type": "execute_result"
    }
   ],
   "source": [
    "subway.head()"
   ]
  },
  {
   "cell_type": "code",
   "execution_count": 40,
   "metadata": {},
   "outputs": [
    {
     "data": {
      "text/plain": [
       "(473, 6)"
      ]
     },
     "execution_count": 40,
     "metadata": {},
     "output_type": "execute_result"
    }
   ],
   "source": [
    "subway.shape"
   ]
  },
  {
   "cell_type": "code",
   "execution_count": 55,
   "metadata": {},
   "outputs": [
    {
     "data": {
      "text/html": [
       "<div>\n",
       "<style scoped>\n",
       "    .dataframe tbody tr th:only-of-type {\n",
       "        vertical-align: middle;\n",
       "    }\n",
       "\n",
       "    .dataframe tbody tr th {\n",
       "        vertical-align: top;\n",
       "    }\n",
       "\n",
       "    .dataframe thead th {\n",
       "        text-align: right;\n",
       "    }\n",
       "</style>\n",
       "<table border=\"1\" class=\"dataframe\">\n",
       "  <thead>\n",
       "    <tr style=\"text-align: right;\">\n",
       "      <th></th>\n",
       "      <th>name</th>\n",
       "      <th>url</th>\n",
       "      <th>line</th>\n",
       "      <th>objectid</th>\n",
       "      <th>notes</th>\n",
       "      <th>geometry</th>\n",
       "    </tr>\n",
       "  </thead>\n",
       "  <tbody>\n",
       "    <tr>\n",
       "      <td>95</td>\n",
       "      <td>23rd St</td>\n",
       "      <td>http://web.mta.info/nyct/service/</td>\n",
       "      <td>1-2</td>\n",
       "      <td>96</td>\n",
       "      <td>1-all times, 2-nights</td>\n",
       "      <td>POINT (-73.99565700164869 40.74408099989751)</td>\n",
       "    </tr>\n",
       "    <tr>\n",
       "      <td>198</td>\n",
       "      <td>28th St</td>\n",
       "      <td>http://web.mta.info/nyct/service/</td>\n",
       "      <td>1-2</td>\n",
       "      <td>199</td>\n",
       "      <td>1-all times, 2-nights</td>\n",
       "      <td>POINT (-73.99336500134324 40.74721499918219)</td>\n",
       "    </tr>\n",
       "    <tr>\n",
       "      <td>202</td>\n",
       "      <td>18th St</td>\n",
       "      <td>http://web.mta.info/nyct/service/</td>\n",
       "      <td>1-2</td>\n",
       "      <td>203</td>\n",
       "      <td>1-all times, 2-nights</td>\n",
       "      <td>POINT (-73.99787100060406 40.7410399998021)</td>\n",
       "    </tr>\n",
       "    <tr>\n",
       "      <td>357</td>\n",
       "      <td>34th St - Penn Station</td>\n",
       "      <td>http://web.mta.info/nyct/service/</td>\n",
       "      <td>1-2-3</td>\n",
       "      <td>358</td>\n",
       "      <td>1,2,3-all times</td>\n",
       "      <td>POINT (-73.99105699913983 40.75037300003949)</td>\n",
       "    </tr>\n",
       "    <tr>\n",
       "      <td>364</td>\n",
       "      <td>23rd St</td>\n",
       "      <td>http://web.mta.info/nyct/service/</td>\n",
       "      <td>F-M</td>\n",
       "      <td>365</td>\n",
       "      <td>F-all times, M-weekdays and evenings</td>\n",
       "      <td>POINT (-73.99276500471389 40.742954317826)</td>\n",
       "    </tr>\n",
       "    <tr>\n",
       "      <td>435</td>\n",
       "      <td>23rd St</td>\n",
       "      <td>http://web.mta.info/nyct/service/</td>\n",
       "      <td>A-C-E</td>\n",
       "      <td>436</td>\n",
       "      <td>A-nights, C-all other times, E-all times</td>\n",
       "      <td>POINT (-73.99804100117201 40.74590599939995)</td>\n",
       "    </tr>\n",
       "    <tr>\n",
       "      <td>440</td>\n",
       "      <td>14th St</td>\n",
       "      <td>http://web.mta.info/nyct/service/</td>\n",
       "      <td>F-M</td>\n",
       "      <td>441</td>\n",
       "      <td>F-all times, M-weekdays and evenings</td>\n",
       "      <td>POINT (-73.99620899921355 40.73822799969515)</td>\n",
       "    </tr>\n",
       "    <tr>\n",
       "      <td>443</td>\n",
       "      <td>14th St</td>\n",
       "      <td>http://web.mta.info/nyct/service/</td>\n",
       "      <td>A-C-E</td>\n",
       "      <td>444</td>\n",
       "      <td>A,E-all times, C-all times exc nights</td>\n",
       "      <td>POINT (-74.00168999937027 40.7408930001933)</td>\n",
       "    </tr>\n",
       "    <tr>\n",
       "      <td>469</td>\n",
       "      <td>34th St - Hudson Yards</td>\n",
       "      <td>http://web.mta.info/nyct/service/</td>\n",
       "      <td>7-7 Express</td>\n",
       "      <td>470</td>\n",
       "      <td>7-all times, 7 Express-rush hours AM westbound, PM eastbound</td>\n",
       "      <td>POINT (-74.00219709442206 40.75544635961596)</td>\n",
       "    </tr>\n",
       "  </tbody>\n",
       "</table>\n",
       "</div>"
      ],
      "text/plain": [
       "                       name                                url         line  \\\n",
       "95                  23rd St  http://web.mta.info/nyct/service/          1-2   \n",
       "198                 28th St  http://web.mta.info/nyct/service/          1-2   \n",
       "202                 18th St  http://web.mta.info/nyct/service/          1-2   \n",
       "357  34th St - Penn Station  http://web.mta.info/nyct/service/        1-2-3   \n",
       "364                 23rd St  http://web.mta.info/nyct/service/          F-M   \n",
       "435                 23rd St  http://web.mta.info/nyct/service/        A-C-E   \n",
       "440                 14th St  http://web.mta.info/nyct/service/          F-M   \n",
       "443                 14th St  http://web.mta.info/nyct/service/        A-C-E   \n",
       "469  34th St - Hudson Yards  http://web.mta.info/nyct/service/  7-7 Express   \n",
       "\n",
       "    objectid                                                         notes  \\\n",
       "95        96                                         1-all times, 2-nights   \n",
       "198      199                                         1-all times, 2-nights   \n",
       "202      203                                         1-all times, 2-nights   \n",
       "357      358                                               1,2,3-all times   \n",
       "364      365                          F-all times, M-weekdays and evenings   \n",
       "435      436                      A-nights, C-all other times, E-all times   \n",
       "440      441                          F-all times, M-weekdays and evenings   \n",
       "443      444                         A,E-all times, C-all times exc nights   \n",
       "469      470  7-all times, 7 Express-rush hours AM westbound, PM eastbound   \n",
       "\n",
       "                                         geometry  \n",
       "95   POINT (-73.99565700164869 40.74408099989751)  \n",
       "198  POINT (-73.99336500134324 40.74721499918219)  \n",
       "202   POINT (-73.99787100060406 40.7410399998021)  \n",
       "357  POINT (-73.99105699913983 40.75037300003949)  \n",
       "364    POINT (-73.99276500471389 40.742954317826)  \n",
       "435  POINT (-73.99804100117201 40.74590599939995)  \n",
       "440  POINT (-73.99620899921355 40.73822799969515)  \n",
       "443   POINT (-74.00168999937027 40.7408930001933)  \n",
       "469  POINT (-74.00219709442206 40.75544635961596)  "
      ]
     },
     "execution_count": 55,
     "metadata": {},
     "output_type": "execute_result"
    }
   ],
   "source": [
    "subway[subway.geometry.within(chelsea)]"
   ]
  },
  {
   "cell_type": "code",
   "execution_count": 63,
   "metadata": {},
   "outputs": [],
   "source": [
    "subway_chelsea = subway[subway.geometry.within(chelsea)]"
   ]
  },
  {
   "cell_type": "code",
   "execution_count": 64,
   "metadata": {},
   "outputs": [
    {
     "data": {
      "text/plain": [
       "95     False\n",
       "198    False\n",
       "202    False\n",
       "357     True\n",
       "364    False\n",
       "435    False\n",
       "440    False\n",
       "443    False\n",
       "469    False\n",
       "Name: name, dtype: bool"
      ]
     },
     "execution_count": 64,
     "metadata": {},
     "output_type": "execute_result"
    }
   ],
   "source": [
    "subway_chelsea.name.str.contains(\"Penn\")"
   ]
  },
  {
   "cell_type": "code",
   "execution_count": 71,
   "metadata": {},
   "outputs": [
    {
     "data": {
      "image/svg+xml": [
       "<svg xmlns=\"http://www.w3.org/2000/svg\" xmlns:xlink=\"http://www.w3.org/1999/xlink\" width=\"100.0\" height=\"100.0\" viewBox=\"-74.99105699913983 39.75037300003949 2.0 2.0\" preserveAspectRatio=\"xMinYMin meet\"><g transform=\"matrix(1,0,0,-1,0,81.50074600007898)\"><circle cx=\"-73.99105699913983\" cy=\"40.75037300003949\" r=\"0.06\" stroke=\"#555555\" stroke-width=\"0.02\" fill=\"#66cc99\" opacity=\"0.6\" /></g></svg>"
      ],
      "text/plain": [
       "<shapely.geometry.point.Point at 0x1193077b8>"
      ]
     },
     "execution_count": 71,
     "metadata": {},
     "output_type": "execute_result"
    }
   ],
   "source": [
    "list(subway_chelsea[subway_chelsea.name.str.contains(\"Penn\")].geometry)[0]"
   ]
  },
  {
   "cell_type": "code",
   "execution_count": 72,
   "metadata": {},
   "outputs": [],
   "source": [
    "penn_station_nyc = list(subway_chelsea[subway_chelsea.name.str.contains(\"Penn\")].geometry)[0]"
   ]
  },
  {
   "cell_type": "code",
   "execution_count": 39,
   "metadata": {},
   "outputs": [
    {
     "data": {
      "text/plain": [
       "geopandas.geoseries.GeoSeries"
      ]
     },
     "execution_count": 39,
     "metadata": {},
     "output_type": "execute_result"
    }
   ],
   "source": [
    "type(subway.geometry)"
   ]
  },
  {
   "cell_type": "markdown",
   "metadata": {},
   "source": [
    "## Now get all airbnb's in Chelsea"
   ]
  },
  {
   "cell_type": "code",
   "execution_count": 56,
   "metadata": {},
   "outputs": [
    {
     "name": "stdout",
     "output_type": "stream",
     "text": [
      "<class 'geopandas.geodataframe.GeoDataFrame'>\n",
      "Int64Index: 13054 entries, 0 to 27439\n",
      "Data columns (total 5 columns):\n",
      "price                      13054 non-null int64\n",
      "neighbourhood              13054 non-null object\n",
      "neighbourhood_group        13054 non-null object\n",
      "geometry                   13054 non-null object\n",
      "mean_neibhourhood_price    13054 non-null float64\n",
      "dtypes: float64(1), int64(1), object(3)\n",
      "memory usage: 611.9+ KB\n"
     ]
    }
   ],
   "source": [
    "#chelsea_airbnb\n",
    "mean_price_df.info()"
   ]
  },
  {
   "cell_type": "code",
   "execution_count": 57,
   "metadata": {},
   "outputs": [
    {
     "data": {
      "text/plain": [
       "(13054, 5)"
      ]
     },
     "execution_count": 57,
     "metadata": {},
     "output_type": "execute_result"
    }
   ],
   "source": [
    "mean_price_df.shape"
   ]
  },
  {
   "cell_type": "code",
   "execution_count": 58,
   "metadata": {},
   "outputs": [],
   "source": [
    "chelsea_airbnb_df = mean_price_df[mean_price_df.neighbourhood == \"Chelsea\"]"
   ]
  },
  {
   "cell_type": "code",
   "execution_count": 59,
   "metadata": {},
   "outputs": [
    {
     "data": {
      "text/plain": [
       "(819, 5)"
      ]
     },
     "execution_count": 59,
     "metadata": {},
     "output_type": "execute_result"
    }
   ],
   "source": [
    "chelsea_airbnb_df.shape"
   ]
  },
  {
   "cell_type": "code",
   "execution_count": 60,
   "metadata": {},
   "outputs": [
    {
     "data": {
      "text/html": [
       "<div>\n",
       "<style scoped>\n",
       "    .dataframe tbody tr th:only-of-type {\n",
       "        vertical-align: middle;\n",
       "    }\n",
       "\n",
       "    .dataframe tbody tr th {\n",
       "        vertical-align: top;\n",
       "    }\n",
       "\n",
       "    .dataframe thead th {\n",
       "        text-align: right;\n",
       "    }\n",
       "</style>\n",
       "<table border=\"1\" class=\"dataframe\">\n",
       "  <thead>\n",
       "    <tr style=\"text-align: right;\">\n",
       "      <th></th>\n",
       "      <th>price</th>\n",
       "      <th>neighbourhood</th>\n",
       "      <th>neighbourhood_group</th>\n",
       "      <th>geometry</th>\n",
       "      <th>mean_neibhourhood_price</th>\n",
       "    </tr>\n",
       "  </thead>\n",
       "  <tbody>\n",
       "    <tr>\n",
       "      <td>60</td>\n",
       "      <td>375</td>\n",
       "      <td>Chelsea</td>\n",
       "      <td>Manhattan</td>\n",
       "      <td>POINT (-73.9953 40.74623)</td>\n",
       "      <td>277.509158</td>\n",
       "    </tr>\n",
       "    <tr>\n",
       "      <td>187</td>\n",
       "      <td>125</td>\n",
       "      <td>Chelsea</td>\n",
       "      <td>Manhattan</td>\n",
       "      <td>POINT (-73.99999 40.74031)</td>\n",
       "      <td>277.509158</td>\n",
       "    </tr>\n",
       "    <tr>\n",
       "      <td>249</td>\n",
       "      <td>205</td>\n",
       "      <td>Chelsea</td>\n",
       "      <td>Manhattan</td>\n",
       "      <td>POINT (-73.99566999999999 40.74238)</td>\n",
       "      <td>277.509158</td>\n",
       "    </tr>\n",
       "    <tr>\n",
       "      <td>353</td>\n",
       "      <td>130</td>\n",
       "      <td>Chelsea</td>\n",
       "      <td>Manhattan</td>\n",
       "      <td>POINT (-73.99544 40.74893)</td>\n",
       "      <td>277.509158</td>\n",
       "    </tr>\n",
       "    <tr>\n",
       "      <td>359</td>\n",
       "      <td>279</td>\n",
       "      <td>Chelsea</td>\n",
       "      <td>Manhattan</td>\n",
       "      <td>POINT (-74.00123000000001 40.7395)</td>\n",
       "      <td>277.509158</td>\n",
       "    </tr>\n",
       "  </tbody>\n",
       "</table>\n",
       "</div>"
      ],
      "text/plain": [
       "     price neighbourhood neighbourhood_group  \\\n",
       "60     375       Chelsea           Manhattan   \n",
       "187    125       Chelsea           Manhattan   \n",
       "249    205       Chelsea           Manhattan   \n",
       "353    130       Chelsea           Manhattan   \n",
       "359    279       Chelsea           Manhattan   \n",
       "\n",
       "                                geometry  mean_neibhourhood_price  \n",
       "60             POINT (-73.9953 40.74623)               277.509158  \n",
       "187           POINT (-73.99999 40.74031)               277.509158  \n",
       "249  POINT (-73.99566999999999 40.74238)               277.509158  \n",
       "353           POINT (-73.99544 40.74893)               277.509158  \n",
       "359   POINT (-74.00123000000001 40.7395)               277.509158  "
      ]
     },
     "execution_count": 60,
     "metadata": {},
     "output_type": "execute_result"
    }
   ],
   "source": [
    "chelsea_airbnb_df.head()"
   ]
  },
  {
   "cell_type": "code",
   "execution_count": 62,
   "metadata": {},
   "outputs": [
    {
     "data": {
      "text/plain": [
       "818"
      ]
     },
     "execution_count": 62,
     "metadata": {},
     "output_type": "execute_result"
    }
   ],
   "source": [
    "chelsea_airbnb_df.geometry.within(chelsea).sum()"
   ]
  },
  {
   "cell_type": "code",
   "execution_count": 87,
   "metadata": {},
   "outputs": [
    {
     "data": {
      "text/plain": [
       "321"
      ]
     },
     "execution_count": 87,
     "metadata": {},
     "output_type": "execute_result"
    }
   ],
   "source": [
    "(chelsea_airbnb_df.distance(penn_station_nyc) < 0.01).sum()"
   ]
  },
  {
   "cell_type": "code",
   "execution_count": 88,
   "metadata": {},
   "outputs": [
    {
     "data": {
      "text/plain": [
       "60       0.005930\n",
       "187      0.013456\n",
       "249      0.009229\n",
       "353      0.004614\n",
       "359      0.014890\n",
       "           ...   \n",
       "48658    0.008817\n",
       "48816    0.012477\n",
       "48835    0.009253\n",
       "48838    0.007835\n",
       "48851    0.007937\n",
       "Length: 819, dtype: float64"
      ]
     },
     "execution_count": 88,
     "metadata": {},
     "output_type": "execute_result"
    }
   ],
   "source": [
    "chelsea_airbnb_df.distance(penn_station_nyc)"
   ]
  },
  {
   "cell_type": "code",
   "execution_count": 90,
   "metadata": {},
   "outputs": [
    {
     "data": {
      "image/png": "[encoded data removed]",
      "text/plain": [
       "<Figure size 432x288 with 1 Axes>"
      ]
     },
     "metadata": {
      "needs_background": "light"
     },
     "output_type": "display_data"
    }
   ],
   "source": [
    "ax = chelsea_airbnb_df.plot()\n",
    "geopandas.GeoSeries([penn_station_nyc]).plot(ax=ax, color='red')\n",
    "plt.show()"
   ]
  },
  {
   "cell_type": "code",
   "execution_count": 91,
   "metadata": {},
   "outputs": [
    {
     "data": {
      "image/png": "[encoded data removed]",
      "text/plain": [
       "<Figure size 432x288 with 1 Axes>"
      ]
     },
     "metadata": {
      "needs_background": "light"
     },
     "output_type": "display_data"
    }
   ],
   "source": [
    "ax = chelsea_airbnb_df.plot()\n",
    "subway_chelsea.plot(ax=ax, color='red')\n",
    "plt.show()"
   ]
  },
  {
   "cell_type": "code",
   "execution_count": null,
   "metadata": {},
   "outputs": [],
   "source": []
  }
 ],
 "metadata": {
  "kernelspec": {
   "display_name": "Python 3",
   "language": "python",
   "name": "python3"
  },
  "language_info": {
   "codemirror_mode": {
    "name": "ipython",
    "version": 3
   },
   "file_extension": ".py",
   "mimetype": "text/x-python",
   "name": "python",
   "nbconvert_exporter": "python",
   "pygments_lexer": "ipython3",
   "version": "3.7.3"
  }
 },
 "nbformat": 4,
 "nbformat_minor": 2
}
