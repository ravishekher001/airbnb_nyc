{
 "cells": [
  {
   "cell_type": "code",
   "execution_count": 104,
   "metadata": {},
   "outputs": [],
   "source": [
    "import numpy as np\n",
    "import pandas as pd\n",
    "import matplotlib.pyplot as plt\n",
    "import seaborn as sns\n",
    "import bokeh\n",
    "import os\n",
    "import geopandas\n",
    "pd.options.display.max_colwidth=200\n",
    "%matplotlib inline"
   ]
  },
  {
   "cell_type": "markdown",
   "metadata": {},
   "source": [
    "## Get the data"
   ]
  },
  {
   "cell_type": "code",
   "execution_count": 41,
   "metadata": {},
   "outputs": [],
   "source": [
    "# data directory\n",
    "data_dir = \"../data\"\n",
    "raw_data = os.path.join(data_dir, \"raw\")\n",
    "\n",
    "# read in the data\n",
    "df = pd.read_csv(os.path.join(raw_data, \"summary_listings.csv\"))\n",
    "nbhoods = geopandas.read_file(os.path.join(raw_data, \"neighbourhoods.geojson\"))\n",
    "subway = geopandas.read_file(os.path.join(raw_data, \"subway.geojson\"))\n",
    "\n",
    "# use only Manhattan nbgroup and roomtype: entire home/apt\n",
    "manhattan_df = df[(df.neighbourhood_group == 'Manhattan') & (df.room_type == 'Entire home/apt')]\n",
    "manhattan_nbhoods = nbhoods[nbhoods.neighbourhood_group == 'Manhattan']\n",
    "\n",
    "\n",
    "# construct a geodataframe\n",
    "manhattan_df = geopandas.GeoDataFrame(manhattan_df, geometry=geopandas.points_from_xy(manhattan_df.longitude, \n",
    "                                                                            manhattan_df.latitude))\n",
    "\n",
    "# filter \n",
    "cols = ['price', 'neighbourhood', 'neighbourhood_group', 'geometry']\n",
    "manhattan_df = manhattan_df[cols]"
   ]
  },
  {
   "cell_type": "markdown",
   "metadata": {},
   "source": [
    "Check the shape of each of the data frames. \n",
    "* **manhattan_df**: Contains the airbnb data for just Manhattan neighbourhoods with room type entire home/apt\n",
    "* **manhattan_nbhoods**: Contains just the 32 Manhattan neighbourhoods.\n",
    "* **subway**: Contains subway data for all 5 boroughs. So, we need to filter this to include on Manhattan subway stations. To do this we need to do some work, since the subway data is not broken down by neighbhourhoods."
   ]
  },
  {
   "cell_type": "code",
   "execution_count": 42,
   "metadata": {},
   "outputs": [
    {
     "data": {
      "text/plain": [
       "(13054, 4)"
      ]
     },
     "metadata": {},
     "output_type": "display_data"
    },
    {
     "data": {
      "text/plain": [
       "(32, 3)"
      ]
     },
     "metadata": {},
     "output_type": "display_data"
    },
    {
     "data": {
      "text/plain": [
       "(473, 6)"
      ]
     },
     "metadata": {},
     "output_type": "display_data"
    }
   ],
   "source": [
    "display(manhattan_df.shape)\n",
    "display(manhattan_nbhoods.shape)\n",
    "display(subway.shape)"
   ]
  },
  {
   "cell_type": "markdown",
   "metadata": {},
   "source": [
    "To obtain the neighbourhoods of subway stations, we need to perform what is known as a **spatial join**."
   ]
  },
  {
   "cell_type": "code",
   "execution_count": 43,
   "metadata": {},
   "outputs": [
    {
     "data": {
      "text/html": [
       "<div>\n",
       "<style scoped>\n",
       "    .dataframe tbody tr th:only-of-type {\n",
       "        vertical-align: middle;\n",
       "    }\n",
       "\n",
       "    .dataframe tbody tr th {\n",
       "        vertical-align: top;\n",
       "    }\n",
       "\n",
       "    .dataframe thead th {\n",
       "        text-align: right;\n",
       "    }\n",
       "</style>\n",
       "<table border=\"1\" class=\"dataframe\">\n",
       "  <thead>\n",
       "    <tr style=\"text-align: right;\">\n",
       "      <th></th>\n",
       "      <th>name</th>\n",
       "      <th>url</th>\n",
       "      <th>line</th>\n",
       "      <th>objectid</th>\n",
       "      <th>notes</th>\n",
       "      <th>geometry</th>\n",
       "    </tr>\n",
       "  </thead>\n",
       "  <tbody>\n",
       "    <tr>\n",
       "      <td>0</td>\n",
       "      <td>Astor Pl</td>\n",
       "      <td>http://web.mta.info/nyct/service/</td>\n",
       "      <td>4-6-6 Express</td>\n",
       "      <td>1</td>\n",
       "      <td>4 nights, 6-all times, 6 Express-weekdays AM southbound, PM northbound</td>\n",
       "      <td>POINT (-73.99106999861966 40.73005400028978)</td>\n",
       "    </tr>\n",
       "    <tr>\n",
       "      <td>1</td>\n",
       "      <td>Canal St</td>\n",
       "      <td>http://web.mta.info/nyct/service/</td>\n",
       "      <td>4-6-6 Express</td>\n",
       "      <td>2</td>\n",
       "      <td>4 nights, 6-all times, 6 Express-weekdays AM southbound, PM northbound</td>\n",
       "      <td>POINT (-74.00019299927328 40.71880300107709)</td>\n",
       "    </tr>\n",
       "    <tr>\n",
       "      <td>2</td>\n",
       "      <td>50th St</td>\n",
       "      <td>http://web.mta.info/nyct/service/</td>\n",
       "      <td>1-2</td>\n",
       "      <td>3</td>\n",
       "      <td>1-all times, 2-nights</td>\n",
       "      <td>POINT (-73.98384899986625 40.76172799961419)</td>\n",
       "    </tr>\n",
       "    <tr>\n",
       "      <td>3</td>\n",
       "      <td>Bergen St</td>\n",
       "      <td>http://web.mta.info/nyct/service/</td>\n",
       "      <td>2-3-4</td>\n",
       "      <td>4</td>\n",
       "      <td>4-nights, 3-all other times, 2-all times</td>\n",
       "      <td>POINT (-73.97499915116808 40.68086213682956)</td>\n",
       "    </tr>\n",
       "    <tr>\n",
       "      <td>4</td>\n",
       "      <td>Pennsylvania Ave</td>\n",
       "      <td>http://web.mta.info/nyct/service/</td>\n",
       "      <td>3-4</td>\n",
       "      <td>5</td>\n",
       "      <td>4-nights, 3-all other times</td>\n",
       "      <td>POINT (-73.89488591154061 40.66471445143568)</td>\n",
       "    </tr>\n",
       "  </tbody>\n",
       "</table>\n",
       "</div>"
      ],
      "text/plain": [
       "               name                                url           line  \\\n",
       "0          Astor Pl  http://web.mta.info/nyct/service/  4-6-6 Express   \n",
       "1          Canal St  http://web.mta.info/nyct/service/  4-6-6 Express   \n",
       "2           50th St  http://web.mta.info/nyct/service/            1-2   \n",
       "3         Bergen St  http://web.mta.info/nyct/service/          2-3-4   \n",
       "4  Pennsylvania Ave  http://web.mta.info/nyct/service/            3-4   \n",
       "\n",
       "  objectid  \\\n",
       "0        1   \n",
       "1        2   \n",
       "2        3   \n",
       "3        4   \n",
       "4        5   \n",
       "\n",
       "                                                                    notes  \\\n",
       "0  4 nights, 6-all times, 6 Express-weekdays AM southbound, PM northbound   \n",
       "1  4 nights, 6-all times, 6 Express-weekdays AM southbound, PM northbound   \n",
       "2                                                   1-all times, 2-nights   \n",
       "3                                4-nights, 3-all other times, 2-all times   \n",
       "4                                             4-nights, 3-all other times   \n",
       "\n",
       "                                       geometry  \n",
       "0  POINT (-73.99106999861966 40.73005400028978)  \n",
       "1  POINT (-74.00019299927328 40.71880300107709)  \n",
       "2  POINT (-73.98384899986625 40.76172799961419)  \n",
       "3  POINT (-73.97499915116808 40.68086213682956)  \n",
       "4  POINT (-73.89488591154061 40.66471445143568)  "
      ]
     },
     "execution_count": 43,
     "metadata": {},
     "output_type": "execute_result"
    }
   ],
   "source": [
    "subway.head()"
   ]
  },
  {
   "cell_type": "code",
   "execution_count": 44,
   "metadata": {},
   "outputs": [
    {
     "data": {
      "text/html": [
       "<div>\n",
       "<style scoped>\n",
       "    .dataframe tbody tr th:only-of-type {\n",
       "        vertical-align: middle;\n",
       "    }\n",
       "\n",
       "    .dataframe tbody tr th {\n",
       "        vertical-align: top;\n",
       "    }\n",
       "\n",
       "    .dataframe thead th {\n",
       "        text-align: right;\n",
       "    }\n",
       "</style>\n",
       "<table border=\"1\" class=\"dataframe\">\n",
       "  <thead>\n",
       "    <tr style=\"text-align: right;\">\n",
       "      <th></th>\n",
       "      <th>neighbourhood</th>\n",
       "      <th>neighbourhood_group</th>\n",
       "      <th>geometry</th>\n",
       "    </tr>\n",
       "  </thead>\n",
       "  <tbody>\n",
       "    <tr>\n",
       "      <td>18</td>\n",
       "      <td>Battery Park City</td>\n",
       "      <td>Manhattan</td>\n",
       "      <td>(POLYGON ((-74.01375400000001 40.71369, -74.014262 40.710928, -74.016542 40.704733, -74.01617400000001 40.702572, -74.01563 40.701862, -74.01512700000001 40.70139, -74.014008 40.701043, -74.013959...</td>\n",
       "    </tr>\n",
       "    <tr>\n",
       "      <td>43</td>\n",
       "      <td>Chinatown</td>\n",
       "      <td>Manhattan</td>\n",
       "      <td>(POLYGON ((-73.99999099999999 40.717977, -73.998636 40.717077, -73.99779100000001 40.716793, -73.996478 40.719048, -73.99480800000001 40.718457, -73.989155 40.716708, -73.9902 40.714665, -73.99012...</td>\n",
       "    </tr>\n",
       "    <tr>\n",
       "      <td>52</td>\n",
       "      <td>Chelsea</td>\n",
       "      <td>Manhattan</td>\n",
       "      <td>(POLYGON ((-73.993464 40.75219, -73.987937 40.749855, -73.987933 40.749853, -73.987973 40.749467, -73.991356 40.744763, -73.99421100000001 40.741013, -73.989777 40.739169, -73.990371 40.737098, -7...</td>\n",
       "    </tr>\n",
       "    <tr>\n",
       "      <td>53</td>\n",
       "      <td>Civic Center</td>\n",
       "      <td>Manhattan</td>\n",
       "      <td>(POLYGON ((-73.99799400000001 40.712722, -73.99777 40.711971, -74.002363 40.711591, -74.003337 40.711236, -74.003355 40.71123, -74.00366200000001 40.711487, -74.005358 40.712151, -74.005769 40.712...</td>\n",
       "    </tr>\n",
       "    <tr>\n",
       "      <td>80</td>\n",
       "      <td>East Harlem</td>\n",
       "      <td>Manhattan</td>\n",
       "      <td>(POLYGON ((-73.93383 40.819521, -73.93383 40.819521, -73.933829 40.815585, -73.93394499999999 40.815588, -73.93394499999999 40.815588, -73.93394600000001 40.815588, -73.934015 40.814484, -73.93385...</td>\n",
       "    </tr>\n",
       "  </tbody>\n",
       "</table>\n",
       "</div>"
      ],
      "text/plain": [
       "        neighbourhood neighbourhood_group  \\\n",
       "18  Battery Park City           Manhattan   \n",
       "43          Chinatown           Manhattan   \n",
       "52            Chelsea           Manhattan   \n",
       "53       Civic Center           Manhattan   \n",
       "80        East Harlem           Manhattan   \n",
       "\n",
       "                                                                                                                                                                                                   geometry  \n",
       "18  (POLYGON ((-74.01375400000001 40.71369, -74.014262 40.710928, -74.016542 40.704733, -74.01617400000001 40.702572, -74.01563 40.701862, -74.01512700000001 40.70139, -74.014008 40.701043, -74.013959...  \n",
       "43  (POLYGON ((-73.99999099999999 40.717977, -73.998636 40.717077, -73.99779100000001 40.716793, -73.996478 40.719048, -73.99480800000001 40.718457, -73.989155 40.716708, -73.9902 40.714665, -73.99012...  \n",
       "52  (POLYGON ((-73.993464 40.75219, -73.987937 40.749855, -73.987933 40.749853, -73.987973 40.749467, -73.991356 40.744763, -73.99421100000001 40.741013, -73.989777 40.739169, -73.990371 40.737098, -7...  \n",
       "53  (POLYGON ((-73.99799400000001 40.712722, -73.99777 40.711971, -74.002363 40.711591, -74.003337 40.711236, -74.003355 40.71123, -74.00366200000001 40.711487, -74.005358 40.712151, -74.005769 40.712...  \n",
       "80  (POLYGON ((-73.93383 40.819521, -73.93383 40.819521, -73.933829 40.815585, -73.93394499999999 40.815588, -73.93394499999999 40.815588, -73.93394600000001 40.815588, -73.934015 40.814484, -73.93385...  "
      ]
     },
     "execution_count": 44,
     "metadata": {},
     "output_type": "execute_result"
    }
   ],
   "source": [
    "manhattan_nbhoods.head()"
   ]
  },
  {
   "cell_type": "markdown",
   "metadata": {},
   "source": [
    "Here, our goal is to find out whether each of the subway stations - represented by `Point()` objects, is contained within the neighbourhood - represented by `Polygon()` objects. One way to do this, is to extract the neighbourhood polygon for let's say \"Battery Park City\", and then, use the `within()` GeoSeries method to check whether the subway point is within the neighbourhood. This works fine, but what if we want to do this for each and every neighbourhood? \n",
    "\n",
    "This is where a **spatial join** comes handy. Since the neighbourhood column is part of `manhattan_nbhoods` dataframe, we need to combine/join both `manhattan_nbhoods and subway` datasets. **Joining on location rather than on a shared column is called a spatial join**. "
   ]
  },
  {
   "cell_type": "code",
   "execution_count": 45,
   "metadata": {},
   "outputs": [],
   "source": [
    "manhattan_subway = geopandas.sjoin(subway, \n",
    "                         manhattan_nbhoods[['neighbourhood', 'geometry']],\n",
    "                        op='within')"
   ]
  },
  {
   "cell_type": "code",
   "execution_count": 46,
   "metadata": {},
   "outputs": [
    {
     "data": {
      "text/html": [
       "<div>\n",
       "<style scoped>\n",
       "    .dataframe tbody tr th:only-of-type {\n",
       "        vertical-align: middle;\n",
       "    }\n",
       "\n",
       "    .dataframe tbody tr th {\n",
       "        vertical-align: top;\n",
       "    }\n",
       "\n",
       "    .dataframe thead th {\n",
       "        text-align: right;\n",
       "    }\n",
       "</style>\n",
       "<table border=\"1\" class=\"dataframe\">\n",
       "  <thead>\n",
       "    <tr style=\"text-align: right;\">\n",
       "      <th></th>\n",
       "      <th>name</th>\n",
       "      <th>url</th>\n",
       "      <th>line</th>\n",
       "      <th>objectid</th>\n",
       "      <th>notes</th>\n",
       "      <th>geometry</th>\n",
       "      <th>index_right</th>\n",
       "      <th>neighbourhood</th>\n",
       "    </tr>\n",
       "  </thead>\n",
       "  <tbody>\n",
       "    <tr>\n",
       "      <td>0</td>\n",
       "      <td>Astor Pl</td>\n",
       "      <td>http://web.mta.info/nyct/service/</td>\n",
       "      <td>4-6-6 Express</td>\n",
       "      <td>1</td>\n",
       "      <td>4 nights, 6-all times, 6 Express-weekdays AM southbound, PM northbound</td>\n",
       "      <td>POINT (-73.99106999861966 40.73005400028978)</td>\n",
       "      <td>87</td>\n",
       "      <td>East Village</td>\n",
       "    </tr>\n",
       "    <tr>\n",
       "      <td>145</td>\n",
       "      <td>1st Ave</td>\n",
       "      <td>http://web.mta.info/nyct/service/</td>\n",
       "      <td>L</td>\n",
       "      <td>146</td>\n",
       "      <td>L-all times</td>\n",
       "      <td>POINT (-73.98168087489128 40.73097497580066)</td>\n",
       "      <td>87</td>\n",
       "      <td>East Village</td>\n",
       "    </tr>\n",
       "    <tr>\n",
       "      <td>370</td>\n",
       "      <td>Lower East Side - 2nd Ave</td>\n",
       "      <td>http://web.mta.info/nyct/service/</td>\n",
       "      <td>F</td>\n",
       "      <td>371</td>\n",
       "      <td>F-all times</td>\n",
       "      <td>POINT (-73.98993800003434 40.72340166574911)</td>\n",
       "      <td>87</td>\n",
       "      <td>East Village</td>\n",
       "    </tr>\n",
       "    <tr>\n",
       "      <td>382</td>\n",
       "      <td>3rd Ave</td>\n",
       "      <td>http://web.mta.info/nyct/service/</td>\n",
       "      <td>L</td>\n",
       "      <td>383</td>\n",
       "      <td>L-all times</td>\n",
       "      <td>POINT (-73.98575000112093 40.73269099971662)</td>\n",
       "      <td>87</td>\n",
       "      <td>East Village</td>\n",
       "    </tr>\n",
       "    <tr>\n",
       "      <td>383</td>\n",
       "      <td>Union Sq - 14th St</td>\n",
       "      <td>http://web.mta.info/nyct/service/</td>\n",
       "      <td>L</td>\n",
       "      <td>384</td>\n",
       "      <td>L-all times</td>\n",
       "      <td>POINT (-73.99066976901818 40.73476331217923)</td>\n",
       "      <td>87</td>\n",
       "      <td>East Village</td>\n",
       "    </tr>\n",
       "  </tbody>\n",
       "</table>\n",
       "</div>"
      ],
      "text/plain": [
       "                          name                                url  \\\n",
       "0                     Astor Pl  http://web.mta.info/nyct/service/   \n",
       "145                    1st Ave  http://web.mta.info/nyct/service/   \n",
       "370  Lower East Side - 2nd Ave  http://web.mta.info/nyct/service/   \n",
       "382                    3rd Ave  http://web.mta.info/nyct/service/   \n",
       "383         Union Sq - 14th St  http://web.mta.info/nyct/service/   \n",
       "\n",
       "              line objectid  \\\n",
       "0    4-6-6 Express        1   \n",
       "145              L      146   \n",
       "370              F      371   \n",
       "382              L      383   \n",
       "383              L      384   \n",
       "\n",
       "                                                                      notes  \\\n",
       "0    4 nights, 6-all times, 6 Express-weekdays AM southbound, PM northbound   \n",
       "145                                                             L-all times   \n",
       "370                                                             F-all times   \n",
       "382                                                             L-all times   \n",
       "383                                                             L-all times   \n",
       "\n",
       "                                         geometry  index_right neighbourhood  \n",
       "0    POINT (-73.99106999861966 40.73005400028978)           87  East Village  \n",
       "145  POINT (-73.98168087489128 40.73097497580066)           87  East Village  \n",
       "370  POINT (-73.98993800003434 40.72340166574911)           87  East Village  \n",
       "382  POINT (-73.98575000112093 40.73269099971662)           87  East Village  \n",
       "383  POINT (-73.99066976901818 40.73476331217923)           87  East Village  "
      ]
     },
     "execution_count": 46,
     "metadata": {},
     "output_type": "execute_result"
    }
   ],
   "source": [
    "manhattan_subway.head()"
   ]
  },
  {
   "cell_type": "code",
   "execution_count": 47,
   "metadata": {},
   "outputs": [
    {
     "data": {
      "text/plain": [
       "(146, 8)"
      ]
     },
     "execution_count": 47,
     "metadata": {},
     "output_type": "execute_result"
    }
   ],
   "source": [
    "manhattan_subway.shape"
   ]
  },
  {
   "cell_type": "code",
   "execution_count": 48,
   "metadata": {},
   "outputs": [
    {
     "data": {
      "text/plain": [
       "Midtown                18\n",
       "Financial District     14\n",
       "Harlem                 14\n",
       "Washington Heights     11\n",
       "Upper East Side        10\n",
       "Chelsea                 9\n",
       "Theater District        8\n",
       "SoHo                    8\n",
       "Upper West Side         7\n",
       "Tribeca                 6\n",
       "East Village            6\n",
       "West Village            5\n",
       "Lower East Side         4\n",
       "East Harlem             4\n",
       "Inwood                  4\n",
       "Civic Center            3\n",
       "Flatiron District       2\n",
       "Morningside Heights     2\n",
       "Gramercy                2\n",
       "Hell's Kitchen          2\n",
       "NoHo                    2\n",
       "Roosevelt Island        1\n",
       "Marble Hill             1\n",
       "Little Italy            1\n",
       "Greenwich Village       1\n",
       "Chinatown               1\n",
       "Name: neighbourhood, dtype: int64"
      ]
     },
     "execution_count": 48,
     "metadata": {},
     "output_type": "execute_result"
    }
   ],
   "source": [
    "manhattan_subway.neighbourhood.value_counts()"
   ]
  },
  {
   "cell_type": "markdown",
   "metadata": {},
   "source": [
    "So, this seems right, we have **146** subway stations just in Manhattan. Astounding!"
   ]
  },
  {
   "cell_type": "markdown",
   "metadata": {},
   "source": [
    "### Check the Coordinate Reference System of the geodataframe\n",
    "Before I move further to plotting this data on the map and doing distance calculations, it is vital to ensure that all locations are expressed in a common CRS. Moreover, NYC uses a specific EPSG value of 2829 or 32117. \n",
    "\n",
    "Reference: https://spatialreference.org/ref/?search=New+york&srtext=Search"
   ]
  },
  {
   "cell_type": "code",
   "execution_count": 49,
   "metadata": {},
   "outputs": [
    {
     "name": "stdout",
     "output_type": "stream",
     "text": [
      "None\n",
      "{'init': 'epsg:4326'}\n",
      "{'init': 'epsg:4326'}\n"
     ]
    }
   ],
   "source": [
    "print(manhattan_df.crs)\n",
    "print(manhattan_nbhoods.crs)\n",
    "print(manhattan_subway.crs)"
   ]
  },
  {
   "cell_type": "markdown",
   "metadata": {},
   "source": [
    "The CRS attribute is missing for our airbnb dataset. We can set this easily by doing:"
   ]
  },
  {
   "cell_type": "code",
   "execution_count": 50,
   "metadata": {},
   "outputs": [],
   "source": [
    "manhattan_df.crs = {'init': 'epsg:4326'}"
   ]
  },
  {
   "cell_type": "code",
   "execution_count": 51,
   "metadata": {},
   "outputs": [
    {
     "name": "stdout",
     "output_type": "stream",
     "text": [
      "{'init': 'epsg:4326'}\n",
      "{'init': 'epsg:4326'}\n",
      "{'init': 'epsg:4326'}\n"
     ]
    }
   ],
   "source": [
    "print(manhattan_df.crs)\n",
    "print(manhattan_nbhoods.crs)\n",
    "print(manhattan_subway.crs)"
   ]
  },
  {
   "cell_type": "code",
   "execution_count": 52,
   "metadata": {},
   "outputs": [],
   "source": [
    "# To avoid SettingWithCopyWarning, store the result in a new dfs.\n",
    "manhattan_df_crs = manhattan_df.to_crs(epsg=2829)\n",
    "manhattan_nbhoods_crs = manhattan_nbhoods.to_crs(epsg=2829)\n",
    "manhattan_subway_crs = manhattan_subway.to_crs(epsg=2829)"
   ]
  },
  {
   "cell_type": "code",
   "execution_count": 53,
   "metadata": {},
   "outputs": [
    {
     "name": "stdout",
     "output_type": "stream",
     "text": [
      "{'init': 'epsg:2829', 'no_defs': True}\n",
      "{'init': 'epsg:2829', 'no_defs': True}\n",
      "{'init': 'epsg:2829', 'no_defs': True}\n"
     ]
    }
   ],
   "source": [
    "print(manhattan_df_crs.crs)\n",
    "print(manhattan_nbhoods_crs.crs)\n",
    "print(manhattan_subway_crs.crs)"
   ]
  },
  {
   "cell_type": "markdown",
   "metadata": {},
   "source": [
    "## Plot all the data"
   ]
  },
  {
   "cell_type": "code",
   "execution_count": 73,
   "metadata": {},
   "outputs": [
    {
     "data": {
      "image/png": "[encoded data removed]",
      "text/plain": [
       "<Figure size 1296x504 with 3 Axes>"
      ]
     },
     "metadata": {
      "needs_background": "light"
     },
     "output_type": "display_data"
    }
   ],
   "source": [
    "fig, (ax1, ax2, ax3) = plt.subplots(1, 3)\n",
    "fig.set_size_inches(18, 7)\n",
    "\n",
    "# airbnb locations\n",
    "ax1 = manhattan_df_crs.plot(ax=ax1, \n",
    "                            column='price', \n",
    "                            cmap='Set2', \n",
    "                            markersize=1)\n",
    "ax1.axes.get_xaxis().set_visible(False)\n",
    "ax1.axes.get_yaxis().set_visible(False)\n",
    "\n",
    "# nbhoods\n",
    "ax2 = manhattan_nbhoods_crs.plot(ax=ax2, \n",
    "                                 column='neighbourhood', \n",
    "                                 cmap='Set2')\n",
    "ax2.axes.get_xaxis().set_visible(False)\n",
    "ax2.axes.get_yaxis().set_visible(False)\n",
    "\n",
    "# subway stations\n",
    "ax3 = manhattan_subway_crs.plot(ax=ax3)\n",
    "ax3.axes.get_xaxis().set_visible(False)\n",
    "ax3.axes.get_yaxis().set_visible(False)\n",
    "\n",
    "\n",
    "plt.suptitle(\"Manhattan's airbnb locations, neighbourhoods and subway stations\", \n",
    "             fontsize=14, fontweight='bold')\n",
    "plt.show()"
   ]
  },
  {
   "cell_type": "markdown",
   "metadata": {},
   "source": [
    "### EDA: Calculate the median neighbourhood price"
   ]
  },
  {
   "cell_type": "code",
   "execution_count": 77,
   "metadata": {},
   "outputs": [
    {
     "data": {
      "text/html": [
       "<div>\n",
       "<style scoped>\n",
       "    .dataframe tbody tr th:only-of-type {\n",
       "        vertical-align: middle;\n",
       "    }\n",
       "\n",
       "    .dataframe tbody tr th {\n",
       "        vertical-align: top;\n",
       "    }\n",
       "\n",
       "    .dataframe thead th {\n",
       "        text-align: right;\n",
       "    }\n",
       "</style>\n",
       "<table border=\"1\" class=\"dataframe\">\n",
       "  <thead>\n",
       "    <tr style=\"text-align: right;\">\n",
       "      <th></th>\n",
       "      <th>price</th>\n",
       "    </tr>\n",
       "    <tr>\n",
       "      <th>neighbourhood</th>\n",
       "      <th></th>\n",
       "    </tr>\n",
       "  </thead>\n",
       "  <tbody>\n",
       "    <tr>\n",
       "      <td>Tribeca</td>\n",
       "      <td>318.0</td>\n",
       "    </tr>\n",
       "    <tr>\n",
       "      <td>NoHo</td>\n",
       "      <td>252.5</td>\n",
       "    </tr>\n",
       "    <tr>\n",
       "      <td>Flatiron District</td>\n",
       "      <td>249.0</td>\n",
       "    </tr>\n",
       "    <tr>\n",
       "      <td>Theater District</td>\n",
       "      <td>240.0</td>\n",
       "    </tr>\n",
       "    <tr>\n",
       "      <td>SoHo</td>\n",
       "      <td>240.0</td>\n",
       "    </tr>\n",
       "    <tr>\n",
       "      <td>Battery Park City</td>\n",
       "      <td>225.0</td>\n",
       "    </tr>\n",
       "    <tr>\n",
       "      <td>Chelsea</td>\n",
       "      <td>225.0</td>\n",
       "    </tr>\n",
       "    <tr>\n",
       "      <td>Nolita</td>\n",
       "      <td>225.0</td>\n",
       "    </tr>\n",
       "    <tr>\n",
       "      <td>Financial District</td>\n",
       "      <td>221.0</td>\n",
       "    </tr>\n",
       "    <tr>\n",
       "      <td>Midtown</td>\n",
       "      <td>220.0</td>\n",
       "    </tr>\n",
       "    <tr>\n",
       "      <td>West Village</td>\n",
       "      <td>219.0</td>\n",
       "    </tr>\n",
       "    <tr>\n",
       "      <td>Hell's Kitchen</td>\n",
       "      <td>200.0</td>\n",
       "    </tr>\n",
       "    <tr>\n",
       "      <td>Greenwich Village</td>\n",
       "      <td>200.0</td>\n",
       "    </tr>\n",
       "    <tr>\n",
       "      <td>Murray Hill</td>\n",
       "      <td>199.0</td>\n",
       "    </tr>\n",
       "    <tr>\n",
       "      <td>Gramercy</td>\n",
       "      <td>198.0</td>\n",
       "    </tr>\n",
       "    <tr>\n",
       "      <td>Little Italy</td>\n",
       "      <td>190.0</td>\n",
       "    </tr>\n",
       "    <tr>\n",
       "      <td>Lower East Side</td>\n",
       "      <td>190.0</td>\n",
       "    </tr>\n",
       "    <tr>\n",
       "      <td>East Village</td>\n",
       "      <td>189.0</td>\n",
       "    </tr>\n",
       "    <tr>\n",
       "      <td>Stuyvesant Town</td>\n",
       "      <td>188.5</td>\n",
       "    </tr>\n",
       "    <tr>\n",
       "      <td>Civic Center</td>\n",
       "      <td>187.0</td>\n",
       "    </tr>\n",
       "    <tr>\n",
       "      <td>Upper West Side</td>\n",
       "      <td>187.0</td>\n",
       "    </tr>\n",
       "    <tr>\n",
       "      <td>Kips Bay</td>\n",
       "      <td>185.0</td>\n",
       "    </tr>\n",
       "    <tr>\n",
       "      <td>Chinatown</td>\n",
       "      <td>170.0</td>\n",
       "    </tr>\n",
       "    <tr>\n",
       "      <td>Two Bridges</td>\n",
       "      <td>167.0</td>\n",
       "    </tr>\n",
       "    <tr>\n",
       "      <td>Upper East Side</td>\n",
       "      <td>160.0</td>\n",
       "    </tr>\n",
       "    <tr>\n",
       "      <td>Roosevelt Island</td>\n",
       "      <td>150.0</td>\n",
       "    </tr>\n",
       "    <tr>\n",
       "      <td>East Harlem</td>\n",
       "      <td>150.0</td>\n",
       "    </tr>\n",
       "    <tr>\n",
       "      <td>Harlem</td>\n",
       "      <td>140.0</td>\n",
       "    </tr>\n",
       "    <tr>\n",
       "      <td>Morningside Heights</td>\n",
       "      <td>131.0</td>\n",
       "    </tr>\n",
       "    <tr>\n",
       "      <td>Washington Heights</td>\n",
       "      <td>115.0</td>\n",
       "    </tr>\n",
       "    <tr>\n",
       "      <td>Inwood</td>\n",
       "      <td>100.0</td>\n",
       "    </tr>\n",
       "    <tr>\n",
       "      <td>Marble Hill</td>\n",
       "      <td>90.0</td>\n",
       "    </tr>\n",
       "  </tbody>\n",
       "</table>\n",
       "</div>"
      ],
      "text/plain": [
       "                     price\n",
       "neighbourhood             \n",
       "Tribeca              318.0\n",
       "NoHo                 252.5\n",
       "Flatiron District    249.0\n",
       "Theater District     240.0\n",
       "SoHo                 240.0\n",
       "Battery Park City    225.0\n",
       "Chelsea              225.0\n",
       "Nolita               225.0\n",
       "Financial District   221.0\n",
       "Midtown              220.0\n",
       "West Village         219.0\n",
       "Hell's Kitchen       200.0\n",
       "Greenwich Village    200.0\n",
       "Murray Hill          199.0\n",
       "Gramercy             198.0\n",
       "Little Italy         190.0\n",
       "Lower East Side      190.0\n",
       "East Village         189.0\n",
       "Stuyvesant Town      188.5\n",
       "Civic Center         187.0\n",
       "Upper West Side      187.0\n",
       "Kips Bay             185.0\n",
       "Chinatown            170.0\n",
       "Two Bridges          167.0\n",
       "Upper East Side      160.0\n",
       "Roosevelt Island     150.0\n",
       "East Harlem          150.0\n",
       "Harlem               140.0\n",
       "Morningside Heights  131.0\n",
       "Washington Heights   115.0\n",
       "Inwood               100.0\n",
       "Marble Hill           90.0"
      ]
     },
     "execution_count": 77,
     "metadata": {},
     "output_type": "execute_result"
    }
   ],
   "source": [
    "manhattan_df_crs_grouped = manhattan_df_crs.groupby('neighbourhood')[['price']].median()\n",
    "\n",
    "median_price_df = pd.merge(manhattan_df_crs, manhattan_df_crs_grouped, \n",
    "                           left_on='neighbourhood', right_index=True)\n",
    "median_price_df.rename({'price_x': 'price', \n",
    "                        'price_y': 'median_neighbourhood_price'}, \n",
    "                       axis=1, inplace=True)\n",
    "\n",
    "manhattan_df_crs_grouped.sort_values(by='price', ascending=False)"
   ]
  },
  {
   "cell_type": "markdown",
   "metadata": {},
   "source": [
    "### EDA: Plot the median neighbourhood price\n",
    "Now let's overlay this on the map and color code it to visually see how the price differs by location."
   ]
  },
  {
   "cell_type": "code",
   "execution_count": 106,
   "metadata": {},
   "outputs": [
    {
     "data": {
      "text/html": [
       "<div>\n",
       "<style scoped>\n",
       "    .dataframe tbody tr th:only-of-type {\n",
       "        vertical-align: middle;\n",
       "    }\n",
       "\n",
       "    .dataframe tbody tr th {\n",
       "        vertical-align: top;\n",
       "    }\n",
       "\n",
       "    .dataframe thead th {\n",
       "        text-align: right;\n",
       "    }\n",
       "</style>\n",
       "<table border=\"1\" class=\"dataframe\">\n",
       "  <thead>\n",
       "    <tr style=\"text-align: right;\">\n",
       "      <th></th>\n",
       "      <th>price</th>\n",
       "      <th>neighbourhood</th>\n",
       "      <th>neighbourhood_group</th>\n",
       "      <th>geometry</th>\n",
       "      <th>median_neighbourhood_price</th>\n",
       "    </tr>\n",
       "  </thead>\n",
       "  <tbody>\n",
       "    <tr>\n",
       "      <td>0</td>\n",
       "      <td>225</td>\n",
       "      <td>Midtown</td>\n",
       "      <td>Manhattan</td>\n",
       "      <td>POINT (469524.6984892281 86930.35771388965)</td>\n",
       "      <td>220.0</td>\n",
       "    </tr>\n",
       "    <tr>\n",
       "      <td>229</td>\n",
       "      <td>250</td>\n",
       "      <td>Midtown</td>\n",
       "      <td>Manhattan</td>\n",
       "      <td>POINT (470677.7776314804 87551.5385397778)</td>\n",
       "      <td>220.0</td>\n",
       "    </tr>\n",
       "    <tr>\n",
       "      <td>241</td>\n",
       "      <td>110</td>\n",
       "      <td>Midtown</td>\n",
       "      <td>Manhattan</td>\n",
       "      <td>POINT (470761.827736628 87397.31060812931)</td>\n",
       "      <td>220.0</td>\n",
       "    </tr>\n",
       "    <tr>\n",
       "      <td>372</td>\n",
       "      <td>139</td>\n",
       "      <td>Midtown</td>\n",
       "      <td>Manhattan</td>\n",
       "      <td>POINT (469131.4848167276 85963.88072752411)</td>\n",
       "      <td>220.0</td>\n",
       "    </tr>\n",
       "    <tr>\n",
       "      <td>380</td>\n",
       "      <td>145</td>\n",
       "      <td>Midtown</td>\n",
       "      <td>Manhattan</td>\n",
       "      <td>POINT (470934.6724387425 87213.49589937051)</td>\n",
       "      <td>220.0</td>\n",
       "    </tr>\n",
       "  </tbody>\n",
       "</table>\n",
       "</div>"
      ],
      "text/plain": [
       "     price neighbourhood neighbourhood_group  \\\n",
       "0      225       Midtown           Manhattan   \n",
       "229    250       Midtown           Manhattan   \n",
       "241    110       Midtown           Manhattan   \n",
       "372    139       Midtown           Manhattan   \n",
       "380    145       Midtown           Manhattan   \n",
       "\n",
       "                                        geometry  median_neighbourhood_price  \n",
       "0    POINT (469524.6984892281 86930.35771388965)                       220.0  \n",
       "229   POINT (470677.7776314804 87551.5385397778)                       220.0  \n",
       "241   POINT (470761.827736628 87397.31060812931)                       220.0  \n",
       "372  POINT (469131.4848167276 85963.88072752411)                       220.0  \n",
       "380  POINT (470934.6724387425 87213.49589937051)                       220.0  "
      ]
     },
     "execution_count": 106,
     "metadata": {},
     "output_type": "execute_result"
    }
   ],
   "source": [
    "median_price_df.head()"
   ]
  },
  {
   "cell_type": "markdown",
   "metadata": {},
   "source": [
    "Color by median_neighbourhood_price"
   ]
  },
  {
   "cell_type": "code",
   "execution_count": 105,
   "metadata": {},
   "outputs": [
    {
     "data": {
      "image/png": "[encoded data removed]",
      "text/plain": [
       "<Figure size 576x576 with 2 Axes>"
      ]
     },
     "metadata": {
      "needs_background": "light"
     },
     "output_type": "display_data"
    }
   ],
   "source": [
    "# nbhoods\n",
    "ax = manhattan_nbhoods_crs.plot(figsize=(8,8), color='white', edgecolor='green')\n",
    "ax = median_price_df.plot(ax=ax, markersize=1, legend=True,\n",
    "                                 column='median_neighbourhood_price', \n",
    "                                 cmap='BuPu')\n",
    "\n",
    "ax.axes.get_xaxis().set_visible(False)\n",
    "ax.axes.get_yaxis().set_visible(False)\n",
    "plt.show()"
   ]
  },
  {
   "cell_type": "code",
   "execution_count": 108,
   "metadata": {},
   "outputs": [],
   "source": [
    "manhattan_nbhoods_crs.drop('neighbourhood_group', axis=1, inplace=True)"
   ]
  },
  {
   "cell_type": "code",
   "execution_count": 109,
   "metadata": {},
   "outputs": [
    {
     "data": {
      "text/html": [
       "<div>\n",
       "<style scoped>\n",
       "    .dataframe tbody tr th:only-of-type {\n",
       "        vertical-align: middle;\n",
       "    }\n",
       "\n",
       "    .dataframe tbody tr th {\n",
       "        vertical-align: top;\n",
       "    }\n",
       "\n",
       "    .dataframe thead th {\n",
       "        text-align: right;\n",
       "    }\n",
       "</style>\n",
       "<table border=\"1\" class=\"dataframe\">\n",
       "  <thead>\n",
       "    <tr style=\"text-align: right;\">\n",
       "      <th></th>\n",
       "      <th>neighbourhood</th>\n",
       "      <th>geometry</th>\n",
       "    </tr>\n",
       "  </thead>\n",
       "  <tbody>\n",
       "    <tr>\n",
       "      <td>18</td>\n",
       "      <td>Battery Park City</td>\n",
       "      <td>(POLYGON ((467122.2572863808 82421.16666408972, 467088.3056105837 82113.16723316014, 466915.7402487983 81419.5255550124, 466953.85987936 81180.43837542315, 467002.1446376443 81102.93164204141, 467...</td>\n",
       "    </tr>\n",
       "    <tr>\n",
       "      <td>43</td>\n",
       "      <td>Chinatown</td>\n",
       "      <td>(POLYGON ((468271.2982895938 82931.41173618173, 468388.7397763333 82834.82990154813, 468461.0727218391 82805.39227960705, 468564.6427924591 83059.09847071668, 468707.6920720575 82997.62324837463, ...</td>\n",
       "    </tr>\n",
       "    <tr>\n",
       "      <td>52</td>\n",
       "      <td>Chelsea</td>\n",
       "      <td>(POLYGON ((468710.6776326126 86747.3227028465, 469185.1456793678 86501.79746154339, 469185.4900922586 86501.5853396085, 469183.3801157149 86458.61653507431, 468913.0865981017 85927.74576283006, 46...</td>\n",
       "    </tr>\n",
       "    <tr>\n",
       "      <td>53</td>\n",
       "      <td>Civic Center</td>\n",
       "      <td>(POLYGON ((468457.235254533 82352.76782179784, 468478.621498909 82269.92045108535, 468091.7168221254 82216.29588924503, 468010.5642736031 82174.45053362568, 468009.0626965503 82173.7394760903, 467...</td>\n",
       "    </tr>\n",
       "    <tr>\n",
       "      <td>80</td>\n",
       "      <td>East Harlem</td>\n",
       "      <td>(POLYGON ((473521.1660731504 94375.56368291112, 473521.1660731504 94375.56368291112, 473534.4730513414 93938.43044907338, 473524.6752114975 93938.46758702045, 473524.6752114975 93938.46758702045, ...</td>\n",
       "    </tr>\n",
       "  </tbody>\n",
       "</table>\n",
       "</div>"
      ],
      "text/plain": [
       "        neighbourhood  \\\n",
       "18  Battery Park City   \n",
       "43          Chinatown   \n",
       "52            Chelsea   \n",
       "53       Civic Center   \n",
       "80        East Harlem   \n",
       "\n",
       "                                                                                                                                                                                                   geometry  \n",
       "18  (POLYGON ((467122.2572863808 82421.16666408972, 467088.3056105837 82113.16723316014, 466915.7402487983 81419.5255550124, 466953.85987936 81180.43837542315, 467002.1446376443 81102.93164204141, 467...  \n",
       "43  (POLYGON ((468271.2982895938 82931.41173618173, 468388.7397763333 82834.82990154813, 468461.0727218391 82805.39227960705, 468564.6427924591 83059.09847071668, 468707.6920720575 82997.62324837463, ...  \n",
       "52  (POLYGON ((468710.6776326126 86747.3227028465, 469185.1456793678 86501.79746154339, 469185.4900922586 86501.5853396085, 469183.3801157149 86458.61653507431, 468913.0865981017 85927.74576283006, 46...  \n",
       "53  (POLYGON ((468457.235254533 82352.76782179784, 468478.621498909 82269.92045108535, 468091.7168221254 82216.29588924503, 468010.5642736031 82174.45053362568, 468009.0626965503 82173.7394760903, 467...  \n",
       "80  (POLYGON ((473521.1660731504 94375.56368291112, 473521.1660731504 94375.56368291112, 473534.4730513414 93938.43044907338, 473524.6752114975 93938.46758702045, 473524.6752114975 93938.46758702045, ...  "
      ]
     },
     "execution_count": 109,
     "metadata": {},
     "output_type": "execute_result"
    }
   ],
   "source": [
    "manhattan_nbhoods_crs.head()"
   ]
  },
  {
   "cell_type": "code",
   "execution_count": 111,
   "metadata": {},
   "outputs": [
    {
     "data": {
      "text/plain": [
       "(32, 1)"
      ]
     },
     "execution_count": 111,
     "metadata": {},
     "output_type": "execute_result"
    }
   ],
   "source": [
    "manhattan_df_crs_grouped.shape"
   ]
  },
  {
   "cell_type": "code",
   "execution_count": 112,
   "metadata": {},
   "outputs": [
    {
     "data": {
      "text/html": [
       "<div>\n",
       "<style scoped>\n",
       "    .dataframe tbody tr th:only-of-type {\n",
       "        vertical-align: middle;\n",
       "    }\n",
       "\n",
       "    .dataframe tbody tr th {\n",
       "        vertical-align: top;\n",
       "    }\n",
       "\n",
       "    .dataframe thead th {\n",
       "        text-align: right;\n",
       "    }\n",
       "</style>\n",
       "<table border=\"1\" class=\"dataframe\">\n",
       "  <thead>\n",
       "    <tr style=\"text-align: right;\">\n",
       "      <th></th>\n",
       "      <th>price</th>\n",
       "    </tr>\n",
       "    <tr>\n",
       "      <th>neighbourhood</th>\n",
       "      <th></th>\n",
       "    </tr>\n",
       "  </thead>\n",
       "  <tbody>\n",
       "    <tr>\n",
       "      <td>Battery Park City</td>\n",
       "      <td>225.0</td>\n",
       "    </tr>\n",
       "    <tr>\n",
       "      <td>Chelsea</td>\n",
       "      <td>225.0</td>\n",
       "    </tr>\n",
       "    <tr>\n",
       "      <td>Chinatown</td>\n",
       "      <td>170.0</td>\n",
       "    </tr>\n",
       "    <tr>\n",
       "      <td>Civic Center</td>\n",
       "      <td>187.0</td>\n",
       "    </tr>\n",
       "    <tr>\n",
       "      <td>East Harlem</td>\n",
       "      <td>150.0</td>\n",
       "    </tr>\n",
       "  </tbody>\n",
       "</table>\n",
       "</div>"
      ],
      "text/plain": [
       "                   price\n",
       "neighbourhood           \n",
       "Battery Park City  225.0\n",
       "Chelsea            225.0\n",
       "Chinatown          170.0\n",
       "Civic Center       187.0\n",
       "East Harlem        150.0"
      ]
     },
     "execution_count": 112,
     "metadata": {},
     "output_type": "execute_result"
    }
   ],
   "source": [
    "manhattan_df_crs_grouped.head()"
   ]
  },
  {
   "cell_type": "code",
   "execution_count": 114,
   "metadata": {},
   "outputs": [],
   "source": [
    "cloropeth_price_df = pd.merge(manhattan_nbhoods_crs, manhattan_df_crs_grouped, \n",
    "                              left_on='neighbourhood', right_index=True)"
   ]
  },
  {
   "cell_type": "code",
   "execution_count": 115,
   "metadata": {},
   "outputs": [
    {
     "data": {
      "text/html": [
       "<div>\n",
       "<style scoped>\n",
       "    .dataframe tbody tr th:only-of-type {\n",
       "        vertical-align: middle;\n",
       "    }\n",
       "\n",
       "    .dataframe tbody tr th {\n",
       "        vertical-align: top;\n",
       "    }\n",
       "\n",
       "    .dataframe thead th {\n",
       "        text-align: right;\n",
       "    }\n",
       "</style>\n",
       "<table border=\"1\" class=\"dataframe\">\n",
       "  <thead>\n",
       "    <tr style=\"text-align: right;\">\n",
       "      <th></th>\n",
       "      <th>neighbourhood</th>\n",
       "      <th>geometry</th>\n",
       "      <th>price</th>\n",
       "    </tr>\n",
       "  </thead>\n",
       "  <tbody>\n",
       "    <tr>\n",
       "      <td>18</td>\n",
       "      <td>Battery Park City</td>\n",
       "      <td>(POLYGON ((467122.2572863808 82421.16666408972, 467088.3056105837 82113.16723316014, 466915.7402487983 81419.5255550124, 466953.85987936 81180.43837542315, 467002.1446376443 81102.93164204141, 467...</td>\n",
       "      <td>225.0</td>\n",
       "    </tr>\n",
       "    <tr>\n",
       "      <td>43</td>\n",
       "      <td>Chinatown</td>\n",
       "      <td>(POLYGON ((468271.2982895938 82931.41173618173, 468388.7397763333 82834.82990154813, 468461.0727218391 82805.39227960705, 468564.6427924591 83059.09847071668, 468707.6920720575 82997.62324837463, ...</td>\n",
       "      <td>170.0</td>\n",
       "    </tr>\n",
       "    <tr>\n",
       "      <td>52</td>\n",
       "      <td>Chelsea</td>\n",
       "      <td>(POLYGON ((468710.6776326126 86747.3227028465, 469185.1456793678 86501.79746154339, 469185.4900922586 86501.5853396085, 469183.3801157149 86458.61653507431, 468913.0865981017 85927.74576283006, 46...</td>\n",
       "      <td>225.0</td>\n",
       "    </tr>\n",
       "    <tr>\n",
       "      <td>53</td>\n",
       "      <td>Civic Center</td>\n",
       "      <td>(POLYGON ((468457.235254533 82352.76782179784, 468478.621498909 82269.92045108535, 468091.7168221254 82216.29588924503, 468010.5642736031 82174.45053362568, 468009.0626965503 82173.7394760903, 467...</td>\n",
       "      <td>187.0</td>\n",
       "    </tr>\n",
       "    <tr>\n",
       "      <td>80</td>\n",
       "      <td>East Harlem</td>\n",
       "      <td>(POLYGON ((473521.1660731504 94375.56368291112, 473521.1660731504 94375.56368291112, 473534.4730513414 93938.43044907338, 473524.6752114975 93938.46758702045, 473524.6752114975 93938.46758702045, ...</td>\n",
       "      <td>150.0</td>\n",
       "    </tr>\n",
       "  </tbody>\n",
       "</table>\n",
       "</div>"
      ],
      "text/plain": [
       "        neighbourhood  \\\n",
       "18  Battery Park City   \n",
       "43          Chinatown   \n",
       "52            Chelsea   \n",
       "53       Civic Center   \n",
       "80        East Harlem   \n",
       "\n",
       "                                                                                                                                                                                                   geometry  \\\n",
       "18  (POLYGON ((467122.2572863808 82421.16666408972, 467088.3056105837 82113.16723316014, 466915.7402487983 81419.5255550124, 466953.85987936 81180.43837542315, 467002.1446376443 81102.93164204141, 467...   \n",
       "43  (POLYGON ((468271.2982895938 82931.41173618173, 468388.7397763333 82834.82990154813, 468461.0727218391 82805.39227960705, 468564.6427924591 83059.09847071668, 468707.6920720575 82997.62324837463, ...   \n",
       "52  (POLYGON ((468710.6776326126 86747.3227028465, 469185.1456793678 86501.79746154339, 469185.4900922586 86501.5853396085, 469183.3801157149 86458.61653507431, 468913.0865981017 85927.74576283006, 46...   \n",
       "53  (POLYGON ((468457.235254533 82352.76782179784, 468478.621498909 82269.92045108535, 468091.7168221254 82216.29588924503, 468010.5642736031 82174.45053362568, 468009.0626965503 82173.7394760903, 467...   \n",
       "80  (POLYGON ((473521.1660731504 94375.56368291112, 473521.1660731504 94375.56368291112, 473534.4730513414 93938.43044907338, 473524.6752114975 93938.46758702045, 473524.6752114975 93938.46758702045, ...   \n",
       "\n",
       "    price  \n",
       "18  225.0  \n",
       "43  170.0  \n",
       "52  225.0  \n",
       "53  187.0  \n",
       "80  150.0  "
      ]
     },
     "execution_count": 115,
     "metadata": {},
     "output_type": "execute_result"
    }
   ],
   "source": [
    "cloropeth_price_df.head()"
   ]
  },
  {
   "cell_type": "code",
   "execution_count": 124,
   "metadata": {},
   "outputs": [
    {
     "data": {
      "image/png": "[encoded data removed]",
      "text/plain": [
       "<Figure size 720x720 with 1 Axes>"
      ]
     },
     "metadata": {
      "needs_background": "light"
     },
     "output_type": "display_data"
    }
   ],
   "source": [
    "# nbhoods\n",
    "ax = cloropeth_price_df.plot(figsize=(10,10), column='price', \n",
    "                             cmap='OrRd', scheme='quantiles', \n",
    "                             edgecolor='orange', legend=True, \n",
    "                             legend_kwds = {'loc':'upper left'})\n",
    "\n",
    "ax.axes.get_xaxis().set_visible(False)\n",
    "ax.axes.get_yaxis().set_visible(False)\n",
    "plt.show()"
   ]
  },
  {
   "cell_type": "code",
   "execution_count": null,
   "metadata": {},
   "outputs": [],
   "source": []
  },
  {
   "cell_type": "code",
   "execution_count": null,
   "metadata": {},
   "outputs": [],
   "source": []
  }
 ],
 "metadata": {
  "kernelspec": {
   "display_name": "Python 3",
   "language": "python",
   "name": "python3"
  },
  "language_info": {
   "codemirror_mode": {
    "name": "ipython",
    "version": 3
   },
   "file_extension": ".py",
   "mimetype": "text/x-python",
   "name": "python",
   "nbconvert_exporter": "python",
   "pygments_lexer": "ipython3",
   "version": "3.7.3"
  }
 },
 "nbformat": 4,
 "nbformat_minor": 2
}
