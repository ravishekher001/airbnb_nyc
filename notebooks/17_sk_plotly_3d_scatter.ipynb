{
 "cells": [
  {
   "cell_type": "code",
   "execution_count": 1,
   "metadata": {},
   "outputs": [
    {
     "data": {
      "text/html": [
       "<div>\n",
       "<style scoped>\n",
       "    .dataframe tbody tr th:only-of-type {\n",
       "        vertical-align: middle;\n",
       "    }\n",
       "\n",
       "    .dataframe tbody tr th {\n",
       "        vertical-align: top;\n",
       "    }\n",
       "\n",
       "    .dataframe thead th {\n",
       "        text-align: right;\n",
       "    }\n",
       "</style>\n",
       "<table border=\"1\" class=\"dataframe\">\n",
       "  <thead>\n",
       "    <tr style=\"text-align: right;\">\n",
       "      <th></th>\n",
       "      <th>price_category</th>\n",
       "      <th>name</th>\n",
       "      <th>id</th>\n",
       "      <th>price</th>\n",
       "      <th>adjusted_price</th>\n",
       "      <th>minimum_nights</th>\n",
       "      <th>bedrooms</th>\n",
       "      <th>bathrooms</th>\n",
       "      <th>neighbourhood_group_cleansed</th>\n",
       "      <th>neighbourhood_cleansed</th>\n",
       "      <th>...</th>\n",
       "      <th>40</th>\n",
       "      <th>41</th>\n",
       "      <th>42</th>\n",
       "      <th>43</th>\n",
       "      <th>44</th>\n",
       "      <th>45</th>\n",
       "      <th>46</th>\n",
       "      <th>47</th>\n",
       "      <th>48</th>\n",
       "      <th>49</th>\n",
       "    </tr>\n",
       "  </thead>\n",
       "  <tbody>\n",
       "    <tr>\n",
       "      <th>0</th>\n",
       "      <td>high</td>\n",
       "      <td>Skylit Midtown Castle</td>\n",
       "      <td>2595</td>\n",
       "      <td>225.0</td>\n",
       "      <td>225.000000</td>\n",
       "      <td>1</td>\n",
       "      <td>0.0</td>\n",
       "      <td>1.0</td>\n",
       "      <td>Manhattan</td>\n",
       "      <td>Midtown</td>\n",
       "      <td>...</td>\n",
       "      <td>0.576904</td>\n",
       "      <td>0.466956</td>\n",
       "      <td>0.331311</td>\n",
       "      <td>0.261779</td>\n",
       "      <td>-0.330193</td>\n",
       "      <td>1.620287</td>\n",
       "      <td>0.867739</td>\n",
       "      <td>-0.798060</td>\n",
       "      <td>-0.576860</td>\n",
       "      <td>-0.254925</td>\n",
       "    </tr>\n",
       "    <tr>\n",
       "      <th>1</th>\n",
       "      <td>medium</td>\n",
       "      <td>THE VILLAGE OF HARLEM....NEW YORK !</td>\n",
       "      <td>3647</td>\n",
       "      <td>150.0</td>\n",
       "      <td>50.000000</td>\n",
       "      <td>3</td>\n",
       "      <td>1.0</td>\n",
       "      <td>1.0</td>\n",
       "      <td>Manhattan</td>\n",
       "      <td>Harlem</td>\n",
       "      <td>...</td>\n",
       "      <td>-0.252328</td>\n",
       "      <td>0.226731</td>\n",
       "      <td>0.269839</td>\n",
       "      <td>-0.211928</td>\n",
       "      <td>0.147831</td>\n",
       "      <td>1.354929</td>\n",
       "      <td>0.801862</td>\n",
       "      <td>-0.292820</td>\n",
       "      <td>-0.804985</td>\n",
       "      <td>-0.202175</td>\n",
       "    </tr>\n",
       "    <tr>\n",
       "      <th>2</th>\n",
       "      <td>low</td>\n",
       "      <td>Entire Apt: Spacious Studio/Loft by central park</td>\n",
       "      <td>5022</td>\n",
       "      <td>80.0</td>\n",
       "      <td>8.000000</td>\n",
       "      <td>10</td>\n",
       "      <td>1.0</td>\n",
       "      <td>1.0</td>\n",
       "      <td>Manhattan</td>\n",
       "      <td>East Harlem</td>\n",
       "      <td>...</td>\n",
       "      <td>0.193168</td>\n",
       "      <td>0.068044</td>\n",
       "      <td>0.015844</td>\n",
       "      <td>0.197295</td>\n",
       "      <td>-0.167786</td>\n",
       "      <td>1.117572</td>\n",
       "      <td>0.749340</td>\n",
       "      <td>0.109282</td>\n",
       "      <td>-0.870940</td>\n",
       "      <td>-0.278948</td>\n",
       "    </tr>\n",
       "    <tr>\n",
       "      <th>3</th>\n",
       "      <td>medium</td>\n",
       "      <td>Large Cozy 1 BR Apartment In Midtown East</td>\n",
       "      <td>5099</td>\n",
       "      <td>200.0</td>\n",
       "      <td>66.666667</td>\n",
       "      <td>3</td>\n",
       "      <td>1.0</td>\n",
       "      <td>1.0</td>\n",
       "      <td>Manhattan</td>\n",
       "      <td>Murray Hill</td>\n",
       "      <td>...</td>\n",
       "      <td>0.416250</td>\n",
       "      <td>-0.057388</td>\n",
       "      <td>0.073780</td>\n",
       "      <td>0.143102</td>\n",
       "      <td>0.198163</td>\n",
       "      <td>1.440193</td>\n",
       "      <td>0.641507</td>\n",
       "      <td>-0.021390</td>\n",
       "      <td>-0.912154</td>\n",
       "      <td>-0.285108</td>\n",
       "    </tr>\n",
       "    <tr>\n",
       "      <th>4</th>\n",
       "      <td>low</td>\n",
       "      <td>BlissArtsSpace!</td>\n",
       "      <td>5121</td>\n",
       "      <td>60.0</td>\n",
       "      <td>1.333333</td>\n",
       "      <td>45</td>\n",
       "      <td>1.0</td>\n",
       "      <td>1.0</td>\n",
       "      <td>Brooklyn</td>\n",
       "      <td>Bedford-Stuyvesant</td>\n",
       "      <td>...</td>\n",
       "      <td>-0.214280</td>\n",
       "      <td>-0.095810</td>\n",
       "      <td>0.224063</td>\n",
       "      <td>0.083689</td>\n",
       "      <td>-0.192449</td>\n",
       "      <td>0.410582</td>\n",
       "      <td>0.017357</td>\n",
       "      <td>0.246550</td>\n",
       "      <td>0.796558</td>\n",
       "      <td>0.307420</td>\n",
       "    </tr>\n",
       "  </tbody>\n",
       "</table>\n",
       "<p>5 rows × 60 columns</p>\n",
       "</div>"
      ],
      "text/plain": [
       "  price_category                                              name    id  \\\n",
       "0           high                             Skylit Midtown Castle  2595   \n",
       "1         medium               THE VILLAGE OF HARLEM....NEW YORK !  3647   \n",
       "2            low  Entire Apt: Spacious Studio/Loft by central park  5022   \n",
       "3         medium         Large Cozy 1 BR Apartment In Midtown East  5099   \n",
       "4            low                                   BlissArtsSpace!  5121   \n",
       "\n",
       "   price  adjusted_price  minimum_nights  bedrooms  bathrooms  \\\n",
       "0  225.0      225.000000               1       0.0        1.0   \n",
       "1  150.0       50.000000               3       1.0        1.0   \n",
       "2   80.0        8.000000              10       1.0        1.0   \n",
       "3  200.0       66.666667               3       1.0        1.0   \n",
       "4   60.0        1.333333              45       1.0        1.0   \n",
       "\n",
       "  neighbourhood_group_cleansed neighbourhood_cleansed  ...        40  \\\n",
       "0                    Manhattan                Midtown  ...  0.576904   \n",
       "1                    Manhattan                 Harlem  ... -0.252328   \n",
       "2                    Manhattan            East Harlem  ...  0.193168   \n",
       "3                    Manhattan            Murray Hill  ...  0.416250   \n",
       "4                     Brooklyn     Bedford-Stuyvesant  ... -0.214280   \n",
       "\n",
       "         41        42        43        44        45        46        47  \\\n",
       "0  0.466956  0.331311  0.261779 -0.330193  1.620287  0.867739 -0.798060   \n",
       "1  0.226731  0.269839 -0.211928  0.147831  1.354929  0.801862 -0.292820   \n",
       "2  0.068044  0.015844  0.197295 -0.167786  1.117572  0.749340  0.109282   \n",
       "3 -0.057388  0.073780  0.143102  0.198163  1.440193  0.641507 -0.021390   \n",
       "4 -0.095810  0.224063  0.083689 -0.192449  0.410582  0.017357  0.246550   \n",
       "\n",
       "         48        49  \n",
       "0 -0.576860 -0.254925  \n",
       "1 -0.804985 -0.202175  \n",
       "2 -0.870940 -0.278948  \n",
       "3 -0.912154 -0.285108  \n",
       "4  0.796558  0.307420  \n",
       "\n",
       "[5 rows x 60 columns]"
      ]
     },
     "execution_count": 1,
     "metadata": {},
     "output_type": "execute_result"
    }
   ],
   "source": [
    "import pandas as pd\n",
    "data = pd.read_csv('airbnb_final.csv')\n",
    "data.head()"
   ]
  },
  {
   "cell_type": "code",
   "execution_count": 2,
   "metadata": {},
   "outputs": [],
   "source": [
    "pc_col_names = [\"pc_\" + item for item in list(data.columns[10:])]\n",
    "other_col_names = list(data.columns[:10])\n",
    "data.columns = other_col_names + pc_col_names"
   ]
  },
  {
   "cell_type": "code",
   "execution_count": 3,
   "metadata": {},
   "outputs": [],
   "source": [
    "from sklearn.manifold import TSNE"
   ]
  },
  {
   "cell_type": "code",
   "execution_count": 4,
   "metadata": {},
   "outputs": [],
   "source": [
    "A = data.iloc[:,10:].values"
   ]
  },
  {
   "cell_type": "code",
   "execution_count": 5,
   "metadata": {},
   "outputs": [
    {
     "data": {
      "text/plain": [
       "numpy.ndarray"
      ]
     },
     "execution_count": 5,
     "metadata": {},
     "output_type": "execute_result"
    }
   ],
   "source": [
    "type(A)"
   ]
  },
  {
   "cell_type": "code",
   "execution_count": null,
   "metadata": {},
   "outputs": [],
   "source": [
    "# Dimension reduction with t-SNE\n",
    "model = TSNE(n_components=3, learning_rate=100, random_state=42)\n",
    "tsne_features = model.fit_transform(A)"
   ]
  },
  {
   "cell_type": "code",
   "execution_count": null,
   "metadata": {},
   "outputs": [],
   "source": []
  },
  {
   "cell_type": "code",
   "execution_count": 16,
   "metadata": {},
   "outputs": [],
   "source": [
    "tsne_df = pd.DataFrame({'TSNE1': tsne_features[:,0], \n",
    "              'TSNE2': tsne_features[:,1],\n",
    "              'TSNE3': tsne_features[:,2]\n",
    "            \n",
    "             })"
   ]
  },
  {
   "cell_type": "code",
   "execution_count": 17,
   "metadata": {},
   "outputs": [
    {
     "data": {
      "text/plain": [
       "(45605, 3)"
      ]
     },
     "execution_count": 17,
     "metadata": {},
     "output_type": "execute_result"
    }
   ],
   "source": [
    "tsne_df.shape"
   ]
  },
  {
   "cell_type": "code",
   "execution_count": 18,
   "metadata": {},
   "outputs": [],
   "source": [
    "data_tsne = data[other_col_names]"
   ]
  },
  {
   "cell_type": "code",
   "execution_count": 19,
   "metadata": {},
   "outputs": [],
   "source": [
    "tsne_final= pd.concat([tsne_df, data_tsne], axis=1)"
   ]
  },
  {
   "cell_type": "code",
   "execution_count": 20,
   "metadata": {},
   "outputs": [
    {
     "data": {
      "text/html": [
       "<div>\n",
       "<style scoped>\n",
       "    .dataframe tbody tr th:only-of-type {\n",
       "        vertical-align: middle;\n",
       "    }\n",
       "\n",
       "    .dataframe tbody tr th {\n",
       "        vertical-align: top;\n",
       "    }\n",
       "\n",
       "    .dataframe thead th {\n",
       "        text-align: right;\n",
       "    }\n",
       "</style>\n",
       "<table border=\"1\" class=\"dataframe\">\n",
       "  <thead>\n",
       "    <tr style=\"text-align: right;\">\n",
       "      <th></th>\n",
       "      <th>TSNE1</th>\n",
       "      <th>TSNE2</th>\n",
       "      <th>TSNE3</th>\n",
       "      <th>price_category</th>\n",
       "      <th>name</th>\n",
       "      <th>id</th>\n",
       "      <th>price</th>\n",
       "      <th>adjusted_price</th>\n",
       "      <th>minimum_nights</th>\n",
       "      <th>bedrooms</th>\n",
       "      <th>bathrooms</th>\n",
       "      <th>neighbourhood_group_cleansed</th>\n",
       "      <th>neighbourhood_cleansed</th>\n",
       "    </tr>\n",
       "  </thead>\n",
       "  <tbody>\n",
       "    <tr>\n",
       "      <th>0</th>\n",
       "      <td>6.618355</td>\n",
       "      <td>18.307888</td>\n",
       "      <td>4.037642</td>\n",
       "      <td>high</td>\n",
       "      <td>Skylit Midtown Castle</td>\n",
       "      <td>2595</td>\n",
       "      <td>225.0</td>\n",
       "      <td>225.000000</td>\n",
       "      <td>1</td>\n",
       "      <td>0.0</td>\n",
       "      <td>1.0</td>\n",
       "      <td>Manhattan</td>\n",
       "      <td>Midtown</td>\n",
       "    </tr>\n",
       "    <tr>\n",
       "      <th>1</th>\n",
       "      <td>-20.100536</td>\n",
       "      <td>8.020902</td>\n",
       "      <td>-1.968155</td>\n",
       "      <td>medium</td>\n",
       "      <td>THE VILLAGE OF HARLEM....NEW YORK !</td>\n",
       "      <td>3647</td>\n",
       "      <td>150.0</td>\n",
       "      <td>50.000000</td>\n",
       "      <td>3</td>\n",
       "      <td>1.0</td>\n",
       "      <td>1.0</td>\n",
       "      <td>Manhattan</td>\n",
       "      <td>Harlem</td>\n",
       "    </tr>\n",
       "    <tr>\n",
       "      <th>2</th>\n",
       "      <td>-9.849981</td>\n",
       "      <td>16.748266</td>\n",
       "      <td>2.556231</td>\n",
       "      <td>low</td>\n",
       "      <td>Entire Apt: Spacious Studio/Loft by central park</td>\n",
       "      <td>5022</td>\n",
       "      <td>80.0</td>\n",
       "      <td>8.000000</td>\n",
       "      <td>10</td>\n",
       "      <td>1.0</td>\n",
       "      <td>1.0</td>\n",
       "      <td>Manhattan</td>\n",
       "      <td>East Harlem</td>\n",
       "    </tr>\n",
       "    <tr>\n",
       "      <th>3</th>\n",
       "      <td>-2.867686</td>\n",
       "      <td>1.036031</td>\n",
       "      <td>15.170166</td>\n",
       "      <td>medium</td>\n",
       "      <td>Large Cozy 1 BR Apartment In Midtown East</td>\n",
       "      <td>5099</td>\n",
       "      <td>200.0</td>\n",
       "      <td>66.666667</td>\n",
       "      <td>3</td>\n",
       "      <td>1.0</td>\n",
       "      <td>1.0</td>\n",
       "      <td>Manhattan</td>\n",
       "      <td>Murray Hill</td>\n",
       "    </tr>\n",
       "    <tr>\n",
       "      <th>4</th>\n",
       "      <td>-8.865001</td>\n",
       "      <td>-15.556909</td>\n",
       "      <td>-7.953006</td>\n",
       "      <td>low</td>\n",
       "      <td>BlissArtsSpace!</td>\n",
       "      <td>5121</td>\n",
       "      <td>60.0</td>\n",
       "      <td>1.333333</td>\n",
       "      <td>45</td>\n",
       "      <td>1.0</td>\n",
       "      <td>1.0</td>\n",
       "      <td>Brooklyn</td>\n",
       "      <td>Bedford-Stuyvesant</td>\n",
       "    </tr>\n",
       "  </tbody>\n",
       "</table>\n",
       "</div>"
      ],
      "text/plain": [
       "       TSNE1      TSNE2      TSNE3 price_category  \\\n",
       "0   6.618355  18.307888   4.037642           high   \n",
       "1 -20.100536   8.020902  -1.968155         medium   \n",
       "2  -9.849981  16.748266   2.556231            low   \n",
       "3  -2.867686   1.036031  15.170166         medium   \n",
       "4  -8.865001 -15.556909  -7.953006            low   \n",
       "\n",
       "                                               name    id  price  \\\n",
       "0                             Skylit Midtown Castle  2595  225.0   \n",
       "1               THE VILLAGE OF HARLEM....NEW YORK !  3647  150.0   \n",
       "2  Entire Apt: Spacious Studio/Loft by central park  5022   80.0   \n",
       "3         Large Cozy 1 BR Apartment In Midtown East  5099  200.0   \n",
       "4                                   BlissArtsSpace!  5121   60.0   \n",
       "\n",
       "   adjusted_price  minimum_nights  bedrooms  bathrooms  \\\n",
       "0      225.000000               1       0.0        1.0   \n",
       "1       50.000000               3       1.0        1.0   \n",
       "2        8.000000              10       1.0        1.0   \n",
       "3       66.666667               3       1.0        1.0   \n",
       "4        1.333333              45       1.0        1.0   \n",
       "\n",
       "  neighbourhood_group_cleansed neighbourhood_cleansed  \n",
       "0                    Manhattan                Midtown  \n",
       "1                    Manhattan                 Harlem  \n",
       "2                    Manhattan            East Harlem  \n",
       "3                    Manhattan            Murray Hill  \n",
       "4                     Brooklyn     Bedford-Stuyvesant  "
      ]
     },
     "execution_count": 20,
     "metadata": {},
     "output_type": "execute_result"
    }
   ],
   "source": [
    "tsne_final.head()"
   ]
  },
  {
   "cell_type": "code",
   "execution_count": null,
   "metadata": {},
   "outputs": [],
   "source": [
    "tsne_final.to_csv('tsne_final.csv', index=False)"
   ]
  },
  {
   "cell_type": "code",
   "execution_count": 2,
   "metadata": {},
   "outputs": [],
   "source": [
    "import pandas as pd"
   ]
  },
  {
   "cell_type": "code",
   "execution_count": 4,
   "metadata": {},
   "outputs": [],
   "source": [
    "tsne_final = pd.read_csv('tsne_final.csv')"
   ]
  },
  {
   "cell_type": "code",
   "execution_count": 18,
   "metadata": {},
   "outputs": [
    {
     "data": {
      "text/plain": [
       "Manhattan        20037\n",
       "Brooklyn         18729\n",
       "Queens            5469\n",
       "Bronx             1021\n",
       "Staten Island      349\n",
       "Name: neighbourhood_group_cleansed, dtype: int64"
      ]
     },
     "execution_count": 18,
     "metadata": {},
     "output_type": "execute_result"
    }
   ],
   "source": [
    "tsne_final.neighbourhood_group_cleansed.value_counts()"
   ]
  },
  {
   "cell_type": "code",
   "execution_count": 21,
   "metadata": {},
   "outputs": [],
   "source": [
    "pd.set_option('max_rows', 150)"
   ]
  },
  {
   "cell_type": "code",
   "execution_count": 22,
   "metadata": {},
   "outputs": [
    {
     "data": {
      "text/plain": [
       "Bedford-Stuyvesant            3584\n",
       "Williamsburg                  3474\n",
       "Harlem                        2597\n",
       "Bushwick                      2270\n",
       "Upper West Side               1856\n",
       "Hell's Kitchen                1825\n",
       "East Village                  1791\n",
       "Upper East Side               1706\n",
       "Crown Heights                 1521\n",
       "Midtown                       1151\n",
       "East Harlem                   1082\n",
       "Chelsea                        980\n",
       "Greenpoint                     933\n",
       "Astoria                        913\n",
       "Washington Heights             907\n",
       "Lower East Side                845\n",
       "West Village                   729\n",
       "Financial District             674\n",
       "Flatbush                       597\n",
       "Clinton Hill                   536\n",
       "Prospect-Lefferts Gardens      513\n",
       "Long Island City               510\n",
       "Park Slope                     476\n",
       "Fort Greene                    468\n",
       "East Flatbush                  467\n",
       "Kips Bay                       458\n",
       "Ridgewood                      433\n",
       "Murray Hill                    431\n",
       "Flushing                       396\n",
       "Sunset Park                    375\n",
       "Greenwich Village              367\n",
       "Sunnyside                      365\n",
       "Chinatown                      352\n",
       "Prospect Heights               351\n",
       "Morningside Heights            335\n",
       "Gramercy                       320\n",
       "Ditmars Steinway               289\n",
       "SoHo                           287\n",
       "South Slope                    262\n",
       "Elmhurst                       253\n",
       "Inwood                         245\n",
       "Nolita                         242\n",
       "Woodside                       226\n",
       "Gowanus                        218\n",
       "Carroll Gardens                215\n",
       "Jamaica                        204\n",
       "Theater District               204\n",
       "East New York                  201\n",
       "Jackson Heights                181\n",
       "East Elmhurst                  179\n",
       "Kensington                     172\n",
       "Boerum Hill                    165\n",
       "Sheepshead Bay                 158\n",
       "Bay Ridge                      157\n",
       "Windsor Terrace                150\n",
       "Brooklyn Heights               146\n",
       "Forest Hills                   140\n",
       "Cypress Hills                  138\n",
       "Canarsie                       138\n",
       "Borough Park                   121\n",
       "Maspeth                        121\n",
       "Tribeca                        119\n",
       "Little Italy                   109\n",
       "Midwood                        107\n",
       "Cobble Hill                     95\n",
       "Richmond Hill                   91\n",
       "Woodhaven                       85\n",
       "Rego Park                       84\n",
       "Springfield Gardens             84\n",
       "Flatlands                       82\n",
       "Roosevelt Island                78\n",
       "Brighton Beach                  74\n",
       "Bensonhurst                     74\n",
       "St. Albans                      70\n",
       "Kingsbridge                     70\n",
       "                              ... \n",
       "Pelham Bay                      13\n",
       "Eastchester                     13\n",
       "Whitestone                      13\n",
       "Hollis                          13\n",
       "City Island                     13\n",
       "Coney Island                    13\n",
       "Fieldston                       12\n",
       "Van Nest                        11\n",
       "Riverdale                       11\n",
       "Schuylerville                   11\n",
       "Marble Hill                     11\n",
       "Jamaica Hills                   11\n",
       "Bergen Beach                    11\n",
       "Melrose                         10\n",
       "Manhattan Beach                 10\n",
       "Tremont                         10\n",
       "Edgemere                        10\n",
       "Clifton                         10\n",
       "Woodlawn                        10\n",
       "East Morrisania                  9\n",
       "Grymes Hill                      9\n",
       "Navy Yard                        9\n",
       "Bellerose                        9\n",
       "Grant City                       9\n",
       "Great Kills                      9\n",
       "Sea Gate                         9\n",
       "Mariners Harbor                  8\n",
       "Westchester Square               8\n",
       "South Beach                      8\n",
       "Douglaston                       7\n",
       "Port Richmond                    7\n",
       "Dongan Hills                     7\n",
       "New Springville                  7\n",
       "Shore Acres                      7\n",
       "Unionport                        7\n",
       "Mount Eden                       6\n",
       "Bay Terrace                      6\n",
       "Tottenville                      6\n",
       "North Riverdale                  6\n",
       "Rosebank                         6\n",
       "Castleton Corners                5\n",
       "Belle Harbor                     5\n",
       "New Dorp Beach                   5\n",
       "New Brighton                     5\n",
       "Oakwood                          5\n",
       "Baychester                       5\n",
       "Little Neck                      5\n",
       "Todt Hill                        4\n",
       "Arden Heights                    4\n",
       "Holliswood                       4\n",
       "Midland Beach                    4\n",
       "Olinville                        4\n",
       "Huguenot                         3\n",
       "Prince's Bay                     3\n",
       "Emerson Hill                     3\n",
       "Mill Basin                       3\n",
       "Eltingville                      3\n",
       "Co-op City                       3\n",
       "Bull's Head                      3\n",
       "Lighthouse Hill                  2\n",
       "Spuyten Duyvil                   2\n",
       "Howland Hook                     2\n",
       "Castle Hill                      2\n",
       "Westerleigh                      2\n",
       "Graniteville                     2\n",
       "Bay Terrace, Staten Island       2\n",
       "Silver Lake                      2\n",
       "Richmondtown                     2\n",
       "West Farms                       2\n",
       "Fort Wadsworth                   1\n",
       "Neponsit                         1\n",
       "New Dorp                         1\n",
       "Rossville                        1\n",
       "Willowbrook                      1\n",
       "Woodrow                          1\n",
       "Name: neighbourhood_cleansed, Length: 220, dtype: int64"
      ]
     },
     "execution_count": 22,
     "metadata": {},
     "output_type": "execute_result"
    }
   ],
   "source": [
    "tsne_final.neighbourhood_cleansed.value_counts()"
   ]
  },
  {
   "cell_type": "code",
   "execution_count": null,
   "metadata": {},
   "outputs": [],
   "source": []
  },
  {
   "cell_type": "code",
   "execution_count": 10,
   "metadata": {},
   "outputs": [
    {
     "data": {
      "text/plain": [
       "(579, 13)"
      ]
     },
     "execution_count": 10,
     "metadata": {},
     "output_type": "execute_result"
    }
   ],
   "source": [
    "plotly_data.shape"
   ]
  },
  {
   "cell_type": "code",
   "execution_count": 12,
   "metadata": {},
   "outputs": [
    {
     "data": {
      "text/plain": [
       "[1.3453171999999998,\n",
       " -8.011493,\n",
       " 0.38937438,\n",
       " -3.7999758999999997,\n",
       " -15.368417,\n",
       " -4.9752812,\n",
       " -12.309878,\n",
       " 1.8010125,\n",
       " -18.482132,\n",
       " -3.6804662000000006]"
      ]
     },
     "execution_count": 12,
     "metadata": {},
     "output_type": "execute_result"
    }
   ],
   "source": [
    "plotly_data.TSNE1[:10].tolist()"
   ]
  },
  {
   "cell_type": "code",
   "execution_count": 6,
   "metadata": {},
   "outputs": [],
   "source": [
    "plotly_data = tsne_final[(tsne_final.neighbourhood_cleansed == 'Chelsea') & (tsne_final.minimum_nights <= 3)]"
   ]
  },
  {
   "cell_type": "code",
   "execution_count": 7,
   "metadata": {},
   "outputs": [
    {
     "data": {
      "text/html": [
       "<div>\n",
       "<style scoped>\n",
       "    .dataframe tbody tr th:only-of-type {\n",
       "        vertical-align: middle;\n",
       "    }\n",
       "\n",
       "    .dataframe tbody tr th {\n",
       "        vertical-align: top;\n",
       "    }\n",
       "\n",
       "    .dataframe thead th {\n",
       "        text-align: right;\n",
       "    }\n",
       "</style>\n",
       "<table border=\"1\" class=\"dataframe\">\n",
       "  <thead>\n",
       "    <tr style=\"text-align: right;\">\n",
       "      <th></th>\n",
       "      <th>TSNE1</th>\n",
       "      <th>TSNE2</th>\n",
       "      <th>TSNE3</th>\n",
       "      <th>price_category</th>\n",
       "      <th>name</th>\n",
       "      <th>id</th>\n",
       "      <th>price</th>\n",
       "      <th>adjusted_price</th>\n",
       "      <th>minimum_nights</th>\n",
       "      <th>bedrooms</th>\n",
       "      <th>bathrooms</th>\n",
       "      <th>neighbourhood_group_cleansed</th>\n",
       "      <th>neighbourhood_cleansed</th>\n",
       "    </tr>\n",
       "  </thead>\n",
       "  <tbody>\n",
       "    <tr>\n",
       "      <th>15</th>\n",
       "      <td>1.345317</td>\n",
       "      <td>18.529942</td>\n",
       "      <td>2.506888</td>\n",
       "      <td>medium</td>\n",
       "      <td>Chelsea Perfect  by Doti, an AIRBNB  Super Host!</td>\n",
       "      <td>7322</td>\n",
       "      <td>140.0</td>\n",
       "      <td>140.000000</td>\n",
       "      <td>1</td>\n",
       "      <td>1.0</td>\n",
       "      <td>1.0</td>\n",
       "      <td>Manhattan</td>\n",
       "      <td>Chelsea</td>\n",
       "    </tr>\n",
       "    <tr>\n",
       "      <th>173</th>\n",
       "      <td>-8.011493</td>\n",
       "      <td>-10.242352</td>\n",
       "      <td>-9.682402</td>\n",
       "      <td>low</td>\n",
       "      <td>Chelsea Studio sublet 1 - 2 months</td>\n",
       "      <td>47370</td>\n",
       "      <td>125.0</td>\n",
       "      <td>41.666667</td>\n",
       "      <td>3</td>\n",
       "      <td>0.0</td>\n",
       "      <td>1.0</td>\n",
       "      <td>Manhattan</td>\n",
       "      <td>Chelsea</td>\n",
       "    </tr>\n",
       "    <tr>\n",
       "      <th>179</th>\n",
       "      <td>0.389374</td>\n",
       "      <td>19.270704</td>\n",
       "      <td>-0.364709</td>\n",
       "      <td>medium</td>\n",
       "      <td>Prime Location in Manhattan</td>\n",
       "      <td>51572</td>\n",
       "      <td>123.0</td>\n",
       "      <td>123.000000</td>\n",
       "      <td>1</td>\n",
       "      <td>1.0</td>\n",
       "      <td>1.0</td>\n",
       "      <td>Manhattan</td>\n",
       "      <td>Chelsea</td>\n",
       "    </tr>\n",
       "    <tr>\n",
       "      <th>414</th>\n",
       "      <td>-3.799976</td>\n",
       "      <td>5.109456</td>\n",
       "      <td>3.913135</td>\n",
       "      <td>medium</td>\n",
       "      <td>Chelsea living, 2BR best location</td>\n",
       "      <td>159913</td>\n",
       "      <td>150.0</td>\n",
       "      <td>75.000000</td>\n",
       "      <td>2</td>\n",
       "      <td>1.0</td>\n",
       "      <td>1.0</td>\n",
       "      <td>Manhattan</td>\n",
       "      <td>Chelsea</td>\n",
       "    </tr>\n",
       "    <tr>\n",
       "      <th>471</th>\n",
       "      <td>-15.368417</td>\n",
       "      <td>8.520699</td>\n",
       "      <td>-3.223820</td>\n",
       "      <td>high</td>\n",
       "      <td>Comfort at Crossroads of Downtown</td>\n",
       "      <td>187986</td>\n",
       "      <td>250.0</td>\n",
       "      <td>250.000000</td>\n",
       "      <td>1</td>\n",
       "      <td>2.0</td>\n",
       "      <td>1.5</td>\n",
       "      <td>Manhattan</td>\n",
       "      <td>Chelsea</td>\n",
       "    </tr>\n",
       "  </tbody>\n",
       "</table>\n",
       "</div>"
      ],
      "text/plain": [
       "         TSNE1      TSNE2     TSNE3 price_category  \\\n",
       "15    1.345317  18.529942  2.506888         medium   \n",
       "173  -8.011493 -10.242352 -9.682402            low   \n",
       "179   0.389374  19.270704 -0.364709         medium   \n",
       "414  -3.799976   5.109456  3.913135         medium   \n",
       "471 -15.368417   8.520699 -3.223820           high   \n",
       "\n",
       "                                                 name      id  price  \\\n",
       "15   Chelsea Perfect  by Doti, an AIRBNB  Super Host!    7322  140.0   \n",
       "173                Chelsea Studio sublet 1 - 2 months   47370  125.0   \n",
       "179                       Prime Location in Manhattan   51572  123.0   \n",
       "414                 Chelsea living, 2BR best location  159913  150.0   \n",
       "471                 Comfort at Crossroads of Downtown  187986  250.0   \n",
       "\n",
       "     adjusted_price  minimum_nights  bedrooms  bathrooms  \\\n",
       "15       140.000000               1       1.0        1.0   \n",
       "173       41.666667               3       0.0        1.0   \n",
       "179      123.000000               1       1.0        1.0   \n",
       "414       75.000000               2       1.0        1.0   \n",
       "471      250.000000               1       2.0        1.5   \n",
       "\n",
       "    neighbourhood_group_cleansed neighbourhood_cleansed  \n",
       "15                     Manhattan                Chelsea  \n",
       "173                    Manhattan                Chelsea  \n",
       "179                    Manhattan                Chelsea  \n",
       "414                    Manhattan                Chelsea  \n",
       "471                    Manhattan                Chelsea  "
      ]
     },
     "execution_count": 7,
     "metadata": {},
     "output_type": "execute_result"
    }
   ],
   "source": [
    "plotly_data.head()"
   ]
  },
  {
   "cell_type": "code",
   "execution_count": 8,
   "metadata": {},
   "outputs": [],
   "source": [
    "import plotly.express as px"
   ]
  },
  {
   "cell_type": "code",
   "execution_count": 30,
   "metadata": {},
   "outputs": [
    {
     "data": {
      "application/vnd.plotly.v1+json": {
       "config": {
        "plotlyServerURL": "https://plot.ly"
       },
       "data": [
        {
         "customdata": [
          [
           140,
           1
          ],
          [
           123,
           1
          ],
          [
           150,
           2
          ],
          [
           350,
           3
          ],
          [
           275,
           2
          ],
          [
           380,
           3
          ],
          [
           50,
           1
          ],
          [
           125,
           2
          ],
          [
           250,
           2
          ],
          [
           190,
           3
          ],
          [
           140,
           1
          ],
          [
           349,
           3
          ],
          [
           179,
           2
          ],
          [
           265,
           3
          ],
          [
           125,
           2
          ],
          [
           70,
           1
          ],
          [
           375,
           3
          ],
          [
           176,
           2
          ],
          [
           175,
           3
          ],
          [
           125,
           2
          ],
          [
           248,
           2
          ],
          [
           595,
           3
          ],
          [
           159,
           3
          ],
          [
           555,
           3
          ],
          [
           161,
           2
          ],
          [
           200,
           2
          ],
          [
           200,
           3
          ],
          [
           75,
           1
          ],
          [
           225,
           2
          ],
          [
           189,
           3
          ],
          [
           199,
           3
          ],
          [
           215,
           3
          ],
          [
           285,
           2
          ],
          [
           395,
           3
          ],
          [
           221,
           2
          ],
          [
           150,
           1
          ],
          [
           159,
           1
          ],
          [
           119,
           2
          ],
          [
           225,
           3
          ],
          [
           180,
           1
          ],
          [
           350,
           2
          ],
          [
           275,
           3
          ],
          [
           289,
           2
          ],
          [
           165,
           3
          ],
          [
           300,
           3
          ],
          [
           175,
           1
          ],
          [
           390,
           3
          ],
          [
           150,
           2
          ],
          [
           195,
           3
          ],
          [
           149,
           2
          ],
          [
           300,
           2
          ],
          [
           159,
           1
          ],
          [
           275,
           3
          ],
          [
           160,
           2
          ],
          [
           199,
           2
          ],
          [
           360,
           3
          ],
          [
           325,
           2
          ],
          [
           250,
           3
          ],
          [
           200,
           3
          ],
          [
           150,
           1
          ],
          [
           175,
           1
          ],
          [
           175,
           1
          ],
          [
           109,
           2
          ],
          [
           199,
           2
          ],
          [
           275,
           2
          ],
          [
           165,
           3
          ],
          [
           250,
           3
          ],
          [
           145,
           2
          ],
          [
           163,
           3
          ],
          [
           250,
           2
          ],
          [
           105,
           1
          ],
          [
           250,
           2
          ],
          [
           150,
           1
          ],
          [
           199,
           2
          ],
          [
           150,
           2
          ],
          [
           230,
           2
          ],
          [
           100,
           1
          ],
          [
           260,
           2
          ],
          [
           99,
           1
          ],
          [
           200,
           2
          ],
          [
           150,
           2
          ],
          [
           150,
           2
          ],
          [
           500,
           3
          ],
          [
           150,
           1
          ],
          [
           215,
           3
          ],
          [
           195,
           1
          ],
          [
           170,
           2
          ],
          [
           118,
           2
          ],
          [
           210,
           2
          ],
          [
           175,
           3
          ],
          [
           245,
           3
          ],
          [
           490,
           3
          ],
          [
           175,
           1
          ],
          [
           250,
           3
          ],
          [
           385,
           3
          ],
          [
           400,
           3
          ],
          [
           100,
           1
          ],
          [
           129,
           1
          ],
          [
           220,
           2
          ],
          [
           160,
           3
          ],
          [
           240,
           2
          ],
          [
           193,
           1
          ],
          [
           130,
           2
          ],
          [
           180,
           3
          ],
          [
           100,
           1
          ],
          [
           150,
           1
          ],
          [
           100,
           2
          ],
          [
           180,
           1
          ],
          [
           98,
           1
          ],
          [
           195,
           2
          ],
          [
           375,
           3
          ],
          [
           100,
           2
          ],
          [
           280,
           2
          ],
          [
           250,
           2
          ],
          [
           200,
           3
          ],
          [
           159,
           3
          ],
          [
           175,
           3
          ],
          [
           145,
           2
          ],
          [
           175,
           1
          ],
          [
           81,
           1
          ],
          [
           120,
           1
          ],
          [
           180,
           1
          ],
          [
           120,
           2
          ],
          [
           130,
           2
          ],
          [
           119,
           2
          ],
          [
           70,
           1
          ],
          [
           65,
           1
          ],
          [
           84,
           1
          ],
          [
           70,
           1
          ],
          [
           110,
           1
          ],
          [
           175,
           1
          ],
          [
           179,
           3
          ],
          [
           225,
           2
          ],
          [
           165,
           3
          ],
          [
           249,
           3
          ],
          [
           100,
           2
          ],
          [
           125,
           2
          ],
          [
           195,
           3
          ],
          [
           75,
           1
          ],
          [
           100,
           1
          ],
          [
           150,
           2
          ],
          [
           200,
           2
          ],
          [
           100,
           1
          ],
          [
           105,
           2
          ],
          [
           154,
           2
          ],
          [
           275,
           3
          ],
          [
           165,
           3
          ],
          [
           70,
           1
          ],
          [
           325,
           3
          ],
          [
           150,
           1
          ],
          [
           155,
           2
          ],
          [
           185,
           2
          ],
          [
           150,
           3
          ],
          [
           210,
           2
          ],
          [
           145,
           2
          ],
          [
           199,
           2
          ],
          [
           350,
           3
          ],
          [
           125,
           1
          ],
          [
           90,
           1
          ],
          [
           250,
           2
          ],
          [
           150,
           3
          ],
          [
           185,
           1
          ],
          [
           250,
           2
          ],
          [
           215,
           3
          ],
          [
           90,
           1
          ],
          [
           110,
           1
          ],
          [
           193,
           2
          ],
          [
           120,
           1
          ],
          [
           179,
           3
          ],
          [
           300,
           2
          ],
          [
           200,
           3
          ],
          [
           120,
           1
          ],
          [
           265,
           3
          ],
          [
           125,
           1
          ],
          [
           149,
           2
          ],
          [
           181,
           1
          ],
          [
           60,
           1
          ],
          [
           150,
           3
          ],
          [
           330,
           2
          ],
          [
           128,
           1
          ],
          [
           110,
           2
          ],
          [
           95,
           1
          ],
          [
           115,
           1
          ],
          [
           196,
           3
          ],
          [
           233,
           2
          ],
          [
           195,
           2
          ],
          [
           130,
           2
          ],
          [
           125,
           1
          ],
          [
           99,
           1
          ],
          [
           239,
           3
          ],
          [
           160,
           2
          ],
          [
           289,
           2
          ],
          [
           190,
           1
          ],
          [
           100,
           1
          ],
          [
           139,
           1
          ],
          [
           250,
           2
          ],
          [
           57,
           1
          ],
          [
           95,
           1
          ],
          [
           105,
           1
          ],
          [
           69,
           1
          ],
          [
           200,
           2
          ],
          [
           219,
           2
          ],
          [
           200,
           2
          ],
          [
           180,
           3
          ],
          [
           250,
           2
          ],
          [
           150,
           1
          ],
          [
           350,
           2
          ],
          [
           399,
           3
          ],
          [
           200,
           3
          ],
          [
           130,
           2
          ],
          [
           135,
           2
          ],
          [
           400,
           3
          ],
          [
           175,
           3
          ],
          [
           189,
           2
          ],
          [
           299,
           2
          ],
          [
           105,
           2
          ],
          [
           155,
           2
          ],
          [
           100,
           2
          ],
          [
           150,
           2
          ],
          [
           275,
           3
          ],
          [
           200,
           2
          ],
          [
           200,
           2
          ],
          [
           128,
           1
          ],
          [
           500,
           3
          ],
          [
           110,
           2
          ],
          [
           162,
           3
          ],
          [
           195,
           1
          ],
          [
           250,
           3
          ],
          [
           154,
           2
          ],
          [
           165,
           3
          ],
          [
           435,
           3
          ],
          [
           95,
           1
          ],
          [
           200,
           2
          ],
          [
           100,
           2
          ],
          [
           99,
           1
          ],
          [
           165,
           2
          ],
          [
           175,
           2
          ],
          [
           110,
           2
          ],
          [
           95,
           1
          ],
          [
           250,
           2
          ],
          [
           400,
           3
          ],
          [
           485,
           3
          ],
          [
           400,
           3
          ],
          [
           159,
           3
          ],
          [
           200,
           3
          ],
          [
           150,
           3
          ],
          [
           155,
           2
          ],
          [
           91,
           1
          ],
          [
           225,
           2
          ],
          [
           299,
           2
          ],
          [
           200,
           3
          ],
          [
           109,
           2
          ],
          [
           229,
           3
          ],
          [
           135,
           1
          ],
          [
           115,
           1
          ],
          [
           285,
           3
          ],
          [
           260,
           3
          ],
          [
           152,
           1
          ],
          [
           205,
           3
          ],
          [
           110,
           2
          ],
          [
           450,
           3
          ],
          [
           115,
           1
          ],
          [
           150,
           3
          ],
          [
           115,
           1
          ],
          [
           75,
           1
          ],
          [
           299,
           2
          ],
          [
           150,
           2
          ],
          [
           98,
           1
          ],
          [
           96,
           1
          ],
          [
           186,
           3
          ],
          [
           185,
           2
          ],
          [
           199,
           3
          ],
          [
           70,
           1
          ],
          [
           250,
           2
          ],
          [
           250,
           2
          ],
          [
           150,
           3
          ],
          [
           190,
           3
          ],
          [
           100,
           2
          ],
          [
           200,
           2
          ],
          [
           100,
           1
          ],
          [
           99,
           1
          ],
          [
           179,
           3
          ],
          [
           225,
           3
          ],
          [
           199,
           2
          ],
          [
           299,
           3
          ],
          [
           175,
           3
          ],
          [
           250,
           3
          ],
          [
           250,
           2
          ],
          [
           119,
           1
          ],
          [
           150,
           2
          ],
          [
           155,
           3
          ],
          [
           165,
           2
          ],
          [
           230,
           2
          ],
          [
           175,
           3
          ],
          [
           120,
           1
          ],
          [
           225,
           3
          ],
          [
           240,
           2
          ],
          [
           77,
           1
          ],
          [
           150,
           2
          ],
          [
           350,
           3
          ],
          [
           250,
           2
          ],
          [
           167,
           2
          ],
          [
           225,
           2
          ],
          [
           200,
           3
          ],
          [
           500,
           3
          ],
          [
           225,
           3
          ],
          [
           91,
           1
          ],
          [
           288,
           3
          ],
          [
           135,
           2
          ],
          [
           69,
           1
          ],
          [
           320,
           3
          ],
          [
           225,
           2
          ],
          [
           175,
           2
          ],
          [
           100,
           1
          ],
          [
           299,
           2
          ],
          [
           189,
           1
          ],
          [
           200,
           3
          ],
          [
           350,
           3
          ],
          [
           180,
           1
          ],
          [
           220,
           2
          ],
          [
           550,
           3
          ],
          [
           175,
           1
          ],
          [
           250,
           3
          ],
          [
           170,
           3
          ],
          [
           114,
           1
          ],
          [
           250,
           3
          ],
          [
           175,
           1
          ],
          [
           139,
           1
          ],
          [
           350,
           2
          ],
          [
           261,
           2
          ],
          [
           133,
           1
          ],
          [
           130,
           1
          ],
          [
           80,
           1
          ],
          [
           299,
           3
          ],
          [
           68,
           1
          ],
          [
           300,
           2
          ],
          [
           300,
           2
          ],
          [
           190,
           3
          ],
          [
           299,
           2
          ],
          [
           190,
           3
          ],
          [
           275,
           2
          ],
          [
           180,
           3
          ],
          [
           100,
           1
          ],
          [
           86,
           1
          ],
          [
           200,
           2
          ],
          [
           220,
           3
          ],
          [
           100,
           2
          ],
          [
           250,
           3
          ],
          [
           180,
           3
          ],
          [
           500,
           3
          ],
          [
           215,
           2
          ],
          [
           180,
           1
          ],
          [
           65,
           1
          ],
          [
           149,
           2
          ],
          [
           80,
           1
          ],
          [
           150,
           1
          ],
          [
           140,
           2
          ],
          [
           149,
           2
          ],
          [
           295,
           2
          ],
          [
           83,
           1
          ],
          [
           300,
           2
          ],
          [
           250,
           2
          ],
          [
           185,
           2
          ],
          [
           115,
           1
          ],
          [
           110,
           1
          ],
          [
           154,
           2
          ],
          [
           162,
           2
          ],
          [
           130,
           2
          ],
          [
           225,
           3
          ],
          [
           250,
           2
          ],
          [
           250,
           3
          ],
          [
           100,
           2
          ],
          [
           265,
           3
          ],
          [
           380,
           3
          ],
          [
           159,
           3
          ],
          [
           195,
           1
          ],
          [
           300,
           3
          ],
          [
           140,
           1
          ],
          [
           275,
           2
          ],
          [
           245,
           3
          ],
          [
           599,
           3
          ],
          [
           499,
           3
          ],
          [
           89,
           1
          ],
          [
           499,
           3
          ],
          [
           447,
           3
          ],
          [
           447,
           3
          ],
          [
           249,
           2
          ],
          [
           299,
           3
          ],
          [
           500,
           3
          ],
          [
           330,
           3
          ],
          [
           305,
           3
          ],
          [
           195,
           3
          ],
          [
           88,
           1
          ],
          [
           290,
           2
          ],
          [
           120,
           1
          ],
          [
           110,
           2
          ],
          [
           175,
           3
          ],
          [
           399,
           3
          ],
          [
           249,
           3
          ],
          [
           350,
           3
          ],
          [
           223,
           3
          ],
          [
           225,
           3
          ],
          [
           105,
           1
          ],
          [
           105,
           1
          ],
          [
           350,
           3
          ],
          [
           170,
           3
          ],
          [
           300,
           2
          ],
          [
           225,
           3
          ],
          [
           150,
           3
          ],
          [
           299,
           2
          ],
          [
           299,
           3
          ],
          [
           225,
           3
          ],
          [
           175,
           1
          ],
          [
           189,
           2
          ],
          [
           149,
           2
          ],
          [
           298,
           3
          ],
          [
           140,
           1
          ],
          [
           200,
           2
          ],
          [
           195,
           2
          ],
          [
           190,
           3
          ],
          [
           190,
           3
          ],
          [
           199,
           1
          ],
          [
           190,
           3
          ],
          [
           388,
           3
          ],
          [
           350,
           3
          ],
          [
           104,
           1
          ],
          [
           100,
           1
          ],
          [
           180,
           2
          ],
          [
           180,
           2
          ]
         ],
         "hoverlabel": {
          "namelength": 0
         },
         "hovertemplate": "<b>%{hovertext}</b><br><br>price_category=medium<br>X=%{x}<br>Y=%{y}<br>Z=%{z}<br>price=%{customdata[0]}<br>minimum_nights=%{customdata[1]}",
         "hovertext": [
          "Chelsea Perfect  by Doti, an AIRBNB  Super Host!",
          "Prime Location in Manhattan",
          "Chelsea living, 2BR best location",
          "Hudson Yards with views of The Highline Park",
          "One-Bedroom/Madison Square Garden",
          "Spectacular Lux 1 Bed Apt, Best Location, Terrace!",
          "Beautiful Downtown Manhattan Share",
          "CLEAN PRIVATE ROOM IN CHELSEA NYC",
          "1 bedroom apt in heart of Chelsea",
          "Light & airy Chelsea NY 1bdrm apt",
          "Sunny & Clean Apt, Ideal Location",
          "Downtown Manhattan Luxury 1 Bedroom",
          "ON HIGHLINE! Private room & bath",
          "Union Sq European Serene apt",
          "1br in a 2br apartment in Chelsea (23/7)",
          "Bedroom for two in Chelsea",
          "Newly Renovated West Village + Bar",
          "Great Apartment with luxurious bath in NYC/Chelsea",
          "Entire home/apt in Chelsea New York",
          "Best Chelsea Street. Beautiful Room. Superhost.",
          "Perfect 1st Floor Brownstone in Meatpacking- 2 ppl",
          "Classy Penthouse with Amazing View!",
          "Charming, Quiet, & Clean 1BR APT",
          "Chelsea NYC luxury 2 bed/2 bath, garden apt",
          "Large Comfortable Studio in Chelsea",
          "1 BR in Luxury Chelsea Doorman Bldg",
          "Awesome Huge Studio - NYC Center",
          "The heart of Manhattan - NYC",
          "Urban Oasis in Chelsea",
          "Luxury studio",
          "Classic Chelsea Brownstone 1 Bedroom",
          "Chelsea HUGE apartment w/ King bed + office",
          "Beautiful 1 BR with Private Garden",
          "Chelsea Studio for Super Bowl!",
          "Modern Studio in Heart of Chelsea",
          "Super Cute Chelsea One Bedroom",
          "Trendy Apt by Chelsea Market with High Line Views",
          "Private Room in Large Two-floor Apt w/ Backyard",
          "Full 1 bedroom Apt in GREAT Locale",
          "Studio in Center of Chelsea",
          "Alcove Studio in Downtown Manhattan",
          "SPACIOUS  ARTIST LOFT IN CHELSA",
          "Panoramic Penthouse - 30% OFF",
          "Quiet 1BR in Chelsea",
          "ADORABLE 2BR in Chelsea!!",
          "Studio in the heart of Chelsea",
          "Beautiful apartment by Columbus Circle",
          "HUGE space at the heart of Meatpacking - Chelsea .",
          "Private Studio Near Union Square",
          "Quiet Sunny 1BR in Trendy Chelsea",
          "NYC Artists Loft in Chelsea",
          "Clean/Quiet Apt, Great Location, with washer/dryer",
          "Central 2 Bedroom in Chelsea",
          "BRIGHT BEAUTIFUL CHELSEA APT",
          "Awesome Chelsea 1 bedroom",
          "Chelsea High End Apartment",
          "Gorgeous 1 Bedroom in the heart of NYC: Chelsea",
          "Happy Chic Convenient New Listing!",
          "Well-kept Studio/♥ of Chelsea",
          "Two Bedrooms in Chelsea Apartment",
          "Stylish & New Chelsea Apartment",
          "Charming One Bedroom in Chelsea",
          "Sunny Private Bedroom in Chelsea",
          "One Bedroom Apartment in Chelsea",
          "Charming, true 1 bedroom",
          "Cozy&Central:EmpireState/Highline/Times Square",
          "Charming Two Bedroom in Chelsea 30 days+",
          "Beautiful one bedroom in Chelsea",
          "Sunny One Bedroom-Amazing Location",
          "2 Bedroom Apartment in Chelsea",
          "Cozy NYC Bedroom in the Best Manhattan Location!",
          "Amazing 2 Bedroom Chelsea",
          "Bedroom right in Chelsea!",
          "Studio apartment in the heart of Chelsea",
          "Best location! Chelsea/West Village/Meatpacking",
          "Cozy studio in the heart of Chelsea",
          "Cozy room in Chelsea",
          "Spacious 2 BR sun-filled apartment  in Chelsea",
          "Awesome Location with Best Commute",
          "Designer jnr 1 bedroom in Chelsea",
          "Unique Studio apartment in the heart of Chelsea!",
          "Private Apartment on Tree Lined Street in Chelsea",
          "Luxury 2200sf Two Bedroom Loft w/ Private Elevator",
          "New York Apt in the Heart of NY",
          "Renovated & Spacious Chelsea Studio",
          "Spacious Chelsea Private Bedroom",
          "Apartment in Chelsea btwn 6th-7th Aves",
          "Private Room in Downtown Manhattan",
          "Spacious Chelsea Penthouse w/roof!",
          "2 Bed apart in the heart of Chelsea",
          "I Love NY Studio Deluxe",
          "Spacious Chelsea Apartment w/Roof!",
          "Charming Chelsea Home",
          "Artsy Duplex in Chelsea w/ Terrace",
          "West Village/Meatpacking Loft!",
          "Chic, Modern 2 Bedroom in Bright, Airy High Rise",
          "Prime location Chelsea/Flatiron RM",
          "Chelsea 2-Bedroom Doorman Apt NEW",
          "Spacious Parisian style apartment",
          "Chelsea apartment with a backyard",
          "Beautiful One Bedroom Chelsea",
          "Luxury 1 Bed apt in the heart of chelsea",
          "Prime Chelsea 1BR Minimalist W16th",
          "Location, Location, Location Meat Packing District",
          "Chelsea NYC Shared Apartment",
          "Cozy 1 bdrm Chelsea/Meatpacking",
          "Chelsea studio",
          "High Luxury Thanksgiving Stay",
          "Prime Location in CHELSEA",
          "Great room in PERFECT location",
          "Chelsea / High Line Oasis",
          "Sunny 1 BR apt in West Chelsea",
          "Meatpacking - Luxury Brownstone",
          "Sunny 2 bedroom Apt (Chelsea)",
          "Lovely 1Br Near Highline! (+2 cats)",
          "Amazing Flatiron Entire Studio Apt",
          "Studio Apt at the Heart of Chelsea",
          "Easy 1 Bedroom in Chelsea",
          "Venerable Chelsea Loft (Small Br)",
          "Luxury High-Rise Manhattan Apt",
          "Cozy Studio in Excellent Location",
          "Chelsea Studio + Private Garden!",
          "Cool Chelsea studio for chilling!",
          "Heart Of Chelsea Family Vacation",
          "Stay in The Heart of NYC",
          "Room in Huge Union Sq Rooftop Apt!",
          "Chambre au coeur de Manhattan",
          "Small Room Double Bed and 25 x 15 ft livingroom",
          "Beautiful Apartment in Chelsea",
          "Private bedroom located in the heart of Chelsea",
          "Luxury bldg Near Flatiron- Chelsea",
          "Chelsea ,Duplex ,Calm ,Fantastic",
          "Spacious home in heart of NYC",
          "Bright and Charming in Chelsea",
          "Sunny 1BR apartment in Chelsea",
          "Cozy Chelsea Apt Great Location",
          "Sunny, Chelsea Manhattan apartment",
          "Comfortable Chelsea Oasis",
          "Great Modern Studio in Chelsea!",
          "LIVE HERE!! COZY STUDIO IN CHELSEA!",
          "Amazing entire apt on tree-lined st",
          "Giant Sun-filled Chelsea Studio",
          "Priv Rm w. Big Loft  Living Room across from FIT",
          "Charming Studio in West Chelsea",
          "Unique Studio in Chelsea",
          "Artsy Studio / 1 Bedroom in the Heart of Chelsea",
          "HOTTEST LOCATION! Cozy, convenient and chic.",
          "Cute Apt in the Heart of Chelsea",
          "Bright, spacious and quiet two-bedroom Chelsea apt",
          "Doorman Chelsea One Bedroom- Convenient and Fun!",
          "Beautiful Chelsea Apartment with many amenties",
          "Right in the center of Chelsea, quiet and private.",
          "Private room in a 2 Bedroom apartment - Chelsea",
          "Bright & Light Chelsea One Bedroom",
          "Chelsea’s Private, Quiet and Cozy bedroom",
          "Centrally Located One Bedroom Apt",
          "Idyllic Two Bedroom Apt in the heart of Chelsea",
          "Cozy Room in Chelsea",
          "Clean & Cozy Close to Macy's",
          "NYC Chelsea Neighborhood, Studio Apartment",
          "the shoebox, west chelsea",
          "Classic NYC: ENTIRE 1-BR in Spacious Chelsea Apt",
          "Summer home for families with baby + toddler",
          "Beautiful Alcove Studio in West Midtown",
          "BEST AREA IN CHELSEA. MODERN. COMPACT. HIGH LINE!!",
          "Bedroom in the heart of NYC",
          "Spacious, centrally located one-bedroom in Chelsea",
          "Private room for 1 or 2 in Chelsea. Prime location",
          "Artsy Duplex in Chelsea w/ Huge Terrace",
          "Meatpacking Triplex - A small home within NYC",
          "Charming Home in Chelsea",
          "Big room in the heart of Chelsea.",
          "Two-bedroom in the heart of Chelsea",
          "Cozy studio in Chelsea",
          "Chelsea Apartment/Flat- sleeps up to 4",
          "Cozy loft in Chelsea",
          "Amazing studio in the heart of chelsea!",
          "Studio in beautiful Chelsea - close to everything!",
          "Your point in Chelsea",
          "Sunny Chelsea Studio",
          "Charming Chelsea Studio",
          "AMAZING LOCATION - Heart of CHELSEA / Manhattan",
          "Super cozy room !CONVENIENT",
          "❤ART of Chelsea | 1bd rm | Walk/bike everywhere!",
          "Sunny Chelsea Oasis",
          "Charming Chelsea Townhouse 1 Bedroom Apartment",
          "Large, Sunny Studio in the heart of Chelsea.",
          "Awesome Chelsea Manhattan Pad",
          "Large comfortable room near Penn Station",
          "ACTOR PHILIP SEYMOUR HOFFMAN LIVED HERE",
          "Chelsea/Union Square cozy studio",
          "Chic Space in Chelsea",
          "2fireplcs,Garden,BBQ,wshr/dryer,JacuzTub,BIG Kitch",
          "LARGE ROOM IN HEART OF NYC (CHELSEA / FLATIRON)",
          "Quiet, Comfortable Studio in Chelsea/Village",
          "Home away from home in the heart of Chelsea",
          "Nicest Room in Manhattan - Chelsea Beauty",
          "Very quiet apt. on tree-lined West Chelsea street",
          "Quiet, tranquil room in the middle of everything!",
          "Private and Quiet Room in the Perfect Location",
          "Studio in Chelsea",
          "Luxury King Size Chelsea Apt Near MSG",
          "Entire, Immaculate 1-Bedroom CHELSEA APARTMENT",
          "CHARMING CHELSEA BROWNSTONE STUDIO NEAR HIGHLINE",
          "Luxury Studio, Large Private Terrace near Times Sq",
          "Chelsea Studio",
          "Spacious, Quiet, Cozy Art-Filled Chelsea Apartment",
          "Perfect Penthouse Duplex",
          "Bright and Comfortable Chic Chelsea 1-bedroom!",
          "Private, Cozy, & Conveniently located Chelsea Room",
          "Cozy studio in the heart of Chelsea!",
          "Charming Prewar Full Floor Apartment",
          "Newly renovated studio in Prime Manhattan location",
          "Chelsea/Flatiron 1-Bedroom Apt in Luxury Building",
          "NYC MADISON SQAURE GARDEN BRAND NEW , SLEEPS 6",
          "Large Private Room in Duplex- Chelsea",
          "Bright, Modern and Cozy Chelsea Studio!",
          "Chelsea Private Bedroom and Bathroom",
          "Charming One Bedroom Apt in West Chelsea",
          "AMAZING 2 bedroom in the heart of Chelsea!",
          "Spacious 1BR on the border of West Village/Chelsea",
          "Chelsea Condo near High line",
          "COZY STUDIO APT IN HEART OF CHELSEA",
          "Charming Townhouse duplex in Chelsea",
          "Bedroom and own bathroom in Chelsea apartment",
          "Studio Apartment in Chelsea",
          "Cozy Chelsea Apartment",
          "Beautiful apartment located in Chelsea!",
          "Cozy Studio Apartment in West Chelsea",
          "Private 1 bed 1 bath- Chelsea, Manhattan",
          "Eclectic studio steps from Highline Park Chelsea",
          "Fabulous Sun-kissed Room in Heart of Chelsea!",
          "High Line Sun Drenched Home",
          "Room in Chelsea",
          "Midtown Manhattan shared Apartment,Prime Location",
          "The Solstice - A One Bedroom Apartment",
          "Quiet and private in the heart of Chelsea.",
          "Chelsea Newly Renovated Private Bedroom",
          "Adorable room in AMAZING Chelsea apartment!",
          "Spacious, Cozy & Quiet Chelsea Designer Apartment",
          "Sunny, Spacious Apartment in the Heart of Chelsea",
          "Luxury Chelsea penthouse w private terrace & view!",
          "Timeless West Village Townhouse with Garden",
          "Sun kissed, loft studio in the heart of Chelsea",
          "In the heart of Chelsea and downtown",
          "Perfect Manhattan Studio Apartment - Quiet Street",
          "Brand-new Luxury apt. Stunning views by Penn st.",
          "Sunny, Spacious Room in the Heart of Chelsea",
          "Spacious, Bright 1 BR in Prime Midtown West",
          "Boutique Luxury in the Heart of Chelsea",
          "Chelsea 1 Bedroom Gem!",
          "Spacious Studio with Private Roof",
          "Light & Quiet Chelsea One Bedroom",
          "Cosy Apartment in the Heart of Manhattan",
          "Private Room B In Prime Location",
          "Simple stay in heart of Chelsea / Meatpacking",
          "Luxury apartment right in the center of Manhattan",
          "Large 1-bedroom in Chelsea (unfurnished)",
          "Millions of View Luxury Apartment In Manhattan",
          "Cozy, impeccable, sunlit West Village studio",
          "Spacious & Sunny 2BD / 2BTH in Chelsea, Manhattan",
          "Cozy New York Apartment",
          "Furnished Bedroom Meat Packing District",
          "Private Apartment in Chelsea",
          "Free bottle of wine with stay!",
          "The Grove - A Luxury One Bedroom Apartment",
          "Bright Meatpacking Studio",
          "Big Private Room in the Hudson Yards Area",
          "Spacious one bedroom apartment in Chelsea",
          "**Spacious 47th-Floor Apt** Convenient Location",
          "Chelsea Studio Steps from Madison Square Garden",
          "*Location, Location | Chelsea | Meat Packing*",
          "Cheap Rental in Manhattan Downtown!",
          "Bright & Cozy Studio in PRIME Flatiron/Chelsea",
          "Bright and modern New York apartment",
          "West Chelsea MINI",
          "Beautiful Modern and Cosy 1BR in Chelsea",
          "Sunny and Zen room in Chelsea",
          "Super Charming 1 Bedroom  in the Heart of Chelsea",
          "Modern, Fresh Chelsea, Athenas Apartment Room",
          "Cozy, Confortable,  Modern spacious and nice Room",
          "Quiet Cozy Chelsea Studio",
          "Spacious & minimal pre-war apartment",
          "Chelsea Studio Apt",
          "Beautiful and clean 2BR in prime Chelsea",
          "Beautiful Studio in Nomad/Flatiron",
          "Extremely large 1 bed in West Chelsea- Highline",
          "Super Nice, Quiet Modern 1 Bedroom in Chelsea",
          "Gigantic Private Space near 5th Avenue. Great deal",
          "Charming room in Chelsea",
          "曼哈顿帝国大厦/Time square",
          "曼哈顿/帝国大夏/ time square【2】",
          "Chelsea Proper",
          "Large 1 Bedroom in the Heart of New York City",
          "Chelsea Apartment",
          "Quality accommodation in a prime location!",
          "Bright, Modern, King Size 1-Bedroom in Chelsea!",
          "Charming Chelsea Bedroom steps from Highline Park",
          "Studio Gem in Heart of Manhattan (Chelsea)",
          "Highline Hudson Yards Studio",
          "Charming Chelsea Bungalow w/ Large Outdoor Terrace",
          "Cozy Chelsea Downtown Studio w/ Private Backyard",
          "Lovely, sunny & quiet 1br Chelsea apt w/balcony",
          "Chelsea Cabin",
          "Chelsea's best kept secret",
          "New York Chelsea Apartment",
          "Sun-filled Apartment in Great Location",
          "Pretty and cozy 2BR apartment in Chelsea",
          "+AAA Chelsea_global inspired  location. Large room",
          "Cosy Midtown New York Place, Ideal for 1 Person!",
          "Warm and Cozy two bedroom in prime Chelsea",
          "Chelsea Apartment",
          "Cozy 1 bed in amazing NYC location! (Chelsea)",
          "Neon Dreams - Private Bedroom in Chelsea",
          "Modern & trendy serenity—great High Line location",
          "1 bedroom apartment in Chelsea",
          "New York Chelsea Art Apt.",
          "Luxurious apartment with spectacular city views",
          "Private Studio Chelsea 23 x 8th Ave 30sec to train",
          "Bright and stylish 1 bedroom",
          "Newly Renovated, Spacious and Comfort Galore",
          "Adorable Chelsea Studio in best neighborhood!",
          "Cheery Chelsea Charmer... best location!",
          "CHELSEA HUDSON YARDS HIGHLINE ADORABLE APARTMENT",
          "beautiful apt. in Chelsea w/ a doorman",
          "In the heart of the city!",
          "Lovely studio next to Penn Station ,",
          "Glamorous studio in Chelsea",
          "Bedroom in Massive Loft Apartment",
          "⭐$1.6 MILLION CHELSEA FLAT⭐LUXURY AND LOCATION!",
          "☆Cozy bedroom in Midtown | 1min to 4 subway lines☆",
          "☆Charming bedroom, 5min to Empire State Building☆",
          "Sunny Bedroom in Chelsea Beauty!",
          "Gorgeous and spacious 1 BR in Nomad new listing",
          "Perfect location in Manhattan",
          "Elegant 2 bedroom in Chelsea",
          "Contemporary 2 bed with an Artistic Edge",
          "The perfect NYC flat in the Meatpacking / Chelsea",
          "Large Private Furnished Patio + Cozy Indoors",
          "Luxury NEW two level suite (Duplex) in Chelsea",
          "Stylish One Bedroom in Chelsea",
          "Private Studio apartment in the WV-Street Level",
          "Room in a beautiful chelsea apt. w/ doorman",
          "Lower manhattan 1 bedroom short or long term",
          "Vibrant Chelsea 1 bdrm sleeps  4",
          "Manhattan studio 7",
          "Modern NYC Apartment",
          "Spacious Studio with Amazing Views",
          "SPACIOUS BRIGHT & COZY 1BR in CHELSEA MANHATTAN",
          "Luxury Modern Artist Chelsea Apartment",
          "Super Luxury! XL Alcove Studio in heart of Chelsea",
          "Shared Apartment - 1 Bedroom",
          "Cozy Chelsea Apartment",
          "Vintage 3BR Chelsea Loft! Best Location!",
          "曼岛中城 切尔西区CHESEA  21街 闹市中静怡如家的空间",
          "Israeli Stay NYC",
          "Private bedroom in heart of Downtown Manhattan",
          "Immersive Chelsea's Art House! Great Location!!",
          "Bright Luxury 1 Bedroom next to the Highline!",
          "Large Chelsea Bedroom!",
          "Charming and Luxury 1 Bedroom Apartment",
          "Spacious, sunny 2 bedroom Chelsea apartment!",
          "Less is More - in West Chelsea",
          "Beautiful Chelsea townhouse bedroom",
          "Beautiful Chelsea Townhouse bedroom",
          "Cozy studio in Chelsea NYC",
          "Private & Quiet Oasis in the Center of NYC",
          "Manhattan/帝国大夏/ time square【3】",
          "Luxury High Rise with Private Balcony",
          "Private studio next to Penn",
          "Lovely Hudson Yards Stonehouse near Penn Station",
          "Affordable Studio Close to All the Action",
          "Entire 3 Bedroom in Central Chelsea Location",
          "Amazing 3BR Apartment - Incredible Location",
          "*Charismatic 1 BR Apartment in Heart of Chelsea*",
          "GORGEOUS WEST CHELSEA TWO BEDROOM with roof deck!",
          "Chelsea gem in the middle of Manhattan.",
          "★Spacious bedroom in Midtown | Centrally Located★",
          "Large 1 Bedroom Apartment in Chelsea",
          "Charming Garden Flat in the Heart of Chelsea",
          "Mid-Century Modern 6 Mil Chelsea Townhome",
          "AMAZING 2 BEDROOMS IN HEART OF CHELSEA!!!",
          "Private Room in the Heart of Chelsea",
          "AMAZING 3 BDRM IN MEATPACKING/CHELSEA/HIGHLINE!!",
          "AMAZING 5 BEDS CHELSEA/MEATPACKING. BEST LOCATION!",
          "AMAZING 2 BEDS IN MEATPACKING/CHELSEA MARKET!!",
          "⚡Stylish Apt in Trendy Location!! ⭐",
          "Spacious and stylish 2BR in NoMad - brand new",
          "3 Bedroom by MSG + Empire State",
          "Luxury 2 BR Home in Hudson Yards",
          "Amazing 2 Bedroom Apt in Prime Chelsea",
          "Beautiful Chelsea Entire Two Bedroom Apartment",
          "Chelsea room near Highline",
          "Spacious 1 Bedroom in the heart of Chelsea",
          "Beautiful Bedroom in the Heart of New York",
          "Blissful Private Room in Chelsea",
          "Great studio located in Heart of Chelsea",
          "AMAZING ONE BED IN MEATPACKING/CHELSEA MARKET!!",
          "PRIVACY CHELSEA BEAUTY WITH PRIVATE ENTRANCE",
          "Luxury Penthouse  – Chelsea – Manhattan",
          "Sunny, quiet 2 BR apt in the heart of Manhattan",
          "Bright Chelsea Entire 2 Bedroom Apartment",
          "Quiet Bedroom in Modern Chelsea Apartment",
          "Private Room + Outdoor Space in Modern Chelsea Apt",
          "Astonishing Nomad Apt in the Center Of Manhattan",
          "Perfect location, beautiful apartment in the City",
          "Luxury Chelsea Studio",
          "New Studio Great Location in NYC",
          "Private queen bedroom next to Empire State Bldg",
          "2bed Home on Quiet Block Right by The Action",
          "SUPER COZY 2 BEDS IN BEST PART OF CHELSEA!!",
          "Clean One Bedroom",
          "Amazing rare duplex with two balconies in Chelsea!",
          "Modern and spacious studio apartment w/ elevator!",
          "Studio in the heart of Chelsea Manhattan",
          "Best View Modern Luxurious Huge 1BR in HudsonYards",
          "THE BEST VIEW AND LOCATION in Midtown",
          "Sparkling Clean Chelsea Studio Apartment",
          "One bedroom in Chelsea - Highline",
          "#Charming 1BR apt, Penn Station..",
          "Great Flat in Chelsea..",
          "Luxury Private Home NYC Connection",
          "Charming 1BR apt, Penn Station",
          "Luxury 1 bed with Views,",
          "Charming apartment in Chelsea",
          "Large, beautiful townhouse in Chelsea (Manhattan)",
          "Beautiful huge private room",
          "Beautiful Studio Apt in K-TOWN",
          "Amazing Studio Apt in the area of K-TOWN"
         ],
         "legendgroup": "price_category=medium",
         "marker": {
          "color": "#636efa",
          "opacity": 0.9,
          "symbol": "circle"
         },
         "mode": "markers",
         "name": "price_category=medium",
         "scene": "scene",
         "showlegend": true,
         "type": "scatter3d",
         "x": [
          1.3453171999999998,
          0.38937438,
          -3.7999758999999997,
          -4.9752812,
          1.8010125,
          -18.482132,
          -3.6804662000000006,
          -12.866611,
          -13.288784,
          15.320735,
          -11.321188000000001,
          -11.325981,
          2.2708647,
          0.45852622,
          1.8996872999999999,
          0.6941968000000001,
          -12.233958,
          0.5684803,
          -13.683723,
          14.041185999999998,
          -9.492655000000001,
          9.654693,
          -5.62392,
          10.801135,
          -11.3316765,
          -18.187387,
          -10.474242,
          3.4021334999999997,
          3.856496,
          -12.07056,
          3.6042936,
          -12.808845,
          -10.249991,
          -16.486265,
          5.6106443,
          9.243363,
          5.442531,
          -5.7942023,
          -11.909936,
          -7.813867999999999,
          -15.873687,
          5.3952160000000005,
          -16.384933,
          -9.562014999999999,
          -12.75844,
          -16.655554000000002,
          -16.305243,
          -17.85991,
          -16.653147,
          -17.052843,
          -17.78197,
          -6.7639894,
          -11.695319,
          8.2060375,
          -1.806818,
          -17.106582999999997,
          -11.739417,
          -18.83653,
          -12.406821,
          -14.258007999999998,
          -6.9246229999999995,
          -12.929578999999999,
          -15.558086,
          -2.563459,
          -18.010319,
          4.369344,
          6.277215,
          -5.0923905,
          -17.60945,
          -15.154871,
          8.113007000000001,
          -15.169882000000001,
          -14.378114000000002,
          -12.526069999999999,
          -2.034487,
          -13.593785999999998,
          -7.090117,
          -13.77418,
          0.8101596,
          -12.387881,
          6.93881,
          12.361463,
          -18.046415,
          -14.126487,
          -11.745882,
          -13.091700999999999,
          -4.134124,
          4.219993,
          -8.932705,
          -11.689300999999999,
          19.712877,
          -9.083060000000001,
          -15.588442,
          -20.124798000000002,
          -16.677495999999998,
          9.796888000000001,
          -12.4993725,
          -18.502523,
          -16.321735,
          -16.591413,
          -16.589542,
          8.166208000000001,
          -9.376430000000001,
          -11.084859,
          -7.6601872,
          -11.593891000000001,
          4.670417,
          -14.014242999999999,
          -5.0925303,
          -12.779477,
          -10.666756,
          -8.973896,
          -11.897585000000001,
          -10.704398,
          -18.05846,
          -15.632045999999999,
          -9.126546000000001,
          -19.213202,
          -5.8201279999999995,
          -11.758669,
          -18.9402,
          -9.316444,
          -15.029397,
          -12.518125,
          -3.7341559999999996,
          -11.722934,
          -9.378086999999999,
          9.239889999999999,
          -11.777075,
          -2.011711,
          -13.434184,
          7.7969637,
          -11.78249,
          -4.1895366,
          -14.520323999999999,
          2.9962566,
          -8.741004,
          -10.707555000000001,
          0.9687503000000001,
          0.77159315,
          -4.765826000000001,
          -14.197329000000002,
          11.755773,
          -13.111885999999998,
          -3.9871898,
          -14.18009,
          -13.168019000000001,
          -7.184359,
          -2.8277197,
          -11.849012,
          -7.1341715,
          11.461276,
          -7.426653,
          -4.38847,
          -0.62045026,
          -10.545268,
          -3.000397,
          -3.8184955,
          -8.904321000000001,
          18.707047,
          10.427665,
          -9.78471,
          -6.7138963,
          10.418766999999999,
          9.608589,
          9.228108,
          -6.146913,
          -4.9633884,
          -9.419072,
          -10.447939,
          -10.921084,
          -8.766437,
          -9.863275999999999,
          -10.352394,
          -2.8224687999999998,
          3.071672,
          -3.9531815000000003,
          -13.534931,
          2.409131,
          -16.086056,
          6.1755247,
          11.515957,
          -11.437956,
          12.694025,
          3.0439715,
          -1.2644615,
          4.373256700000001,
          -6.665374000000001,
          9.222835,
          12.604069,
          -10.521558,
          -3.0496554,
          -1.414962,
          -3.7286918,
          9.531008,
          -12.0887,
          -12.022081,
          -1.1900438999999998,
          9.083061,
          9.091747,
          5.684851999999999,
          -5.45292,
          -9.213416,
          10.974381,
          -11.87963,
          2.4630764,
          5.649609,
          18.169912,
          -9.205243,
          1.6331562,
          -0.6281296999999999,
          1.2773683,
          -14.307635999999999,
          -3.0496478,
          8.182148,
          -5.911666,
          -3.3366413,
          -5.954091,
          0.19948862,
          -1.6201864,
          -9.627978,
          2.205891,
          7.088112400000001,
          -8.25876,
          -6.3279815,
          -3.6671453,
          11.406972999999999,
          2.1865857,
          -5.033713,
          13.945648,
          -9.932691,
          6.833272999999999,
          7.2127232999999995,
          -12.487759,
          3.0648348,
          14.5723095,
          8.157303,
          -8.251752999999999,
          -2.6259662999999995,
          -5.736656,
          14.034721,
          -7.1475186,
          -2.9824026000000003,
          8.705703,
          -3.1229258,
          -6.5330753,
          -5.811054,
          -1.7380311000000002,
          5.924905,
          5.888099700000001,
          18.411072,
          -0.33182976,
          -2.7406313,
          -9.850635,
          9.976894,
          9.405046,
          -9.818419,
          8.566256,
          2.1857580000000003,
          -3.59635,
          8.36314,
          1.1922916000000001,
          3.2419941000000003,
          -1.9225720000000002,
          -9.556429,
          0.059532005,
          -10.884793,
          -9.151827,
          -12.183835,
          -10.934614999999999,
          -1.3183241,
          11.842125,
          2.4523029999999997,
          6.4434156,
          6.488907299999999,
          10.473834,
          -10.52565,
          2.6906908,
          13.042579,
          -2.5360587000000003,
          -2.5593114,
          2.8021276000000004,
          -4.3846207,
          -5.716792,
          12.336943,
          -6.791042299999999,
          -8.904196,
          7.863371400000001,
          20.584652,
          8.434479,
          18.224897,
          17.978796,
          1.8833567,
          1.1320264,
          -0.7302441999999999,
          -2.7679935,
          -4.3282894999999995,
          -11.46355,
          -4.4450199999999995,
          -5.951129,
          7.643006,
          10.172028,
          6.436829,
          -8.0053005,
          18.418552,
          1.1678808,
          6.844852,
          5.94538,
          9.89759,
          1.5991232,
          5.9786019999999995,
          15.596591,
          4.937239599999999,
          7.887995200000001,
          -4.004575,
          3.0118522999999997,
          -6.2228956,
          0.13206483,
          -8.162476,
          13.529235,
          -1.505833,
          10.579101,
          -4.306838,
          14.622532000000001,
          1.9649130000000001,
          10.366296,
          -0.35340947,
          9.394634,
          -4.1974993,
          17.056168,
          7.1904163,
          7.191544500000001,
          -0.9324752000000001,
          4.3737260000000004,
          -2.0378842,
          0.51791817,
          0.48592764,
          -2.7879846,
          15.394677,
          5.3197074,
          14.799398000000002,
          10.8001175,
          2.2566585999999997,
          1.3124708999999999,
          14.288841,
          2.3146846,
          5.2461433,
          -1.1625963,
          -1.8628468999999996,
          2.0976782000000003,
          -4.797368,
          -10.974298,
          -14.243355,
          8.337129,
          9.873424,
          -1.6071995000000001,
          0.04522536,
          -0.43817794,
          13.722558,
          3.9051400000000003,
          -8.416905999999999,
          -1.2121773999999998,
          -4.437468,
          18.131975,
          18.161697,
          -7.5567025999999995,
          13.739196,
          18.134498999999998,
          -11.68502,
          -3.0680153,
          -2.288241,
          6.3460160000000005,
          9.672114,
          2.003073,
          -1.2557453,
          -4.72098,
          9.195711,
          7.1907277,
          4.675908,
          1.6505903999999998,
          4.288298999999999,
          9.524372999999999,
          -0.45768159999999997,
          2.2762187000000003,
          2.2634459,
          2.3036819,
          -6.764469999999999,
          0.9926586,
          15.350525,
          6.606292999999999,
          8.117788000000001,
          8.416265,
          5.612122,
          -0.49925733,
          -1.5326456,
          -3.4560804,
          -1.4664772,
          1.1563341999999999,
          10.603622,
          -11.212542,
          -2.6308792000000003,
          5.328281400000001,
          3.581111,
          3.5757112999999996,
          8.704595,
          -9.415019000000001,
          -11.654914999999999,
          -1.3218461000000001,
          2.893077,
          2.5047696,
          2.32013,
          -10.718351,
          1.8938583999999998,
          -1.6369832,
          -2.6195009999999996,
          6.450293,
          7.08692,
          4.1879506,
          8.526703,
          19.913079999999997,
          7.3346276,
          7.451954400000001,
          19.254618,
          15.079010999999998,
          -7.143745399999999,
          3.111577,
          -0.48538919999999997,
          2.2498803,
          2.2180974
         ],
         "y": [
          18.529942000000002,
          19.270704000000002,
          5.109456,
          16.95117,
          0.9976563,
          3.4267241999999998,
          18.988419,
          -5.1247444,
          -2.3674395,
          3.0549586,
          -8.943552,
          10.2803545,
          18.504402,
          18.290995000000002,
          11.089286999999999,
          17.964743,
          10.294209500000001,
          14.223903,
          -12.03411,
          14.309188,
          10.800758,
          17.239342,
          8.469536,
          11.218335,
          16.121357,
          5.777721,
          13.188574,
          14.338479000000001,
          6.406817,
          6.332698000000001,
          14.6625,
          10.642342999999999,
          9.626225,
          1.9933336,
          13.984371,
          7.929138000000001,
          14.105138,
          12.985299000000001,
          12.678185000000001,
          -10.304616000000001,
          4.718982700000001,
          14.290641,
          -3.4822047,
          13.575181,
          -10.912410000000001,
          5.5896300000000005,
          -1.4729292,
          4.917772,
          8.286946,
          5.552645,
          3.740913,
          15.933974,
          13.621410999999998,
          15.588923000000001,
          0.13218907,
          4.397837,
          10.055887,
          10.43554,
          10.1383095,
          -3.0122763999999997,
          -10.513936,
          -11.923614,
          -0.16293126,
          13.277628,
          0.27302158,
          16.332542,
          10.248433,
          -5.9275400000000005,
          4.9093103,
          -1.999654,
          6.922194,
          8.167598,
          -2.4065406000000005,
          2.9054704,
          14.614635,
          0.008877346,
          -14.110385999999998,
          11.258337,
          -12.060365,
          10.125497,
          11.747875,
          3.5752208,
          -1.019533,
          -3.2161982000000005,
          10.456824000000001,
          -3.2420971,
          -2.6223363999999996,
          14.36795,
          9.011571,
          -0.6076366999999999,
          6.118057299999999,
          14.768139000000001,
          2.2960648999999997,
          11.135765,
          3.8284402,
          16.290423999999998,
          -3.679307,
          0.29603523,
          1.8001976000000002,
          5.828507,
          1.3347461999999999,
          16.916367,
          14.642449,
          13.514084,
          -15.178391,
          -1.8240428,
          1.3744079,
          6.7439103000000005,
          -15.052707999999999,
          -3.616175,
          12.965516000000001,
          -1.5233971000000002,
          8.961819,
          13.806184,
          5.4777846,
          2.023792,
          14.165227999999999,
          7.664397200000001,
          -1.3478099,
          4.328461,
          5.914353,
          9.405491,
          -7.888719999999999,
          -5.013758,
          7.683736,
          -3.3376124,
          -1.07587,
          1.3666853,
          -2.4344912,
          5.6152225,
          -4.075268,
          10.943067999999998,
          9.279752,
          -1.9606874,
          5.4068613,
          12.080895,
          0.60475487,
          7.8669305,
          0.95325756,
          0.8344511,
          -1.814947,
          7.835577499999999,
          -2.0190495999999998,
          -7.7424293,
          14.272877,
          5.3560724,
          11.161636999999999,
          4.1839303999999995,
          -7.46815,
          10.715931,
          -9.890471,
          17.844675,
          1.113577,
          -2.1142027000000003,
          14.6389475,
          2.5994081,
          -10.076497,
          -5.129436,
          3.0164928,
          13.487997,
          2.7878125,
          0.25537923,
          4.145497,
          10.25937,
          7.242978599999999,
          13.17941,
          -4.906904,
          8.542558,
          9.404531,
          13.737682999999999,
          7.1264286,
          -8.385117999999999,
          12.017124,
          -9.497793,
          -5.097763,
          0.8530796999999999,
          -4.505939,
          6.1394525,
          -4.707852,
          4.529705,
          5.276986,
          0.029176857,
          -8.146123,
          1.2815626,
          -2.3627472000000003,
          1.4810268,
          7.6032734,
          -9.728135,
          13.063208,
          5.3261647000000005,
          -12.280247,
          9.0908785,
          -3.4678942999999998,
          2.5949798,
          -6.0970515999999995,
          -12.760852,
          4.2187295,
          -1.9845621999999998,
          12.882385000000001,
          12.873483,
          9.615877000000001,
          12.693896,
          9.168168,
          6.2333,
          1.7519711,
          -19.585361,
          18.757133,
          6.5380235,
          8.555091000000001,
          11.51862,
          -7.7741194,
          -2.4418812,
          4.9895163,
          -4.369807700000001,
          12.68641,
          -13.905543,
          -5.082231,
          -10.12531,
          -2.0281327,
          5.1993566,
          13.93714,
          -9.074897,
          -4.544658,
          3.796871,
          5.4519663000000005,
          7.2992716,
          1.8954445,
          -2.6545045,
          0.91810536,
          -2.5339477,
          2.6275077000000002,
          -17.67895,
          -6.125538,
          2.480459,
          -5.9151607,
          0.31523955,
          -1.0171858,
          5.4685654999999995,
          -13.681951500000002,
          9.175872,
          6.2973914,
          -9.062654499999999,
          -7.8940716,
          -8.204174,
          -2.5411105,
          9.920785,
          1.5672609,
          -10.820922999999999,
          14.303013,
          5.493355,
          0.676672,
          -7.2975745,
          -3.8858786,
          1.3501039,
          -2.8048672999999997,
          3.2478714,
          11.541742999999999,
          -7.7630906,
          -7.2278385,
          2.7376169999999997,
          5.933519400000001,
          -19.055323,
          -9.327010000000001,
          -9.612789,
          -11.459845,
          -5.236201,
          -12.021606,
          4.7614255,
          5.751336,
          6.846443700000001,
          -8.040218,
          1.5026795,
          -10.706145,
          4.452149400000001,
          5.580035,
          2.776684,
          6.8913,
          7.482149000000001,
          1.2118288000000002,
          -13.999929000000002,
          -13.996959,
          14.879885,
          -5.1004366999999995,
          0.6884607,
          -0.08373812,
          -10.473514,
          5.5395255,
          -6.3483410000000005,
          8.344569,
          -10.925445,
          -4.623672,
          -4.7916756,
          -6.816457300000001,
          -2.5317872,
          -13.770396,
          0.24348041,
          7.000022,
          -0.75028175,
          8.667644000000001,
          -6.922183,
          6.390439499999999,
          1.9785043000000002,
          14.713657000000001,
          11.223756,
          3.3005002,
          -6.512839,
          -14.84724,
          -6.426894,
          -15.974839000000001,
          -5.9551563,
          -6.4878086999999995,
          2.2764688,
          12.528507000000001,
          -3.8429883,
          7.239024000000001,
          14.8640175,
          -3.7106260000000004,
          -9.560545,
          -2.2650063,
          0.42661235,
          -0.36572117,
          1.9300868999999998,
          10.39513,
          -0.8459216999999999,
          -18.404366,
          0.5305781999999999,
          -4.0304585,
          -7.573428,
          1.0390452,
          0.53827673,
          -4.7656364,
          -4.8086696,
          -9.006244,
          -5.4917355,
          -11.450333,
          -4.6969185,
          -4.6934905,
          -7.9507685,
          -0.78322154,
          11.543698,
          1.2752868999999998,
          -0.3634594,
          -18.200418,
          -12.704523,
          0.47367653,
          -12.283797999999999,
          7.045926,
          -12.919505000000001,
          -7.316453999999999,
          -6.865729300000001,
          2.8652158,
          2.337081,
          8.902372999999999,
          -3.8607366,
          -4.43055,
          6.9937195999999995,
          -8.940392,
          -3.8320029000000004,
          -0.19485986,
          -1.5895274,
          0.5464901999999999,
          -8.058422,
          -4.744632,
          -3.3148258000000004,
          -3.3022443999999997,
          7.5309405,
          0.9111232,
          -4.6505904000000005,
          15.639515,
          -14.448807999999998,
          -4.854882,
          -8.825942999999999,
          -8.618507000000001,
          -4.113828,
          -5.4222155,
          3.33742,
          1.3027925,
          -4.764124400000001,
          14.796516,
          -4.675523,
          -7.871214999999999,
          -5.5882597,
          -1.5450491000000002,
          -4.4744167,
          -4.4726989999999995,
          -4.476871,
          14.603720999999998,
          -6.544367,
          0.47536388,
          -4.7997303,
          -3.7324572,
          -6.1196322,
          -15.202498,
          -8.288443,
          -12.078273,
          -11.926393,
          -8.174728,
          -7.795122,
          0.9999608,
          4.000112000000001,
          -3.354543,
          -6.491198000000001,
          -6.2428254999999995,
          -6.250676599999999,
          -6.729792999999999,
          2.2115989,
          15.928111999999999,
          -11.778707,
          -13.686881,
          -5.202186,
          -4.476348000000001,
          6.7736925999999995,
          -6.000698000000001,
          -6.6226625,
          -12.598684,
          -4.8873887,
          0.49137179999999997,
          -2.0594497,
          -7.201859,
          -0.0033592603000000003,
          10.821171000000001,
          -4.826997,
          -0.024034556000000002,
          4.5188,
          2.5222695,
          -13.387898999999999,
          -11.436419500000001,
          -5.0233099999999995,
          -5.001531
         ],
         "z": [
          2.5068882,
          -0.36470884,
          3.9131348,
          -6.160468,
          13.901056,
          -4.686839,
          -7.828578500000001,
          -1.2228223999999999,
          -5.6922274,
          -10.711421000000001,
          -8.051,
          3.7386985,
          1.2374058000000001,
          -0.24185851,
          5.079662,
          -3.762051,
          3.3239739999999998,
          2.6744567999999997,
          9.402307,
          4.666355599999999,
          4.256436,
          -3.9333562999999994,
          -10.060344,
          3.1919415,
          1.707191,
          7.090631,
          -4.580487000000001,
          -6.679116199999999,
          -1.0758603999999998,
          3.5067065000000004,
          4.4759307,
          7.105702000000001,
          4.617557499999999,
          -8.456017999999998,
          6.059634,
          -1.4424533000000002,
          5.802253,
          -16.772314,
          2.2494535,
          -8.6654,
          5.652743,
          8.613126,
          -6.939164999999999,
          -4.454262,
          7.8016744000000005,
          5.1020080000000005,
          -6.0532045,
          -7.3854809999999995,
          -8.65545,
          -8.417491,
          -8.000059,
          -4.997117,
          4.4684873,
          0.47058618,
          11.162061999999999,
          5.269204,
          -10.426336000000001,
          3.4751108,
          -9.739022,
          7.119222,
          -8.910224000000001,
          4.7189927,
          8.162034,
          -8.503762,
          -6.327738,
          3.6598105000000003,
          8.680071,
          7.3544054,
          5.6191406,
          -2.6897187000000002,
          8.515439,
          -10.800310000000001,
          5.502815200000001,
          -6.767286,
          -2.84393,
          -2.615827,
          -4.5742908,
          -3.718915,
          4.7172747,
          10.224945,
          -1.3048084,
          -6.930033,
          -5.1282935,
          6.190815,
          0.0756304,
          -10.296056,
          11.830428,
          -6.560242999999999,
          -13.230132000000001,
          -6.4505057,
          3.8438,
          -4.8913765,
          -10.563238,
          4.9738765,
          0.039885744,
          0.85130686,
          -9.736702000000001,
          1.9177623,
          -8.861145,
          -5.3017273000000005,
          -9.2876215,
          2.101854,
          -4.237216,
          -4.303511,
          -2.9650755,
          -6.976216,
          0.37177417,
          -3.7861216,
          -6.685687,
          -10.074591999999999,
          3.2505906,
          -2.125394,
          -3.082622,
          -8.8406315,
          9.27988,
          2.7302966,
          -8.127122,
          12.071617999999999,
          -9.020091,
          -12.877968,
          11.003835,
          -8.130183,
          3.808404,
          -0.7726965,
          6.7643933,
          -15.873163,
          -12.324932,
          -10.160886,
          10.433995,
          6.4253290000000005,
          -8.615536,
          -10.383678999999999,
          7.414362,
          12.732458,
          6.4330106,
          -5.806291000000001,
          -16.500868,
          -2.6576552,
          -8.136177,
          -7.659321,
          8.330631,
          -2.3198833,
          -8.136828999999999,
          -8.536839500000001,
          -8.527168,
          11.591347,
          -0.45750406,
          9.071926,
          -8.119046,
          -0.062121708,
          8.832500999999999,
          -3.5730254999999995,
          -18.01083,
          12.346107,
          6.939843700000001,
          -9.49437,
          13.923963,
          4.559563,
          6.130018700000001,
          0.6752956999999999,
          -9.299872,
          -4.848838,
          1.0715322,
          0.083152,
          6.962888700000001,
          -9.751411000000001,
          -5.115737,
          -16.495451,
          2.4801185,
          -7.792266400000001,
          8.670828,
          1.6374578000000002,
          -8.847710000000001,
          12.493967,
          8.612134,
          -9.366323,
          14.336870000000001,
          1.4765038000000001,
          -7.9123779999999995,
          -11.599924,
          12.918185000000001,
          -4.910697,
          -16.920763,
          -0.33382670000000003,
          -9.357447,
          11.481786,
          -2.8519924,
          -1.1759661,
          -9.774881,
          1.9885161,
          5.7456646,
          -11.589846000000001,
          8.619041000000001,
          -18.047728,
          -12.82737,
          11.376781,
          -17.628239,
          -3.094105,
          -9.957668,
          -9.922535,
          -1.057134,
          -0.2220984,
          16.314703,
          -1.7447168999999998,
          -1.8185292000000002,
          3.819544,
          6.3685904,
          1.6844580000000002,
          -1.9961076000000002,
          11.242128,
          -2.7272103,
          -7.307232000000001,
          -8.053958,
          9.038041,
          2.2833352000000002,
          2.352806,
          -13.968944,
          -0.95624393,
          16.521,
          7.067014,
          0.88622236,
          -15.234647,
          -11.042014,
          -0.16317672,
          -14.120588,
          -9.189451,
          -3.5277324,
          -6.961,
          -5.794124,
          -8.540399,
          1.8368438000000002,
          8.3765745,
          -11.405086500000001,
          -12.333775,
          2.0476391,
          -8.752591,
          -13.176093,
          14.807513,
          -7.850548700000001,
          10.745051,
          -9.611932000000001,
          8.893745,
          -7.956406599999999,
          -12.868913000000001,
          -16.154957,
          -5.745191,
          -9.620661,
          -16.802210000000002,
          13.334118,
          4.0671425,
          -8.405917,
          17.014292,
          14.865526999999998,
          -5.014719,
          -4.73928,
          16.304445,
          15.392373000000001,
          -13.157712,
          -17.036438,
          -4.224583,
          13.616399,
          11.622523,
          8.809113499999999,
          17.020575,
          -3.8713032999999997,
          -11.459512,
          13.27749,
          14.900926,
          2.9141457,
          -2.3719938,
          17.435760000000002,
          1.2914008999999997,
          -15.514135000000001,
          14.381192,
          3.0413759999999996,
          -9.205781,
          -2.2079932999999996,
          -4.2149982,
          -2.0743933,
          -13.214611999999999,
          -13.133038500000001,
          11.756439,
          -4.0464077000000005,
          -4.7488112000000005,
          0.01978688,
          8.42314,
          -7.085433,
          -9.287972,
          8.243855,
          4.392328,
          1.4279898000000002,
          1.5235571,
          -6.8503637,
          -7.63934,
          7.790058999999999,
          -8.046047999999999,
          -0.49466828,
          9.350184,
          1.8483021000000002,
          13.360187,
          5.681986,
          3.9978836,
          10.638852,
          10.701232000000001,
          -0.87918544,
          -2.920805,
          0.96723855,
          -9.94891,
          1.4025444,
          -8.021823,
          -10.053866000000001,
          3.0793178,
          11.595485,
          -1.3018702,
          -0.15036641,
          11.670346,
          -1.9507418,
          -14.539306,
          8.305242999999999,
          -8.544025999999999,
          5.6037335,
          2.333814,
          3.2521082999999997,
          -2.2728095,
          -2.5309324,
          12.411625,
          -4.3567976999999996,
          -11.093606,
          -11.402046,
          -3.7091343,
          -4.408526999999999,
          -4.3962536,
          4.30494,
          -7.6235094,
          0.40771815,
          -6.5047727,
          -6.558695299999999,
          -0.4373892,
          -3.3106324999999996,
          10.878392,
          -7.5547813999999995,
          2.8724995,
          -2.4539522999999996,
          -14.008438,
          -8.310868,
          4.7964139999999995,
          1.6108192,
          10.965726,
          15.929336,
          -0.9362671,
          1.5395223,
          -2.189806,
          11.30615,
          -9.818945,
          13.478010000000001,
          -11.67987,
          2.5656075,
          -4.5632176,
          -9.0685425,
          9.242613,
          -4.15146,
          -13.523416500000002,
          15.325303,
          -0.22440875,
          -0.20205684,
          -4.599036,
          -3.5199711000000002,
          1.4977216,
          -2.4446220000000003,
          11.885197999999999,
          12.958916,
          -8.106494,
          -12.654278999999999,
          -2.0102314999999997,
          2.3051152000000004,
          -1.9181068,
          4.6535269999999995,
          -4.4078693,
          9.971067,
          -1.205396,
          -10.697965,
          -10.216693,
          -16.566187,
          -0.37384686,
          -0.38149562,
          -0.35209809999999997,
          8.952819,
          -7.6259336,
          -1.8947832999999998,
          -14.0242,
          -11.841498,
          -10.872049,
          -3.4894953,
          10.930303,
          -12.275379,
          -13.6355505,
          11.340821,
          15.457398000000001,
          11.003153,
          -0.66439503,
          0.0089258645,
          -13.948860999999999,
          3.3676114,
          3.3646982000000003,
          -10.767119000000001,
          -1.3204622,
          -3.9131055,
          11.337586,
          -15.644608999999999,
          -2.4151235,
          -0.3375537,
          -2.3011515,
          -7.8185534,
          9.040458000000001,
          8.871182000000001,
          -14.252542000000002,
          15.5378065,
          -1.5753101999999999,
          -9.475155,
          -1.9276351999999999,
          11.567555,
          -14.792485999999998,
          -2.4508755,
          12.564196,
          0.11036079,
          -12.957466,
          -0.25012717,
          -7.3582306,
          -7.3711899999999995
         ]
        },
        {
         "customdata": [
          [
           125,
           3
          ],
          [
           99,
           2
          ],
          [
           109,
           3
          ],
          [
           90,
           3
          ],
          [
           76,
           3
          ],
          [
           90,
           3
          ],
          [
           84,
           2
          ],
          [
           90,
           3
          ],
          [
           85,
           2
          ],
          [
           115,
           3
          ],
          [
           120,
           3
          ],
          [
           70,
           2
          ],
          [
           135,
           3
          ],
          [
           110,
           3
          ],
          [
           130,
           3
          ],
          [
           100,
           3
          ],
          [
           109,
           3
          ],
          [
           52,
           2
          ],
          [
           139,
           3
          ],
          [
           46,
           1
          ],
          [
           125,
           3
          ],
          [
           55,
           2
          ],
          [
           85,
           3
          ],
          [
           75,
           2
          ],
          [
           90,
           2
          ],
          [
           78,
           3
          ],
          [
           120,
           3
          ],
          [
           89,
           2
          ],
          [
           134,
           3
          ],
          [
           90,
           2
          ],
          [
           100,
           3
          ],
          [
           49,
           1
          ],
          [
           65,
           3
          ],
          [
           140,
           3
          ],
          [
           40,
           3
          ],
          [
           89,
           2
          ],
          [
           98,
           3
          ],
          [
           125,
           3
          ],
          [
           84,
           2
          ],
          [
           80,
           3
          ],
          [
           99,
           3
          ],
          [
           70,
           3
          ],
          [
           85,
           2
          ],
          [
           75,
           2
          ],
          [
           69,
           2
          ],
          [
           85,
           2
          ],
          [
           90,
           3
          ],
          [
           65,
           3
          ],
          [
           85,
           3
          ],
          [
           75,
           2
          ],
          [
           92,
           2
          ],
          [
           100,
           3
          ],
          [
           139,
           3
          ],
          [
           85,
           2
          ],
          [
           120,
           3
          ],
          [
           60,
           2
          ],
          [
           100,
           3
          ]
         ],
         "hoverlabel": {
          "namelength": 0
         },
         "hovertemplate": "<b>%{hovertext}</b><br><br>price_category=low<br>X=%{x}<br>Y=%{y}<br>Z=%{z}<br>price=%{customdata[0]}<br>minimum_nights=%{customdata[1]}",
         "hovertext": [
          "Chelsea Studio sublet 1 - 2 months",
          "Shabby Chic Modern Chelsea Studio",
          "BIG room in fun loft – heart of NYC",
          "Room in Chelsea New York",
          "Perfect cozy PRIVATE room!!",
          "Lovely Room in Awesome Apartment - Fun/Convenient",
          "Private BR in Chelsea (women or couples only)",
          "Large artsy studio with 90s style",
          "Living Room sofa Bed in Chelsea2",
          "Cozy little studio in Chelsea",
          "Great location, great value",
          "1st Time/Solo/Duo Travelers!Charming Studio Share!",
          "Cozy Chelsea Studio",
          "Private bedroom in Chelsea",
          "New Building, Best Location in NYC",
          "Chelsea Charm: shared apartment",
          "Massive, Cozy, Modern 1BR in Heart of Chelsea!",
          "Furnished Apartment in Chelsea",
          "Large Room, High Floor w/ Views - Times Square",
          "Extra Bed in a Cozy & Sunny Studio",
          "Chelsea Apt w/ Private Rooftop Deck",
          "Penn Station / Chelsea North room",
          "Cozy Alcove, Chelsea Doorman Bldg, Near Everything",
          "1st Time/Solo Guests: Charming NYC Apt. Share!!!",
          "Spacious Private BR in Chelsea",
          "Private Room for 2 in Midtown West ☆",
          "Clean and Cozy Room in Meatpacking District",
          "Private Room in Large Two-floor Apt w/ Backyard",
          "Chelsea Haven--Summer Sublet",
          "△PENN STATION ,Private room with Full kitchen△",
          "Heart of Chelsea Private room in a serviced 2BD",
          "Manhattan Phenomenal Deal! BEST Chelsea Room",
          "NYC adventurous getaway!",
          "Chelsea luxury apartment",
          "Chelsea, Minutes to Time Square, Next to Subway",
          "Huge One of A Kind Loft West Village/Meatpacking",
          "Best location • Luxury building • Quiet •",
          "Chelsea, Manhattan Large Private Bedroom for 2",
          "Art Lover’s Dream! Chelsea Delight!",
          "Private room amazing location Chelsea/Union Square",
          "Private bedroom in large Chelsea apartment",
          "Private Room in The Heart of Manhattan",
          "Sunny Bedroom at Union Square",
          "Charming Loft apartment with great light!",
          "Modern Spacious Studio in the Heart of Chelsea",
          "Living Room sofa Bed in Chelsea",
          "Spacious Room in a Historic, Beautiful Apartment",
          "Perfect Location! Your Oasis in Heart of Chelsea",
          "Small cozy  private room near time square",
          "▲Private Cozy Room at Madison Square Garden▲",
          "Conveniently located Chelsea 2br",
          "Gem in the heart of Manhattan",
          "Sunny Chelsea Loft",
          "A private bedroom in Chelsea , Manhattan.",
          "Large room + king-sized bed available in Chelsea.",
          "Clean and bright Chelsea apartment - NYC",
          "STUDIO W/  PRIVATE BALCONY IN MANHATTAN"
         ],
         "legendgroup": "price_category=low",
         "marker": {
          "color": "#EF553B",
          "opacity": 0.9,
          "symbol": "circle"
         },
         "mode": "markers",
         "name": "price_category=low",
         "scene": "scene",
         "showlegend": true,
         "type": "scatter3d",
         "x": [
          -8.011493,
          -12.401497,
          1.716061,
          -7.0877924,
          -6.857162,
          -1.0045415000000002,
          -6.7686615,
          -16.993698000000002,
          -7.303006,
          -15.455729500000002,
          -8.664619,
          -0.30154544,
          -10.67976,
          -9.626576,
          -12.366685,
          -0.109563865,
          -7.9515899999999995,
          -4.994769,
          -7.869548,
          -5.5579019999999995,
          -10.891781,
          -10.407563,
          0.9539267,
          -12.398008,
          -9.582736,
          -0.9382514000000001,
          -6.2237425,
          -8.732571,
          -9.330914,
          -0.9343851000000001,
          -3.5597436,
          -10.699693,
          0.41725853,
          19.587920999999998,
          -2.953801,
          -5.370229,
          3.5679296999999996,
          20.853079,
          -3.4488857000000004,
          -8.245538999999999,
          -7.064557000000001,
          -0.9517745000000001,
          -3.2220676,
          3.5482883000000003,
          13.668033,
          -0.89826673,
          -7.1092377,
          -1.7548933999999998,
          7.1007967,
          8.361692,
          -8.972717,
          -3.2596064,
          1.480787,
          -6.443109,
          -2.64531,
          -5.551787,
          -2.929472
         ],
         "y": [
          -10.242352,
          -8.588446000000001,
          11.211594999999999,
          -4.1997514,
          -4.2466135000000005,
          12.920407,
          7.2507753,
          5.0248733,
          -1.7144032,
          -7.898592999999999,
          12.696986,
          5.099008,
          11.012371,
          -13.463057500000001,
          4.9683532999999995,
          11.757324,
          13.395364,
          -1.5605122,
          -10.017111,
          -7.420418700000001,
          -9.412964,
          -2.4802787,
          15.413129999999999,
          13.74726,
          1.9969107,
          5.9982295,
          5.4947433,
          -7.550205,
          7.0043169999999995,
          6.004882299999999,
          3.6529345999999996,
          -8.582239,
          -21.375431,
          10.078427,
          -4.022454,
          -11.347672,
          5.452685400000001,
          -5.554547299999999,
          5.680118599999999,
          4.512771599999999,
          -3.210643,
          -12.759817,
          2.5605621,
          -17.560354,
          2.6819696,
          -6.1716055999999995,
          -3.2327585,
          -8.508453999999999,
          -12.714216,
          -11.085065,
          4.954855,
          -6.047272,
          11.916285,
          -3.6157067000000005,
          -12.928816000000001,
          -13.284804999999999,
          -14.457898000000002
         ],
         "z": [
          -9.682402,
          -6.1457486,
          9.958287,
          3.9369379999999996,
          5.5926733,
          11.374725999999999,
          -13.678420000000001,
          1.0768731000000002,
          3.1922822,
          7.185185000000001,
          2.0395117,
          -5.639372,
          1.1721979999999999,
          -6.409657,
          -12.084832,
          -12.22658,
          6.189082,
          -14.885866,
          3.188843,
          3.0087907000000005,
          -7.806810400000001,
          11.537445,
          4.059998,
          -8.625815,
          -13.886089000000002,
          -20.074259,
          -17.382666,
          1.2116182,
          1.3064079,
          -20.047933999999998,
          -19.277867999999998,
          -16.331535000000002,
          8.410668,
          0.27019190000000004,
          4.214065,
          4.5224686,
          -0.8938195999999999,
          -9.058633,
          13.009275,
          -10.67808,
          -15.4758,
          -3.598393,
          -13.331128,
          6.659144,
          -1.5451926,
          9.616556,
          -16.211529000000002,
          4.084500299999999,
          -3.4296792000000003,
          4.501774,
          14.873910999999998,
          4.828682,
          -0.10168833,
          -13.923347,
          -11.281507000000001,
          -10.595,
          11.783522999999999
         ]
        },
        {
         "customdata": [
          [
           250,
           1
          ],
          [
           385,
           1
          ],
          [
           200,
           1
          ],
          [
           900,
           1
          ],
          [
           750,
           2
          ],
          [
           1000,
           3
          ],
          [
           200,
           1
          ],
          [
           235,
           1
          ],
          [
           370,
           1
          ],
          [
           230,
           1
          ],
          [
           500,
           1
          ],
          [
           215,
           1
          ],
          [
           300,
           1
          ],
          [
           400,
           1
          ],
          [
           240,
           1
          ],
          [
           900,
           3
          ],
          [
           400,
           1
          ],
          [
           1495,
           2
          ],
          [
           200,
           1
          ],
          [
           295,
           1
          ],
          [
           250,
           1
          ],
          [
           350,
           1
          ],
          [
           200,
           1
          ],
          [
           210,
           1
          ],
          [
           215,
           1
          ],
          [
           215,
           1
          ],
          [
           200,
           1
          ],
          [
           500,
           1
          ],
          [
           200,
           1
          ],
          [
           300,
           1
          ],
          [
           800,
           1
          ],
          [
           250,
           1
          ],
          [
           200,
           1
          ],
          [
           250,
           1
          ],
          [
           250,
           1
          ],
          [
           225,
           1
          ],
          [
           500,
           2
          ],
          [
           450,
           2
          ],
          [
           325,
           1
          ],
          [
           299,
           1
          ],
          [
           500,
           1
          ],
          [
           220,
           1
          ],
          [
           425,
           2
          ],
          [
           225,
           1
          ],
          [
           350,
           1
          ],
          [
           206,
           1
          ],
          [
           200,
           1
          ],
          [
           300,
           1
          ],
          [
           225,
           1
          ],
          [
           225,
           1
          ],
          [
           295,
           1
          ],
          [
           240,
           1
          ],
          [
           450,
           2
          ],
          [
           1100,
           3
          ],
          [
           999,
           2
          ],
          [
           225,
           1
          ],
          [
           230,
           1
          ],
          [
           200,
           1
          ],
          [
           429,
           2
          ],
          [
           275,
           1
          ],
          [
           250,
           1
          ],
          [
           225,
           1
          ],
          [
           900,
           2
          ],
          [
           200,
           1
          ],
          [
           800,
           1
          ],
          [
           625,
           2
          ],
          [
           220,
           1
          ],
          [
           400,
           2
          ],
          [
           795,
           3
          ],
          [
           425,
           2
          ],
          [
           200,
           1
          ],
          [
           200,
           1
          ],
          [
           3000,
           2
          ],
          [
           250,
           1
          ],
          [
           250,
           1
          ],
          [
           249,
           1
          ],
          [
           333,
           1
          ],
          [
           440,
           2
          ],
          [
           450,
           1
          ],
          [
           850,
           1
          ],
          [
           210,
           1
          ],
          [
           299,
           1
          ],
          [
           229,
           1
          ],
          [
           269,
           1
          ],
          [
           781,
           1
          ],
          [
           275,
           1
          ],
          [
           799,
           1
          ],
          [
           225,
           1
          ],
          [
           833,
           1
          ],
          [
           225,
           1
          ],
          [
           400,
           1
          ],
          [
           250,
           1
          ],
          [
           236,
           1
          ]
         ],
         "hoverlabel": {
          "namelength": 0
         },
         "hovertemplate": "<b>%{hovertext}</b><br><br>price_category=high<br>X=%{x}<br>Y=%{y}<br>Z=%{z}<br>price=%{customdata[0]}<br>minimum_nights=%{customdata[1]}",
         "hovertext": [
          "Comfort at Crossroads of Downtown",
          "Amazing 1 bedroom apt with NYC View",
          "Beautiful Brand New Chelsea Studio",
          "SUPER BOWL 2014 in TRENDY CHELSEA!",
          "Spacious 1BR Chelsea Apt. for SB 48",
          "Spacious 2 BR in North Chelsea",
          "West Chelsea Brownstone Apartment",
          "Spacious Junior 1BR Apt in USQ/Flatiron",
          "Mellow One Bedroom in Chelsea ",
          "Modern 1BD Chelsea Apartment",
          "Awesome Apartment near Times Sq.",
          "Beautiful Apt - Flatiron/ Chelsea",
          "2BR Entire Floor Apt in Flatiron",
          "Mod. Apartment NYC w/ Outdoor Space",
          "Cozy Chelsea Carriage House Apt",
          "Amazing apartment with great views",
          "NYC Brownstone Duplex With Backyard in Chelsea.",
          "Designer Fifth Ave 4BR 5Ba 6,000sf Modern Loft",
          "Sunny Studio in Chelsea",
          "Chic and homey Chelsea Studio",
          "Awesome Studio in Chelsea",
          "Chelsea Square Apartment",
          "Cozy & Super Convenient Studio!",
          "A charming Parisian style apartment",
          "Chelsea Chic",
          "Studio in Full Service Chelsea Bldg",
          "Couch for the Night",
          "MASSIVE UNION SQ LOFT - Labor Day",
          "2 Bedroom Near Meatpacking",
          "HUGE 3Bedroom Duplex in Meatpacking",
          "The Epic: Right by MSG",
          "14th St 1BR",
          "Alcove Studio in Heart of Chelsea!",
          "Beautiful Quiet Chelsea Apartment",
          "Beautiful 1BR in Chelsea",
          "Quaint 1BR In West Village",
          "2 BR Pent House Loft in NYC!",
          "Spacious 2-Bedroom near Highline",
          "True 2 BR in heart of Chelsea",
          "Designer Duplex - Highline. Brand new mattresses!",
          "Luxury doorman building w amenities",
          "Entire 2br apartment in the heart of Chelsea",
          "Modern Luxury Chelsea Apt w/ Large Sunny Patios",
          "Chelsea Apartment (2 bedroom)",
          "Luxury building- 2BR/2BA in Chelsea",
          "Best Place in the Center of NYC!",
          "Highline view",
          "Chelsea Flat steps from Herald Sq",
          "Flatiron Oasis",
          "AMAZING CENTRAL MANHATTAN 1 BED W/BALCONY FITS 4!",
          "1 Bedroom townhouse apt in Chelsea w/ back garden",
          "Tree lined, light-filled in Chelsea",
          "CHELSEA 3 BEDROOM APARTMENT WITH PRIVATE GARDEN!!!",
          "Elegant apt in the heart of the Flatiron District",
          "Luxury Full-Floor 2 Bed Loft w/Huge Private Roof",
          "Trendy, Fully-Renovated Studio in West Chelsea",
          "Hey!!! Check out this apt. On our new link!!!",
          "MASSIVE ROOM IN HEART OF NYC!!! (CHELSEA/FLATIRON)",
          "Amazing Space For Your Chelsea Stay",
          "New York City living",
          "Maison 130",
          "Luxury Alcove Studio in Chelsea",
          "Lavish 3 bedroom near Penn Station / MSG",
          "AMAZING STUDIO IN CHELSEA (up to 4) Special price!",
          "Luxury Chelsea Condo on the High Line park",
          "Spacious & Sophisticated in Chelsea",
          "Luxurious, Modern Studio in Heart of Chelsea, NY",
          "Global Beat Apartment Hideaway in Manhattan",
          "Surrealist Luxury Loft",
          "Modern, spacious NYC apartment",
          "Cozy 1 BDRM in Union Square",
          "Private Sun-Splashed Studio Chelsea",
          "Massive Loft in the Heart of Union square",
          "Modern Chic Studio",
          "1 Bedroom/1 Bath Apt in Hudson Yards/Midtown West",
          "Chelsea Luxury & Cozy 2 Bedroom Apartment",
          "Five-star luxury Apt in Chelsea !",
          "“Epic” The highest apartment in New York",
          "Gorgeous Chelsea apartment",
          "DUPLUXURY Apartment 5 Star Duplex",
          "AMAZING CHELSEA Apartment HUGE space",
          "Two-Bedroom Apartment in Meatpacking District",
          "CENTER of NYC Lux + Style *****5Stars",
          "Cozy & Modern Chelsea Studio",
          "Beautiful Home in Center of NYC",
          "Beautiful 2 Bedrooms in the heart of NY",
          "Gorgeous RELAX + LUX with 5beds2baths",
          "Modern Luxury in Chelsea - Prime NYC Location",
          "Royalty Traveling SPACE AND LUXURY Home",
          "CLEAN CHIC CHELSEA NYC",
          "Gorgeous Chelsea 2/2 Luxury Bohemian Chic",
          "Highline Heavan",
          "Brand New, Super Comfortable 2 BR Apt In Times Squ"
         ],
         "legendgroup": "price_category=high",
         "marker": {
          "color": "#00cc96",
          "opacity": 0.9,
          "symbol": "circle"
         },
         "mode": "markers",
         "name": "price_category=high",
         "scene": "scene",
         "showlegend": true,
         "type": "scatter3d",
         "x": [
          -15.368417,
          -12.309878,
          -11.707626,
          -19.423023,
          -9.697488,
          -8.052348,
          -14.053095,
          -9.242386999999999,
          -15.549712,
          -6.2140856,
          -8.658987,
          -6.1804824,
          -18.996548,
          -17.88749,
          -7.436261,
          4.853279,
          -15.245360999999999,
          14.80561,
          -19.822110000000002,
          -5.473827,
          -8.167605,
          -14.562572,
          -8.123559,
          4.536228700000001,
          6.0444593,
          -12.838319,
          -9.453832,
          -8.304382,
          -11.470585,
          -15.771927999999999,
          -12.0387,
          -12.522356,
          -14.10043,
          -16.725782000000002,
          -7.946784,
          -4.2819986,
          -11.920689999999999,
          -11.309436999999999,
          -18.205719000000002,
          -4.3566008,
          -13.994451000000002,
          -8.944977,
          9.318511,
          -10.545127,
          -15.389764999999999,
          4.570616,
          -9.207894999999999,
          -9.33655,
          -7.2560863,
          15.511527,
          -6.466685,
          -9.699088,
          8.729616,
          -10.042603999999999,
          -10.443983,
          3.514179,
          13.553253,
          -3.7450428,
          3.9007263,
          -1.4602334,
          -8.090522,
          7.134312599999999,
          17.392063,
          -10.954407000000002,
          18.20275,
          16.05115,
          12.033108,
          9.913633,
          2.5993786,
          -5.415962,
          -5.073993,
          12.965529,
          -6.044443599999999,
          -4.6702695,
          7.695525999999999,
          3.1204697999999995,
          -2.371716,
          2.2134497000000004,
          5.8745074,
          -5.8870005999999995,
          15.779678,
          -0.31762514,
          7.221866,
          -2.5044136000000004,
          1.4662146999999999,
          -8.583677,
          -0.11717910000000002,
          2.2298869999999997,
          8.344352,
          8.426675999999999,
          16.687078,
          7.7904539999999995,
          14.457422
         ],
         "y": [
          8.520699,
          14.641964999999999,
          13.309287,
          5.1562019999999995,
          -11.351194,
          -9.725457,
          -5.6374984,
          1.652166,
          -9.179052,
          -3.5423584000000004,
          13.712423000000001,
          -1.8009714,
          6.026496,
          -0.21552612,
          -9.872169,
          3.4632718999999996,
          -0.21979274,
          12.478157000000001,
          7.992068,
          10.252625,
          -9.826924,
          -12.738214,
          -11.1833315,
          17.606817000000003,
          18.708717,
          -3.0473306,
          -11.468947,
          -19.486326000000002,
          -13.662003,
          -10.069924,
          -10.66125,
          0.01721039,
          -11.408033999999999,
          5.864604,
          -10.4142065,
          -2.5747817000000004,
          10.179031,
          14.436764000000002,
          8.775408,
          -2.0767224,
          9.956666,
          10.083128,
          16.25785,
          -9.908351,
          -3.7728336000000002,
          14.916272,
          -5.3028054000000004,
          -10.069369,
          -4.6272426,
          12.439905,
          12.220653,
          -0.8216667,
          10.294166,
          0.31751433,
          -10.492711,
          13.442554999999999,
          2.7124197,
          2.599806,
          -0.0092379525,
          -11.564484,
          -1.1679803,
          10.468696000000001,
          1.9216706000000001,
          7.4788375,
          3.9025497000000002,
          11.546411500000001,
          7.792615400000001,
          -16.006731,
          1.4201677,
          -9.112797,
          -10.407691999999999,
          1.4137621,
          2.0458755,
          3.2520967,
          3.8590605000000004,
          -6.7903747999999995,
          -2.5913727000000004,
          -10.619738,
          -13.579137,
          17.510538,
          6.8146787,
          -14.933164999999999,
          -4.763535,
          -7.583760300000001,
          -5.7757629999999995,
          -10.289852,
          -1.9769964,
          -15.241685999999998,
          -5.0869117,
          -5.021780000000001,
          -0.5945686,
          -7.0160275,
          7.932222
         ],
         "z": [
          -3.22382,
          -7.850576400000001,
          1.1508063,
          10.685131,
          -4.1756720000000005,
          -7.283857000000001,
          -6.6267949999999995,
          9.721767,
          11.198076,
          9.371601,
          2.4188387000000002,
          15.493134,
          10.781711,
          2.0002246,
          -6.810506299999999,
          15.988922,
          -3.4421282,
          7.269027,
          4.3156977,
          7.325093300000001,
          -4.9278507000000005,
          7.647105000000001,
          -8.153825,
          12.430044,
          1.023734,
          -4.3478694,
          -3.7236083,
          2.6934066000000003,
          7.7036753,
          2.1165798,
          4.0734673,
          -5.401310400000001,
          1.8861986000000002,
          -5.892435,
          -9.813987,
          12.670841000000001,
          -4.5438222999999995,
          -3.8955900000000003,
          9.754593,
          12.400001,
          1.5905513,
          -6.6865864,
          10.164916999999999,
          6.3178654000000005,
          -3.3797907999999994,
          -3.9082102999999995,
          -11.827615,
          9.024185000000001,
          9.931864,
          4.604721,
          -12.333708,
          -0.5140291,
          0.23295508,
          -4.665104,
          -5.951778400000001,
          4.4109793,
          0.39803743,
          -18.079045999999998,
          -14.186245999999999,
          8.369872,
          -9.255618,
          -3.0479287999999998,
          -7.991136599999999,
          -1.9739828000000001,
          -6.7529826,
          4.8668985000000005,
          8.687647,
          1.4088836,
          -0.08575758,
          9.680283,
          -6.7304262999999995,
          12.006193,
          -2.584171,
          -1.8863734,
          13.229597,
          -12.535282,
          0.8563379999999999,
          -13.481272,
          9.96954,
          -1.444599,
          -4.6987824,
          14.827865,
          -14.556669,
          -8.140993,
          -15.556022,
          12.624761999999999,
          2.8384023,
          14.015232000000001,
          -15.530287,
          -15.532214999999999,
          -0.021498572,
          -9.115497,
          12.624561
         ]
        }
       ],
       "layout": {
        "height": 600,
        "legend": {
         "tracegroupgap": 0
        },
        "scene": {
         "domain": {
          "x": [
           0,
           0.98
          ],
          "y": [
           0,
           1
          ]
         },
         "xaxis": {
          "title": {
           "text": "X"
          }
         },
         "yaxis": {
          "title": {
           "text": "Y"
          }
         },
         "zaxis": {
          "title": {
           "text": "Z"
          }
         }
        },
        "template": {
         "data": {
          "bar": [
           {
            "error_x": {
             "color": "#f2f5fa"
            },
            "error_y": {
             "color": "#f2f5fa"
            },
            "marker": {
             "line": {
              "color": "rgb(17,17,17)",
              "width": 0.5
             }
            },
            "type": "bar"
           }
          ],
          "barpolar": [
           {
            "marker": {
             "line": {
              "color": "rgb(17,17,17)",
              "width": 0.5
             }
            },
            "type": "barpolar"
           }
          ],
          "carpet": [
           {
            "aaxis": {
             "endlinecolor": "#A2B1C6",
             "gridcolor": "#506784",
             "linecolor": "#506784",
             "minorgridcolor": "#506784",
             "startlinecolor": "#A2B1C6"
            },
            "baxis": {
             "endlinecolor": "#A2B1C6",
             "gridcolor": "#506784",
             "linecolor": "#506784",
             "minorgridcolor": "#506784",
             "startlinecolor": "#A2B1C6"
            },
            "type": "carpet"
           }
          ],
          "choropleth": [
           {
            "colorbar": {
             "outlinewidth": 0,
             "ticks": ""
            },
            "type": "choropleth"
           }
          ],
          "contour": [
           {
            "colorbar": {
             "outlinewidth": 0,
             "ticks": ""
            },
            "colorscale": [
             [
              0,
              "#0d0887"
             ],
             [
              0.1111111111111111,
              "#46039f"
             ],
             [
              0.2222222222222222,
              "#7201a8"
             ],
             [
              0.3333333333333333,
              "#9c179e"
             ],
             [
              0.4444444444444444,
              "#bd3786"
             ],
             [
              0.5555555555555556,
              "#d8576b"
             ],
             [
              0.6666666666666666,
              "#ed7953"
             ],
             [
              0.7777777777777778,
              "#fb9f3a"
             ],
             [
              0.8888888888888888,
              "#fdca26"
             ],
             [
              1,
              "#f0f921"
             ]
            ],
            "type": "contour"
           }
          ],
          "contourcarpet": [
           {
            "colorbar": {
             "outlinewidth": 0,
             "ticks": ""
            },
            "type": "contourcarpet"
           }
          ],
          "heatmap": [
           {
            "colorbar": {
             "outlinewidth": 0,
             "ticks": ""
            },
            "colorscale": [
             [
              0,
              "#0d0887"
             ],
             [
              0.1111111111111111,
              "#46039f"
             ],
             [
              0.2222222222222222,
              "#7201a8"
             ],
             [
              0.3333333333333333,
              "#9c179e"
             ],
             [
              0.4444444444444444,
              "#bd3786"
             ],
             [
              0.5555555555555556,
              "#d8576b"
             ],
             [
              0.6666666666666666,
              "#ed7953"
             ],
             [
              0.7777777777777778,
              "#fb9f3a"
             ],
             [
              0.8888888888888888,
              "#fdca26"
             ],
             [
              1,
              "#f0f921"
             ]
            ],
            "type": "heatmap"
           }
          ],
          "heatmapgl": [
           {
            "colorbar": {
             "outlinewidth": 0,
             "ticks": ""
            },
            "colorscale": [
             [
              0,
              "#0d0887"
             ],
             [
              0.1111111111111111,
              "#46039f"
             ],
             [
              0.2222222222222222,
              "#7201a8"
             ],
             [
              0.3333333333333333,
              "#9c179e"
             ],
             [
              0.4444444444444444,
              "#bd3786"
             ],
             [
              0.5555555555555556,
              "#d8576b"
             ],
             [
              0.6666666666666666,
              "#ed7953"
             ],
             [
              0.7777777777777778,
              "#fb9f3a"
             ],
             [
              0.8888888888888888,
              "#fdca26"
             ],
             [
              1,
              "#f0f921"
             ]
            ],
            "type": "heatmapgl"
           }
          ],
          "histogram": [
           {
            "marker": {
             "colorbar": {
              "outlinewidth": 0,
              "ticks": ""
             }
            },
            "type": "histogram"
           }
          ],
          "histogram2d": [
           {
            "colorbar": {
             "outlinewidth": 0,
             "ticks": ""
            },
            "colorscale": [
             [
              0,
              "#0d0887"
             ],
             [
              0.1111111111111111,
              "#46039f"
             ],
             [
              0.2222222222222222,
              "#7201a8"
             ],
             [
              0.3333333333333333,
              "#9c179e"
             ],
             [
              0.4444444444444444,
              "#bd3786"
             ],
             [
              0.5555555555555556,
              "#d8576b"
             ],
             [
              0.6666666666666666,
              "#ed7953"
             ],
             [
              0.7777777777777778,
              "#fb9f3a"
             ],
             [
              0.8888888888888888,
              "#fdca26"
             ],
             [
              1,
              "#f0f921"
             ]
            ],
            "type": "histogram2d"
           }
          ],
          "histogram2dcontour": [
           {
            "colorbar": {
             "outlinewidth": 0,
             "ticks": ""
            },
            "colorscale": [
             [
              0,
              "#0d0887"
             ],
             [
              0.1111111111111111,
              "#46039f"
             ],
             [
              0.2222222222222222,
              "#7201a8"
             ],
             [
              0.3333333333333333,
              "#9c179e"
             ],
             [
              0.4444444444444444,
              "#bd3786"
             ],
             [
              0.5555555555555556,
              "#d8576b"
             ],
             [
              0.6666666666666666,
              "#ed7953"
             ],
             [
              0.7777777777777778,
              "#fb9f3a"
             ],
             [
              0.8888888888888888,
              "#fdca26"
             ],
             [
              1,
              "#f0f921"
             ]
            ],
            "type": "histogram2dcontour"
           }
          ],
          "mesh3d": [
           {
            "colorbar": {
             "outlinewidth": 0,
             "ticks": ""
            },
            "type": "mesh3d"
           }
          ],
          "parcoords": [
           {
            "line": {
             "colorbar": {
              "outlinewidth": 0,
              "ticks": ""
             }
            },
            "type": "parcoords"
           }
          ],
          "scatter": [
           {
            "marker": {
             "line": {
              "color": "#283442"
             }
            },
            "type": "scatter"
           }
          ],
          "scatter3d": [
           {
            "line": {
             "colorbar": {
              "outlinewidth": 0,
              "ticks": ""
             }
            },
            "marker": {
             "colorbar": {
              "outlinewidth": 0,
              "ticks": ""
             }
            },
            "type": "scatter3d"
           }
          ],
          "scattercarpet": [
           {
            "marker": {
             "colorbar": {
              "outlinewidth": 0,
              "ticks": ""
             }
            },
            "type": "scattercarpet"
           }
          ],
          "scattergeo": [
           {
            "marker": {
             "colorbar": {
              "outlinewidth": 0,
              "ticks": ""
             }
            },
            "type": "scattergeo"
           }
          ],
          "scattergl": [
           {
            "marker": {
             "line": {
              "color": "#283442"
             }
            },
            "type": "scattergl"
           }
          ],
          "scattermapbox": [
           {
            "marker": {
             "colorbar": {
              "outlinewidth": 0,
              "ticks": ""
             }
            },
            "type": "scattermapbox"
           }
          ],
          "scatterpolar": [
           {
            "marker": {
             "colorbar": {
              "outlinewidth": 0,
              "ticks": ""
             }
            },
            "type": "scatterpolar"
           }
          ],
          "scatterpolargl": [
           {
            "marker": {
             "colorbar": {
              "outlinewidth": 0,
              "ticks": ""
             }
            },
            "type": "scatterpolargl"
           }
          ],
          "scatterternary": [
           {
            "marker": {
             "colorbar": {
              "outlinewidth": 0,
              "ticks": ""
             }
            },
            "type": "scatterternary"
           }
          ],
          "surface": [
           {
            "colorbar": {
             "outlinewidth": 0,
             "ticks": ""
            },
            "colorscale": [
             [
              0,
              "#0d0887"
             ],
             [
              0.1111111111111111,
              "#46039f"
             ],
             [
              0.2222222222222222,
              "#7201a8"
             ],
             [
              0.3333333333333333,
              "#9c179e"
             ],
             [
              0.4444444444444444,
              "#bd3786"
             ],
             [
              0.5555555555555556,
              "#d8576b"
             ],
             [
              0.6666666666666666,
              "#ed7953"
             ],
             [
              0.7777777777777778,
              "#fb9f3a"
             ],
             [
              0.8888888888888888,
              "#fdca26"
             ],
             [
              1,
              "#f0f921"
             ]
            ],
            "type": "surface"
           }
          ],
          "table": [
           {
            "cells": {
             "fill": {
              "color": "#506784"
             },
             "line": {
              "color": "rgb(17,17,17)"
             }
            },
            "header": {
             "fill": {
              "color": "#2a3f5f"
             },
             "line": {
              "color": "rgb(17,17,17)"
             }
            },
            "type": "table"
           }
          ]
         },
         "layout": {
          "annotationdefaults": {
           "arrowcolor": "#f2f5fa",
           "arrowhead": 0,
           "arrowwidth": 1
          },
          "colorscale": {
           "diverging": [
            [
             0,
             "#8e0152"
            ],
            [
             0.1,
             "#c51b7d"
            ],
            [
             0.2,
             "#de77ae"
            ],
            [
             0.3,
             "#f1b6da"
            ],
            [
             0.4,
             "#fde0ef"
            ],
            [
             0.5,
             "#f7f7f7"
            ],
            [
             0.6,
             "#e6f5d0"
            ],
            [
             0.7,
             "#b8e186"
            ],
            [
             0.8,
             "#7fbc41"
            ],
            [
             0.9,
             "#4d9221"
            ],
            [
             1,
             "#276419"
            ]
           ],
           "sequential": [
            [
             0,
             "#0d0887"
            ],
            [
             0.1111111111111111,
             "#46039f"
            ],
            [
             0.2222222222222222,
             "#7201a8"
            ],
            [
             0.3333333333333333,
             "#9c179e"
            ],
            [
             0.4444444444444444,
             "#bd3786"
            ],
            [
             0.5555555555555556,
             "#d8576b"
            ],
            [
             0.6666666666666666,
             "#ed7953"
            ],
            [
             0.7777777777777778,
             "#fb9f3a"
            ],
            [
             0.8888888888888888,
             "#fdca26"
            ],
            [
             1,
             "#f0f921"
            ]
           ],
           "sequentialminus": [
            [
             0,
             "#0d0887"
            ],
            [
             0.1111111111111111,
             "#46039f"
            ],
            [
             0.2222222222222222,
             "#7201a8"
            ],
            [
             0.3333333333333333,
             "#9c179e"
            ],
            [
             0.4444444444444444,
             "#bd3786"
            ],
            [
             0.5555555555555556,
             "#d8576b"
            ],
            [
             0.6666666666666666,
             "#ed7953"
            ],
            [
             0.7777777777777778,
             "#fb9f3a"
            ],
            [
             0.8888888888888888,
             "#fdca26"
            ],
            [
             1,
             "#f0f921"
            ]
           ]
          },
          "colorway": [
           "#636efa",
           "#EF553B",
           "#00cc96",
           "#ab63fa",
           "#FFA15A",
           "#19d3f3",
           "#FF6692",
           "#B6E880",
           "#FF97FF",
           "#FECB52"
          ],
          "font": {
           "color": "#f2f5fa"
          },
          "geo": {
           "bgcolor": "rgb(17,17,17)",
           "lakecolor": "rgb(17,17,17)",
           "landcolor": "rgb(17,17,17)",
           "showlakes": true,
           "showland": true,
           "subunitcolor": "#506784"
          },
          "hoverlabel": {
           "align": "left"
          },
          "hovermode": "closest",
          "mapbox": {
           "style": "dark"
          },
          "paper_bgcolor": "rgb(17,17,17)",
          "plot_bgcolor": "rgb(17,17,17)",
          "polar": {
           "angularaxis": {
            "gridcolor": "#506784",
            "linecolor": "#506784",
            "ticks": ""
           },
           "bgcolor": "rgb(17,17,17)",
           "radialaxis": {
            "gridcolor": "#506784",
            "linecolor": "#506784",
            "ticks": ""
           }
          },
          "scene": {
           "xaxis": {
            "backgroundcolor": "rgb(17,17,17)",
            "gridcolor": "#506784",
            "gridwidth": 2,
            "linecolor": "#506784",
            "showbackground": true,
            "ticks": "",
            "zerolinecolor": "#C8D4E3"
           },
           "yaxis": {
            "backgroundcolor": "rgb(17,17,17)",
            "gridcolor": "#506784",
            "gridwidth": 2,
            "linecolor": "#506784",
            "showbackground": true,
            "ticks": "",
            "zerolinecolor": "#C8D4E3"
           },
           "zaxis": {
            "backgroundcolor": "rgb(17,17,17)",
            "gridcolor": "#506784",
            "gridwidth": 2,
            "linecolor": "#506784",
            "showbackground": true,
            "ticks": "",
            "zerolinecolor": "#C8D4E3"
           }
          },
          "shapedefaults": {
           "line": {
            "color": "#f2f5fa"
           }
          },
          "sliderdefaults": {
           "bgcolor": "#C8D4E3",
           "bordercolor": "rgb(17,17,17)",
           "borderwidth": 1,
           "tickwidth": 0
          },
          "ternary": {
           "aaxis": {
            "gridcolor": "#506784",
            "linecolor": "#506784",
            "ticks": ""
           },
           "baxis": {
            "gridcolor": "#506784",
            "linecolor": "#506784",
            "ticks": ""
           },
           "bgcolor": "rgb(17,17,17)",
           "caxis": {
            "gridcolor": "#506784",
            "linecolor": "#506784",
            "ticks": ""
           }
          },
          "title": {
           "x": 0.05
          },
          "updatemenudefaults": {
           "bgcolor": "#506784",
           "borderwidth": 0
          },
          "xaxis": {
           "automargin": true,
           "gridcolor": "#283442",
           "linecolor": "#506784",
           "ticks": "",
           "zerolinecolor": "#283442",
           "zerolinewidth": 2
          },
          "yaxis": {
           "automargin": true,
           "gridcolor": "#283442",
           "linecolor": "#506784",
           "ticks": "",
           "zerolinecolor": "#283442",
           "zerolinewidth": 2
          }
         }
        },
        "title": {
         "text": "Visualizing airbnb locations in feature space"
        }
       }
      },
      "text/html": [
       "<div>\n",
       "        \n",
       "        \n",
       "            <div id=\"eff90650-6e4d-42f7-878a-e49cb7688ba5\" class=\"plotly-graph-div\" style=\"height:600px; width:100%;\"></div>\n",
       "            <script type=\"text/javascript\">\n",
       "                require([\"plotly\"], function(Plotly) {\n",
       "                    window.PLOTLYENV=window.PLOTLYENV || {};\n",
       "                    \n",
       "                if (document.getElementById(\"eff90650-6e4d-42f7-878a-e49cb7688ba5\")) {\n",
       "                    Plotly.newPlot(\n",
       "                        'eff90650-6e4d-42f7-878a-e49cb7688ba5',\n",
       "                        [{\"customdata\": [[140.0, 1.0], [123.0, 1.0], [150.0, 2.0], [350.0, 3.0], [275.0, 2.0], [380.0, 3.0], [50.0, 1.0], [125.0, 2.0], [250.0, 2.0], [190.0, 3.0], [140.0, 1.0], [349.0, 3.0], [179.0, 2.0], [265.0, 3.0], [125.0, 2.0], [70.0, 1.0], [375.0, 3.0], [176.0, 2.0], [175.0, 3.0], [125.0, 2.0], [248.0, 2.0], [595.0, 3.0], [159.0, 3.0], [555.0, 3.0], [161.0, 2.0], [200.0, 2.0], [200.0, 3.0], [75.0, 1.0], [225.0, 2.0], [189.0, 3.0], [199.0, 3.0], [215.0, 3.0], [285.0, 2.0], [395.0, 3.0], [221.0, 2.0], [150.0, 1.0], [159.0, 1.0], [119.0, 2.0], [225.0, 3.0], [180.0, 1.0], [350.0, 2.0], [275.0, 3.0], [289.0, 2.0], [165.0, 3.0], [300.0, 3.0], [175.0, 1.0], [390.0, 3.0], [150.0, 2.0], [195.0, 3.0], [149.0, 2.0], [300.0, 2.0], [159.0, 1.0], [275.0, 3.0], [160.0, 2.0], [199.0, 2.0], [360.0, 3.0], [325.0, 2.0], [250.0, 3.0], [200.0, 3.0], [150.0, 1.0], [175.0, 1.0], [175.0, 1.0], [109.0, 2.0], [199.0, 2.0], [275.0, 2.0], [165.0, 3.0], [250.0, 3.0], [145.0, 2.0], [163.0, 3.0], [250.0, 2.0], [105.0, 1.0], [250.0, 2.0], [150.0, 1.0], [199.0, 2.0], [150.0, 2.0], [230.0, 2.0], [100.0, 1.0], [260.0, 2.0], [99.0, 1.0], [200.0, 2.0], [150.0, 2.0], [150.0, 2.0], [500.0, 3.0], [150.0, 1.0], [215.0, 3.0], [195.0, 1.0], [170.0, 2.0], [118.0, 2.0], [210.0, 2.0], [175.0, 3.0], [245.0, 3.0], [490.0, 3.0], [175.0, 1.0], [250.0, 3.0], [385.0, 3.0], [400.0, 3.0], [100.0, 1.0], [129.0, 1.0], [220.0, 2.0], [160.0, 3.0], [240.0, 2.0], [193.0, 1.0], [130.0, 2.0], [180.0, 3.0], [100.0, 1.0], [150.0, 1.0], [100.0, 2.0], [180.0, 1.0], [98.0, 1.0], [195.0, 2.0], [375.0, 3.0], [100.0, 2.0], [280.0, 2.0], [250.0, 2.0], [200.0, 3.0], [159.0, 3.0], [175.0, 3.0], [145.0, 2.0], [175.0, 1.0], [81.0, 1.0], [120.0, 1.0], [180.0, 1.0], [120.0, 2.0], [130.0, 2.0], [119.0, 2.0], [70.0, 1.0], [65.0, 1.0], [84.0, 1.0], [70.0, 1.0], [110.0, 1.0], [175.0, 1.0], [179.0, 3.0], [225.0, 2.0], [165.0, 3.0], [249.0, 3.0], [100.0, 2.0], [125.0, 2.0], [195.0, 3.0], [75.0, 1.0], [100.0, 1.0], [150.0, 2.0], [200.0, 2.0], [100.0, 1.0], [105.0, 2.0], [154.0, 2.0], [275.0, 3.0], [165.0, 3.0], [70.0, 1.0], [325.0, 3.0], [150.0, 1.0], [155.0, 2.0], [185.0, 2.0], [150.0, 3.0], [210.0, 2.0], [145.0, 2.0], [199.0, 2.0], [350.0, 3.0], [125.0, 1.0], [90.0, 1.0], [250.0, 2.0], [150.0, 3.0], [185.0, 1.0], [250.0, 2.0], [215.0, 3.0], [90.0, 1.0], [110.0, 1.0], [193.0, 2.0], [120.0, 1.0], [179.0, 3.0], [300.0, 2.0], [200.0, 3.0], [120.0, 1.0], [265.0, 3.0], [125.0, 1.0], [149.0, 2.0], [181.0, 1.0], [60.0, 1.0], [150.0, 3.0], [330.0, 2.0], [128.0, 1.0], [110.0, 2.0], [95.0, 1.0], [115.0, 1.0], [196.0, 3.0], [233.0, 2.0], [195.0, 2.0], [130.0, 2.0], [125.0, 1.0], [99.0, 1.0], [239.0, 3.0], [160.0, 2.0], [289.0, 2.0], [190.0, 1.0], [100.0, 1.0], [139.0, 1.0], [250.0, 2.0], [57.0, 1.0], [95.0, 1.0], [105.0, 1.0], [69.0, 1.0], [200.0, 2.0], [219.0, 2.0], [200.0, 2.0], [180.0, 3.0], [250.0, 2.0], [150.0, 1.0], [350.0, 2.0], [399.0, 3.0], [200.0, 3.0], [130.0, 2.0], [135.0, 2.0], [400.0, 3.0], [175.0, 3.0], [189.0, 2.0], [299.0, 2.0], [105.0, 2.0], [155.0, 2.0], [100.0, 2.0], [150.0, 2.0], [275.0, 3.0], [200.0, 2.0], [200.0, 2.0], [128.0, 1.0], [500.0, 3.0], [110.0, 2.0], [162.0, 3.0], [195.0, 1.0], [250.0, 3.0], [154.0, 2.0], [165.0, 3.0], [435.0, 3.0], [95.0, 1.0], [200.0, 2.0], [100.0, 2.0], [99.0, 1.0], [165.0, 2.0], [175.0, 2.0], [110.0, 2.0], [95.0, 1.0], [250.0, 2.0], [400.0, 3.0], [485.0, 3.0], [400.0, 3.0], [159.0, 3.0], [200.0, 3.0], [150.0, 3.0], [155.0, 2.0], [91.0, 1.0], [225.0, 2.0], [299.0, 2.0], [200.0, 3.0], [109.0, 2.0], [229.0, 3.0], [135.0, 1.0], [115.0, 1.0], [285.0, 3.0], [260.0, 3.0], [152.0, 1.0], [205.0, 3.0], [110.0, 2.0], [450.0, 3.0], [115.0, 1.0], [150.0, 3.0], [115.0, 1.0], [75.0, 1.0], [299.0, 2.0], [150.0, 2.0], [98.0, 1.0], [96.0, 1.0], [186.0, 3.0], [185.0, 2.0], [199.0, 3.0], [70.0, 1.0], [250.0, 2.0], [250.0, 2.0], [150.0, 3.0], [190.0, 3.0], [100.0, 2.0], [200.0, 2.0], [100.0, 1.0], [99.0, 1.0], [179.0, 3.0], [225.0, 3.0], [199.0, 2.0], [299.0, 3.0], [175.0, 3.0], [250.0, 3.0], [250.0, 2.0], [119.0, 1.0], [150.0, 2.0], [155.0, 3.0], [165.0, 2.0], [230.0, 2.0], [175.0, 3.0], [120.0, 1.0], [225.0, 3.0], [240.0, 2.0], [77.0, 1.0], [150.0, 2.0], [350.0, 3.0], [250.0, 2.0], [167.0, 2.0], [225.0, 2.0], [200.0, 3.0], [500.0, 3.0], [225.0, 3.0], [91.0, 1.0], [288.0, 3.0], [135.0, 2.0], [69.0, 1.0], [320.0, 3.0], [225.0, 2.0], [175.0, 2.0], [100.0, 1.0], [299.0, 2.0], [189.0, 1.0], [200.0, 3.0], [350.0, 3.0], [180.0, 1.0], [220.0, 2.0], [550.0, 3.0], [175.0, 1.0], [250.0, 3.0], [170.0, 3.0], [114.0, 1.0], [250.0, 3.0], [175.0, 1.0], [139.0, 1.0], [350.0, 2.0], [261.0, 2.0], [133.0, 1.0], [130.0, 1.0], [80.0, 1.0], [299.0, 3.0], [68.0, 1.0], [300.0, 2.0], [300.0, 2.0], [190.0, 3.0], [299.0, 2.0], [190.0, 3.0], [275.0, 2.0], [180.0, 3.0], [100.0, 1.0], [86.0, 1.0], [200.0, 2.0], [220.0, 3.0], [100.0, 2.0], [250.0, 3.0], [180.0, 3.0], [500.0, 3.0], [215.0, 2.0], [180.0, 1.0], [65.0, 1.0], [149.0, 2.0], [80.0, 1.0], [150.0, 1.0], [140.0, 2.0], [149.0, 2.0], [295.0, 2.0], [83.0, 1.0], [300.0, 2.0], [250.0, 2.0], [185.0, 2.0], [115.0, 1.0], [110.0, 1.0], [154.0, 2.0], [162.0, 2.0], [130.0, 2.0], [225.0, 3.0], [250.0, 2.0], [250.0, 3.0], [100.0, 2.0], [265.0, 3.0], [380.0, 3.0], [159.0, 3.0], [195.0, 1.0], [300.0, 3.0], [140.0, 1.0], [275.0, 2.0], [245.0, 3.0], [599.0, 3.0], [499.0, 3.0], [89.0, 1.0], [499.0, 3.0], [447.0, 3.0], [447.0, 3.0], [249.0, 2.0], [299.0, 3.0], [500.0, 3.0], [330.0, 3.0], [305.0, 3.0], [195.0, 3.0], [88.0, 1.0], [290.0, 2.0], [120.0, 1.0], [110.0, 2.0], [175.0, 3.0], [399.0, 3.0], [249.0, 3.0], [350.0, 3.0], [223.0, 3.0], [225.0, 3.0], [105.0, 1.0], [105.0, 1.0], [350.0, 3.0], [170.0, 3.0], [300.0, 2.0], [225.0, 3.0], [150.0, 3.0], [299.0, 2.0], [299.0, 3.0], [225.0, 3.0], [175.0, 1.0], [189.0, 2.0], [149.0, 2.0], [298.0, 3.0], [140.0, 1.0], [200.0, 2.0], [195.0, 2.0], [190.0, 3.0], [190.0, 3.0], [199.0, 1.0], [190.0, 3.0], [388.0, 3.0], [350.0, 3.0], [104.0, 1.0], [100.0, 1.0], [180.0, 2.0], [180.0, 2.0]], \"hoverlabel\": {\"namelength\": 0}, \"hovertemplate\": \"<b>%{hovertext}</b><br><br>price_category=medium<br>X=%{x}<br>Y=%{y}<br>Z=%{z}<br>price=%{customdata[0]}<br>minimum_nights=%{customdata[1]}\", \"hovertext\": [\"Chelsea Perfect  by Doti, an AIRBNB  Super Host!\", \"Prime Location in Manhattan\", \"Chelsea living, 2BR best location\", \"Hudson Yards with views of The Highline Park\", \"One-Bedroom/Madison Square Garden\", \"Spectacular Lux 1 Bed Apt, Best Location, Terrace!\", \"Beautiful Downtown Manhattan Share\", \"CLEAN PRIVATE ROOM IN CHELSEA NYC\", \"1 bedroom apt in heart of Chelsea\", \"Light & airy Chelsea NY 1bdrm apt\", \"Sunny & Clean Apt, Ideal Location\", \"Downtown Manhattan Luxury 1 Bedroom\", \"ON HIGHLINE! Private room & bath\", \"Union Sq European Serene apt\", \"1br in a 2br apartment in Chelsea (23/7)\", \"Bedroom for two in Chelsea\", \"Newly Renovated West Village + Bar\", \"Great Apartment with luxurious bath in NYC/Chelsea\", \"Entire home/apt in Chelsea New York\", \"Best Chelsea Street. Beautiful Room. Superhost.\", \"Perfect 1st Floor Brownstone in Meatpacking- 2 ppl\", \"Classy Penthouse with Amazing View!\", \"Charming, Quiet, & Clean 1BR APT\", \"Chelsea NYC luxury 2 bed/2 bath, garden apt\", \"Large Comfortable Studio in Chelsea\", \"1 BR in Luxury Chelsea Doorman Bldg\", \"Awesome Huge Studio - NYC Center\", \"The heart of Manhattan - NYC\", \"Urban Oasis in Chelsea\", \"Luxury studio\", \"Classic Chelsea Brownstone 1 Bedroom\", \"Chelsea HUGE apartment w/ King bed + office\", \"Beautiful 1 BR with Private Garden\", \"Chelsea Studio for Super Bowl!\", \"Modern Studio in Heart of Chelsea\", \"Super Cute Chelsea One Bedroom\", \"Trendy Apt by Chelsea Market with High Line Views\", \"Private Room in Large Two-floor Apt w/ Backyard\", \"Full 1 bedroom Apt in GREAT Locale\", \"Studio in Center of Chelsea\", \"Alcove Studio in Downtown Manhattan\", \"SPACIOUS  ARTIST LOFT IN CHELSA\", \"Panoramic Penthouse - 30% OFF\", \"Quiet 1BR in Chelsea\", \"ADORABLE 2BR in Chelsea!!\", \"Studio in the heart of Chelsea\", \"Beautiful apartment by Columbus Circle\", \"HUGE space at the heart of Meatpacking - Chelsea .\", \"Private Studio Near Union Square\", \"Quiet Sunny 1BR in Trendy Chelsea\", \"NYC Artists Loft in Chelsea\", \"Clean/Quiet Apt, Great Location, with washer/dryer\", \"Central 2 Bedroom in Chelsea\", \"BRIGHT BEAUTIFUL CHELSEA APT\", \"Awesome Chelsea 1 bedroom\", \"Chelsea High End Apartment\", \"Gorgeous 1 Bedroom in the heart of NYC: Chelsea\", \"Happy Chic Convenient New Listing!\", \"Well-kept Studio/\\u2665 of Chelsea\", \"Two Bedrooms in Chelsea Apartment\", \"Stylish & New Chelsea Apartment\", \"Charming One Bedroom in Chelsea\", \"Sunny Private Bedroom in Chelsea\", \"One Bedroom Apartment in Chelsea\", \"Charming, true 1 bedroom\", \"Cozy&Central:EmpireState/Highline/Times Square\", \"Charming Two Bedroom in Chelsea 30 days+\", \"Beautiful one bedroom in Chelsea\", \"Sunny One Bedroom-Amazing Location\", \"2 Bedroom Apartment in Chelsea\", \"Cozy NYC Bedroom in the Best Manhattan Location!\", \"Amazing 2 Bedroom Chelsea\", \"Bedroom right in Chelsea!\", \"Studio apartment in the heart of Chelsea\", \"Best location! Chelsea/West Village/Meatpacking\", \"Cozy studio in the heart of Chelsea\", \"Cozy room in Chelsea\", \"Spacious 2 BR sun-filled apartment  in Chelsea\", \"Awesome Location with Best Commute\", \"Designer jnr 1 bedroom in Chelsea\", \"Unique Studio apartment in the heart of Chelsea!\", \"Private Apartment on Tree Lined Street in Chelsea\", \"Luxury 2200sf Two Bedroom Loft w/ Private Elevator\", \"New York Apt in the Heart of NY\", \"Renovated & Spacious Chelsea Studio\", \"Spacious Chelsea Private Bedroom\", \"Apartment in Chelsea btwn 6th-7th Aves\", \"Private Room in Downtown Manhattan\", \"Spacious Chelsea Penthouse w/roof!\", \"2 Bed apart in the heart of Chelsea\", \"I Love NY Studio Deluxe\", \"Spacious Chelsea Apartment w/Roof!\", \"Charming Chelsea Home\", \"Artsy Duplex in Chelsea w/ Terrace\", \"West Village/Meatpacking Loft!\", \"Chic, Modern 2 Bedroom in Bright, Airy High Rise\", \"Prime location Chelsea/Flatiron RM\", \"Chelsea 2-Bedroom Doorman Apt NEW\", \"Spacious Parisian style apartment\", \"Chelsea apartment with a backyard\", \"Beautiful One Bedroom Chelsea\", \"Luxury 1 Bed apt in the heart of chelsea\", \"Prime Chelsea 1BR Minimalist W16th\", \"Location, Location, Location Meat Packing District\", \"Chelsea NYC Shared Apartment\", \"Cozy 1 bdrm Chelsea/Meatpacking\", \"Chelsea studio\", \"High Luxury Thanksgiving Stay\", \"Prime Location in CHELSEA\", \"Great room in PERFECT location\", \"Chelsea / High Line Oasis\", \"Sunny 1 BR apt in West Chelsea\", \"Meatpacking - Luxury Brownstone\", \"Sunny 2 bedroom Apt (Chelsea)\", \"Lovely 1Br Near Highline! (+2 cats)\", \"Amazing Flatiron Entire Studio Apt\", \"Studio Apt at the Heart of Chelsea\", \"Easy 1 Bedroom in Chelsea\", \"Venerable Chelsea Loft (Small Br)\", \"Luxury High-Rise Manhattan Apt\", \"Cozy Studio in Excellent Location\", \"Chelsea Studio + Private Garden!\", \"Cool Chelsea studio for chilling!\", \"Heart Of Chelsea Family Vacation\", \"Stay in The Heart of NYC\", \"Room in Huge Union Sq Rooftop Apt!\", \"Chambre au coeur de Manhattan\", \"Small Room Double Bed and 25 x 15 ft livingroom\", \"Beautiful Apartment in Chelsea\", \"Private bedroom located in the heart of Chelsea\", \"Luxury bldg Near Flatiron- Chelsea\", \"Chelsea ,Duplex ,Calm ,Fantastic\", \"Spacious home in heart of NYC\", \"Bright and Charming in Chelsea\", \"Sunny 1BR apartment in Chelsea\", \"Cozy Chelsea Apt Great Location\", \"Sunny, Chelsea Manhattan apartment\", \"Comfortable Chelsea Oasis\", \"Great Modern Studio in Chelsea!\", \"LIVE HERE!! COZY STUDIO IN CHELSEA!\", \"Amazing entire apt on tree-lined st\", \"Giant Sun-filled Chelsea Studio\", \"Priv Rm w. Big Loft  Living Room across from FIT\", \"Charming Studio in West Chelsea\", \"Unique Studio in Chelsea\", \"Artsy Studio / 1 Bedroom in the Heart of Chelsea\", \"HOTTEST LOCATION! Cozy, convenient and chic.\", \"Cute Apt in the Heart of Chelsea\", \"Bright, spacious and quiet two-bedroom Chelsea apt\", \"Doorman Chelsea One Bedroom- Convenient and Fun!\", \"Beautiful Chelsea Apartment with many amenties\", \"Right in the center of Chelsea, quiet and private.\", \"Private room in a 2 Bedroom apartment - Chelsea\", \"Bright & Light Chelsea One Bedroom\", \"Chelsea\\u2019s Private, Quiet and Cozy bedroom\", \"Centrally Located One Bedroom Apt\", \"Idyllic Two Bedroom Apt in the heart of Chelsea\", \"Cozy Room in Chelsea\", \"Clean & Cozy Close to Macy's\", \"NYC Chelsea Neighborhood, Studio Apartment\", \"the shoebox, west chelsea\", \"Classic NYC: ENTIRE 1-BR in Spacious Chelsea Apt\", \"Summer home for families with baby + toddler\", \"Beautiful Alcove Studio in West Midtown\", \"BEST AREA IN CHELSEA. MODERN. COMPACT. HIGH LINE!!\", \"Bedroom in the heart of NYC\", \"Spacious, centrally located one-bedroom in Chelsea\", \"Private room for 1 or 2 in Chelsea. Prime location\", \"Artsy Duplex in Chelsea w/ Huge Terrace\", \"Meatpacking Triplex - A small home within NYC\", \"Charming Home in Chelsea\", \"Big room in the heart of Chelsea.\", \"Two-bedroom in the heart of Chelsea\", \"Cozy studio in Chelsea\", \"Chelsea Apartment/Flat- sleeps up to 4\", \"Cozy loft in Chelsea\", \"Amazing studio in the heart of chelsea!\", \"Studio in beautiful Chelsea - close to everything!\", \"Your point in Chelsea\", \"Sunny Chelsea Studio\", \"Charming Chelsea Studio\", \"AMAZING LOCATION - Heart of CHELSEA / Manhattan\", \"Super cozy room !CONVENIENT\", \"\\u2764ART of Chelsea | 1bd rm | Walk/bike everywhere!\", \"Sunny Chelsea Oasis\", \"Charming Chelsea Townhouse 1 Bedroom Apartment\", \"Large, Sunny Studio in the heart of Chelsea.\", \"Awesome Chelsea Manhattan Pad\", \"Large comfortable room near Penn Station\", \"ACTOR PHILIP SEYMOUR HOFFMAN LIVED HERE\", \"Chelsea/Union Square cozy studio\", \"Chic Space in Chelsea\", \"2fireplcs,Garden,BBQ,wshr/dryer,JacuzTub,BIG Kitch\", \"LARGE ROOM IN HEART OF NYC (CHELSEA / FLATIRON)\", \"Quiet, Comfortable Studio in Chelsea/Village\", \"Home away from home in the heart of Chelsea\", \"Nicest Room in Manhattan - Chelsea Beauty\", \"Very quiet apt. on tree-lined West Chelsea street\", \"Quiet, tranquil room in the middle of everything!\", \"Private and Quiet Room in the Perfect Location\", \"Studio in Chelsea\", \"Luxury King Size Chelsea Apt Near MSG\", \"Entire, Immaculate 1-Bedroom CHELSEA APARTMENT\", \"CHARMING CHELSEA BROWNSTONE STUDIO NEAR HIGHLINE\", \"Luxury Studio, Large Private Terrace near Times Sq\", \"Chelsea Studio\", \"Spacious, Quiet, Cozy Art-Filled Chelsea Apartment\", \"Perfect Penthouse Duplex\", \"Bright and Comfortable Chic Chelsea 1-bedroom!\", \"Private, Cozy, & Conveniently located Chelsea Room\", \"Cozy studio in the heart of Chelsea!\", \"Charming Prewar Full Floor Apartment\", \"Newly renovated studio in Prime Manhattan location\", \"Chelsea/Flatiron 1-Bedroom Apt in Luxury Building\", \"NYC MADISON SQAURE GARDEN BRAND NEW , SLEEPS 6\", \"Large Private Room in Duplex- Chelsea\", \"Bright, Modern and Cozy Chelsea Studio!\", \"Chelsea Private Bedroom and Bathroom\", \"Charming One Bedroom Apt in West Chelsea\", \"AMAZING 2 bedroom in the heart of Chelsea!\", \"Spacious 1BR on the border of West Village/Chelsea\", \"Chelsea Condo near High line\", \"COZY STUDIO APT IN HEART OF CHELSEA\", \"Charming Townhouse duplex in Chelsea\", \"Bedroom and own bathroom in Chelsea apartment\", \"Studio Apartment in Chelsea\", \"Cozy Chelsea Apartment\", \"Beautiful apartment located in Chelsea!\", \"Cozy Studio Apartment in West Chelsea\", \"Private 1 bed 1 bath- Chelsea, Manhattan\", \"Eclectic studio steps from Highline Park Chelsea\", \"Fabulous Sun-kissed Room in Heart of Chelsea!\", \"High Line Sun Drenched Home\", \"Room in Chelsea\", \"Midtown Manhattan shared Apartment,Prime Location\", \"The Solstice - A One Bedroom Apartment\", \"Quiet and private in the heart of Chelsea.\", \"Chelsea Newly Renovated Private Bedroom\", \"Adorable room in AMAZING Chelsea apartment!\", \"Spacious, Cozy & Quiet Chelsea Designer Apartment\", \"Sunny, Spacious Apartment in the Heart of Chelsea\", \"Luxury Chelsea penthouse w private terrace & view!\", \"Timeless West Village Townhouse with Garden\", \"Sun kissed, loft studio in the heart of Chelsea\", \"In the heart of Chelsea and downtown\", \"Perfect Manhattan Studio Apartment - Quiet Street\", \"Brand-new Luxury apt. Stunning views by Penn st.\", \"Sunny, Spacious Room in the Heart of Chelsea\", \"Spacious, Bright 1 BR in Prime Midtown West\", \"Boutique Luxury in the Heart of Chelsea\", \"Chelsea 1 Bedroom Gem!\", \"Spacious Studio with Private Roof\", \"Light & Quiet Chelsea One Bedroom\", \"Cosy Apartment in the Heart of Manhattan\", \"Private Room B In Prime Location\", \"Simple stay in heart of Chelsea / Meatpacking\", \"Luxury apartment right in the center of Manhattan\", \"Large 1-bedroom in Chelsea (unfurnished)\", \"Millions of View Luxury Apartment In Manhattan\", \"Cozy, impeccable, sunlit West Village studio\", \"Spacious & Sunny 2BD / 2BTH in Chelsea, Manhattan\", \"Cozy New York Apartment\", \"Furnished Bedroom Meat Packing District\", \"Private Apartment in Chelsea\", \"Free bottle of wine with stay!\", \"The Grove - A Luxury One Bedroom Apartment\", \"Bright Meatpacking Studio\", \"Big Private Room in the Hudson Yards Area\", \"Spacious one bedroom apartment in Chelsea\", \"**Spacious 47th-Floor Apt** Convenient Location\", \"Chelsea Studio Steps from Madison Square Garden\", \"*Location, Location | Chelsea | Meat Packing*\", \"Cheap Rental in Manhattan Downtown!\", \"Bright & Cozy Studio in PRIME Flatiron/Chelsea\", \"Bright and modern New York apartment\", \"West Chelsea MINI\", \"Beautiful Modern and Cosy 1BR in Chelsea\", \"Sunny and Zen room in Chelsea\", \"Super Charming 1 Bedroom  in the Heart of Chelsea\", \"Modern, Fresh Chelsea, Athenas Apartment Room\", \"Cozy, Confortable,  Modern spacious and nice Room\", \"Quiet Cozy Chelsea Studio\", \"Spacious & minimal pre-war apartment\", \"Chelsea Studio Apt\", \"Beautiful and clean 2BR in prime Chelsea\", \"Beautiful Studio in Nomad/Flatiron\", \"Extremely large 1 bed in West Chelsea- Highline\", \"Super Nice, Quiet Modern 1 Bedroom in Chelsea\", \"Gigantic Private Space near 5th Avenue. Great deal\", \"Charming room in Chelsea\", \"\\u66fc\\u54c8\\u987f\\u5e1d\\u56fd\\u5927\\u53a6/Time square\", \"\\u66fc\\u54c8\\u987f/\\u5e1d\\u56fd\\u5927\\u590f/ time square\\u30102\\u3011\", \"Chelsea Proper\", \"Large 1 Bedroom in the Heart of New York City\", \"Chelsea Apartment\", \"Quality accommodation in a prime location!\", \"Bright, Modern, King Size 1-Bedroom in Chelsea!\", \"Charming Chelsea Bedroom steps from Highline Park\", \"Studio Gem in Heart of Manhattan (Chelsea)\", \"Highline Hudson Yards Studio\", \"Charming Chelsea Bungalow w/ Large Outdoor Terrace\", \"Cozy Chelsea Downtown Studio w/ Private Backyard\", \"Lovely, sunny & quiet 1br Chelsea apt w/balcony\", \"Chelsea Cabin\", \"Chelsea's best kept secret\", \"New York Chelsea Apartment\", \"Sun-filled Apartment in Great Location\", \"Pretty and cozy 2BR apartment in Chelsea\", \"+AAA Chelsea_global inspired  location. Large room\", \"Cosy Midtown New York Place, Ideal for 1 Person!\", \"Warm and Cozy two bedroom in prime Chelsea\", \"Chelsea Apartment\", \"Cozy 1 bed in amazing NYC location! (Chelsea)\", \"Neon Dreams - Private Bedroom in Chelsea\", \"Modern & trendy serenity\\u2014great High Line location\", \"1 bedroom apartment in Chelsea\", \"New York Chelsea Art Apt.\", \"Luxurious apartment with spectacular city views\", \"Private Studio Chelsea 23 x 8th Ave 30sec to train\", \"Bright and stylish 1 bedroom\", \"Newly Renovated, Spacious and Comfort Galore\", \"Adorable Chelsea Studio in best neighborhood!\", \"Cheery Chelsea Charmer... best location!\", \"CHELSEA HUDSON YARDS HIGHLINE ADORABLE APARTMENT\", \"beautiful apt. in Chelsea w/ a doorman\", \"In the heart of the city!\", \"Lovely studio next to Penn Station ,\", \"Glamorous studio in Chelsea\", \"Bedroom in Massive Loft Apartment\", \"\\u2b50$1.6 MILLION CHELSEA FLAT\\u2b50LUXURY AND LOCATION!\", \"\\u2606Cozy bedroom in Midtown | 1min to 4 subway lines\\u2606\", \"\\u2606Charming bedroom, 5min to Empire State Building\\u2606\", \"Sunny Bedroom in Chelsea Beauty!\", \"Gorgeous and spacious 1 BR in Nomad new listing\", \"Perfect location in Manhattan\", \"Elegant 2 bedroom in Chelsea\", \"Contemporary 2 bed with an Artistic Edge\", \"The perfect NYC flat in the Meatpacking / Chelsea\", \"Large Private Furnished Patio + Cozy Indoors\", \"Luxury NEW two level suite (Duplex) in Chelsea\", \"Stylish One Bedroom in Chelsea\", \"Private Studio apartment in the WV-Street Level\", \"Room in a beautiful chelsea apt. w/ doorman\", \"Lower manhattan 1 bedroom short or long term\", \"Vibrant Chelsea 1 bdrm sleeps  4\", \"Manhattan studio 7\", \"Modern NYC Apartment\", \"Spacious Studio with Amazing Views\", \"SPACIOUS BRIGHT & COZY 1BR in CHELSEA MANHATTAN\", \"Luxury Modern Artist Chelsea Apartment\", \"Super Luxury! XL Alcove Studio in heart of Chelsea\", \"Shared Apartment - 1 Bedroom\", \"Cozy Chelsea Apartment\", \"Vintage 3BR Chelsea Loft! Best Location!\", \"\\u66fc\\u5c9b\\u4e2d\\u57ce \\u5207\\u5c14\\u897f\\u533aCHESEA  21\\u8857 \\u95f9\\u5e02\\u4e2d\\u9759\\u6021\\u5982\\u5bb6\\u7684\\u7a7a\\u95f4\", \"Israeli Stay NYC\", \"Private bedroom in heart of Downtown Manhattan\", \"Immersive Chelsea's Art House! Great Location!!\", \"Bright Luxury 1 Bedroom next to the Highline!\", \"Large Chelsea Bedroom!\", \"Charming and Luxury 1 Bedroom Apartment\", \"Spacious, sunny 2 bedroom Chelsea apartment!\", \"Less is More - in West Chelsea\", \"Beautiful Chelsea townhouse bedroom\", \"Beautiful Chelsea Townhouse bedroom\", \"Cozy studio in Chelsea NYC\", \"Private & Quiet Oasis in the Center of NYC\", \"Manhattan/\\u5e1d\\u56fd\\u5927\\u590f/ time square\\u30103\\u3011\", \"Luxury High Rise with Private Balcony\", \"Private studio next to Penn\", \"Lovely Hudson Yards Stonehouse near Penn Station\", \"Affordable Studio Close to All the Action\", \"Entire 3 Bedroom in Central Chelsea Location\", \"Amazing 3BR Apartment - Incredible Location\", \"*Charismatic 1 BR Apartment in Heart of Chelsea*\", \"GORGEOUS WEST CHELSEA TWO BEDROOM with roof deck!\", \"Chelsea gem in the middle of Manhattan.\", \"\\u2605Spacious bedroom in Midtown | Centrally Located\\u2605\", \"Large 1 Bedroom Apartment in Chelsea\", \"Charming Garden Flat in the Heart of Chelsea\", \"Mid-Century Modern 6 Mil Chelsea Townhome\", \"AMAZING 2 BEDROOMS IN HEART OF CHELSEA!!!\", \"Private Room in the Heart of Chelsea\", \"AMAZING 3 BDRM IN MEATPACKING/CHELSEA/HIGHLINE!!\", \"AMAZING 5 BEDS CHELSEA/MEATPACKING. BEST LOCATION!\", \"AMAZING 2 BEDS IN MEATPACKING/CHELSEA MARKET!!\", \"\\u26a1Stylish Apt in Trendy Location!! \\u2b50\", \"Spacious and stylish 2BR in NoMad - brand new\", \"3 Bedroom by MSG + Empire State\", \"Luxury 2 BR Home in Hudson Yards\", \"Amazing 2 Bedroom Apt in Prime Chelsea\", \"Beautiful Chelsea Entire Two Bedroom Apartment\", \"Chelsea room near Highline\", \"Spacious 1 Bedroom in the heart of Chelsea\", \"Beautiful Bedroom in the Heart of New York\", \"Blissful Private Room in Chelsea\", \"Great studio located in Heart of Chelsea\", \"AMAZING ONE BED IN MEATPACKING/CHELSEA MARKET!!\", \"PRIVACY CHELSEA BEAUTY WITH PRIVATE ENTRANCE\", \"Luxury Penthouse  \\u2013 Chelsea \\u2013 Manhattan\", \"Sunny, quiet 2 BR apt in the heart of Manhattan\", \"Bright Chelsea Entire 2 Bedroom Apartment\", \"Quiet Bedroom in Modern Chelsea Apartment\", \"Private Room + Outdoor Space in Modern Chelsea Apt\", \"Astonishing Nomad Apt in the Center Of Manhattan\", \"Perfect location, beautiful apartment in the City\", \"Luxury Chelsea Studio\", \"New Studio Great Location in NYC\", \"Private queen bedroom next to Empire State Bldg\", \"2bed Home on Quiet Block Right by The Action\", \"SUPER COZY 2 BEDS IN BEST PART OF CHELSEA!!\", \"Clean One Bedroom\", \"Amazing rare duplex with two balconies in Chelsea!\", \"Modern and spacious studio apartment w/ elevator!\", \"Studio in the heart of Chelsea Manhattan\", \"Best View Modern Luxurious Huge 1BR in HudsonYards\", \"THE BEST VIEW AND LOCATION in Midtown\", \"Sparkling Clean Chelsea Studio Apartment\", \"One bedroom in Chelsea - Highline\", \"#Charming 1BR apt, Penn Station..\", \"Great Flat in Chelsea..\", \"Luxury Private Home NYC Connection\", \"Charming 1BR apt, Penn Station\", \"Luxury 1 bed with Views,\", \"Charming apartment in Chelsea\", \"Large, beautiful townhouse in Chelsea (Manhattan)\", \"Beautiful huge private room\", \"Beautiful Studio Apt in K-TOWN\", \"Amazing Studio Apt in the area of K-TOWN\"], \"legendgroup\": \"price_category=medium\", \"marker\": {\"color\": \"#636efa\", \"opacity\": 0.9, \"symbol\": \"circle\"}, \"mode\": \"markers\", \"name\": \"price_category=medium\", \"scene\": \"scene\", \"showlegend\": true, \"type\": \"scatter3d\", \"x\": [1.3453171999999998, 0.38937438, -3.7999758999999997, -4.9752812, 1.8010125, -18.482132, -3.6804662000000006, -12.866611, -13.288784, 15.320735, -11.321188000000001, -11.325981, 2.2708647, 0.45852622, 1.8996872999999999, 0.6941968000000001, -12.233958, 0.5684803, -13.683723, 14.041185999999998, -9.492655000000001, 9.654693, -5.62392, 10.801135, -11.3316765, -18.187387, -10.474242, 3.4021334999999997, 3.856496, -12.07056, 3.6042936, -12.808845, -10.249991, -16.486265, 5.6106443, 9.243363, 5.442531, -5.7942023, -11.909936, -7.813867999999999, -15.873687, 5.3952160000000005, -16.384933, -9.562014999999999, -12.75844, -16.655554000000002, -16.305243, -17.85991, -16.653147, -17.052843, -17.78197, -6.7639894, -11.695319, 8.2060375, -1.806818, -17.106582999999997, -11.739417, -18.83653, -12.406821, -14.258007999999998, -6.9246229999999995, -12.929578999999999, -15.558086, -2.563459, -18.010319, 4.369344, 6.277215, -5.0923905, -17.60945, -15.154871, 8.113007000000001, -15.169882000000001, -14.378114000000002, -12.526069999999999, -2.034487, -13.593785999999998, -7.090117, -13.77418, 0.8101596, -12.387881, 6.93881, 12.361463, -18.046415, -14.126487, -11.745882, -13.091700999999999, -4.134124, 4.219993, -8.932705, -11.689300999999999, 19.712877, -9.083060000000001, -15.588442, -20.124798000000002, -16.677495999999998, 9.796888000000001, -12.4993725, -18.502523, -16.321735, -16.591413, -16.589542, 8.166208000000001, -9.376430000000001, -11.084859, -7.6601872, -11.593891000000001, 4.670417, -14.014242999999999, -5.0925303, -12.779477, -10.666756, -8.973896, -11.897585000000001, -10.704398, -18.05846, -15.632045999999999, -9.126546000000001, -19.213202, -5.8201279999999995, -11.758669, -18.9402, -9.316444, -15.029397, -12.518125, -3.7341559999999996, -11.722934, -9.378086999999999, 9.239889999999999, -11.777075, -2.011711, -13.434184, 7.7969637, -11.78249, -4.1895366, -14.520323999999999, 2.9962566, -8.741004, -10.707555000000001, 0.9687503000000001, 0.77159315, -4.765826000000001, -14.197329000000002, 11.755773, -13.111885999999998, -3.9871898, -14.18009, -13.168019000000001, -7.184359, -2.8277197, -11.849012, -7.1341715, 11.461276, -7.426653, -4.38847, -0.62045026, -10.545268, -3.000397, -3.8184955, -8.904321000000001, 18.707047, 10.427665, -9.78471, -6.7138963, 10.418766999999999, 9.608589, 9.228108, -6.146913, -4.9633884, -9.419072, -10.447939, -10.921084, -8.766437, -9.863275999999999, -10.352394, -2.8224687999999998, 3.071672, -3.9531815000000003, -13.534931, 2.409131, -16.086056, 6.1755247, 11.515957, -11.437956, 12.694025, 3.0439715, -1.2644615, 4.373256700000001, -6.665374000000001, 9.222835, 12.604069, -10.521558, -3.0496554, -1.414962, -3.7286918, 9.531008, -12.0887, -12.022081, -1.1900438999999998, 9.083061, 9.091747, 5.684851999999999, -5.45292, -9.213416, 10.974381, -11.87963, 2.4630764, 5.649609, 18.169912, -9.205243, 1.6331562, -0.6281296999999999, 1.2773683, -14.307635999999999, -3.0496478, 8.182148, -5.911666, -3.3366413, -5.954091, 0.19948862, -1.6201864, -9.627978, 2.205891, 7.088112400000001, -8.25876, -6.3279815, -3.6671453, 11.406972999999999, 2.1865857, -5.033713, 13.945648, -9.932691, 6.833272999999999, 7.2127232999999995, -12.487759, 3.0648348, 14.5723095, 8.157303, -8.251752999999999, -2.6259662999999995, -5.736656, 14.034721, -7.1475186, -2.9824026000000003, 8.705703, -3.1229258, -6.5330753, -5.811054, -1.7380311000000002, 5.924905, 5.888099700000001, 18.411072, -0.33182976, -2.7406313, -9.850635, 9.976894, 9.405046, -9.818419, 8.566256, 2.1857580000000003, -3.59635, 8.36314, 1.1922916000000001, 3.2419941000000003, -1.9225720000000002, -9.556429, 0.059532005, -10.884793, -9.151827, -12.183835, -10.934614999999999, -1.3183241, 11.842125, 2.4523029999999997, 6.4434156, 6.488907299999999, 10.473834, -10.52565, 2.6906908, 13.042579, -2.5360587000000003, -2.5593114, 2.8021276000000004, -4.3846207, -5.716792, 12.336943, -6.791042299999999, -8.904196, 7.863371400000001, 20.584652, 8.434479, 18.224897, 17.978796, 1.8833567, 1.1320264, -0.7302441999999999, -2.7679935, -4.3282894999999995, -11.46355, -4.4450199999999995, -5.951129, 7.643006, 10.172028, 6.436829, -8.0053005, 18.418552, 1.1678808, 6.844852, 5.94538, 9.89759, 1.5991232, 5.9786019999999995, 15.596591, 4.937239599999999, 7.887995200000001, -4.004575, 3.0118522999999997, -6.2228956, 0.13206483, -8.162476, 13.529235, -1.505833, 10.579101, -4.306838, 14.622532000000001, 1.9649130000000001, 10.366296, -0.35340947, 9.394634, -4.1974993, 17.056168, 7.1904163, 7.191544500000001, -0.9324752000000001, 4.3737260000000004, -2.0378842, 0.51791817, 0.48592764, -2.7879846, 15.394677, 5.3197074, 14.799398000000002, 10.8001175, 2.2566585999999997, 1.3124708999999999, 14.288841, 2.3146846, 5.2461433, -1.1625963, -1.8628468999999996, 2.0976782000000003, -4.797368, -10.974298, -14.243355, 8.337129, 9.873424, -1.6071995000000001, 0.04522536, -0.43817794, 13.722558, 3.9051400000000003, -8.416905999999999, -1.2121773999999998, -4.437468, 18.131975, 18.161697, -7.5567025999999995, 13.739196, 18.134498999999998, -11.68502, -3.0680153, -2.288241, 6.3460160000000005, 9.672114, 2.003073, -1.2557453, -4.72098, 9.195711, 7.1907277, 4.675908, 1.6505903999999998, 4.288298999999999, 9.524372999999999, -0.45768159999999997, 2.2762187000000003, 2.2634459, 2.3036819, -6.764469999999999, 0.9926586, 15.350525, 6.606292999999999, 8.117788000000001, 8.416265, 5.612122, -0.49925733, -1.5326456, -3.4560804, -1.4664772, 1.1563341999999999, 10.603622, -11.212542, -2.6308792000000003, 5.328281400000001, 3.581111, 3.5757112999999996, 8.704595, -9.415019000000001, -11.654914999999999, -1.3218461000000001, 2.893077, 2.5047696, 2.32013, -10.718351, 1.8938583999999998, -1.6369832, -2.6195009999999996, 6.450293, 7.08692, 4.1879506, 8.526703, 19.913079999999997, 7.3346276, 7.451954400000001, 19.254618, 15.079010999999998, -7.143745399999999, 3.111577, -0.48538919999999997, 2.2498803, 2.2180974], \"y\": [18.529942000000002, 19.270704000000002, 5.109456, 16.95117, 0.9976563, 3.4267241999999998, 18.988419, -5.1247444, -2.3674395, 3.0549586, -8.943552, 10.2803545, 18.504402, 18.290995000000002, 11.089286999999999, 17.964743, 10.294209500000001, 14.223903, -12.03411, 14.309188, 10.800758, 17.239342, 8.469536, 11.218335, 16.121357, 5.777721, 13.188574, 14.338479000000001, 6.406817, 6.332698000000001, 14.6625, 10.642342999999999, 9.626225, 1.9933336, 13.984371, 7.929138000000001, 14.105138, 12.985299000000001, 12.678185000000001, -10.304616000000001, 4.718982700000001, 14.290641, -3.4822047, 13.575181, -10.912410000000001, 5.5896300000000005, -1.4729292, 4.917772, 8.286946, 5.552645, 3.740913, 15.933974, 13.621410999999998, 15.588923000000001, 0.13218907, 4.397837, 10.055887, 10.43554, 10.1383095, -3.0122763999999997, -10.513936, -11.923614, -0.16293126, 13.277628, 0.27302158, 16.332542, 10.248433, -5.9275400000000005, 4.9093103, -1.999654, 6.922194, 8.167598, -2.4065406000000005, 2.9054704, 14.614635, 0.008877346, -14.110385999999998, 11.258337, -12.060365, 10.125497, 11.747875, 3.5752208, -1.019533, -3.2161982000000005, 10.456824000000001, -3.2420971, -2.6223363999999996, 14.36795, 9.011571, -0.6076366999999999, 6.118057299999999, 14.768139000000001, 2.2960648999999997, 11.135765, 3.8284402, 16.290423999999998, -3.679307, 0.29603523, 1.8001976000000002, 5.828507, 1.3347461999999999, 16.916367, 14.642449, 13.514084, -15.178391, -1.8240428, 1.3744079, 6.7439103000000005, -15.052707999999999, -3.616175, 12.965516000000001, -1.5233971000000002, 8.961819, 13.806184, 5.4777846, 2.023792, 14.165227999999999, 7.664397200000001, -1.3478099, 4.328461, 5.914353, 9.405491, -7.888719999999999, -5.013758, 7.683736, -3.3376124, -1.07587, 1.3666853, -2.4344912, 5.6152225, -4.075268, 10.943067999999998, 9.279752, -1.9606874, 5.4068613, 12.080895, 0.60475487, 7.8669305, 0.95325756, 0.8344511, -1.814947, 7.835577499999999, -2.0190495999999998, -7.7424293, 14.272877, 5.3560724, 11.161636999999999, 4.1839303999999995, -7.46815, 10.715931, -9.890471, 17.844675, 1.113577, -2.1142027000000003, 14.6389475, 2.5994081, -10.076497, -5.129436, 3.0164928, 13.487997, 2.7878125, 0.25537923, 4.145497, 10.25937, 7.242978599999999, 13.17941, -4.906904, 8.542558, 9.404531, 13.737682999999999, 7.1264286, -8.385117999999999, 12.017124, -9.497793, -5.097763, 0.8530796999999999, -4.505939, 6.1394525, -4.707852, 4.529705, 5.276986, 0.029176857, -8.146123, 1.2815626, -2.3627472000000003, 1.4810268, 7.6032734, -9.728135, 13.063208, 5.3261647000000005, -12.280247, 9.0908785, -3.4678942999999998, 2.5949798, -6.0970515999999995, -12.760852, 4.2187295, -1.9845621999999998, 12.882385000000001, 12.873483, 9.615877000000001, 12.693896, 9.168168, 6.2333, 1.7519711, -19.585361, 18.757133, 6.5380235, 8.555091000000001, 11.51862, -7.7741194, -2.4418812, 4.9895163, -4.369807700000001, 12.68641, -13.905543, -5.082231, -10.12531, -2.0281327, 5.1993566, 13.93714, -9.074897, -4.544658, 3.796871, 5.4519663000000005, 7.2992716, 1.8954445, -2.6545045, 0.91810536, -2.5339477, 2.6275077000000002, -17.67895, -6.125538, 2.480459, -5.9151607, 0.31523955, -1.0171858, 5.4685654999999995, -13.681951500000002, 9.175872, 6.2973914, -9.062654499999999, -7.8940716, -8.204174, -2.5411105, 9.920785, 1.5672609, -10.820922999999999, 14.303013, 5.493355, 0.676672, -7.2975745, -3.8858786, 1.3501039, -2.8048672999999997, 3.2478714, 11.541742999999999, -7.7630906, -7.2278385, 2.7376169999999997, 5.933519400000001, -19.055323, -9.327010000000001, -9.612789, -11.459845, -5.236201, -12.021606, 4.7614255, 5.751336, 6.846443700000001, -8.040218, 1.5026795, -10.706145, 4.452149400000001, 5.580035, 2.776684, 6.8913, 7.482149000000001, 1.2118288000000002, -13.999929000000002, -13.996959, 14.879885, -5.1004366999999995, 0.6884607, -0.08373812, -10.473514, 5.5395255, -6.3483410000000005, 8.344569, -10.925445, -4.623672, -4.7916756, -6.816457300000001, -2.5317872, -13.770396, 0.24348041, 7.000022, -0.75028175, 8.667644000000001, -6.922183, 6.390439499999999, 1.9785043000000002, 14.713657000000001, 11.223756, 3.3005002, -6.512839, -14.84724, -6.426894, -15.974839000000001, -5.9551563, -6.4878086999999995, 2.2764688, 12.528507000000001, -3.8429883, 7.239024000000001, 14.8640175, -3.7106260000000004, -9.560545, -2.2650063, 0.42661235, -0.36572117, 1.9300868999999998, 10.39513, -0.8459216999999999, -18.404366, 0.5305781999999999, -4.0304585, -7.573428, 1.0390452, 0.53827673, -4.7656364, -4.8086696, -9.006244, -5.4917355, -11.450333, -4.6969185, -4.6934905, -7.9507685, -0.78322154, 11.543698, 1.2752868999999998, -0.3634594, -18.200418, -12.704523, 0.47367653, -12.283797999999999, 7.045926, -12.919505000000001, -7.316453999999999, -6.865729300000001, 2.8652158, 2.337081, 8.902372999999999, -3.8607366, -4.43055, 6.9937195999999995, -8.940392, -3.8320029000000004, -0.19485986, -1.5895274, 0.5464901999999999, -8.058422, -4.744632, -3.3148258000000004, -3.3022443999999997, 7.5309405, 0.9111232, -4.6505904000000005, 15.639515, -14.448807999999998, -4.854882, -8.825942999999999, -8.618507000000001, -4.113828, -5.4222155, 3.33742, 1.3027925, -4.764124400000001, 14.796516, -4.675523, -7.871214999999999, -5.5882597, -1.5450491000000002, -4.4744167, -4.4726989999999995, -4.476871, 14.603720999999998, -6.544367, 0.47536388, -4.7997303, -3.7324572, -6.1196322, -15.202498, -8.288443, -12.078273, -11.926393, -8.174728, -7.795122, 0.9999608, 4.000112000000001, -3.354543, -6.491198000000001, -6.2428254999999995, -6.250676599999999, -6.729792999999999, 2.2115989, 15.928111999999999, -11.778707, -13.686881, -5.202186, -4.476348000000001, 6.7736925999999995, -6.000698000000001, -6.6226625, -12.598684, -4.8873887, 0.49137179999999997, -2.0594497, -7.201859, -0.0033592603000000003, 10.821171000000001, -4.826997, -0.024034556000000002, 4.5188, 2.5222695, -13.387898999999999, -11.436419500000001, -5.0233099999999995, -5.001531], \"z\": [2.5068882, -0.36470884, 3.9131348, -6.160468, 13.901056, -4.686839, -7.828578500000001, -1.2228223999999999, -5.6922274, -10.711421000000001, -8.051, 3.7386985, 1.2374058000000001, -0.24185851, 5.079662, -3.762051, 3.3239739999999998, 2.6744567999999997, 9.402307, 4.666355599999999, 4.256436, -3.9333562999999994, -10.060344, 3.1919415, 1.707191, 7.090631, -4.580487000000001, -6.679116199999999, -1.0758603999999998, 3.5067065000000004, 4.4759307, 7.105702000000001, 4.617557499999999, -8.456017999999998, 6.059634, -1.4424533000000002, 5.802253, -16.772314, 2.2494535, -8.6654, 5.652743, 8.613126, -6.939164999999999, -4.454262, 7.8016744000000005, 5.1020080000000005, -6.0532045, -7.3854809999999995, -8.65545, -8.417491, -8.000059, -4.997117, 4.4684873, 0.47058618, 11.162061999999999, 5.269204, -10.426336000000001, 3.4751108, -9.739022, 7.119222, -8.910224000000001, 4.7189927, 8.162034, -8.503762, -6.327738, 3.6598105000000003, 8.680071, 7.3544054, 5.6191406, -2.6897187000000002, 8.515439, -10.800310000000001, 5.502815200000001, -6.767286, -2.84393, -2.615827, -4.5742908, -3.718915, 4.7172747, 10.224945, -1.3048084, -6.930033, -5.1282935, 6.190815, 0.0756304, -10.296056, 11.830428, -6.560242999999999, -13.230132000000001, -6.4505057, 3.8438, -4.8913765, -10.563238, 4.9738765, 0.039885744, 0.85130686, -9.736702000000001, 1.9177623, -8.861145, -5.3017273000000005, -9.2876215, 2.101854, -4.237216, -4.303511, -2.9650755, -6.976216, 0.37177417, -3.7861216, -6.685687, -10.074591999999999, 3.2505906, -2.125394, -3.082622, -8.8406315, 9.27988, 2.7302966, -8.127122, 12.071617999999999, -9.020091, -12.877968, 11.003835, -8.130183, 3.808404, -0.7726965, 6.7643933, -15.873163, -12.324932, -10.160886, 10.433995, 6.4253290000000005, -8.615536, -10.383678999999999, 7.414362, 12.732458, 6.4330106, -5.806291000000001, -16.500868, -2.6576552, -8.136177, -7.659321, 8.330631, -2.3198833, -8.136828999999999, -8.536839500000001, -8.527168, 11.591347, -0.45750406, 9.071926, -8.119046, -0.062121708, 8.832500999999999, -3.5730254999999995, -18.01083, 12.346107, 6.939843700000001, -9.49437, 13.923963, 4.559563, 6.130018700000001, 0.6752956999999999, -9.299872, -4.848838, 1.0715322, 0.083152, 6.962888700000001, -9.751411000000001, -5.115737, -16.495451, 2.4801185, -7.792266400000001, 8.670828, 1.6374578000000002, -8.847710000000001, 12.493967, 8.612134, -9.366323, 14.336870000000001, 1.4765038000000001, -7.9123779999999995, -11.599924, 12.918185000000001, -4.910697, -16.920763, -0.33382670000000003, -9.357447, 11.481786, -2.8519924, -1.1759661, -9.774881, 1.9885161, 5.7456646, -11.589846000000001, 8.619041000000001, -18.047728, -12.82737, 11.376781, -17.628239, -3.094105, -9.957668, -9.922535, -1.057134, -0.2220984, 16.314703, -1.7447168999999998, -1.8185292000000002, 3.819544, 6.3685904, 1.6844580000000002, -1.9961076000000002, 11.242128, -2.7272103, -7.307232000000001, -8.053958, 9.038041, 2.2833352000000002, 2.352806, -13.968944, -0.95624393, 16.521, 7.067014, 0.88622236, -15.234647, -11.042014, -0.16317672, -14.120588, -9.189451, -3.5277324, -6.961, -5.794124, -8.540399, 1.8368438000000002, 8.3765745, -11.405086500000001, -12.333775, 2.0476391, -8.752591, -13.176093, 14.807513, -7.850548700000001, 10.745051, -9.611932000000001, 8.893745, -7.956406599999999, -12.868913000000001, -16.154957, -5.745191, -9.620661, -16.802210000000002, 13.334118, 4.0671425, -8.405917, 17.014292, 14.865526999999998, -5.014719, -4.73928, 16.304445, 15.392373000000001, -13.157712, -17.036438, -4.224583, 13.616399, 11.622523, 8.809113499999999, 17.020575, -3.8713032999999997, -11.459512, 13.27749, 14.900926, 2.9141457, -2.3719938, 17.435760000000002, 1.2914008999999997, -15.514135000000001, 14.381192, 3.0413759999999996, -9.205781, -2.2079932999999996, -4.2149982, -2.0743933, -13.214611999999999, -13.133038500000001, 11.756439, -4.0464077000000005, -4.7488112000000005, 0.01978688, 8.42314, -7.085433, -9.287972, 8.243855, 4.392328, 1.4279898000000002, 1.5235571, -6.8503637, -7.63934, 7.790058999999999, -8.046047999999999, -0.49466828, 9.350184, 1.8483021000000002, 13.360187, 5.681986, 3.9978836, 10.638852, 10.701232000000001, -0.87918544, -2.920805, 0.96723855, -9.94891, 1.4025444, -8.021823, -10.053866000000001, 3.0793178, 11.595485, -1.3018702, -0.15036641, 11.670346, -1.9507418, -14.539306, 8.305242999999999, -8.544025999999999, 5.6037335, 2.333814, 3.2521082999999997, -2.2728095, -2.5309324, 12.411625, -4.3567976999999996, -11.093606, -11.402046, -3.7091343, -4.408526999999999, -4.3962536, 4.30494, -7.6235094, 0.40771815, -6.5047727, -6.558695299999999, -0.4373892, -3.3106324999999996, 10.878392, -7.5547813999999995, 2.8724995, -2.4539522999999996, -14.008438, -8.310868, 4.7964139999999995, 1.6108192, 10.965726, 15.929336, -0.9362671, 1.5395223, -2.189806, 11.30615, -9.818945, 13.478010000000001, -11.67987, 2.5656075, -4.5632176, -9.0685425, 9.242613, -4.15146, -13.523416500000002, 15.325303, -0.22440875, -0.20205684, -4.599036, -3.5199711000000002, 1.4977216, -2.4446220000000003, 11.885197999999999, 12.958916, -8.106494, -12.654278999999999, -2.0102314999999997, 2.3051152000000004, -1.9181068, 4.6535269999999995, -4.4078693, 9.971067, -1.205396, -10.697965, -10.216693, -16.566187, -0.37384686, -0.38149562, -0.35209809999999997, 8.952819, -7.6259336, -1.8947832999999998, -14.0242, -11.841498, -10.872049, -3.4894953, 10.930303, -12.275379, -13.6355505, 11.340821, 15.457398000000001, 11.003153, -0.66439503, 0.0089258645, -13.948860999999999, 3.3676114, 3.3646982000000003, -10.767119000000001, -1.3204622, -3.9131055, 11.337586, -15.644608999999999, -2.4151235, -0.3375537, -2.3011515, -7.8185534, 9.040458000000001, 8.871182000000001, -14.252542000000002, 15.5378065, -1.5753101999999999, -9.475155, -1.9276351999999999, 11.567555, -14.792485999999998, -2.4508755, 12.564196, 0.11036079, -12.957466, -0.25012717, -7.3582306, -7.3711899999999995]}, {\"customdata\": [[125.0, 3.0], [99.0, 2.0], [109.0, 3.0], [90.0, 3.0], [76.0, 3.0], [90.0, 3.0], [84.0, 2.0], [90.0, 3.0], [85.0, 2.0], [115.0, 3.0], [120.0, 3.0], [70.0, 2.0], [135.0, 3.0], [110.0, 3.0], [130.0, 3.0], [100.0, 3.0], [109.0, 3.0], [52.0, 2.0], [139.0, 3.0], [46.0, 1.0], [125.0, 3.0], [55.0, 2.0], [85.0, 3.0], [75.0, 2.0], [90.0, 2.0], [78.0, 3.0], [120.0, 3.0], [89.0, 2.0], [134.0, 3.0], [90.0, 2.0], [100.0, 3.0], [49.0, 1.0], [65.0, 3.0], [140.0, 3.0], [40.0, 3.0], [89.0, 2.0], [98.0, 3.0], [125.0, 3.0], [84.0, 2.0], [80.0, 3.0], [99.0, 3.0], [70.0, 3.0], [85.0, 2.0], [75.0, 2.0], [69.0, 2.0], [85.0, 2.0], [90.0, 3.0], [65.0, 3.0], [85.0, 3.0], [75.0, 2.0], [92.0, 2.0], [100.0, 3.0], [139.0, 3.0], [85.0, 2.0], [120.0, 3.0], [60.0, 2.0], [100.0, 3.0]], \"hoverlabel\": {\"namelength\": 0}, \"hovertemplate\": \"<b>%{hovertext}</b><br><br>price_category=low<br>X=%{x}<br>Y=%{y}<br>Z=%{z}<br>price=%{customdata[0]}<br>minimum_nights=%{customdata[1]}\", \"hovertext\": [\"Chelsea Studio sublet 1 - 2 months\", \"Shabby Chic Modern Chelsea Studio\", \"BIG room in fun loft \\u2013 heart of NYC\", \"Room in Chelsea New York\", \"Perfect cozy PRIVATE room!!\", \"Lovely Room in Awesome Apartment - Fun/Convenient\", \"Private BR in Chelsea (women or couples only)\", \"Large artsy studio with 90s style\", \"Living Room sofa Bed in Chelsea2\", \"Cozy little studio in Chelsea\", \"Great location, great value\", \"1st Time/Solo/Duo Travelers!Charming Studio Share!\", \"Cozy Chelsea Studio\", \"Private bedroom in Chelsea\", \"New Building, Best Location in NYC\", \"Chelsea Charm: shared apartment\", \"Massive, Cozy, Modern 1BR in Heart of Chelsea!\", \"Furnished Apartment in Chelsea\", \"Large Room, High Floor w/ Views - Times Square\", \"Extra Bed in a Cozy & Sunny Studio\", \"Chelsea Apt w/ Private Rooftop Deck\", \"Penn Station / Chelsea North room\", \"Cozy Alcove, Chelsea Doorman Bldg, Near Everything\", \"1st Time/Solo Guests: Charming NYC Apt. Share!!!\", \"Spacious Private BR in Chelsea\", \"Private Room for 2 in Midtown West \\u2606\", \"Clean and Cozy Room in Meatpacking District\", \"Private Room in Large Two-floor Apt w/ Backyard\", \"Chelsea Haven--Summer Sublet\", \"\\u25b3PENN STATION ,Private room with Full kitchen\\u25b3\", \"Heart of Chelsea Private room in a serviced 2BD\", \"Manhattan Phenomenal Deal! BEST Chelsea Room\", \"NYC adventurous getaway!\", \"Chelsea luxury apartment\", \"Chelsea, Minutes to Time Square, Next to Subway\", \"Huge One of A Kind Loft West Village/Meatpacking\", \"Best location \\u2022 Luxury building \\u2022 Quiet \\u2022\", \"Chelsea, Manhattan Large Private Bedroom for 2\", \"Art Lover\\u2019s Dream! Chelsea Delight!\", \"Private room amazing location Chelsea/Union Square\", \"Private bedroom in large Chelsea apartment\", \"Private Room in The Heart of Manhattan\", \"Sunny Bedroom at Union Square\", \"Charming Loft apartment with great light!\", \"Modern Spacious Studio in the Heart of Chelsea\", \"Living Room sofa Bed in Chelsea\", \"Spacious Room in a Historic, Beautiful Apartment\", \"Perfect Location! Your Oasis in Heart of Chelsea\", \"Small cozy  private room near time square\", \"\\u25b2Private Cozy Room at Madison Square Garden\\u25b2\", \"Conveniently located Chelsea 2br\", \"Gem in the heart of Manhattan\", \"Sunny Chelsea Loft\", \"A private bedroom in Chelsea , Manhattan.\", \"Large room + king-sized bed available in Chelsea.\", \"Clean and bright Chelsea apartment - NYC\", \"STUDIO W/  PRIVATE BALCONY IN MANHATTAN\"], \"legendgroup\": \"price_category=low\", \"marker\": {\"color\": \"#EF553B\", \"opacity\": 0.9, \"symbol\": \"circle\"}, \"mode\": \"markers\", \"name\": \"price_category=low\", \"scene\": \"scene\", \"showlegend\": true, \"type\": \"scatter3d\", \"x\": [-8.011493, -12.401497, 1.716061, -7.0877924, -6.857162, -1.0045415000000002, -6.7686615, -16.993698000000002, -7.303006, -15.455729500000002, -8.664619, -0.30154544, -10.67976, -9.626576, -12.366685, -0.109563865, -7.9515899999999995, -4.994769, -7.869548, -5.5579019999999995, -10.891781, -10.407563, 0.9539267, -12.398008, -9.582736, -0.9382514000000001, -6.2237425, -8.732571, -9.330914, -0.9343851000000001, -3.5597436, -10.699693, 0.41725853, 19.587920999999998, -2.953801, -5.370229, 3.5679296999999996, 20.853079, -3.4488857000000004, -8.245538999999999, -7.064557000000001, -0.9517745000000001, -3.2220676, 3.5482883000000003, 13.668033, -0.89826673, -7.1092377, -1.7548933999999998, 7.1007967, 8.361692, -8.972717, -3.2596064, 1.480787, -6.443109, -2.64531, -5.551787, -2.929472], \"y\": [-10.242352, -8.588446000000001, 11.211594999999999, -4.1997514, -4.2466135000000005, 12.920407, 7.2507753, 5.0248733, -1.7144032, -7.898592999999999, 12.696986, 5.099008, 11.012371, -13.463057500000001, 4.9683532999999995, 11.757324, 13.395364, -1.5605122, -10.017111, -7.420418700000001, -9.412964, -2.4802787, 15.413129999999999, 13.74726, 1.9969107, 5.9982295, 5.4947433, -7.550205, 7.0043169999999995, 6.004882299999999, 3.6529345999999996, -8.582239, -21.375431, 10.078427, -4.022454, -11.347672, 5.452685400000001, -5.554547299999999, 5.680118599999999, 4.512771599999999, -3.210643, -12.759817, 2.5605621, -17.560354, 2.6819696, -6.1716055999999995, -3.2327585, -8.508453999999999, -12.714216, -11.085065, 4.954855, -6.047272, 11.916285, -3.6157067000000005, -12.928816000000001, -13.284804999999999, -14.457898000000002], \"z\": [-9.682402, -6.1457486, 9.958287, 3.9369379999999996, 5.5926733, 11.374725999999999, -13.678420000000001, 1.0768731000000002, 3.1922822, 7.185185000000001, 2.0395117, -5.639372, 1.1721979999999999, -6.409657, -12.084832, -12.22658, 6.189082, -14.885866, 3.188843, 3.0087907000000005, -7.806810400000001, 11.537445, 4.059998, -8.625815, -13.886089000000002, -20.074259, -17.382666, 1.2116182, 1.3064079, -20.047933999999998, -19.277867999999998, -16.331535000000002, 8.410668, 0.27019190000000004, 4.214065, 4.5224686, -0.8938195999999999, -9.058633, 13.009275, -10.67808, -15.4758, -3.598393, -13.331128, 6.659144, -1.5451926, 9.616556, -16.211529000000002, 4.084500299999999, -3.4296792000000003, 4.501774, 14.873910999999998, 4.828682, -0.10168833, -13.923347, -11.281507000000001, -10.595, 11.783522999999999]}, {\"customdata\": [[250.0, 1.0], [385.0, 1.0], [200.0, 1.0], [900.0, 1.0], [750.0, 2.0], [1000.0, 3.0], [200.0, 1.0], [235.0, 1.0], [370.0, 1.0], [230.0, 1.0], [500.0, 1.0], [215.0, 1.0], [300.0, 1.0], [400.0, 1.0], [240.0, 1.0], [900.0, 3.0], [400.0, 1.0], [1495.0, 2.0], [200.0, 1.0], [295.0, 1.0], [250.0, 1.0], [350.0, 1.0], [200.0, 1.0], [210.0, 1.0], [215.0, 1.0], [215.0, 1.0], [200.0, 1.0], [500.0, 1.0], [200.0, 1.0], [300.0, 1.0], [800.0, 1.0], [250.0, 1.0], [200.0, 1.0], [250.0, 1.0], [250.0, 1.0], [225.0, 1.0], [500.0, 2.0], [450.0, 2.0], [325.0, 1.0], [299.0, 1.0], [500.0, 1.0], [220.0, 1.0], [425.0, 2.0], [225.0, 1.0], [350.0, 1.0], [206.0, 1.0], [200.0, 1.0], [300.0, 1.0], [225.0, 1.0], [225.0, 1.0], [295.0, 1.0], [240.0, 1.0], [450.0, 2.0], [1100.0, 3.0], [999.0, 2.0], [225.0, 1.0], [230.0, 1.0], [200.0, 1.0], [429.0, 2.0], [275.0, 1.0], [250.0, 1.0], [225.0, 1.0], [900.0, 2.0], [200.0, 1.0], [800.0, 1.0], [625.0, 2.0], [220.0, 1.0], [400.0, 2.0], [795.0, 3.0], [425.0, 2.0], [200.0, 1.0], [200.0, 1.0], [3000.0, 2.0], [250.0, 1.0], [250.0, 1.0], [249.0, 1.0], [333.0, 1.0], [440.0, 2.0], [450.0, 1.0], [850.0, 1.0], [210.0, 1.0], [299.0, 1.0], [229.0, 1.0], [269.0, 1.0], [781.0, 1.0], [275.0, 1.0], [799.0, 1.0], [225.0, 1.0], [833.0, 1.0], [225.0, 1.0], [400.0, 1.0], [250.0, 1.0], [236.0, 1.0]], \"hoverlabel\": {\"namelength\": 0}, \"hovertemplate\": \"<b>%{hovertext}</b><br><br>price_category=high<br>X=%{x}<br>Y=%{y}<br>Z=%{z}<br>price=%{customdata[0]}<br>minimum_nights=%{customdata[1]}\", \"hovertext\": [\"Comfort at Crossroads of Downtown\", \"Amazing 1 bedroom apt with NYC View\", \"Beautiful Brand New Chelsea Studio\", \"SUPER BOWL 2014 in TRENDY CHELSEA!\", \"Spacious 1BR Chelsea Apt. for SB 48\", \"Spacious 2 BR in North Chelsea\", \"West Chelsea Brownstone Apartment\", \"Spacious Junior 1BR Apt in USQ/Flatiron\", \"Mellow One Bedroom in Chelsea \", \"Modern 1BD Chelsea Apartment\", \"Awesome Apartment near Times Sq.\", \"Beautiful Apt - Flatiron/ Chelsea\", \"2BR Entire Floor Apt in Flatiron\", \"Mod. Apartment NYC w/ Outdoor Space\", \"Cozy Chelsea Carriage House Apt\", \"Amazing apartment with great views\", \"NYC Brownstone Duplex With Backyard in Chelsea.\", \"Designer Fifth Ave 4BR 5Ba 6,000sf Modern Loft\", \"Sunny Studio in Chelsea\", \"Chic and homey Chelsea Studio\", \"Awesome Studio in Chelsea\", \"Chelsea Square Apartment\", \"Cozy & Super Convenient Studio!\", \"A charming Parisian style apartment\", \"Chelsea Chic\", \"Studio in Full Service Chelsea Bldg\", \"Couch for the Night\", \"MASSIVE UNION SQ LOFT - Labor Day\", \"2 Bedroom Near Meatpacking\", \"HUGE 3Bedroom Duplex in Meatpacking\", \"The Epic: Right by MSG\", \"14th St 1BR\", \"Alcove Studio in Heart of Chelsea!\", \"Beautiful Quiet Chelsea Apartment\", \"Beautiful 1BR in Chelsea\", \"Quaint 1BR In West Village\", \"2 BR Pent House Loft in NYC!\", \"Spacious 2-Bedroom near Highline\", \"True 2 BR in heart of Chelsea\", \"Designer Duplex - Highline. Brand new mattresses!\", \"Luxury doorman building w amenities\", \"Entire 2br apartment in the heart of Chelsea\", \"Modern Luxury Chelsea Apt w/ Large Sunny Patios\", \"Chelsea Apartment (2 bedroom)\", \"Luxury building- 2BR/2BA in Chelsea\", \"Best Place in the Center of NYC!\", \"Highline view\", \"Chelsea Flat steps from Herald Sq\", \"Flatiron Oasis\", \"AMAZING CENTRAL MANHATTAN 1 BED W/BALCONY FITS 4!\", \"1 Bedroom townhouse apt in Chelsea w/ back garden\", \"Tree lined, light-filled in Chelsea\", \"CHELSEA 3 BEDROOM APARTMENT WITH PRIVATE GARDEN!!!\", \"Elegant apt in the heart of the Flatiron District\", \"Luxury Full-Floor 2 Bed Loft w/Huge Private Roof\", \"Trendy, Fully-Renovated Studio in West Chelsea\", \"Hey!!! Check out this apt. On our new link!!!\", \"MASSIVE ROOM IN HEART OF NYC!!! (CHELSEA/FLATIRON)\", \"Amazing Space For Your Chelsea Stay\", \"New York City living\", \"Maison 130\", \"Luxury Alcove Studio in Chelsea\", \"Lavish 3 bedroom near Penn Station / MSG\", \"AMAZING STUDIO IN CHELSEA (up to 4) Special price!\", \"Luxury Chelsea Condo on the High Line park\", \"Spacious & Sophisticated in Chelsea\", \"Luxurious, Modern Studio in Heart of Chelsea, NY\", \"Global Beat Apartment Hideaway in Manhattan\", \"Surrealist Luxury Loft\", \"Modern, spacious NYC apartment\", \"Cozy 1 BDRM in Union Square\", \"Private Sun-Splashed Studio Chelsea\", \"Massive Loft in the Heart of Union square\", \"Modern Chic Studio\", \"1 Bedroom/1 Bath Apt in Hudson Yards/Midtown West\", \"Chelsea Luxury & Cozy 2 Bedroom Apartment\", \"Five-star luxury Apt in Chelsea !\", \"\\u201cEpic\\u201d The highest apartment in New York\", \"Gorgeous Chelsea apartment\", \"DUPLUXURY Apartment 5 Star Duplex\", \"AMAZING CHELSEA Apartment HUGE space\", \"Two-Bedroom Apartment in Meatpacking District\", \"CENTER of NYC Lux + Style *****5Stars\", \"Cozy & Modern Chelsea Studio\", \"Beautiful Home in Center of NYC\", \"Beautiful 2 Bedrooms in the heart of NY\", \"Gorgeous RELAX + LUX with 5beds2baths\", \"Modern Luxury in Chelsea - Prime NYC Location\", \"Royalty Traveling SPACE AND LUXURY Home\", \"CLEAN CHIC CHELSEA NYC\", \"Gorgeous Chelsea 2/2 Luxury Bohemian Chic\", \"Highline Heavan\", \"Brand New, Super Comfortable 2 BR Apt In Times Squ\"], \"legendgroup\": \"price_category=high\", \"marker\": {\"color\": \"#00cc96\", \"opacity\": 0.9, \"symbol\": \"circle\"}, \"mode\": \"markers\", \"name\": \"price_category=high\", \"scene\": \"scene\", \"showlegend\": true, \"type\": \"scatter3d\", \"x\": [-15.368417, -12.309878, -11.707626, -19.423023, -9.697488, -8.052348, -14.053095, -9.242386999999999, -15.549712, -6.2140856, -8.658987, -6.1804824, -18.996548, -17.88749, -7.436261, 4.853279, -15.245360999999999, 14.80561, -19.822110000000002, -5.473827, -8.167605, -14.562572, -8.123559, 4.536228700000001, 6.0444593, -12.838319, -9.453832, -8.304382, -11.470585, -15.771927999999999, -12.0387, -12.522356, -14.10043, -16.725782000000002, -7.946784, -4.2819986, -11.920689999999999, -11.309436999999999, -18.205719000000002, -4.3566008, -13.994451000000002, -8.944977, 9.318511, -10.545127, -15.389764999999999, 4.570616, -9.207894999999999, -9.33655, -7.2560863, 15.511527, -6.466685, -9.699088, 8.729616, -10.042603999999999, -10.443983, 3.514179, 13.553253, -3.7450428, 3.9007263, -1.4602334, -8.090522, 7.134312599999999, 17.392063, -10.954407000000002, 18.20275, 16.05115, 12.033108, 9.913633, 2.5993786, -5.415962, -5.073993, 12.965529, -6.044443599999999, -4.6702695, 7.695525999999999, 3.1204697999999995, -2.371716, 2.2134497000000004, 5.8745074, -5.8870005999999995, 15.779678, -0.31762514, 7.221866, -2.5044136000000004, 1.4662146999999999, -8.583677, -0.11717910000000002, 2.2298869999999997, 8.344352, 8.426675999999999, 16.687078, 7.7904539999999995, 14.457422], \"y\": [8.520699, 14.641964999999999, 13.309287, 5.1562019999999995, -11.351194, -9.725457, -5.6374984, 1.652166, -9.179052, -3.5423584000000004, 13.712423000000001, -1.8009714, 6.026496, -0.21552612, -9.872169, 3.4632718999999996, -0.21979274, 12.478157000000001, 7.992068, 10.252625, -9.826924, -12.738214, -11.1833315, 17.606817000000003, 18.708717, -3.0473306, -11.468947, -19.486326000000002, -13.662003, -10.069924, -10.66125, 0.01721039, -11.408033999999999, 5.864604, -10.4142065, -2.5747817000000004, 10.179031, 14.436764000000002, 8.775408, -2.0767224, 9.956666, 10.083128, 16.25785, -9.908351, -3.7728336000000002, 14.916272, -5.3028054000000004, -10.069369, -4.6272426, 12.439905, 12.220653, -0.8216667, 10.294166, 0.31751433, -10.492711, 13.442554999999999, 2.7124197, 2.599806, -0.0092379525, -11.564484, -1.1679803, 10.468696000000001, 1.9216706000000001, 7.4788375, 3.9025497000000002, 11.546411500000001, 7.792615400000001, -16.006731, 1.4201677, -9.112797, -10.407691999999999, 1.4137621, 2.0458755, 3.2520967, 3.8590605000000004, -6.7903747999999995, -2.5913727000000004, -10.619738, -13.579137, 17.510538, 6.8146787, -14.933164999999999, -4.763535, -7.583760300000001, -5.7757629999999995, -10.289852, -1.9769964, -15.241685999999998, -5.0869117, -5.021780000000001, -0.5945686, -7.0160275, 7.932222], \"z\": [-3.22382, -7.850576400000001, 1.1508063, 10.685131, -4.1756720000000005, -7.283857000000001, -6.6267949999999995, 9.721767, 11.198076, 9.371601, 2.4188387000000002, 15.493134, 10.781711, 2.0002246, -6.810506299999999, 15.988922, -3.4421282, 7.269027, 4.3156977, 7.325093300000001, -4.9278507000000005, 7.647105000000001, -8.153825, 12.430044, 1.023734, -4.3478694, -3.7236083, 2.6934066000000003, 7.7036753, 2.1165798, 4.0734673, -5.401310400000001, 1.8861986000000002, -5.892435, -9.813987, 12.670841000000001, -4.5438222999999995, -3.8955900000000003, 9.754593, 12.400001, 1.5905513, -6.6865864, 10.164916999999999, 6.3178654000000005, -3.3797907999999994, -3.9082102999999995, -11.827615, 9.024185000000001, 9.931864, 4.604721, -12.333708, -0.5140291, 0.23295508, -4.665104, -5.951778400000001, 4.4109793, 0.39803743, -18.079045999999998, -14.186245999999999, 8.369872, -9.255618, -3.0479287999999998, -7.991136599999999, -1.9739828000000001, -6.7529826, 4.8668985000000005, 8.687647, 1.4088836, -0.08575758, 9.680283, -6.7304262999999995, 12.006193, -2.584171, -1.8863734, 13.229597, -12.535282, 0.8563379999999999, -13.481272, 9.96954, -1.444599, -4.6987824, 14.827865, -14.556669, -8.140993, -15.556022, 12.624761999999999, 2.8384023, 14.015232000000001, -15.530287, -15.532214999999999, -0.021498572, -9.115497, 12.624561]}],\n",
       "                        {\"height\": 600, \"legend\": {\"tracegroupgap\": 0}, \"scene\": {\"domain\": {\"x\": [0.0, 0.98], \"y\": [0.0, 1.0]}, \"xaxis\": {\"title\": {\"text\": \"X\"}}, \"yaxis\": {\"title\": {\"text\": \"Y\"}}, \"zaxis\": {\"title\": {\"text\": \"Z\"}}}, \"template\": {\"data\": {\"bar\": [{\"error_x\": {\"color\": \"#f2f5fa\"}, \"error_y\": {\"color\": \"#f2f5fa\"}, \"marker\": {\"line\": {\"color\": \"rgb(17,17,17)\", \"width\": 0.5}}, \"type\": \"bar\"}], \"barpolar\": [{\"marker\": {\"line\": {\"color\": \"rgb(17,17,17)\", \"width\": 0.5}}, \"type\": \"barpolar\"}], \"carpet\": [{\"aaxis\": {\"endlinecolor\": \"#A2B1C6\", \"gridcolor\": \"#506784\", \"linecolor\": \"#506784\", \"minorgridcolor\": \"#506784\", \"startlinecolor\": \"#A2B1C6\"}, \"baxis\": {\"endlinecolor\": \"#A2B1C6\", \"gridcolor\": \"#506784\", \"linecolor\": \"#506784\", \"minorgridcolor\": \"#506784\", \"startlinecolor\": \"#A2B1C6\"}, \"type\": \"carpet\"}], \"choropleth\": [{\"colorbar\": {\"outlinewidth\": 0, \"ticks\": \"\"}, \"type\": \"choropleth\"}], \"contour\": [{\"colorbar\": {\"outlinewidth\": 0, \"ticks\": \"\"}, \"colorscale\": [[0.0, \"#0d0887\"], [0.1111111111111111, \"#46039f\"], [0.2222222222222222, \"#7201a8\"], [0.3333333333333333, \"#9c179e\"], [0.4444444444444444, \"#bd3786\"], [0.5555555555555556, \"#d8576b\"], [0.6666666666666666, \"#ed7953\"], [0.7777777777777778, \"#fb9f3a\"], [0.8888888888888888, \"#fdca26\"], [1.0, \"#f0f921\"]], \"type\": \"contour\"}], \"contourcarpet\": [{\"colorbar\": {\"outlinewidth\": 0, \"ticks\": \"\"}, \"type\": \"contourcarpet\"}], \"heatmap\": [{\"colorbar\": {\"outlinewidth\": 0, \"ticks\": \"\"}, \"colorscale\": [[0.0, \"#0d0887\"], [0.1111111111111111, \"#46039f\"], [0.2222222222222222, \"#7201a8\"], [0.3333333333333333, \"#9c179e\"], [0.4444444444444444, \"#bd3786\"], [0.5555555555555556, \"#d8576b\"], [0.6666666666666666, \"#ed7953\"], [0.7777777777777778, \"#fb9f3a\"], [0.8888888888888888, \"#fdca26\"], [1.0, \"#f0f921\"]], \"type\": \"heatmap\"}], \"heatmapgl\": [{\"colorbar\": {\"outlinewidth\": 0, \"ticks\": \"\"}, \"colorscale\": [[0.0, \"#0d0887\"], [0.1111111111111111, \"#46039f\"], [0.2222222222222222, \"#7201a8\"], [0.3333333333333333, \"#9c179e\"], [0.4444444444444444, \"#bd3786\"], [0.5555555555555556, \"#d8576b\"], [0.6666666666666666, \"#ed7953\"], [0.7777777777777778, \"#fb9f3a\"], [0.8888888888888888, \"#fdca26\"], [1.0, \"#f0f921\"]], \"type\": \"heatmapgl\"}], \"histogram\": [{\"marker\": {\"colorbar\": {\"outlinewidth\": 0, \"ticks\": \"\"}}, \"type\": \"histogram\"}], \"histogram2d\": [{\"colorbar\": {\"outlinewidth\": 0, \"ticks\": \"\"}, \"colorscale\": [[0.0, \"#0d0887\"], [0.1111111111111111, \"#46039f\"], [0.2222222222222222, \"#7201a8\"], [0.3333333333333333, \"#9c179e\"], [0.4444444444444444, \"#bd3786\"], [0.5555555555555556, \"#d8576b\"], [0.6666666666666666, \"#ed7953\"], [0.7777777777777778, \"#fb9f3a\"], [0.8888888888888888, \"#fdca26\"], [1.0, \"#f0f921\"]], \"type\": \"histogram2d\"}], \"histogram2dcontour\": [{\"colorbar\": {\"outlinewidth\": 0, \"ticks\": \"\"}, \"colorscale\": [[0.0, \"#0d0887\"], [0.1111111111111111, \"#46039f\"], [0.2222222222222222, \"#7201a8\"], [0.3333333333333333, \"#9c179e\"], [0.4444444444444444, \"#bd3786\"], [0.5555555555555556, \"#d8576b\"], [0.6666666666666666, \"#ed7953\"], [0.7777777777777778, \"#fb9f3a\"], [0.8888888888888888, \"#fdca26\"], [1.0, \"#f0f921\"]], \"type\": \"histogram2dcontour\"}], \"mesh3d\": [{\"colorbar\": {\"outlinewidth\": 0, \"ticks\": \"\"}, \"type\": \"mesh3d\"}], \"parcoords\": [{\"line\": {\"colorbar\": {\"outlinewidth\": 0, \"ticks\": \"\"}}, \"type\": \"parcoords\"}], \"scatter\": [{\"marker\": {\"line\": {\"color\": \"#283442\"}}, \"type\": \"scatter\"}], \"scatter3d\": [{\"line\": {\"colorbar\": {\"outlinewidth\": 0, \"ticks\": \"\"}}, \"marker\": {\"colorbar\": {\"outlinewidth\": 0, \"ticks\": \"\"}}, \"type\": \"scatter3d\"}], \"scattercarpet\": [{\"marker\": {\"colorbar\": {\"outlinewidth\": 0, \"ticks\": \"\"}}, \"type\": \"scattercarpet\"}], \"scattergeo\": [{\"marker\": {\"colorbar\": {\"outlinewidth\": 0, \"ticks\": \"\"}}, \"type\": \"scattergeo\"}], \"scattergl\": [{\"marker\": {\"line\": {\"color\": \"#283442\"}}, \"type\": \"scattergl\"}], \"scattermapbox\": [{\"marker\": {\"colorbar\": {\"outlinewidth\": 0, \"ticks\": \"\"}}, \"type\": \"scattermapbox\"}], \"scatterpolar\": [{\"marker\": {\"colorbar\": {\"outlinewidth\": 0, \"ticks\": \"\"}}, \"type\": \"scatterpolar\"}], \"scatterpolargl\": [{\"marker\": {\"colorbar\": {\"outlinewidth\": 0, \"ticks\": \"\"}}, \"type\": \"scatterpolargl\"}], \"scatterternary\": [{\"marker\": {\"colorbar\": {\"outlinewidth\": 0, \"ticks\": \"\"}}, \"type\": \"scatterternary\"}], \"surface\": [{\"colorbar\": {\"outlinewidth\": 0, \"ticks\": \"\"}, \"colorscale\": [[0.0, \"#0d0887\"], [0.1111111111111111, \"#46039f\"], [0.2222222222222222, \"#7201a8\"], [0.3333333333333333, \"#9c179e\"], [0.4444444444444444, \"#bd3786\"], [0.5555555555555556, \"#d8576b\"], [0.6666666666666666, \"#ed7953\"], [0.7777777777777778, \"#fb9f3a\"], [0.8888888888888888, \"#fdca26\"], [1.0, \"#f0f921\"]], \"type\": \"surface\"}], \"table\": [{\"cells\": {\"fill\": {\"color\": \"#506784\"}, \"line\": {\"color\": \"rgb(17,17,17)\"}}, \"header\": {\"fill\": {\"color\": \"#2a3f5f\"}, \"line\": {\"color\": \"rgb(17,17,17)\"}}, \"type\": \"table\"}]}, \"layout\": {\"annotationdefaults\": {\"arrowcolor\": \"#f2f5fa\", \"arrowhead\": 0, \"arrowwidth\": 1}, \"colorscale\": {\"diverging\": [[0, \"#8e0152\"], [0.1, \"#c51b7d\"], [0.2, \"#de77ae\"], [0.3, \"#f1b6da\"], [0.4, \"#fde0ef\"], [0.5, \"#f7f7f7\"], [0.6, \"#e6f5d0\"], [0.7, \"#b8e186\"], [0.8, \"#7fbc41\"], [0.9, \"#4d9221\"], [1, \"#276419\"]], \"sequential\": [[0.0, \"#0d0887\"], [0.1111111111111111, \"#46039f\"], [0.2222222222222222, \"#7201a8\"], [0.3333333333333333, \"#9c179e\"], [0.4444444444444444, \"#bd3786\"], [0.5555555555555556, \"#d8576b\"], [0.6666666666666666, \"#ed7953\"], [0.7777777777777778, \"#fb9f3a\"], [0.8888888888888888, \"#fdca26\"], [1.0, \"#f0f921\"]], \"sequentialminus\": [[0.0, \"#0d0887\"], [0.1111111111111111, \"#46039f\"], [0.2222222222222222, \"#7201a8\"], [0.3333333333333333, \"#9c179e\"], [0.4444444444444444, \"#bd3786\"], [0.5555555555555556, \"#d8576b\"], [0.6666666666666666, \"#ed7953\"], [0.7777777777777778, \"#fb9f3a\"], [0.8888888888888888, \"#fdca26\"], [1.0, \"#f0f921\"]]}, \"colorway\": [\"#636efa\", \"#EF553B\", \"#00cc96\", \"#ab63fa\", \"#FFA15A\", \"#19d3f3\", \"#FF6692\", \"#B6E880\", \"#FF97FF\", \"#FECB52\"], \"font\": {\"color\": \"#f2f5fa\"}, \"geo\": {\"bgcolor\": \"rgb(17,17,17)\", \"lakecolor\": \"rgb(17,17,17)\", \"landcolor\": \"rgb(17,17,17)\", \"showlakes\": true, \"showland\": true, \"subunitcolor\": \"#506784\"}, \"hoverlabel\": {\"align\": \"left\"}, \"hovermode\": \"closest\", \"mapbox\": {\"style\": \"dark\"}, \"paper_bgcolor\": \"rgb(17,17,17)\", \"plot_bgcolor\": \"rgb(17,17,17)\", \"polar\": {\"angularaxis\": {\"gridcolor\": \"#506784\", \"linecolor\": \"#506784\", \"ticks\": \"\"}, \"bgcolor\": \"rgb(17,17,17)\", \"radialaxis\": {\"gridcolor\": \"#506784\", \"linecolor\": \"#506784\", \"ticks\": \"\"}}, \"scene\": {\"xaxis\": {\"backgroundcolor\": \"rgb(17,17,17)\", \"gridcolor\": \"#506784\", \"gridwidth\": 2, \"linecolor\": \"#506784\", \"showbackground\": true, \"ticks\": \"\", \"zerolinecolor\": \"#C8D4E3\"}, \"yaxis\": {\"backgroundcolor\": \"rgb(17,17,17)\", \"gridcolor\": \"#506784\", \"gridwidth\": 2, \"linecolor\": \"#506784\", \"showbackground\": true, \"ticks\": \"\", \"zerolinecolor\": \"#C8D4E3\"}, \"zaxis\": {\"backgroundcolor\": \"rgb(17,17,17)\", \"gridcolor\": \"#506784\", \"gridwidth\": 2, \"linecolor\": \"#506784\", \"showbackground\": true, \"ticks\": \"\", \"zerolinecolor\": \"#C8D4E3\"}}, \"shapedefaults\": {\"line\": {\"color\": \"#f2f5fa\"}}, \"sliderdefaults\": {\"bgcolor\": \"#C8D4E3\", \"bordercolor\": \"rgb(17,17,17)\", \"borderwidth\": 1, \"tickwidth\": 0}, \"ternary\": {\"aaxis\": {\"gridcolor\": \"#506784\", \"linecolor\": \"#506784\", \"ticks\": \"\"}, \"baxis\": {\"gridcolor\": \"#506784\", \"linecolor\": \"#506784\", \"ticks\": \"\"}, \"bgcolor\": \"rgb(17,17,17)\", \"caxis\": {\"gridcolor\": \"#506784\", \"linecolor\": \"#506784\", \"ticks\": \"\"}}, \"title\": {\"x\": 0.05}, \"updatemenudefaults\": {\"bgcolor\": \"#506784\", \"borderwidth\": 0}, \"xaxis\": {\"automargin\": true, \"gridcolor\": \"#283442\", \"linecolor\": \"#506784\", \"ticks\": \"\", \"zerolinecolor\": \"#283442\", \"zerolinewidth\": 2}, \"yaxis\": {\"automargin\": true, \"gridcolor\": \"#283442\", \"linecolor\": \"#506784\", \"ticks\": \"\", \"zerolinecolor\": \"#283442\", \"zerolinewidth\": 2}}}, \"title\": {\"text\": \"Visualizing airbnb locations in feature space\"}},\n",
       "                        {\"responsive\": true}\n",
       "                    ).then(function(){\n",
       "                            \n",
       "var gd = document.getElementById('eff90650-6e4d-42f7-878a-e49cb7688ba5');\n",
       "var x = new MutationObserver(function (mutations, observer) {{\n",
       "        var display = window.getComputedStyle(gd).display;\n",
       "        if (!display || display === 'none') {{\n",
       "            console.log([gd, 'removed!']);\n",
       "            Plotly.purge(gd);\n",
       "            observer.disconnect();\n",
       "        }}\n",
       "}});\n",
       "\n",
       "// Listen for the removal of the full notebook cells\n",
       "var notebookContainer = gd.closest('#notebook-container');\n",
       "if (notebookContainer) {{\n",
       "    x.observe(notebookContainer, {childList: true});\n",
       "}}\n",
       "\n",
       "// Listen for the clearing of the current output cell\n",
       "var outputEl = gd.closest('.output');\n",
       "if (outputEl) {{\n",
       "    x.observe(outputEl, {childList: true});\n",
       "}}\n",
       "\n",
       "                        })\n",
       "                };\n",
       "                });\n",
       "            </script>\n",
       "        </div>"
      ]
     },
     "metadata": {},
     "output_type": "display_data"
    }
   ],
   "source": [
    "fig = px.scatter_3d(plotly_data, x='TSNE1', y='TSNE2', z='TSNE3', color='price_category', \n",
    "                    hover_name='name', hover_data=['price', 'minimum_nights'], \n",
    "                    template='plotly_dark', opacity=0.9, title='Visualizing airbnb locations in feature space',\n",
    "                    labels={'TSNE1': 'X', 'TSNE2': 'Y', 'TSNE3':'Z'}, )\n",
    "fig.show()"
   ]
  },
  {
   "cell_type": "code",
   "execution_count": 16,
   "metadata": {},
   "outputs": [
    {
     "name": "stdout",
     "output_type": "stream",
     "text": [
      "[1.3453171999999998 18.529942000000002 2.5068882 'medium'\n",
      " 'Chelsea Perfect  by Doti, an AIRBNB  Super Host!' 7322 140.0 140.0 1 1.0\n",
      " 1.0 'Manhattan' 'Chelsea']\n",
      "[-8.011493 -10.242352 -9.682402 'low' 'Chelsea Studio sublet 1 - 2 months'\n",
      " 47370 125.0 41.66666666666666 3 0.0 1.0 'Manhattan' 'Chelsea']\n",
      "[0.38937438 19.270704000000002 -0.36470884 'medium'\n",
      " 'Prime Location in Manhattan' 51572 123.0 123.0 1 1.0 1.0 'Manhattan'\n",
      " 'Chelsea']\n",
      "[-3.7999758999999997 5.109456 3.9131348 'medium'\n",
      " 'Chelsea living, 2BR best location' 159913 150.0 75.0 2 1.0 1.0\n",
      " 'Manhattan' 'Chelsea']\n",
      "[-15.368417 8.520699 -3.22382 'high' 'Comfort at Crossroads of Downtown'\n",
      " 187986 250.0 250.0 1 2.0 1.5 'Manhattan' 'Chelsea']\n",
      "[-4.9752812 16.95117 -6.160468 'medium'\n",
      " 'Hudson Yards with views of The Highline Park' 268868 350.0\n",
      " 116.66666666666669 3 2.0 1.0 'Manhattan' 'Chelsea']\n",
      "[-12.309878 14.641964999999999 -7.850576400000001 'high'\n",
      " 'Amazing 1 bedroom apt with NYC View' 285492 385.0 385.0 1 1.0 1.0\n",
      " 'Manhattan' 'Chelsea']\n",
      "[1.8010125 0.9976563 13.901056 'medium'\n",
      " 'One-Bedroom/Madison Square Garden' 398850 275.0 137.5 2 1.0 1.5\n",
      " 'Manhattan' 'Chelsea']\n",
      "[-18.482132 3.4267241999999998 -4.686839 'medium'\n",
      " 'Spectacular Lux 1 Bed Apt, Best Location, Terrace!' 478949 380.0\n",
      " 126.66666666666669 3 1.0 1.0 'Manhattan' 'Chelsea']\n",
      "[-3.6804662000000006 18.988419 -7.828578500000001 'medium'\n",
      " 'Beautiful Downtown Manhattan Share' 502132 50.0 50.0 1 1.0 1.0\n",
      " 'Manhattan' 'Chelsea']\n",
      "[-11.707626 13.309287 1.1508063 'high'\n",
      " 'Beautiful Brand New Chelsea Studio' 515392 200.0 200.0 1 0.0 1.0\n",
      " 'Manhattan' 'Chelsea']\n",
      "[-12.866611 -5.1247444 -1.2228223999999999 'medium'\n",
      " 'CLEAN PRIVATE ROOM IN CHELSEA NYC' 564184 125.0 62.5 2 1.0 1.0\n",
      " 'Manhattan' 'Chelsea']\n",
      "[-13.288784 -2.3674395 -5.6922274 'medium'\n",
      " '1 bedroom apt in heart of Chelsea' 661814 250.0 125.0 2 1.0 1.0\n",
      " 'Manhattan' 'Chelsea']\n",
      "[15.320735 3.0549586 -10.711421000000001 'medium'\n",
      " 'Light & airy Chelsea NY 1bdrm apt' 667375 190.0 63.33333333333334 3 1.0\n",
      " 1.0 'Manhattan' 'Chelsea']\n",
      "[-11.321188000000001 -8.943552 -8.051 'medium'\n",
      " 'Sunny & Clean Apt, Ideal Location' 731316 140.0 140.0 1 1.0 1.0\n",
      " 'Manhattan' 'Chelsea']\n",
      "[-11.325981 10.2803545 3.7386985 'medium'\n",
      " 'Downtown Manhattan Luxury 1 Bedroom' 811198 349.0 116.33333333333331 3\n",
      " 1.0 1.5 'Manhattan' 'Chelsea']\n",
      "[-12.401497 -8.588446000000001 -6.1457486 'low'\n",
      " 'Shabby Chic Modern Chelsea Studio' 812938 99.0 49.5 2 1.0 1.0\n",
      " 'Manhattan' 'Chelsea']\n",
      "[2.2708647 18.504402 1.2374058000000001 'medium'\n",
      " 'ON HIGHLINE! Private room & bath' 823520 179.0 89.5 2 1.0 1.0\n",
      " 'Manhattan' 'Chelsea']\n",
      "[1.716061 11.211594999999999 9.958287 'low'\n",
      " 'BIG room in fun loft – heart of NYC' 841292 109.0 36.333333333333336 3\n",
      " 1.0 1.0 'Manhattan' 'Chelsea']\n",
      "[0.45852622 18.290995000000002 -0.24185851 'medium'\n",
      " 'Union Sq European Serene apt' 918049 265.0 88.33333333333331 3 1.0 1.0\n",
      " 'Manhattan' 'Chelsea']\n",
      "[1.8996872999999999 11.089286999999999 5.079662 'medium'\n",
      " '1br in a 2br apartment in Chelsea (23/7)' 919830 125.0 62.5 2 1.0 1.0\n",
      " 'Manhattan' 'Chelsea']\n",
      "[0.6941968000000001 17.964743 -3.762051 'medium'\n",
      " 'Bedroom for two in Chelsea' 1072481 70.0 70.0 1 1.0 1.0 'Manhattan'\n",
      " 'Chelsea']\n",
      "[-12.233958 10.294209500000001 3.3239739999999998 'medium'\n",
      " 'Newly Renovated West Village + Bar' 1084328 375.0 125.0 3 2.0 1.0\n",
      " 'Manhattan' 'Chelsea']\n",
      "[0.5684803 14.223903 2.6744567999999997 'medium'\n",
      " 'Great Apartment with luxurious bath in NYC/Chelsea' 1089240 176.0 88.0 2\n",
      " 1.0 1.0 'Manhattan' 'Chelsea']\n",
      "[-13.683723 -12.03411 9.402307 'medium'\n",
      " 'Entire home/apt in Chelsea New York' 1133296 175.0 58.33333333333334 3\n",
      " 1.0 1.0 'Manhattan' 'Chelsea']\n",
      "[14.041185999999998 14.309188 4.666355599999999 'medium'\n",
      " 'Best Chelsea Street. Beautiful Room. Superhost.' 1182187 125.0 62.5 2\n",
      " 1.0 1.0 'Manhattan' 'Chelsea']\n",
      "[-9.492655000000001 10.800758 4.256436 'medium'\n",
      " 'Perfect 1st Floor Brownstone in Meatpacking- 2 ppl' 1183628 248.0 124.0\n",
      " 2 1.0 1.0 'Manhattan' 'Chelsea']\n",
      "[9.654693 17.239342 -3.9333562999999994 'medium'\n",
      " 'Classy Penthouse with Amazing View!' 1264695 595.0 198.3333333333333 3\n",
      " 2.0 1.0 'Manhattan' 'Chelsea']\n",
      "[-5.62392 8.469536 -10.060344 'medium' 'Charming, Quiet, & Clean 1BR APT'\n",
      " 1336390 159.0 53.0 3 1.0 1.0 'Manhattan' 'Chelsea']\n",
      "[-7.0877924 -4.1997514 3.9369379999999996 'low' 'Room in Chelsea New York'\n",
      " 1421933 90.0 30.0 3 1.0 1.5 'Manhattan' 'Chelsea']\n",
      "[-6.857162 -4.2466135000000005 5.5926733 'low'\n",
      " 'Perfect cozy PRIVATE room!!' 1704798 76.0 25.33333333333333 3 1.0 1.0\n",
      " 'Manhattan' 'Chelsea']\n",
      "[10.801135 11.218335 3.1919415 'medium'\n",
      " 'Chelsea NYC luxury 2 bed/2 bath, garden apt' 1746726 555.0 185.0 3 2.0\n",
      " 2.0 'Manhattan' 'Chelsea']\n",
      "[-1.0045415000000002 12.920407 11.374725999999999 'low'\n",
      " 'Lovely Room in Awesome Apartment - Fun/Convenient' 1759526 90.0 30.0 3\n",
      " 1.0 2.0 'Manhattan' 'Chelsea']\n",
      "[-11.3316765 16.121357 1.707191 'medium'\n",
      " 'Large Comfortable Studio in Chelsea' 1820858 161.0 80.5 2 0.0 1.0\n",
      " 'Manhattan' 'Chelsea']\n",
      "[-18.187387 5.777721 7.090631 'medium'\n",
      " '1 BR in Luxury Chelsea Doorman Bldg' 1866051 200.0 100.0 2 1.0 1.0\n",
      " 'Manhattan' 'Chelsea']\n",
      "[-10.474242 13.188574 -4.580487000000001 'medium'\n",
      " 'Awesome Huge Studio - NYC Center' 1891017 200.0 66.66666666666667 3 0.0\n",
      " 1.0 'Manhattan' 'Chelsea']\n",
      "[-6.7686615 7.2507753 -13.678420000000001 'low'\n",
      " 'Private BR in Chelsea (women or couples only)' 1892319 84.0 42.0 2 1.0\n",
      " 1.0 'Manhattan' 'Chelsea']\n",
      "[3.4021334999999997 14.338479000000001 -6.679116199999999 'medium'\n",
      " 'The heart of Manhattan - NYC' 1903249 75.0 75.0 1 1.0 1.0 'Manhattan'\n",
      " 'Chelsea']\n",
      "[3.856496 6.406817 -1.0758603999999998 'medium' 'Urban Oasis in Chelsea'\n",
      " 1914759 225.0 112.5 2 1.0 1.0 'Manhattan' 'Chelsea']\n",
      "[-12.07056 6.332698000000001 3.5067065000000004 'medium' 'Luxury studio'\n",
      " 1975999 189.0 63.0 3 0.0 1.0 'Manhattan' 'Chelsea']\n",
      "[3.6042936 14.6625 4.4759307 'medium'\n",
      " 'Classic Chelsea Brownstone 1 Bedroom' 2071420 199.0 66.33333333333333 3\n",
      " 1.0 1.0 'Manhattan' 'Chelsea']\n",
      "[-16.993698000000002 5.0248733 1.0768731000000002 'low'\n",
      " 'Large artsy studio with 90s style' 2134052 90.0 30.0 3 0.0 1.0\n",
      " 'Manhattan' 'Chelsea']\n",
      "[-19.423023 5.1562019999999995 10.685131 'high'\n",
      " 'SUPER BOWL 2014 in TRENDY CHELSEA!' 2210088 900.0 900.0 1 1.0 1.0\n",
      " 'Manhattan' 'Chelsea']\n",
      "[-12.808845 10.642342999999999 7.105702000000001 'medium'\n",
      " 'Chelsea HUGE apartment w/ King bed + office' 2210615 215.0\n",
      " 71.66666666666667 3 1.0 1.0 'Manhattan' 'Chelsea']\n",
      "[-10.249991 9.626225 4.617557499999999 'medium'\n",
      " 'Beautiful 1 BR with Private Garden' 2223082 285.0 142.5 2 1.0 1.0\n",
      " 'Manhattan' 'Chelsea']\n",
      "[-16.486265 1.9933336 -8.456017999999998 'medium'\n",
      " 'Chelsea Studio for Super Bowl!' 2240196 395.0 131.66666666666666 3 0.0\n",
      " 1.0 'Manhattan' 'Chelsea']\n",
      "[5.6106443 13.984371 6.059634 'medium' 'Modern Studio in Heart of Chelsea'\n",
      " 2255549 221.0 110.5 2 0.0 1.0 'Manhattan' 'Chelsea']\n",
      "[-9.697488 -11.351194 -4.1756720000000005 'high'\n",
      " 'Spacious 1BR Chelsea Apt. for SB 48' 2256519 750.0 375.0 2 1.0 1.0\n",
      " 'Manhattan' 'Chelsea']\n",
      "[-8.052348 -9.725457 -7.283857000000001 'high'\n",
      " 'Spacious 2 BR in North Chelsea' 2259813 1000.0 333.3333333333333 3 2.0\n",
      " 1.0 'Manhattan' 'Chelsea']\n",
      "[9.243363 7.929138000000001 -1.4424533000000002 'medium'\n",
      " 'Super Cute Chelsea One Bedroom' 2310445 150.0 150.0 1 1.0 1.0\n",
      " 'Manhattan' 'Chelsea']\n",
      "[5.442531 14.105138 5.802253 'medium'\n",
      " 'Trendy Apt by Chelsea Market with High Line Views' 2422991 159.0 159.0 1\n",
      " 1.0 1.0 'Manhattan' 'Chelsea']\n",
      "[-5.7942023 12.985299000000001 -16.772314 'medium'\n",
      " 'Private Room in Large Two-floor Apt w/ Backyard' 2493039 119.0 59.5 2\n",
      " 1.0 2.0 'Manhattan' 'Chelsea']\n",
      "[-7.303006 -1.7144032 3.1922822 'low' 'Living Room sofa Bed in Chelsea2'\n",
      " 2756159 85.0 42.5 2 1.0 1.0 'Manhattan' 'Chelsea']\n",
      "[-14.053095 -5.6374984 -6.6267949999999995 'high'\n",
      " 'West Chelsea Brownstone Apartment' 2918732 200.0 200.0 1 1.0 1.0\n",
      " 'Manhattan' 'Chelsea']\n",
      "[-11.909936 12.678185000000001 2.2494535 'medium'\n",
      " 'Full 1 bedroom Apt in GREAT Locale' 2941297 225.0 75.0 3 1.0 1.0\n",
      " 'Manhattan' 'Chelsea']\n",
      "[-9.242386999999999 1.652166 9.721767 'high'\n",
      " 'Spacious Junior 1BR Apt in USQ/Flatiron' 2969919 235.0 235.0 1 1.0 1.0\n",
      " 'Manhattan' 'Chelsea']\n",
      "[-7.813867999999999 -10.304616000000001 -8.6654 'medium'\n",
      " 'Studio in Center of Chelsea' 3010430 180.0 180.0 1 0.0 1.0 'Manhattan'\n",
      " 'Chelsea']\n",
      "[-15.873687 4.718982700000001 5.652743 'medium'\n",
      " 'Alcove Studio in Downtown Manhattan' 3013158 350.0 175.0 2 0.0 1.0\n",
      " 'Manhattan' 'Chelsea']\n",
      "[5.3952160000000005 14.290641 8.613126 'medium'\n",
      " 'SPACIOUS  ARTIST LOFT IN CHELSA' 3175088 275.0 91.66666666666669 3 1.0\n",
      " 1.0 'Manhattan' 'Chelsea']\n",
      "[-16.384933 -3.4822047 -6.939164999999999 'medium'\n",
      " 'Panoramic Penthouse - 30% OFF' 3249253 289.0 144.5 2 1.0 1.0 'Manhattan'\n",
      " 'Chelsea']\n",
      "[-9.562014999999999 13.575181 -4.454262 'medium' 'Quiet 1BR in Chelsea'\n",
      " 3279671 165.0 55.0 3 1.0 1.0 'Manhattan' 'Chelsea']\n",
      "[-15.549712 -9.179052 11.198076 'high' 'Mellow One Bedroom in Chelsea '\n",
      " 3343038 370.0 370.0 1 1.0 1.0 'Manhattan' 'Chelsea']\n",
      "[-12.75844 -10.912410000000001 7.8016744000000005 'medium'\n",
      " 'ADORABLE 2BR in Chelsea!!' 3358937 300.0 100.0 3 2.0 1.0 'Manhattan'\n",
      " 'Chelsea']\n",
      "[-16.655554000000002 5.5896300000000005 5.1020080000000005 'medium'\n",
      " 'Studio in the heart of Chelsea' 3521162 175.0 175.0 1 0.0 1.0\n",
      " 'Manhattan' 'Chelsea']\n",
      "[-6.2140856 -3.5423584000000004 9.371601 'high'\n",
      " 'Modern 1BD Chelsea Apartment' 3581153 230.0 230.0 1 1.0 1.0 'Manhattan'\n",
      " 'Chelsea']\n",
      "[-16.305243 -1.4729292 -6.0532045 'medium'\n",
      " 'Beautiful apartment by Columbus Circle' 3742373 390.0 130.0 3 2.0 2.0\n",
      " 'Manhattan' 'Chelsea']\n",
      "[-17.85991 4.917772 -7.3854809999999995 'medium'\n",
      " 'HUGE space at the heart of Meatpacking - Chelsea .' 3782283 150.0 75.0 2\n",
      " 0.0 1.0 'Manhattan' 'Chelsea']\n",
      "[-16.653147 8.286946 -8.65545 'medium' 'Private Studio Near Union Square'\n",
      " 3801701 195.0 65.0 3 0.0 1.0 'Manhattan' 'Chelsea']\n",
      "[-17.052843 5.552645 -8.417491 'medium'\n",
      " 'Quiet Sunny 1BR in Trendy Chelsea' 3819689 149.0 74.5 2 1.0 1.0\n",
      " 'Manhattan' 'Chelsea']\n",
      "[-8.658987 13.712423000000001 2.4188387000000002 'high'\n",
      " 'Awesome Apartment near Times Sq.' 3980487 500.0 500.0 1 1.0 1.0\n",
      " 'Manhattan' 'Chelsea']\n",
      "[-17.78197 3.740913 -8.000059 'medium' 'NYC Artists Loft in Chelsea'\n",
      " 3985673 300.0 150.0 2 1.0 1.0 'Manhattan' 'Chelsea']\n",
      "[-15.455729500000002 -7.898592999999999 7.185185000000001 'low'\n",
      " 'Cozy little studio in Chelsea' 4144849 115.0 38.333333333333336 3 0.0\n",
      " 1.0 'Manhattan' 'Chelsea']\n",
      "[-6.7639894 15.933974 -4.997117 'medium'\n",
      " 'Clean/Quiet Apt, Great Location, with washer/dryer' 4220151 159.0 159.0\n",
      " 1 0.0 1.0 'Manhattan' 'Chelsea']\n",
      "[-11.695319 13.621410999999998 4.4684873 'medium'\n",
      " 'Central 2 Bedroom in Chelsea' 4235961 275.0 91.66666666666669 3 2.0 1.0\n",
      " 'Manhattan' 'Chelsea']\n",
      "[-8.664619 12.696986 2.0395117 'low' 'Great location, great value' 4276618\n",
      " 120.0 40.0 3 1.0 1.0 'Manhattan' 'Chelsea']\n",
      "[8.2060375 15.588923000000001 0.47058618 'medium'\n",
      " 'BRIGHT BEAUTIFUL CHELSEA APT' 4284031 160.0 80.0 2 1.0 1.0 'Manhattan'\n",
      " 'Chelsea']\n",
      "[-1.806818 0.13218907 11.162061999999999 'medium'\n",
      " 'Awesome Chelsea 1 bedroom' 4297952 199.0 99.5 2 1.0 1.0 'Manhattan'\n",
      " 'Chelsea']\n",
      "[-0.30154544 5.099008 -5.639372 'low'\n",
      " '1st Time/Solo/Duo Travelers!Charming Studio Share!' 4431247 70.0 35.0 2\n",
      " 1.0 1.0 'Manhattan' 'Chelsea']\n",
      "[-17.106582999999997 4.397837 5.269204 'medium'\n",
      " 'Chelsea High End Apartment' 4438029 360.0 120.0 3 1.0 1.0 'Manhattan'\n",
      " 'Chelsea']\n",
      "[-11.739417 10.055887 -10.426336000000001 'medium'\n",
      " 'Gorgeous 1 Bedroom in the heart of NYC: Chelsea' 4438459 325.0 162.5 2\n",
      " 1.0 1.0 'Manhattan' 'Chelsea']\n",
      "[-18.83653 10.43554 3.4751108 'medium'\n",
      " 'Happy Chic Convenient New Listing!' 4694688 250.0 83.33333333333333 3\n",
      " 0.0 1.0 'Manhattan' 'Chelsea']\n",
      "[-6.1804824 -1.8009714 15.493134 'high'\n",
      " 'Beautiful Apt - Flatiron/ Chelsea' 4777597 215.0 215.0 1 1.0 1.0\n",
      " 'Manhattan' 'Chelsea']\n",
      "[-12.406821 10.1383095 -9.739022 'medium' 'Well-kept Studio/♥ of Chelsea'\n",
      " 4841187 200.0 66.66666666666667 3 1.0 1.0 'Manhattan' 'Chelsea']\n",
      "[-14.258007999999998 -3.0122763999999997 7.119222 'medium'\n",
      " 'Two Bedrooms in Chelsea Apartment' 4842507 150.0 150.0 1 1.0 2.0\n",
      " 'Manhattan' 'Chelsea']\n",
      "[-18.996548 6.026496 10.781711 'high' '2BR Entire Floor Apt in Flatiron'\n",
      " 4885240 300.0 300.0 1 2.0 1.0 'Manhattan' 'Chelsea']\n",
      "[-6.9246229999999995 -10.513936 -8.910224000000001 'medium'\n",
      " 'Stylish & New Chelsea Apartment' 4920912 175.0 175.0 1 1.0 1.0\n",
      " 'Manhattan' 'Chelsea']\n",
      "[-12.929578999999999 -11.923614 4.7189927 'medium'\n",
      " 'Charming One Bedroom in Chelsea' 4930306 175.0 175.0 1 1.0 1.0\n",
      " 'Manhattan' 'Chelsea']\n",
      "[-10.67976 11.012371 1.1721979999999999 'low' 'Cozy Chelsea Studio'\n",
      " 5160871 135.0 45.0 3 0.0 1.0 'Manhattan' 'Chelsea']\n",
      "[-17.88749 -0.21552612 2.0002246 'high'\n",
      " 'Mod. Apartment NYC w/ Outdoor Space' 5279902 400.0 400.0 1 1.0 1.0\n",
      " 'Manhattan' 'Chelsea']\n",
      "[-15.558086 -0.16293126 8.162034 'medium'\n",
      " 'Sunny Private Bedroom in Chelsea' 5298299 109.0 54.5 2 1.0 1.0\n",
      " 'Manhattan' 'Chelsea']\n",
      "[-2.563459 13.277628 -8.503762 'medium' 'One Bedroom Apartment in Chelsea'\n",
      " 5334478 199.0 99.5 2 1.0 1.0 'Manhattan' 'Chelsea']\n",
      "[-18.010319 0.27302158 -6.327738 'medium' 'Charming, true 1 bedroom'\n",
      " 5381209 275.0 137.5 2 1.0 1.0 'Manhattan' 'Chelsea']\n",
      "[4.369344 16.332542 3.6598105000000003 'medium'\n",
      " 'Cozy&Central:EmpireState/Highline/Times Square' 5661080 165.0 55.0 3 1.0\n",
      " 1.0 'Manhattan' 'Chelsea']\n",
      "[6.277215 10.248433 8.680071 'medium'\n",
      " 'Charming Two Bedroom in Chelsea 30 days+' 5692807 250.0\n",
      " 83.33333333333333 3 2.0 1.0 'Manhattan' 'Chelsea']\n",
      "[-5.0923905 -5.9275400000000005 7.3544054 'medium'\n",
      " 'Beautiful one bedroom in Chelsea' 5761908 145.0 72.5 2 1.0 1.0\n",
      " 'Manhattan' 'Chelsea']\n",
      "[-7.436261 -9.872169 -6.810506299999999 'high'\n",
      " 'Cozy Chelsea Carriage House Apt' 5805561 240.0 240.0 1 1.0 1.0\n",
      " 'Manhattan' 'Chelsea']\n",
      "[-17.60945 4.9093103 5.6191406 'medium'\n",
      " 'Sunny One Bedroom-Amazing Location' 5872177 163.0 54.33333333333334 3\n",
      " 1.0 1.0 'Manhattan' 'Chelsea']\n",
      "[-15.154871 -1.999654 -2.6897187000000002 'medium'\n",
      " '2 Bedroom Apartment in Chelsea' 5904522 250.0 125.0 2 2.0 1.0\n",
      " 'Manhattan' 'Chelsea']\n",
      "[8.113007000000001 6.922194 8.515439 'medium'\n",
      " 'Cozy NYC Bedroom in the Best Manhattan Location!' 5958299 105.0 105.0 1\n",
      " 1.0 1.0 'Manhattan' 'Chelsea']\n",
      "[-15.169882000000001 8.167598 -10.800310000000001 'medium'\n",
      " 'Amazing 2 Bedroom Chelsea' 6124097 250.0 125.0 2 2.0 1.0 'Manhattan'\n",
      " 'Chelsea']\n",
      "[-14.378114000000002 -2.4065406000000005 5.502815200000001 'medium'\n",
      " 'Bedroom right in Chelsea!' 6262496 150.0 150.0 1 1.0 1.0 'Manhattan'\n",
      " 'Chelsea']\n",
      "[-12.526069999999999 2.9054704 -6.767286 'medium'\n",
      " 'Studio apartment in the heart of Chelsea' 6478214 199.0 99.5 2 1.0 1.0\n",
      " 'Manhattan' 'Chelsea']\n",
      "[-2.034487 14.614635 -2.84393 'medium'\n",
      " 'Best location! Chelsea/West Village/Meatpacking' 6479559 150.0 75.0 2\n",
      " 1.0 1.0 'Manhattan' 'Chelsea']\n",
      "[4.853279 3.4632718999999996 15.988922 'high'\n",
      " 'Amazing apartment with great views' 6558125 900.0 300.0 3 1.0 1.0\n",
      " 'Manhattan' 'Chelsea']\n",
      "[-9.626576 -13.463057500000001 -6.409657 'low'\n",
      " 'Private bedroom in Chelsea' 6590569 110.0 36.66666666666666 3 1.0 1.0\n",
      " 'Manhattan' 'Chelsea']\n",
      "[-13.593785999999998 0.008877346 -2.615827 'medium'\n",
      " 'Cozy studio in the heart of Chelsea' 6619100 230.0 115.0 2 0.0 1.0\n",
      " 'Manhattan' 'Chelsea']\n",
      "[-15.245360999999999 -0.21979274 -3.4421282 'high'\n",
      " 'NYC Brownstone Duplex With Backyard in Chelsea.' 6662241 400.0 400.0 1\n",
      " 4.0 4.0 'Manhattan' 'Chelsea']\n",
      "[-12.366685 4.9683532999999995 -12.084832 'low'\n",
      " 'New Building, Best Location in NYC' 6674363 130.0 43.33333333333334 3\n",
      " 1.0 1.0 'Manhattan' 'Chelsea']\n",
      "[-7.090117 -14.110385999999998 -4.5742908 'medium' 'Cozy room in Chelsea'\n",
      " 6692975 100.0 100.0 1 1.0 1.0 'Manhattan' 'Chelsea']\n",
      "[14.80561 12.478157000000001 7.269027 'high'\n",
      " 'Designer Fifth Ave 4BR 5Ba 6,000sf Modern Loft' 6702693 1495.0 747.5 2\n",
      " 4.0 4.5 'Manhattan' 'Chelsea']\n",
      "[-13.77418 11.258337 -3.718915 'medium'\n",
      " 'Spacious 2 BR sun-filled apartment  in Chelsea' 6722799 260.0 130.0 2\n",
      " 2.0 1.0 'Manhattan' 'Chelsea']\n",
      "[-19.822110000000002 7.992068 4.3156977 'high' 'Sunny Studio in Chelsea'\n",
      " 6730056 200.0 200.0 1 0.0 1.0 'Manhattan' 'Chelsea']\n",
      "[0.8101596 -12.060365 4.7172747 'medium'\n",
      " 'Awesome Location with Best Commute' 6831518 99.0 99.0 1 1.0 0.5\n",
      " 'Manhattan' 'Chelsea']\n",
      "[-12.387881 10.125497 10.224945 'medium'\n",
      " 'Designer jnr 1 bedroom in Chelsea' 6836391 200.0 100.0 2 0.0 1.0\n",
      " 'Manhattan' 'Chelsea']\n",
      "[6.93881 11.747875 -1.3048084 'medium'\n",
      " 'Unique Studio apartment in the heart of Chelsea!' 6853271 150.0 75.0 2\n",
      " 0.0 1.0 'Manhattan' 'Chelsea']\n",
      "[-5.473827 10.252625 7.325093300000001 'high'\n",
      " 'Chic and homey Chelsea Studio' 6883404 295.0 295.0 1 0.0 1.0 'Manhattan'\n",
      " 'Chelsea']\n",
      "[-8.167605 -9.826924 -4.9278507000000005 'high'\n",
      " 'Awesome Studio in Chelsea' 6948161 250.0 250.0 1 0.0 1.0 'Manhattan'\n",
      " 'Chelsea']\n",
      "[12.361463 3.5752208 -6.930033 'medium'\n",
      " 'Private Apartment on Tree Lined Street in Chelsea' 6965441 150.0 75.0 2\n",
      " 1.0 1.0 'Manhattan' 'Chelsea']\n",
      "[-14.562572 -12.738214 7.647105000000001 'high' 'Chelsea Square Apartment'\n",
      " 7006494 350.0 350.0 1 3.0 2.0 'Manhattan' 'Chelsea']\n",
      "[-18.046415 -1.019533 -5.1282935 'medium'\n",
      " 'Luxury 2200sf Two Bedroom Loft w/ Private Elevator' 7192809 500.0\n",
      " 166.66666666666666 3 2.0 2.0 'Manhattan' 'Chelsea']\n",
      "[-8.123559 -11.1833315 -8.153825 'high' 'Cozy & Super Convenient Studio!'\n",
      " 7275273 200.0 200.0 1 0.0 1.0 'Manhattan' 'Chelsea']\n",
      "[-14.126487 -3.2161982000000005 6.190815 'medium'\n",
      " 'New York Apt in the Heart of NY' 7364374 150.0 150.0 1 1.0 1.0\n",
      " 'Manhattan' 'Chelsea']\n",
      "[-11.745882 10.456824000000001 0.0756304 'medium'\n",
      " 'Renovated & Spacious Chelsea Studio' 7480520 215.0 71.66666666666667 3\n",
      " 0.0 1.0 'Manhattan' 'Chelsea']\n",
      "[-13.091700999999999 -3.2420971 -10.296056 'medium'\n",
      " 'Spacious Chelsea Private Bedroom' 7483034 195.0 195.0 1 1.0 1.0\n",
      " 'Manhattan' 'Chelsea']\n",
      "[4.536228700000001 17.606817000000003 12.430044 'high'\n",
      " 'A charming Parisian style apartment' 7515694 210.0 210.0 1 1.0 1.0\n",
      " 'Manhattan' 'Chelsea']\n",
      "[-4.134124 -2.6223363999999996 11.830428 'medium'\n",
      " 'Apartment in Chelsea btwn 6th-7th Aves' 7563529 170.0 85.0 2 1.0 1.0\n",
      " 'Manhattan' 'Chelsea']\n",
      "[6.0444593 18.708717 1.023734 'high' 'Chelsea Chic' 7601870 215.0 215.0 1\n",
      " 1.0 1.0 'Manhattan' 'Chelsea']\n",
      "[4.219993 14.36795 -6.560242999999999 'medium'\n",
      " 'Private Room in Downtown Manhattan' 7603389 118.0 59.0 2 1.0 1.0\n",
      " 'Manhattan' 'Chelsea']\n",
      "[-8.932705 9.011571 -13.230132000000001 'medium'\n",
      " 'Spacious Chelsea Penthouse w/roof!' 7757549 210.0 105.0 2 1.0 2.0\n",
      " 'Manhattan' 'Chelsea']\n",
      "[-11.689300999999999 -0.6076366999999999 -6.4505057 'medium'\n",
      " '2 Bed apart in the heart of Chelsea' 7758577 175.0 58.33333333333334 3\n",
      " 2.0 1.0 'Manhattan' 'Chelsea']\n",
      "[19.712877 6.118057299999999 3.8438 'medium' 'I Love NY Studio Deluxe'\n",
      " 7774373 245.0 81.66666666666667 3 1.0 1.0 'Manhattan' 'Chelsea']\n",
      "[-9.083060000000001 14.768139000000001 -4.8913765 'medium'\n",
      " 'Spacious Chelsea Apartment w/Roof!' 7820664 490.0 163.33333333333334 3\n",
      " 2.0 2.0 'Manhattan' 'Chelsea']\n",
      "[-15.588442 2.2960648999999997 -10.563238 'medium' 'Charming Chelsea Home'\n",
      " 7881023 175.0 175.0 1 2.0 1.0 'Manhattan' 'Chelsea']\n",
      "[-20.124798000000002 11.135765 4.9738765 'medium'\n",
      " 'Artsy Duplex in Chelsea w/ Terrace' 7884922 250.0 83.33333333333333 3\n",
      " 1.0 1.0 'Manhattan' 'Chelsea']\n",
      "[-12.838319 -3.0473306 -4.3478694 'high'\n",
      " 'Studio in Full Service Chelsea Bldg' 7928917 215.0 215.0 1 0.0 1.0\n",
      " 'Manhattan' 'Chelsea']\n",
      "[-16.677495999999998 3.8284402 0.039885744 'medium'\n",
      " 'West Village/Meatpacking Loft!' 7967942 385.0 128.33333333333334 3 1.0\n",
      " 1.5 'Manhattan' 'Chelsea']\n",
      "[-9.453832 -11.468947 -3.7236083 'high' 'Couch for the Night' 7981341\n",
      " 200.0 200.0 1 1.0 1.0 'Manhattan' 'Chelsea']\n",
      "[9.796888000000001 16.290423999999998 0.85130686 'medium'\n",
      " 'Chic, Modern 2 Bedroom in Bright, Airy High Rise' 7985333 400.0\n",
      " 133.33333333333334 3 2.0 1.0 'Manhattan' 'Chelsea']\n",
      "[-12.4993725 -3.679307 -9.736702000000001 'medium'\n",
      " 'Prime location Chelsea/Flatiron RM' 8014087 100.0 100.0 1 1.0 1.0\n",
      " 'Manhattan' 'Chelsea']\n",
      "[-8.304382 -19.486326000000002 2.6934066000000003 'high'\n",
      " 'MASSIVE UNION SQ LOFT - Labor Day' 8029217 500.0 500.0 1 3.0 1.0\n",
      " 'Manhattan' 'Chelsea']\n",
      "[-18.502523 0.29603523 1.9177623 'medium'\n",
      " 'Chelsea 2-Bedroom Doorman Apt NEW' 8145339 129.0 129.0 1 2.0 1.0\n",
      " 'Manhattan' 'Chelsea']\n",
      "[-16.321735 1.8001976000000002 -8.861145 'medium'\n",
      " 'Spacious Parisian style apartment' 8166218 220.0 110.0 2 1.0 1.0\n",
      " 'Manhattan' 'Chelsea']\n",
      "[-0.109563865 11.757324 -12.22658 'low' 'Chelsea Charm: shared apartment'\n",
      " 8210423 100.0 33.333333333333336 3 1.0 1.0 'Manhattan' 'Chelsea']\n",
      "[-16.591413 5.828507 -5.3017273000000005 'medium'\n",
      " 'Chelsea apartment with a backyard' 8342053 160.0 53.33333333333334 3 1.0\n",
      " 1.0 'Manhattan' 'Chelsea']\n",
      "[-7.9515899999999995 13.395364 6.189082 'low'\n",
      " 'Massive, Cozy, Modern 1BR in Heart of Chelsea!' 8388776 109.0\n",
      " 36.333333333333336 3 1.0 1.0 'Manhattan' 'Chelsea']\n",
      "[-11.470585 -13.662003 7.7036753 'high' '2 Bedroom Near Meatpacking'\n",
      " 8519400 200.0 200.0 1 2.0 1.0 'Manhattan' 'Chelsea']\n",
      "[-15.771927999999999 -10.069924 2.1165798 'high'\n",
      " 'HUGE 3Bedroom Duplex in Meatpacking' 8520836 300.0 300.0 1 3.0 1.5\n",
      " 'Manhattan' 'Chelsea']\n",
      "[-12.0387 -10.66125 4.0734673 'high' 'The Epic: Right by MSG' 8551866\n",
      " 800.0 800.0 1 1.0 1.0 'Manhattan' 'Chelsea']\n",
      "[-12.522356 0.01721039 -5.401310400000001 'high' '14th St 1BR' 8554425\n",
      " 250.0 250.0 1 1.0 1.0 'Manhattan' 'Chelsea']\n",
      "[-14.10043 -11.408033999999999 1.8861986000000002 'high'\n",
      " 'Alcove Studio in Heart of Chelsea!' 8742567 200.0 200.0 1 1.0 1.0\n",
      " 'Manhattan' 'Chelsea']\n",
      "[-16.725782000000002 5.864604 -5.892435 'high'\n",
      " 'Beautiful Quiet Chelsea Apartment' 8809578 250.0 250.0 1 0.0 1.0\n",
      " 'Manhattan' 'Chelsea']\n",
      "[-7.946784 -10.4142065 -9.813987 'high' 'Beautiful 1BR in Chelsea' 8839938\n",
      " 250.0 250.0 1 1.0 1.0 'Manhattan' 'Chelsea']\n",
      "[-16.589542 1.3347461999999999 -9.2876215 'medium'\n",
      " 'Beautiful One Bedroom Chelsea' 8845002 240.0 120.0 2 1.0 1.0 'Manhattan'\n",
      " 'Chelsea']\n",
      "[-4.2819986 -2.5747817000000004 12.670841000000001 'high'\n",
      " 'Quaint 1BR In West Village' 8984018 225.0 225.0 1 1.0 1.0 'Manhattan'\n",
      " 'Chelsea']\n",
      "[8.166208000000001 16.916367 2.101854 'medium'\n",
      " 'Luxury 1 Bed apt in the heart of chelsea' 9127011 193.0 193.0 1 1.0 1.0\n",
      " 'Manhattan' 'Chelsea']\n",
      "[-9.376430000000001 14.642449 -4.237216 'medium'\n",
      " 'Prime Chelsea 1BR Minimalist W16th' 9155475 130.0 65.0 2 1.0 1.0\n",
      " 'Manhattan' 'Chelsea']\n",
      "[-11.920689999999999 10.179031 -4.5438222999999995 'high'\n",
      " '2 BR Pent House Loft in NYC!' 9172067 500.0 250.0 2 2.0 2.0 'Manhattan'\n",
      " 'Chelsea']\n",
      "[-11.084859 13.514084 -4.303511 'medium'\n",
      " 'Location, Location, Location Meat Packing District' 9175459 180.0 60.0 3\n",
      " 0.0 1.0 'Manhattan' 'Chelsea']\n",
      "[-7.6601872 -15.178391 -2.9650755 'medium' 'Chelsea NYC Shared Apartment'\n",
      " 9201479 100.0 100.0 1 1.0 1.0 'Manhattan' 'Chelsea']\n",
      "[-11.309436999999999 14.436764000000002 -3.8955900000000003 'high'\n",
      " 'Spacious 2-Bedroom near Highline' 9212510 450.0 225.0 2 2.0 2.0\n",
      " 'Manhattan' 'Chelsea']\n",
      "[-11.593891000000001 -1.8240428 -6.976216 'medium'\n",
      " 'Cozy 1 bdrm Chelsea/Meatpacking' 9365502 150.0 150.0 1 1.0 1.0\n",
      " 'Manhattan' 'Chelsea']\n",
      "[4.670417 1.3744079 0.37177417 'medium' 'Chelsea studio' 9394266 100.0\n",
      " 50.0 2 0.0 1.0 'Manhattan' 'Chelsea']\n",
      "[-14.014242999999999 6.7439103000000005 -3.7861216 'medium'\n",
      " 'High Luxury Thanksgiving Stay' 9401453 180.0 180.0 1 1.0 1.0 'Manhattan'\n",
      " 'Chelsea']\n",
      "[-18.205719000000002 8.775408 9.754593 'high'\n",
      " 'True 2 BR in heart of Chelsea' 9447274 325.0 325.0 1 2.0 1.0 'Manhattan'\n",
      " 'Chelsea']\n",
      "[-5.0925303 -15.052707999999999 -6.685687 'medium'\n",
      " 'Prime Location in CHELSEA' 9464543 98.0 98.0 1 1.0 1.0 'Manhattan'\n",
      " 'Chelsea']\n",
      "[-12.779477 -3.616175 -10.074591999999999 'medium'\n",
      " 'Great room in PERFECT location' 9540974 195.0 97.5 2 1.0 1.0 'Manhattan'\n",
      " 'Chelsea']\n",
      "[-4.3566008 -2.0767224 12.400001 'high'\n",
      " 'Designer Duplex - Highline. Brand new mattresses!' 9559335 299.0 299.0 1\n",
      " 1.0 1.0 'Manhattan' 'Chelsea']\n",
      "[-10.666756 12.965516000000001 3.2505906 'medium'\n",
      " 'Chelsea / High Line Oasis' 9575961 375.0 125.0 3 1.0 1.0 'Manhattan'\n",
      " 'Chelsea']\n",
      "[-8.973896 -1.5233971000000002 -2.125394 'medium'\n",
      " 'Sunny 1 BR apt in West Chelsea' 9585339 100.0 50.0 2 1.0 1.0 'Manhattan'\n",
      " 'Chelsea']\n",
      "[-11.897585000000001 8.961819 -3.082622 'medium'\n",
      " 'Meatpacking - Luxury Brownstone' 9713626 280.0 140.0 2 1.0 1.0\n",
      " 'Manhattan' 'Chelsea']\n",
      "[-13.994451000000002 9.956666 1.5905513 'high'\n",
      " 'Luxury doorman building w amenities' 9768313 500.0 500.0 1 1.0 1.0\n",
      " 'Manhattan' 'Chelsea']\n",
      "[-10.704398 13.806184 -8.8406315 'medium' 'Sunny 2 bedroom Apt (Chelsea)'\n",
      " 9857658 250.0 125.0 2 2.0 1.0 'Manhattan' 'Chelsea']\n",
      "[-18.05846 5.4777846 9.27988 'medium'\n",
      " 'Lovely 1Br Near Highline! (+2 cats)' 9865374 200.0 66.66666666666667 3\n",
      " 0.0 1.0 'Manhattan' 'Chelsea']\n",
      "[-8.944977 10.083128 -6.6865864 'high'\n",
      " 'Entire 2br apartment in the heart of Chelsea' 9997449 220.0 220.0 1 2.0\n",
      " 1.0 'Manhattan' 'Chelsea']\n",
      "[9.318511 16.25785 10.164916999999999 'high'\n",
      " 'Modern Luxury Chelsea Apt w/ Large Sunny Patios' 10036313 425.0 212.5 2\n",
      " 1.0 1.5 'Manhattan' 'Chelsea']\n",
      "[-15.632045999999999 2.023792 2.7302966 'medium'\n",
      " 'Amazing Flatiron Entire Studio Apt' 10059699 159.0 53.0 3 1.0 1.0\n",
      " 'Manhattan' 'Chelsea']\n",
      "[-9.126546000000001 14.165227999999999 -8.127122 'medium'\n",
      " 'Studio Apt at the Heart of Chelsea' 10090735 175.0 58.33333333333334 3\n",
      " 1.0 1.0 'Manhattan' 'Chelsea']\n",
      "[-19.213202 7.664397200000001 12.071617999999999 'medium'\n",
      " 'Easy 1 Bedroom in Chelsea' 10096773 145.0 72.5 2 1.0 1.0 'Manhattan'\n",
      " 'Chelsea']\n",
      "[-4.994769 -1.5605122 -14.885866 'low' 'Furnished Apartment in Chelsea'\n",
      " 10148581 52.0 26.0 2 1.0 1.0 'Manhattan' 'Chelsea']\n",
      "[-5.8201279999999995 -1.3478099 -9.020091 'medium'\n",
      " 'Venerable Chelsea Loft (Small Br)' 10210556 175.0 175.0 1 1.0 2.5\n",
      " 'Manhattan' 'Chelsea']\n",
      "[-11.758669 4.328461 -12.877968 'medium' 'Luxury High-Rise Manhattan Apt'\n",
      " 10322621 81.0 81.0 1 1.0 1.0 'Manhattan' 'Chelsea']\n",
      "[-18.9402 5.914353 11.003835 'medium' 'Cozy Studio in Excellent Location'\n",
      " 10403231 120.0 120.0 1 0.0 1.0 'Manhattan' 'Chelsea']\n",
      "[-7.869548 -10.017111 3.188843 'low'\n",
      " 'Large Room, High Floor w/ Views - Times Square' 10452737 139.0\n",
      " 46.33333333333334 3 1.0 1.0 'Manhattan' 'Chelsea']\n",
      "[-5.5579019999999995 -7.420418700000001 3.0087907000000005 'low'\n",
      " 'Extra Bed in a Cozy & Sunny Studio' 10489896 46.0 46.0 1 1.0 1.0\n",
      " 'Manhattan' 'Chelsea']\n",
      "[-9.316444 9.405491 -8.130183 'medium' 'Chelsea Studio + Private Garden!'\n",
      " 10564375 180.0 180.0 1 0.0 1.0 'Manhattan' 'Chelsea']\n",
      "[-10.545127 -9.908351 6.3178654000000005 'high'\n",
      " 'Chelsea Apartment (2 bedroom)' 10587891 225.0 225.0 1 2.0 1.0\n",
      " 'Manhattan' 'Chelsea']\n",
      "[-15.029397 -7.888719999999999 3.808404 'medium'\n",
      " 'Cool Chelsea studio for chilling!' 10692885 120.0 60.0 2 0.0 1.0\n",
      " 'Manhattan' 'Chelsea']\n",
      "[-12.518125 -5.013758 -0.7726965 'medium'\n",
      " 'Heart Of Chelsea Family Vacation' 10766309 130.0 65.0 2 1.0 1.0\n",
      " 'Manhattan' 'Chelsea']\n",
      "[-3.7341559999999996 7.683736 6.7643933 'medium'\n",
      " 'Stay in The Heart of NYC' 10903055 119.0 59.5 2 1.0 1.0 'Manhattan'\n",
      " 'Chelsea']\n",
      "[-11.722934 -3.3376124 -15.873163 'medium'\n",
      " 'Room in Huge Union Sq Rooftop Apt!' 10904914 70.0 70.0 1 1.0 2.0\n",
      " 'Manhattan' 'Chelsea']\n",
      "[-10.891781 -9.412964 -7.806810400000001 'low'\n",
      " 'Chelsea Apt w/ Private Rooftop Deck' 11006134 125.0 41.66666666666666 3\n",
      " 1.0 1.0 'Manhattan' 'Chelsea']\n",
      "[-9.378086999999999 -1.07587 -12.324932 'medium'\n",
      " 'Chambre au coeur de Manhattan' 11389773 65.0 65.0 1 1.0 1.0 'Manhattan'\n",
      " 'Chelsea']\n",
      "[9.239889999999999 1.3666853 -10.160886 'medium'\n",
      " 'Small Room Double Bed and 25 x 15 ft livingroom' 11503335 84.0 84.0 1\n",
      " 1.0 1.0 'Manhattan' 'Chelsea']\n",
      "[-11.777075 -2.4344912 10.433995 'medium' 'Beautiful Apartment in Chelsea'\n",
      " 11531154 70.0 70.0 1 1.0 1.0 'Manhattan' 'Chelsea']\n",
      "[-2.011711 5.6152225 6.4253290000000005 'medium'\n",
      " 'Private bedroom located in the heart of Chelsea' 11563821 110.0 110.0 1\n",
      " 1.0 1.0 'Manhattan' 'Chelsea']\n",
      "[-15.389764999999999 -3.7728336000000002 -3.3797907999999994 'high'\n",
      " 'Luxury building- 2BR/2BA in Chelsea' 12022833 350.0 350.0 1 2.0 2.0\n",
      " 'Manhattan' 'Chelsea']\n",
      "[-13.434184 -4.075268 -8.615536 'medium'\n",
      " 'Luxury bldg Near Flatiron- Chelsea' 12089661 175.0 175.0 1 1.0 1.0\n",
      " 'Manhattan' 'Chelsea']\n",
      "[4.570616 14.916272 -3.9082102999999995 'high'\n",
      " 'Best Place in the Center of NYC!' 12106348 206.0 206.0 1 1.0 1.0\n",
      " 'Manhattan' 'Chelsea']\n",
      "[7.7969637 10.943067999999998 -10.383678999999999 'medium'\n",
      " 'Chelsea ,Duplex ,Calm ,Fantastic' 12167152 179.0 59.66666666666666 3 1.0\n",
      " 1.0 'Manhattan' 'Chelsea']\n",
      "[-11.78249 9.279752 7.414362 'medium' 'Spacious home in heart of NYC'\n",
      " 12188651 225.0 112.5 2 1.0 1.0 'Manhattan' 'Chelsea']\n",
      "[-4.1895366 -1.9606874 12.732458 'medium' 'Bright and Charming in Chelsea'\n",
      " 12322923 165.0 55.0 3 1.0 1.0 'Manhattan' 'Chelsea']\n",
      "[-9.207894999999999 -5.3028054000000004 -11.827615 'high' 'Highline view'\n",
      " 12355067 200.0 200.0 1 1.0 1.0 'Manhattan' 'Chelsea']\n",
      "[-14.520323999999999 5.4068613 6.4330106 'medium'\n",
      " 'Sunny 1BR apartment in Chelsea' 12358120 249.0 83.0 3 1.0 1.0\n",
      " 'Manhattan' 'Chelsea']\n",
      "[2.9962566 12.080895 -5.806291000000001 'medium'\n",
      " 'Cozy Chelsea Apt Great Location' 12658099 100.0 50.0 2 1.0 1.0\n",
      " 'Manhattan' 'Chelsea']\n",
      "[-8.741004 0.60475487 -16.500868 'medium'\n",
      " 'Sunny, Chelsea Manhattan apartment' 12681730 125.0 62.5 2 1.0 1.0\n",
      " 'Manhattan' 'Chelsea']\n",
      "[-10.407563 -2.4802787 11.537445 'low' 'Penn Station / Chelsea North room'\n",
      " 12772993 55.0 27.5 2 1.0 1.0 'Manhattan' 'Chelsea']\n",
      "[-10.707555000000001 7.8669305 -2.6576552 'medium'\n",
      " 'Comfortable Chelsea Oasis' 12825700 195.0 65.0 3 1.0 1.0 'Manhattan'\n",
      " 'Chelsea']\n",
      "[0.9687503000000001 0.95325756 -8.136177 'medium'\n",
      " 'Great Modern Studio in Chelsea!' 12854724 75.0 75.0 1 1.0 1.0\n",
      " 'Manhattan' 'Chelsea']\n",
      "[0.77159315 0.8344511 -7.659321 'medium'\n",
      " 'LIVE HERE!! COZY STUDIO IN CHELSEA!' 12854734 100.0 100.0 1 0.0 1.0\n",
      " 'Manhattan' 'Chelsea']\n",
      "[-4.765826000000001 -1.814947 8.330631 'medium'\n",
      " 'Amazing entire apt on tree-lined st' 12884594 150.0 75.0 2 1.0 1.0\n",
      " 'Manhattan' 'Chelsea']\n",
      "[-14.197329000000002 7.835577499999999 -2.3198833 'medium'\n",
      " 'Giant Sun-filled Chelsea Studio' 12891996 200.0 100.0 2 0.0 1.0\n",
      " 'Manhattan' 'Chelsea']\n",
      "[-9.33655 -10.069369 9.024185000000001 'high'\n",
      " 'Chelsea Flat steps from Herald Sq' 12897713 300.0 300.0 1 1.0 1.0\n",
      " 'Manhattan' 'Chelsea']\n",
      "[-7.2560863 -4.6272426 9.931864 'high' 'Flatiron Oasis' 12966974 225.0\n",
      " 225.0 1 1.0 1.0 'Manhattan' 'Chelsea']\n",
      "[11.755773 -2.0190495999999998 -8.136828999999999 'medium'\n",
      " 'Priv Rm w. Big Loft  Living Room across from FIT' 12989612 100.0 100.0 1\n",
      " 1.0 1.0 'Manhattan' 'Chelsea']\n",
      "[15.511527 12.439905 4.604721 'high'\n",
      " 'AMAZING CENTRAL MANHATTAN 1 BED W/BALCONY FITS 4!' 13018125 225.0 225.0\n",
      " 1 1.0 1.0 'Manhattan' 'Chelsea']\n",
      "[-6.466685 12.220653 -12.333708 'high'\n",
      " '1 Bedroom townhouse apt in Chelsea w/ back garden' 13058232 295.0 295.0\n",
      " 1 1.0 1.0 'Manhattan' 'Chelsea']\n",
      "[-13.111885999999998 -7.7424293 -8.536839500000001 'medium'\n",
      " 'Charming Studio in West Chelsea' 13115864 105.0 52.5 2 0.0 1.0\n",
      " 'Manhattan' 'Chelsea']\n",
      "[-3.9871898 14.272877 -8.527168 'medium' 'Unique Studio in Chelsea'\n",
      " 13169806 154.0 77.0 2 0.0 1.0 'Manhattan' 'Chelsea']\n",
      "[0.9539267 15.413129999999999 4.059998 'low'\n",
      " 'Cozy Alcove, Chelsea Doorman Bldg, Near Everything' 13186741 85.0\n",
      " 28.33333333333333 3 1.0 1.0 'Manhattan' 'Chelsea']\n",
      "[-12.398008 13.74726 -8.625815 'low'\n",
      " '1st Time/Solo Guests: Charming NYC Apt. Share!!!' 13252064 75.0 37.5 2\n",
      " 1.0 1.0 'Manhattan' 'Chelsea']\n",
      "[-9.699088 -0.8216667 -0.5140291 'high'\n",
      " 'Tree lined, light-filled in Chelsea' 13254504 240.0 240.0 1 1.0 1.0\n",
      " 'Manhattan' 'Chelsea']\n",
      "[8.729616 10.294166 0.23295508 'high'\n",
      " 'CHELSEA 3 BEDROOM APARTMENT WITH PRIVATE GARDEN!!!' 13406622 450.0 225.0\n",
      " 2 3.0 2.5 'Manhattan' 'Chelsea']\n",
      "[-14.18009 5.3560724 11.591347 'medium'\n",
      " 'Artsy Studio / 1 Bedroom in the Heart of Chelsea' 13410478 275.0\n",
      " 91.66666666666669 3 0.0 1.0 'Manhattan' 'Chelsea']\n",
      "[-13.168019000000001 11.161636999999999 -0.45750406 'medium'\n",
      " 'HOTTEST LOCATION! Cozy, convenient and chic.' 13476685 165.0 55.0 3 1.0\n",
      " 1.0 'Manhattan' 'Chelsea']\n",
      "[-9.582736 1.9969107 -13.886089000000002 'low'\n",
      " 'Spacious Private BR in Chelsea' 13514387 90.0 45.0 2 1.0 1.0 'Manhattan'\n",
      " 'Chelsea']\n",
      "[-7.184359 4.1839303999999995 9.071926 'medium'\n",
      " 'Cute Apt in the Heart of Chelsea' 13613052 70.0 70.0 1 1.0 1.0\n",
      " 'Manhattan' 'Chelsea']\n",
      "[-2.8277197 -7.46815 -8.119046 'medium'\n",
      " 'Bright, spacious and quiet two-bedroom Chelsea apt' 13639075 325.0\n",
      " 108.33333333333331 3 2.0 1.0 'Manhattan' 'Chelsea']\n",
      "[-11.849012 10.715931 -0.062121708 'medium'\n",
      " 'Doorman Chelsea One Bedroom- Convenient and Fun!' 13642631 150.0 150.0 1\n",
      " 1.0 1.0 'Manhattan' 'Chelsea']\n",
      "[-7.1341715 -9.890471 8.832500999999999 'medium'\n",
      " 'Beautiful Chelsea Apartment with many amenties' 13695031 155.0 77.5 2\n",
      " 1.0 1.5 'Manhattan' 'Chelsea']\n",
      "[11.461276 17.844675 -3.5730254999999995 'medium'\n",
      " 'Right in the center of Chelsea, quiet and private.' 13723345 185.0 92.5\n",
      " 2 0.0 1.0 'Manhattan' 'Chelsea']\n",
      "[-7.426653 1.113577 -18.01083 'medium'\n",
      " 'Private room in a 2 Bedroom apartment - Chelsea' 13746962 150.0 50.0 3\n",
      " 1.0 1.0 'Manhattan' 'Chelsea']\n",
      "[-4.38847 -2.1142027000000003 12.346107 'medium'\n",
      " 'Bright & Light Chelsea One Bedroom' 13748546 210.0 105.0 2 1.0 1.0\n",
      " 'Manhattan' 'Chelsea']\n",
      "[-0.62045026 14.6389475 6.939843700000001 'medium'\n",
      " 'Chelsea’s Private, Quiet and Cozy bedroom' 13752222 145.0 72.5 2 1.0 1.0\n",
      " 'Manhattan' 'Chelsea']\n",
      "[-10.545268 2.5994081 -9.49437 'medium'\n",
      " 'Centrally Located One Bedroom Apt' 13757845 199.0 99.5 2 1.0 1.0\n",
      " 'Manhattan' 'Chelsea']\n",
      "[-3.000397 -10.076497 13.923963 'medium'\n",
      " 'Idyllic Two Bedroom Apt in the heart of Chelsea' 13893494 350.0\n",
      " 116.66666666666669 3 2.0 1.0 'Manhattan' 'Chelsea']\n",
      "[-3.8184955 -5.129436 4.559563 'medium' 'Cozy Room in Chelsea' 14057678\n",
      " 125.0 125.0 1 1.0 1.0 'Manhattan' 'Chelsea']\n",
      "[-10.042603999999999 0.31751433 -4.665104 'high'\n",
      " 'Elegant apt in the heart of the Flatiron District' 14088558 1100.0\n",
      " 366.66666666666674 3 2.0 2.0 'Manhattan' 'Chelsea']\n",
      "[-8.904321000000001 3.0164928 6.130018700000001 'medium'\n",
      " \"Clean & Cozy Close to Macy's\" 14108671 90.0 90.0 1 1.0 3.0 'Manhattan'\n",
      " 'Chelsea']\n",
      "[18.707047 13.487997 0.6752956999999999 'medium'\n",
      " 'NYC Chelsea Neighborhood, Studio Apartment' 14111254 250.0 125.0 2 0.0\n",
      " 1.0 'Manhattan' 'Chelsea']\n",
      "[10.427665 2.7878125 -9.299872 'medium' 'the shoebox, west chelsea'\n",
      " 14236416 150.0 50.0 3 0.0 1.0 'Manhattan' 'Chelsea']\n",
      "[-9.78471 0.25537923 -4.848838 'medium'\n",
      " 'Classic NYC: ENTIRE 1-BR in Spacious Chelsea Apt' 14312186 185.0 185.0 1\n",
      " 1.0 1.0 'Manhattan' 'Chelsea']\n",
      "[-6.7138963 4.145497 1.0715322 'medium'\n",
      " 'Summer home for families with baby + toddler' 14577253 250.0 125.0 2 2.0\n",
      " 2.0 'Manhattan' 'Chelsea']\n",
      "[-10.443983 -10.492711 -5.951778400000001 'high'\n",
      " 'Luxury Full-Floor 2 Bed Loft w/Huge Private Roof' 14590476 999.0 499.5 2\n",
      " 2.0 2.5 'Manhattan' 'Chelsea']\n",
      "[10.418766999999999 10.25937 0.083152 'medium'\n",
      " 'Beautiful Alcove Studio in West Midtown' 14843553 215.0\n",
      " 71.66666666666667 3 0.0 1.0 'Manhattan' 'Chelsea']\n",
      "[9.608589 7.242978599999999 6.962888700000001 'medium'\n",
      " 'BEST AREA IN CHELSEA. MODERN. COMPACT. HIGH LINE!!' 14858544 90.0 90.0 1\n",
      " 1.0 1.0 'Manhattan' 'Chelsea']\n",
      "[9.228108 13.17941 -9.751411000000001 'medium'\n",
      " 'Bedroom in the heart of NYC' 15083267 110.0 110.0 1 1.0 2.0 'Manhattan'\n",
      " 'Chelsea']\n",
      "[-6.146913 -4.906904 -5.115737 'medium'\n",
      " 'Spacious, centrally located one-bedroom in Chelsea' 15190958 193.0 96.5\n",
      " 2 1.0 1.0 'Manhattan' 'Chelsea']\n",
      "[-4.9633884 8.542558 -16.495451 'medium'\n",
      " 'Private room for 1 or 2 in Chelsea. Prime location' 15282411 120.0 120.0\n",
      " 1 1.0 1.0 'Manhattan' 'Chelsea']\n",
      "[-9.419072 9.404531 2.4801185 'medium'\n",
      " 'Artsy Duplex in Chelsea w/ Huge Terrace' 15314886 179.0\n",
      " 59.66666666666666 3 1.0 1.0 'Manhattan' 'Chelsea']\n",
      "[3.514179 13.442554999999999 4.4109793 'high'\n",
      " 'Trendy, Fully-Renovated Studio in West Chelsea' 15344255 225.0 225.0 1\n",
      " 0.0 1.0 'Manhattan' 'Chelsea']\n",
      "[-10.447939 13.737682999999999 -7.792266400000001 'medium'\n",
      " 'Meatpacking Triplex - A small home within NYC' 15358881 300.0 150.0 2\n",
      " 1.0 1.0 'Manhattan' 'Chelsea']\n",
      "[-10.921084 7.1264286 8.670828 'medium' 'Charming Home in Chelsea'\n",
      " 15520060 200.0 66.66666666666667 3 0.0 1.0 'Manhattan' 'Chelsea']\n",
      "[-0.9382514000000001 5.9982295 -20.074259 'low'\n",
      " 'Private Room for 2 in Midtown West ☆' 15625556 78.0 26.0 3 1.0 1.0\n",
      " 'Manhattan' 'Chelsea']\n",
      "[-8.766437 -8.385117999999999 1.6374578000000002 'medium'\n",
      " 'Big room in the heart of Chelsea.' 15664673 120.0 120.0 1 1.0 1.0\n",
      " 'Manhattan' 'Chelsea']\n",
      "[-9.863275999999999 12.017124 -8.847710000000001 'medium'\n",
      " 'Two-bedroom in the heart of Chelsea' 15726990 265.0 88.33333333333331 3\n",
      " 2.0 1.0 'Manhattan' 'Chelsea']\n",
      "[-10.352394 -9.497793 12.493967 'medium' 'Cozy studio in Chelsea' 16002841\n",
      " 125.0 125.0 1 0.0 1.0 'Manhattan' 'Chelsea']\n",
      "[-2.8224687999999998 -5.097763 8.612134 'medium'\n",
      " 'Chelsea Apartment/Flat- sleeps up to 4' 16032177 149.0 74.5 2 0.0 1.0\n",
      " 'Manhattan' 'Chelsea']\n",
      "[3.071672 0.8530796999999999 -9.366323 'medium' 'Cozy loft in Chelsea'\n",
      " 16107664 181.0 181.0 1 0.0 1.0 'Manhattan' 'Chelsea']\n",
      "[-3.9531815000000003 -4.505939 14.336870000000001 'medium'\n",
      " 'Amazing studio in the heart of chelsea!' 16170544 60.0 60.0 1 1.0 1.0\n",
      " 'Manhattan' 'Chelsea']\n",
      "[-13.534931 6.1394525 1.4765038000000001 'medium'\n",
      " 'Studio in beautiful Chelsea - close to everything!' 16172895 150.0 50.0\n",
      " 3 0.0 1.0 'Manhattan' 'Chelsea']\n",
      "[2.409131 -4.707852 -7.9123779999999995 'medium' 'Your point in Chelsea'\n",
      " 16190902 330.0 165.0 2 2.0 1.0 'Manhattan' 'Chelsea']\n",
      "[-6.2237425 5.4947433 -17.382666 'low'\n",
      " 'Clean and Cozy Room in Meatpacking District' 16228505 120.0 40.0 3 1.0\n",
      " 1.0 'Manhattan' 'Chelsea']\n",
      "[-16.086056 4.529705 -11.599924 'medium' 'Sunny Chelsea Studio' 16253465\n",
      " 128.0 128.0 1 0.0 1.0 'Manhattan' 'Chelsea']\n",
      "[6.1755247 5.276986 12.918185000000001 'medium' 'Charming Chelsea Studio'\n",
      " 16336497 110.0 55.0 2 1.0 1.0 'Manhattan' 'Chelsea']\n",
      "[11.515957 0.029176857 -4.910697 'medium'\n",
      " 'AMAZING LOCATION - Heart of CHELSEA / Manhattan' 16405036 95.0 95.0 1\n",
      " 1.0 1.0 'Manhattan' 'Chelsea']\n",
      "[-11.437956 -8.146123 -16.920763 'medium' 'Super cozy room !CONVENIENT'\n",
      " 16529755 115.0 115.0 1 1.0 1.0 'Manhattan' 'Chelsea']\n",
      "[12.694025 1.2815626 -0.33382670000000003 'medium'\n",
      " '❤ART of Chelsea | 1bd rm | Walk/bike everywhere!' 16543032 196.0\n",
      " 65.33333333333333 3 1.0 1.0 'Manhattan' 'Chelsea']\n",
      "[3.0439715 -2.3627472000000003 -9.357447 'medium' 'Sunny Chelsea Oasis'\n",
      " 16677170 233.0 116.5 2 1.0 1.0 'Manhattan' 'Chelsea']\n",
      "[13.553253 2.7124197 0.39803743 'high'\n",
      " 'Hey!!! Check out this apt. On our new link!!!' 16805065 230.0 230.0 1\n",
      " 1.0 1.0 'Manhattan' 'Chelsea']\n",
      "[-1.2644615 1.4810268 11.481786 'medium'\n",
      " 'Charming Chelsea Townhouse 1 Bedroom Apartment' 16812284 195.0 97.5 2\n",
      " 1.0 1.0 'Manhattan' 'Chelsea']\n",
      "[4.373256700000001 7.6032734 -2.8519924 'medium'\n",
      " 'Large, Sunny Studio in the heart of Chelsea.' 16828843 130.0 65.0 2 0.0\n",
      " 0.0 'Manhattan' 'Chelsea']\n",
      "[-3.7450428 2.599806 -18.079045999999998 'high'\n",
      " 'MASSIVE ROOM IN HEART OF NYC!!! (CHELSEA/FLATIRON)' 16874685 200.0 200.0\n",
      " 1 1.0 2.0 'Manhattan' 'Chelsea']\n",
      "[-6.665374000000001 -9.728135 -1.1759661 'medium'\n",
      " 'Awesome Chelsea Manhattan Pad' 16976215 125.0 125.0 1 1.0 1.0\n",
      " 'Manhattan' 'Chelsea']\n",
      "[9.222835 13.063208 -9.774881 'medium'\n",
      " 'Large comfortable room near Penn Station' 17071462 99.0 99.0 1 1.0 2.0\n",
      " 'Manhattan' 'Chelsea']\n",
      "[12.604069 5.3261647000000005 1.9885161 'medium'\n",
      " 'ACTOR PHILIP SEYMOUR HOFFMAN LIVED HERE' 17218433 239.0\n",
      " 79.66666666666667 3 0.0 1.0 'Manhattan' 'Chelsea']\n",
      "[-10.521558 -12.280247 5.7456646 'medium'\n",
      " 'Chelsea/Union Square cozy studio' 17297014 160.0 80.0 2 1.0 1.0\n",
      " 'Manhattan' 'Chelsea']\n",
      "[-3.0496554 9.0908785 -11.589846000000001 'medium' 'Chic Space in Chelsea'\n",
      " 17367004 289.0 144.5 2 2.0 1.0 'Manhattan' 'Chelsea']\n",
      "[-1.414962 -3.4678942999999998 8.619041000000001 'medium'\n",
      " '2fireplcs,Garden,BBQ,wshr/dryer,JacuzTub,BIG Kitch' 17584136 190.0 190.0\n",
      " 1 2.0 1.0 'Manhattan' 'Chelsea']\n",
      "[-3.7286918 2.5949798 -18.047728 'medium'\n",
      " 'LARGE ROOM IN HEART OF NYC (CHELSEA / FLATIRON)' 17610059 100.0 100.0 1\n",
      " 1.0 2.0 'Manhattan' 'Chelsea']\n",
      "[-8.732571 -7.550205 1.2116182 'low'\n",
      " 'Private Room in Large Two-floor Apt w/ Backyard' 17752493 89.0 44.5 2\n",
      " 1.0 1.0 'Manhattan' 'Chelsea']\n",
      "[9.531008 -6.0970515999999995 -12.82737 'medium'\n",
      " 'Quiet, Comfortable Studio in Chelsea/Village' 17762525 139.0 139.0 1 0.0\n",
      " 1.0 'Manhattan' 'Chelsea']\n",
      "[-12.0887 -12.760852 11.376781 'medium'\n",
      " 'Home away from home in the heart of Chelsea' 17840682 250.0 125.0 2 2.0\n",
      " 1.0 'Manhattan' 'Chelsea']\n",
      "[3.9007263 -0.0092379525 -14.186245999999999 'high'\n",
      " 'Amazing Space For Your Chelsea Stay' 17879131 429.0 214.5 2 3.0 1.0\n",
      " 'Manhattan' 'Chelsea']\n",
      "[-12.022081 4.2187295 -17.628239 'medium'\n",
      " 'Nicest Room in Manhattan - Chelsea Beauty' 17981447 57.0 57.0 1 1.0 1.0\n",
      " 'Manhattan' 'Chelsea']\n",
      "[-1.1900438999999998 -1.9845621999999998 -3.094105 'medium'\n",
      " 'Very quiet apt. on tree-lined West Chelsea street' 18024772 95.0 95.0 1\n",
      " 1.0 1.0 'Manhattan' 'Chelsea']\n",
      "[9.083061 12.882385000000001 -9.957668 'medium'\n",
      " 'Quiet, tranquil room in the middle of everything!' 18034890 105.0 105.0\n",
      " 1 1.0 2.0 'Manhattan' 'Chelsea']\n",
      "[-9.330914 7.0043169999999995 1.3064079 'low'\n",
      " 'Chelsea Haven--Summer Sublet' 18050153 134.0 44.66666666666666 3 1.0 1.0\n",
      " 'Manhattan' 'Chelsea']\n",
      "[9.091747 12.873483 -9.922535 'medium'\n",
      " 'Private and Quiet Room in the Perfect Location' 18173989 69.0 69.0 1 1.0\n",
      " 2.0 'Manhattan' 'Chelsea']\n",
      "[5.684851999999999 9.615877000000001 -1.057134 'medium'\n",
      " 'Studio in Chelsea' 18481196 200.0 100.0 2 0.0 1.0 'Manhattan' 'Chelsea']\n",
      "[-5.45292 12.693896 -0.2220984 'medium'\n",
      " 'Luxury King Size Chelsea Apt Near MSG' 18567513 219.0 109.5 2 1.0 1.0\n",
      " 'Manhattan' 'Chelsea']\n",
      "[-9.213416 9.168168 16.314703 'medium'\n",
      " 'Entire, Immaculate 1-Bedroom CHELSEA APARTMENT' 18579416 200.0 100.0 2\n",
      " 1.0 1.0 'Manhattan' 'Chelsea']\n",
      "[10.974381 6.2333 -1.7447168999999998 'medium'\n",
      " 'CHARMING CHELSEA BROWNSTONE STUDIO NEAR HIGHLINE' 18584180 180.0 60.0 3\n",
      " 0.0 1.0 'Manhattan' 'Chelsea']\n",
      "[-11.87963 1.7519711 -1.8185292000000002 'medium'\n",
      " 'Luxury Studio, Large Private Terrace near Times Sq' 18795534 250.0 125.0\n",
      " 2 0.0 1.0 'Manhattan' 'Chelsea']\n",
      "[2.4630764 -19.585361 3.819544 'medium' 'Chelsea Studio' 18892465 150.0\n",
      " 150.0 1 0.0 1.0 'Manhattan' 'Chelsea']\n",
      "[-0.9343851000000001 6.004882299999999 -20.047933999999998 'low'\n",
      " '△PENN STATION ,Private room with Full kitchen△' 18933994 90.0 45.0 2 1.0\n",
      " 0.0 'Manhattan' 'Chelsea']\n",
      "[5.649609 18.757133 6.3685904 'medium'\n",
      " 'Spacious, Quiet, Cozy Art-Filled Chelsea Apartment' 19015592 350.0 175.0\n",
      " 2 1.0 1.5 'Manhattan' 'Chelsea']\n",
      "[-1.4602334 -11.564484 8.369872 'high' 'New York City living' 19122738\n",
      " 275.0 275.0 1 0.0 1.0 'Manhattan' 'Chelsea']\n",
      "[18.169912 6.5380235 1.6844580000000002 'medium'\n",
      " 'Perfect Penthouse Duplex' 19182044 399.0 133.0 3 2.0 1.0 'Manhattan'\n",
      " 'Chelsea']\n",
      "[-9.205243 8.555091000000001 -1.9961076000000002 'medium'\n",
      " 'Bright and Comfortable Chic Chelsea 1-bedroom!' 19313064 200.0\n",
      " 66.66666666666667 3 1.0 1.0 'Manhattan' 'Chelsea']\n",
      "[-3.5597436 3.6529345999999996 -19.277867999999998 'low'\n",
      " 'Heart of Chelsea Private room in a serviced 2BD' 19364229 100.0\n",
      " 33.333333333333336 3 1.0 1.0 'Manhattan' 'Chelsea']\n",
      "[1.6331562 11.51862 11.242128 'medium'\n",
      " 'Private, Cozy, & Conveniently located Chelsea Room' 19385683 130.0 65.0\n",
      " 2 1.0 1.0 'Manhattan' 'Chelsea']\n",
      "[-0.6281296999999999 -7.7741194 -2.7272103 'medium'\n",
      " 'Cozy studio in the heart of Chelsea!' 19408844 135.0 67.5 2 0.0 1.0\n",
      " 'Manhattan' 'Chelsea']\n",
      "[1.2773683 -2.4418812 -7.307232000000001 'medium'\n",
      " 'Charming Prewar Full Floor Apartment' 19414281 400.0 133.33333333333334\n",
      " 3 2.0 1.0 'Manhattan' 'Chelsea']\n",
      "[-14.307635999999999 4.9895163 -8.053958 'medium'\n",
      " 'Newly renovated studio in Prime Manhattan location' 19415979 175.0\n",
      " 58.33333333333334 3 0.0 1.0 'Manhattan' 'Chelsea']\n",
      "[-3.0496478 -4.369807700000001 9.038041 'medium'\n",
      " 'Chelsea/Flatiron 1-Bedroom Apt in Luxury Building' 19439790 189.0 94.5 2\n",
      " 1.0 1.0 'Manhattan' 'Chelsea']\n",
      "[-10.699693 -8.582239 -16.331535000000002 'low'\n",
      " 'Manhattan Phenomenal Deal! BEST Chelsea Room' 19455149 49.0 49.0 1 1.0\n",
      " 1.0 'Manhattan' 'Chelsea']\n",
      "[0.41725853 -21.375431 8.410668 'low' 'NYC adventurous getaway!' 19455656\n",
      " 65.0 21.66666666666667 3 1.0 1.0 'Manhattan' 'Chelsea']\n",
      "[19.587920999999998 10.078427 0.27019190000000004 'low'\n",
      " 'Chelsea luxury apartment' 19563669 140.0 46.66666666666666 3 1.0 1.0\n",
      " 'Manhattan' 'Chelsea']\n",
      "[8.182148 12.68641 2.2833352000000002 'medium'\n",
      " 'NYC MADISON SQAURE GARDEN BRAND NEW , SLEEPS 6' 19603259 299.0 149.5 2\n",
      " 1.0 1.0 'Manhattan' 'Chelsea']\n",
      "[-5.911666 -13.905543 2.352806 'medium'\n",
      " 'Large Private Room in Duplex- Chelsea' 19609919 105.0 52.5 2 1.0 1.0\n",
      " 'Manhattan' 'Chelsea']\n",
      "[-3.3366413 -5.082231 -13.968944 'medium'\n",
      " 'Bright, Modern and Cozy Chelsea Studio!' 19619159 155.0 77.5 2 0.0 1.0\n",
      " 'Manhattan' 'Chelsea']\n",
      "[-5.954091 -10.12531 -0.95624393 'medium'\n",
      " 'Chelsea Private Bedroom and Bathroom' 19622470 100.0 50.0 2 1.0 1.0\n",
      " 'Manhattan' 'Chelsea']\n",
      "[-8.090522 -1.1679803 -9.255618 'high' 'Maison 130' 19635738 250.0 250.0 1\n",
      " 1.0 1.0 'Manhattan' 'Chelsea']\n",
      "[0.19948862 -2.0281327 16.521 'medium'\n",
      " 'Charming One Bedroom Apt in West Chelsea' 19714903 150.0 75.0 2 1.0 1.0\n",
      " 'Manhattan' 'Chelsea']\n",
      "[-1.6201864 5.1993566 7.067014 'medium'\n",
      " 'AMAZING 2 bedroom in the heart of Chelsea!' 19769403 275.0\n",
      " 91.66666666666669 3 2.0 1.0 'Manhattan' 'Chelsea']\n",
      "[-9.627978 13.93714 0.88622236 'medium'\n",
      " 'Spacious 1BR on the border of West Village/Chelsea' 19790344 200.0 100.0\n",
      " 2 1.0 1.0 'Manhattan' 'Chelsea']\n",
      "[2.205891 -9.074897 -15.234647 'medium' 'Chelsea Condo near High line'\n",
      " 19821160 200.0 100.0 2 1.0 1.0 'Manhattan' 'Chelsea']\n",
      "[7.088112400000001 -4.544658 -11.042014 'medium'\n",
      " 'COZY STUDIO APT IN HEART OF CHELSEA' 19821206 128.0 128.0 1 0.0 1.0\n",
      " 'Manhattan' 'Chelsea']\n",
      "[-8.25876 3.796871 -0.16317672 'medium'\n",
      " 'Charming Townhouse duplex in Chelsea' 19880329 500.0 166.66666666666666\n",
      " 3 3.0 2.5 'Manhattan' 'Chelsea']\n",
      "[-6.3279815 5.4519663000000005 -14.120588 'medium'\n",
      " 'Bedroom and own bathroom in Chelsea apartment' 19968961 110.0 55.0 2 1.0\n",
      " 1.0 'Manhattan' 'Chelsea']\n",
      "[-2.953801 -4.022454 4.214065 'low'\n",
      " 'Chelsea, Minutes to Time Square, Next to Subway' 20250864 40.0\n",
      " 13.333333333333336 3 1.0 1.0 'Manhattan' 'Chelsea']\n",
      "[-3.6671453 7.2992716 -9.189451 'medium' 'Studio Apartment in Chelsea'\n",
      " 20425394 162.0 54.0 3 0.0 1.0 'Manhattan' 'Chelsea']\n",
      "[11.406972999999999 1.8954445 -3.5277324 'medium' 'Cozy Chelsea Apartment'\n",
      " 20506481 195.0 195.0 1 1.0 1.0 'Manhattan' 'Chelsea']\n",
      "[2.1865857 -2.6545045 -6.961 'medium'\n",
      " 'Beautiful apartment located in Chelsea!' 20569589 250.0\n",
      " 83.33333333333333 3 1.0 1.0 'Manhattan' 'Chelsea']\n",
      "[-5.033713 0.91810536 -5.794124 'medium'\n",
      " 'Cozy Studio Apartment in West Chelsea' 20587567 154.0 77.0 2 0.0 1.0\n",
      " 'Manhattan' 'Chelsea']\n",
      "[13.945648 -2.5339477 -8.540399 'medium'\n",
      " 'Private 1 bed 1 bath- Chelsea, Manhattan' 20651136 165.0 55.0 3 1.0 1.0\n",
      " 'Manhattan' 'Chelsea']\n",
      "[7.134312599999999 10.468696000000001 -3.0479287999999998 'high'\n",
      " 'Luxury Alcove Studio in Chelsea' 20688624 225.0 225.0 1 0.0 1.0\n",
      " 'Manhattan' 'Chelsea']\n",
      "[-9.932691 2.6275077000000002 1.8368438000000002 'medium'\n",
      " 'Eclectic studio steps from Highline Park Chelsea' 20783811 435.0 145.0 3\n",
      " 0.0 1.0 'Manhattan' 'Chelsea']\n",
      "[-5.370229 -11.347672 4.5224686 'low'\n",
      " 'Huge One of A Kind Loft West Village/Meatpacking' 20815900 89.0 44.5 2\n",
      " 1.0 2.0 'Manhattan' 'Chelsea']\n",
      "[6.833272999999999 -17.67895 8.3765745 'medium'\n",
      " 'Fabulous Sun-kissed Room in Heart of Chelsea!' 20860184 95.0 95.0 1 1.0\n",
      " 1.0 'Manhattan' 'Chelsea']\n",
      "[7.2127232999999995 -6.125538 -11.405086500000001 'medium'\n",
      " 'High Line Sun Drenched Home' 20864878 200.0 100.0 2 1.0 1.0 'Manhattan'\n",
      " 'Chelsea']\n",
      "[-12.487759 2.480459 -12.333775 'medium' 'Room in Chelsea' 20941420 100.0\n",
      " 50.0 2 1.0 1.0 'Manhattan' 'Chelsea']\n",
      "[3.5679296999999996 5.452685400000001 -0.8938195999999999 'low'\n",
      " 'Best location • Luxury building • Quiet •' 20981218 98.0\n",
      " 32.666666666666664 3 1.0 1.0 'Manhattan' 'Chelsea']\n",
      "[20.853079 -5.554547299999999 -9.058633 'low'\n",
      " 'Chelsea, Manhattan Large Private Bedroom for 2' 21044271 125.0\n",
      " 41.66666666666666 3 1.0 1.0 'Manhattan' 'Chelsea']\n",
      "[17.392063 1.9216706000000001 -7.991136599999999 'high'\n",
      " 'Lavish 3 bedroom near Penn Station / MSG' 21054217 900.0 450.0 2 3.0 2.0\n",
      " 'Manhattan' 'Chelsea']\n",
      "[3.0648348 -5.9151607 2.0476391 'medium'\n",
      " 'Midtown Manhattan shared Apartment,Prime Location' 21181643 99.0 99.0 1\n",
      " 1.0 1.0 'Manhattan' 'Chelsea']\n",
      "[14.5723095 0.31523955 -8.752591 'medium'\n",
      " 'The Solstice - A One Bedroom Apartment' 21213047 165.0 82.5 2 1.0 1.0\n",
      " 'Manhattan' 'Chelsea']\n",
      "[8.157303 -1.0171858 -13.176093 'medium'\n",
      " 'Quiet and private in the heart of Chelsea.' 21215200 175.0 87.5 2 0.0\n",
      " 1.0 'Manhattan' 'Chelsea']\n",
      "[-8.251752999999999 5.4685654999999995 14.807513 'medium'\n",
      " 'Chelsea Newly Renovated Private Bedroom' 21254023 110.0 55.0 2 1.0 1.0\n",
      " 'Manhattan' 'Chelsea']\n",
      "[-2.6259662999999995 -13.681951500000002 -7.850548700000001 'medium'\n",
      " 'Adorable room in AMAZING Chelsea apartment!' 21428231 95.0 95.0 1 1.0\n",
      " 1.0 'Manhattan' 'Chelsea']\n",
      "[-5.736656 9.175872 10.745051 'medium'\n",
      " 'Spacious, Cozy & Quiet Chelsea Designer Apartment' 21516411 250.0 125.0\n",
      " 2 1.0 1.5 'Manhattan' 'Chelsea']\n",
      "[14.034721 6.2973914 -9.611932000000001 'medium'\n",
      " 'Sunny, Spacious Apartment in the Heart of Chelsea' 21597844 400.0\n",
      " 133.33333333333334 3 1.0 1.0 'Manhattan' 'Chelsea']\n",
      "[-7.1475186 -9.062654499999999 8.893745 'medium'\n",
      " 'Luxury Chelsea penthouse w private terrace & view!' 21677053 485.0\n",
      " 161.66666666666666 3 2.0 2.0 'Manhattan' 'Chelsea']\n",
      "[-2.9824026000000003 -7.8940716 -7.956406599999999 'medium'\n",
      " 'Timeless West Village Townhouse with Garden' 21713419 400.0\n",
      " 133.33333333333334 3 2.0 2.0 'Manhattan' 'Chelsea']\n",
      "[8.705703 -8.204174 -12.868913000000001 'medium'\n",
      " 'Sun kissed, loft studio in the heart of Chelsea' 21767672 159.0 53.0 3\n",
      " 1.0 1.0 'Manhattan' 'Chelsea']\n",
      "[-3.1229258 -2.5411105 -16.154957 'medium'\n",
      " 'In the heart of Chelsea and downtown' 21844377 200.0 66.66666666666667 3\n",
      " 1.0 1.0 'Manhattan' 'Chelsea']\n",
      "[-6.5330753 9.920785 -5.745191 'medium'\n",
      " 'Perfect Manhattan Studio Apartment - Quiet Street' 21851700 150.0 50.0 3\n",
      " 0.0 1.0 'Manhattan' 'Chelsea']\n",
      "[-5.811054 1.5672609 -9.620661 'medium'\n",
      " 'Brand-new Luxury apt. Stunning views by Penn st.' 21861551 155.0 77.5 2\n",
      " 1.0 1.0 'Manhattan' 'Chelsea']\n",
      "[-10.954407000000002 7.4788375 -1.9739828000000001 'high'\n",
      " 'AMAZING STUDIO IN CHELSEA (up to 4) Special price!' 21937451 200.0 200.0\n",
      " 1 0.0 1.0 'Manhattan' 'Chelsea']\n",
      "[18.20275 3.9025497000000002 -6.7529826 'high'\n",
      " 'Luxury Chelsea Condo on the High Line park' 21967259 800.0 800.0 1 2.0\n",
      " 2.5 'Manhattan' 'Chelsea']\n",
      "[-1.7380311000000002 -10.820922999999999 -16.802210000000002 'medium'\n",
      " 'Sunny, Spacious Room in the Heart of Chelsea' 21969143 91.0 91.0 1 1.0\n",
      " 1.0 'Manhattan' 'Chelsea']\n",
      "[5.924905 14.303013 13.334118 'medium'\n",
      " 'Spacious, Bright 1 BR in Prime Midtown West' 21983547 225.0 112.5 2 1.0\n",
      " 1.0 'Manhattan' 'Chelsea']\n",
      "[5.888099700000001 5.493355 4.0671425 'medium'\n",
      " 'Boutique Luxury in the Heart of Chelsea' 22079387 299.0 149.5 2 1.0 1.0\n",
      " 'Manhattan' 'Chelsea']\n",
      "[18.411072 0.676672 -8.405917 'medium' 'Chelsea 1 Bedroom Gem!' 22143436\n",
      " 200.0 66.66666666666667 3 1.0 1.0 'Manhattan' 'Chelsea']\n",
      "[-0.33182976 -7.2975745 17.014292 'medium'\n",
      " 'Spacious Studio with Private Roof' 22144662 109.0 54.5 2 0.0 1.0\n",
      " 'Manhattan' 'Chelsea']\n",
      "[16.05115 11.546411500000001 4.8668985000000005 'high'\n",
      " 'Spacious & Sophisticated in Chelsea' 22152785 625.0 312.5 2 2.0 2.0\n",
      " 'Manhattan' 'Chelsea']\n",
      "[-2.7406313 -3.8858786 14.865526999999998 'medium'\n",
      " 'Light & Quiet Chelsea One Bedroom' 22191343 229.0 76.33333333333333 3\n",
      " 1.0 1.0 'Manhattan' 'Chelsea']\n",
      "[-9.850635 1.3501039 -5.014719 'medium'\n",
      " 'Cosy Apartment in the Heart of Manhattan' 22232463 135.0 135.0 1 1.0 1.0\n",
      " 'Manhattan' 'Chelsea']\n",
      "[9.976894 -2.8048672999999997 -4.73928 'medium'\n",
      " 'Private Room B In Prime Location' 22241573 115.0 115.0 1 1.0 1.0\n",
      " 'Manhattan' 'Chelsea']\n",
      "[9.405046 3.2478714 16.304445 'medium'\n",
      " 'Simple stay in heart of Chelsea / Meatpacking' 22283652 285.0 95.0 3 1.0\n",
      " 1.0 'Manhattan' 'Chelsea']\n",
      "[-9.818419 11.541742999999999 15.392373000000001 'medium'\n",
      " 'Luxury apartment right in the center of Manhattan' 22289665 260.0\n",
      " 86.66666666666669 3 1.0 1.0 'Manhattan' 'Chelsea']\n",
      "[8.566256 -7.7630906 -13.157712 'medium'\n",
      " 'Large 1-bedroom in Chelsea (unfurnished)' 22303856 152.0 152.0 1 1.0 1.0\n",
      " 'Manhattan' 'Chelsea']\n",
      "[-3.4488857000000004 5.680118599999999 13.009275 'low'\n",
      " 'Art Lover’s Dream! Chelsea Delight!' 22312190 84.0 42.0 2 1.0 1.0\n",
      " 'Manhattan' 'Chelsea']\n",
      "[2.1857580000000003 -7.2278385 -17.036438 'medium'\n",
      " 'Millions of View Luxury Apartment In Manhattan' 22335475 205.0\n",
      " 68.33333333333333 3 2.0 1.0 'Manhattan' 'Chelsea']\n",
      "[-3.59635 2.7376169999999997 -4.224583 'medium'\n",
      " 'Cozy, impeccable, sunlit West Village studio' 22352793 110.0 55.0 2 0.0\n",
      " 1.0 'Manhattan' 'Chelsea']\n",
      "[8.36314 5.933519400000001 13.616399 'medium'\n",
      " 'Spacious & Sunny 2BD / 2BTH in Chelsea, Manhattan' 22389258 450.0 150.0\n",
      " 3 2.0 2.0 'Manhattan' 'Chelsea']\n",
      "[1.1922916000000001 -19.055323 11.622523 'medium'\n",
      " 'Cozy New York Apartment' 22651509 115.0 115.0 1 0.0 1.0 'Manhattan'\n",
      " 'Chelsea']\n",
      "[3.2419941000000003 -9.327010000000001 8.809113499999999 'medium'\n",
      " 'Furnished Bedroom Meat Packing District' 22683927 150.0 50.0 3 2.0 1.0\n",
      " 'Manhattan' 'Chelsea']\n",
      "[-1.9225720000000002 -9.612789 17.020575 'medium'\n",
      " 'Private Apartment in Chelsea' 22754110 115.0 115.0 1 1.0 1.0 'Manhattan'\n",
      " 'Chelsea']\n",
      "[-9.556429 -11.459845 -3.8713032999999997 'medium'\n",
      " 'Free bottle of wine with stay!' 22781825 75.0 75.0 1 1.0 1.0 'Manhattan'\n",
      " 'Chelsea']\n",
      "[12.033108 7.792615400000001 8.687647 'high'\n",
      " 'Luxurious, Modern Studio in Heart of Chelsea, NY' 22786958 220.0 220.0 1\n",
      " 1.0 1.0 'Manhattan' 'Chelsea']\n",
      "[0.059532005 -5.236201 -11.459512 'medium'\n",
      " 'The Grove - A Luxury One Bedroom Apartment' 22978756 299.0 149.5 2 1.0\n",
      " 1.0 'Manhattan' 'Chelsea']\n",
      "[-10.884793 -12.021606 13.27749 'medium' 'Bright Meatpacking Studio'\n",
      " 23001249 150.0 75.0 2 0.0 1.0 'Manhattan' 'Chelsea']\n",
      "[-9.151827 4.7614255 14.900926 'medium'\n",
      " 'Big Private Room in the Hudson Yards Area' 23374229 98.0 98.0 1 1.0 1.0\n",
      " 'Manhattan' 'Chelsea']\n",
      "[-8.245538999999999 4.512771599999999 -10.67808 'low'\n",
      " 'Private room amazing location Chelsea/Union Square' 23421363 80.0\n",
      " 26.66666666666667 3 1.0 1.0 'Manhattan' 'Chelsea']\n",
      "[-7.064557000000001 -3.210643 -15.4758 'low'\n",
      " 'Private bedroom in large Chelsea apartment' 23464702 99.0 33.0 3 1.0 1.0\n",
      " 'Manhattan' 'Chelsea']\n",
      "[-12.183835 5.751336 2.9141457 'medium'\n",
      " 'Spacious one bedroom apartment in Chelsea' 23548260 96.0 96.0 1 1.0 1.0\n",
      " 'Manhattan' 'Chelsea']\n",
      "[-10.934614999999999 6.846443700000001 -2.3719938 'medium'\n",
      " '**Spacious 47th-Floor Apt** Convenient Location' 23560164 186.0 62.0 3\n",
      " 1.0 1.0 'Manhattan' 'Chelsea']\n",
      "[-1.3183241 -8.040218 17.435760000000002 'medium'\n",
      " 'Chelsea Studio Steps from Madison Square Garden' 23632578 185.0 92.5 2\n",
      " 0.0 1.0 'Manhattan' 'Chelsea']\n",
      "[11.842125 1.5026795 1.2914008999999997 'medium'\n",
      " '*Location, Location | Chelsea | Meat Packing*' 23839939 199.0\n",
      " 66.33333333333333 3 1.0 1.0 'Manhattan' 'Chelsea']\n",
      "[2.4523029999999997 -10.706145 -15.514135000000001 'medium'\n",
      " 'Cheap Rental in Manhattan Downtown!' 23855466 70.0 70.0 1 1.0 1.0\n",
      " 'Manhattan' 'Chelsea']\n",
      "[6.4434156 4.452149400000001 14.381192 'medium'\n",
      " 'Bright & Cozy Studio in PRIME Flatiron/Chelsea' 24201129 250.0 125.0 2\n",
      " 1.0 1.0 'Manhattan' 'Chelsea']\n",
      "[-0.9517745000000001 -12.759817 -3.598393 'low'\n",
      " 'Private Room in The Heart of Manhattan' 24266025 70.0 23.33333333333333\n",
      " 3 1.0 1.0 'Manhattan' 'Chelsea']\n",
      "[6.488907299999999 5.580035 3.0413759999999996 'medium'\n",
      " 'Bright and modern New York apartment' 24281831 250.0 125.0 2 1.0 1.0\n",
      " 'Manhattan' 'Chelsea']\n",
      "[10.473834 2.776684 -9.205781 'medium' 'West Chelsea MINI' 24312275 150.0\n",
      " 50.0 3 0.0 1.0 'Manhattan' 'Chelsea']\n",
      "[-3.2220676 2.5605621 -13.331128 'low' 'Sunny Bedroom at Union Square'\n",
      " 24377683 85.0 42.5 2 1.0 1.0 'Manhattan' 'Chelsea']\n",
      "[9.913633 -16.006731 1.4088836 'high'\n",
      " 'Global Beat Apartment Hideaway in Manhattan' 24528199 400.0 200.0 2 2.0\n",
      " 1.0 'Manhattan' 'Chelsea']\n",
      "[-10.52565 6.8913 -2.2079932999999996 'medium'\n",
      " 'Beautiful Modern and Cosy 1BR in Chelsea' 24715838 190.0\n",
      " 63.33333333333334 3 1.0 1.0 'Manhattan' 'Chelsea']\n",
      "[2.5993786 1.4201677 -0.08575758 'high' 'Surrealist Luxury Loft' 24935048\n",
      " 795.0 265.0 3 3.0 2.0 'Manhattan' 'Chelsea']\n",
      "[3.5482883000000003 -17.560354 6.659144 'low'\n",
      " 'Charming Loft apartment with great light!' 25156498 75.0 37.5 2 1.0 1.0\n",
      " 'Manhattan' 'Chelsea']\n",
      "[2.6906908 7.482149000000001 -4.2149982 'medium'\n",
      " 'Sunny and Zen room in Chelsea' 25292558 100.0 50.0 2 1.0 1.0 'Manhattan'\n",
      " 'Chelsea']\n",
      "[13.042579 1.2118288000000002 -2.0743933 'medium'\n",
      " 'Super Charming 1 Bedroom  in the Heart of Chelsea' 25355845 200.0 100.0\n",
      " 2 1.0 1.0 'Manhattan' 'Chelsea']\n",
      "[-2.5360587000000003 -13.999929000000002 -13.214611999999999 'medium'\n",
      " 'Modern, Fresh Chelsea, Athenas Apartment Room' 25380189 100.0 100.0 1\n",
      " 1.0 1.0 'Manhattan' 'Chelsea']\n",
      "[-2.5593114 -13.996959 -13.133038500000001 'medium'\n",
      " 'Cozy, Confortable,  Modern spacious and nice Room' 25380654 99.0 99.0 1\n",
      " 1.0 1.0 'Manhattan' 'Chelsea']\n",
      "[2.8021276000000004 14.879885 11.756439 'medium'\n",
      " 'Quiet Cozy Chelsea Studio' 25516958 179.0 59.66666666666666 3 0.0 1.0\n",
      " 'Manhattan' 'Chelsea']\n",
      "[-4.3846207 -5.1004366999999995 -4.0464077000000005 'medium'\n",
      " 'Spacious & minimal pre-war apartment' 25716221 225.0 75.0 3 1.0 1.0\n",
      " 'Manhattan' 'Chelsea']\n",
      "[-5.716792 0.6884607 -4.7488112000000005 'medium' 'Chelsea Studio Apt'\n",
      " 25752683 199.0 99.5 2 0.0 1.0 'Manhattan' 'Chelsea']\n",
      "[12.336943 -0.08373812 0.01978688 'medium'\n",
      " 'Beautiful and clean 2BR in prime Chelsea' 25840272 299.0\n",
      " 99.66666666666669 3 2.0 1.0 'Manhattan' 'Chelsea']\n",
      "[-6.791042299999999 -10.473514 8.42314 'medium'\n",
      " 'Beautiful Studio in Nomad/Flatiron' 26009922 175.0 58.33333333333334 3\n",
      " 0.0 1.0 'Manhattan' 'Chelsea']\n",
      "[-8.904196 5.5395255 -7.085433 'medium'\n",
      " 'Extremely large 1 bed in West Chelsea- Highline' 26251587 250.0\n",
      " 83.33333333333333 3 1.0 1.0 'Manhattan' 'Chelsea']\n",
      "[7.863371400000001 -6.3483410000000005 -9.287972 'medium'\n",
      " 'Super Nice, Quiet Modern 1 Bedroom in Chelsea' 26363143 250.0 125.0 2\n",
      " 1.0 1.0 'Manhattan' 'Chelsea']\n",
      "[20.584652 8.344569 8.243855 'medium'\n",
      " 'Gigantic Private Space near 5th Avenue. Great deal' 26555774 119.0 119.0\n",
      " 1 1.0 1.0 'Manhattan' 'Chelsea']\n",
      "[13.668033 2.6819696 -1.5451926 'low'\n",
      " 'Modern Spacious Studio in the Heart of Chelsea' 26812606 69.0 34.5 2 0.0\n",
      " 1.0 'Manhattan' 'Chelsea']\n",
      "[8.434479 -10.925445 4.392328 'medium' 'Charming room in Chelsea' 26934498\n",
      " 150.0 75.0 2 1.0 1.0 'Manhattan' 'Chelsea']\n",
      "[-5.415962 -9.112797 9.680283 'high' 'Modern, spacious NYC apartment'\n",
      " 26948562 425.0 212.5 2 2.0 2.0 'Manhattan' 'Chelsea']\n",
      "[18.224897 -4.623672 1.4279898000000002 'medium' '曼哈顿帝国大厦/Time square'\n",
      " 27140232 155.0 51.66666666666666 3 2.0 1.0 'Manhattan' 'Chelsea']\n",
      "[17.978796 -4.7916756 1.5235571 'medium' '曼哈顿/帝国大夏/ time square【2】'\n",
      " 27160493 165.0 82.5 2 1.0 0.5 'Manhattan' 'Chelsea']\n",
      "[1.8833567 -6.816457300000001 -6.8503637 'medium' 'Chelsea Proper'\n",
      " 27167258 230.0 115.0 2 1.0 1.0 'Manhattan' 'Chelsea']\n",
      "[1.1320264 -2.5317872 -7.63934 'medium'\n",
      " 'Large 1 Bedroom in the Heart of New York City' 27185508 175.0\n",
      " 58.33333333333334 3 1.0 1.0 'Manhattan' 'Chelsea']\n",
      "[-0.7302441999999999 -13.770396 7.790058999999999 'medium'\n",
      " 'Chelsea Apartment' 27333579 120.0 120.0 1 1.0 1.0 'Manhattan' 'Chelsea']\n",
      "[-2.7679935 0.24348041 -8.046047999999999 'medium'\n",
      " 'Quality accommodation in a prime location!' 27467399 225.0 75.0 3 1.0\n",
      " 1.0 'Manhattan' 'Chelsea']\n",
      "[-4.3282894999999995 7.000022 -0.49466828 'medium'\n",
      " 'Bright, Modern, King Size 1-Bedroom in Chelsea!' 27507561 240.0 120.0 2\n",
      " 1.0 1.0 'Manhattan' 'Chelsea']\n",
      "[-11.46355 -0.75028175 9.350184 'medium'\n",
      " 'Charming Chelsea Bedroom steps from Highline Park' 27527118 77.0 77.0 1\n",
      " 1.0 1.0 'Manhattan' 'Chelsea']\n",
      "[-4.4450199999999995 8.667644000000001 1.8483021000000002 'medium'\n",
      " 'Studio Gem in Heart of Manhattan (Chelsea)' 27551268 150.0 75.0 2 0.0\n",
      " 1.0 'Manhattan' 'Chelsea']\n",
      "[-5.951129 -6.922183 13.360187 'medium' 'Highline Hudson Yards Studio'\n",
      " 27579923 350.0 116.66666666666669 3 0.0 1.0 'Manhattan' 'Chelsea']\n",
      "[7.643006 6.390439499999999 5.681986 'medium'\n",
      " 'Charming Chelsea Bungalow w/ Large Outdoor Terrace' 27703578 250.0 125.0\n",
      " 2 1.0 1.0 'Manhattan' 'Chelsea']\n",
      "[-0.89826673 -6.1716055999999995 9.616556 'low'\n",
      " 'Living Room sofa Bed in Chelsea' 27802387 85.0 42.5 2 1.0 1.0\n",
      " 'Manhattan' 'Chelsea']\n",
      "[10.172028 1.9785043000000002 3.9978836 'medium'\n",
      " 'Cozy Chelsea Downtown Studio w/ Private Backyard' 28104895 167.0 83.5 2\n",
      " 0.0 1.0 'Manhattan' 'Chelsea']\n",
      "[-5.073993 -10.407691999999999 -6.7304262999999995 'high'\n",
      " 'Cozy 1 BDRM in Union Square' 28133007 200.0 200.0 1 1.0 1.0 'Manhattan'\n",
      " 'Chelsea']\n",
      "[6.436829 14.713657000000001 10.638852 'medium'\n",
      " 'Lovely, sunny & quiet 1br Chelsea apt w/balcony' 28333466 225.0 112.5 2\n",
      " 1.0 1.0 'Manhattan' 'Chelsea']\n",
      "[-8.0053005 11.223756 10.701232000000001 'medium' 'Chelsea Cabin' 28440536\n",
      " 200.0 66.66666666666667 3 1.0 1.0 'Manhattan' 'Chelsea']\n",
      "[18.418552 3.3005002 -0.87918544 'medium' \"Chelsea's best kept secret\"\n",
      " 28463654 500.0 166.66666666666666 3 3.0 2.0 'Manhattan' 'Chelsea']\n",
      "[1.1678808 -6.512839 -2.920805 'medium' 'New York Chelsea Apartment'\n",
      " 28734438 225.0 75.0 3 1.0 1.0 'Manhattan' 'Chelsea']\n",
      "[6.844852 -14.84724 0.96723855 'medium'\n",
      " 'Sun-filled Apartment in Great Location' 28752251 91.0 91.0 1 1.0 1.0\n",
      " 'Manhattan' 'Chelsea']\n",
      "[-7.1092377 -3.2327585 -16.211529000000002 'low'\n",
      " 'Spacious Room in a Historic, Beautiful Apartment' 28832811 90.0 30.0 3\n",
      " 1.0 1.0 'Manhattan' 'Chelsea']\n",
      "[5.94538 -6.426894 -9.94891 'medium'\n",
      " 'Pretty and cozy 2BR apartment in Chelsea' 28840175 288.0 96.0 3 2.0 1.0\n",
      " 'Manhattan' 'Chelsea']\n",
      "[9.89759 -15.974839000000001 1.4025444 'medium'\n",
      " '+AAA Chelsea_global inspired  location. Large room' 28881114 135.0 67.5\n",
      " 2 1.0 1.0 'Manhattan' 'Chelsea']\n",
      "[-1.7548933999999998 -8.508453999999999 4.084500299999999 'low'\n",
      " 'Perfect Location! Your Oasis in Heart of Chelsea' 28964397 65.0\n",
      " 21.66666666666667 3 1.0 1.0 'Manhattan' 'Chelsea']\n",
      "[1.5991232 -5.9551563 -8.021823 'medium'\n",
      " 'Cosy Midtown New York Place, Ideal for 1 Person!' 29063993 69.0 69.0 1\n",
      " 1.0 1.0 'Manhattan' 'Chelsea']\n",
      "[5.9786019999999995 -6.4878086999999995 -10.053866000000001 'medium'\n",
      " 'Warm and Cozy two bedroom in prime Chelsea' 29163083 320.0\n",
      " 106.66666666666669 3 2.0 1.0 'Manhattan' 'Chelsea']\n",
      "[15.596591 2.2764688 3.0793178 'medium' 'Chelsea Apartment' 29337912 225.0\n",
      " 112.5 2 1.0 1.0 'Manhattan' 'Chelsea']\n",
      "[12.965529 1.4137621 12.006193 'high'\n",
      " 'Private Sun-Splashed Studio Chelsea' 29384622 200.0 200.0 1 1.0 1.0\n",
      " 'Manhattan' 'Chelsea']\n",
      "[4.937239599999999 12.528507000000001 11.595485 'medium'\n",
      " 'Cozy 1 bed in amazing NYC location! (Chelsea)' 29393808 175.0 87.5 2 1.0\n",
      " 1.0 'Manhattan' 'Chelsea']\n",
      "[7.887995200000001 -3.8429883 -1.3018702 'medium'\n",
      " 'Neon Dreams - Private Bedroom in Chelsea' 29440688 100.0 100.0 1 1.0 1.0\n",
      " 'Manhattan' 'Chelsea']\n",
      "[-4.004575 7.239024000000001 -0.15036641 'medium'\n",
      " 'Modern & trendy serenity—great High Line location' 29611826 299.0 149.5\n",
      " 2 0.0 1.0 'Manhattan' 'Chelsea']\n",
      "[3.0118522999999997 14.8640175 11.670346 'medium'\n",
      " '1 bedroom apartment in Chelsea' 29630728 189.0 189.0 1 1.0 1.0\n",
      " 'Manhattan' 'Chelsea']\n",
      "[-6.2228956 -3.7106260000000004 -1.9507418 'medium'\n",
      " 'New York Chelsea Art Apt.' 29701500 200.0 66.66666666666667 3 1.0 1.0\n",
      " 'Manhattan' 'Chelsea']\n",
      "[0.13206483 -9.560545 -14.539306 'medium'\n",
      " 'Luxurious apartment with spectacular city views' 29734326 350.0\n",
      " 116.66666666666669 3 1.0 1.0 'Manhattan' 'Chelsea']\n",
      "[-8.162476 -2.2650063 8.305242999999999 'medium'\n",
      " 'Private Studio Chelsea 23 x 8th Ave 30sec to train' 29780863 180.0 180.0\n",
      " 1 0.0 1.0 'Manhattan' 'Chelsea']\n",
      "[13.529235 0.42661235 -8.544025999999999 'medium'\n",
      " 'Bright and stylish 1 bedroom' 29844533 220.0 110.0 2 1.0 1.0 'Manhattan'\n",
      " 'Chelsea']\n",
      "[-1.505833 -0.36572117 5.6037335 'medium'\n",
      " 'Newly Renovated, Spacious and Comfort Galore' 29895547 550.0\n",
      " 183.3333333333333 3 2.0 2.0 'Manhattan' 'Chelsea']\n",
      "[10.579101 1.9300868999999998 2.333814 'medium'\n",
      " 'Adorable Chelsea Studio in best neighborhood!' 29906273 175.0 175.0 1\n",
      " 0.0 1.0 'Manhattan' 'Chelsea']\n",
      "[-4.306838 10.39513 3.2521082999999997 'medium'\n",
      " 'Cheery Chelsea Charmer... best location!' 30046573 250.0\n",
      " 83.33333333333333 3 1.0 1.5 'Manhattan' 'Chelsea']\n",
      "[14.622532000000001 -0.8459216999999999 -2.2728095 'medium'\n",
      " 'CHELSEA HUDSON YARDS HIGHLINE ADORABLE APARTMENT' 30062478 170.0\n",
      " 56.66666666666666 3 1.0 1.0 'Manhattan' 'Chelsea']\n",
      "[1.9649130000000001 -18.404366 -2.5309324 'medium'\n",
      " 'beautiful apt. in Chelsea w/ a doorman' 30108247 114.0 114.0 1 1.0 1.0\n",
      " 'Manhattan' 'Chelsea']\n",
      "[10.366296 0.5305781999999999 12.411625 'medium'\n",
      " 'In the heart of the city!' 30128919 250.0 83.33333333333333 3 1.0 1.0\n",
      " 'Manhattan' 'Chelsea']\n",
      "[7.1007967 -12.714216 -3.4296792000000003 'low'\n",
      " 'Small cozy  private room near time square' 30137792 85.0\n",
      " 28.33333333333333 3 1.0 1.0 'Manhattan' 'Chelsea']\n",
      "[-6.044443599999999 2.0458755 -2.584171 'high'\n",
      " 'Massive Loft in the Heart of Union square' 30206026 3000.0 1500.0 2 4.0\n",
      " 2.0 'Manhattan' 'Chelsea']\n",
      "[-0.35340947 -4.0304585 -4.3567976999999996 'medium'\n",
      " 'Lovely studio next to Penn Station ,' 30227667 175.0 175.0 1 0.0 1.0\n",
      " 'Manhattan' 'Chelsea']\n",
      "[9.394634 -7.573428 -11.093606 'medium' 'Glamorous studio in Chelsea'\n",
      " 30272473 139.0 139.0 1 0.0 1.0 'Manhattan' 'Chelsea']\n",
      "[-4.1974993 1.0390452 -11.402046 'medium'\n",
      " 'Bedroom in Massive Loft Apartment' 30295927 350.0 175.0 2 1.0 1.0\n",
      " 'Manhattan' 'Chelsea']\n",
      "[17.056168 0.53827673 -3.7091343 'medium'\n",
      " '⭐$1.6 MILLION CHELSEA FLAT⭐LUXURY AND LOCATION!' 30470373 261.0 130.5 2\n",
      " 4.0 1.5 'Manhattan' 'Chelsea']\n",
      "[-4.6702695 3.2520967 -1.8863734 'high' 'Modern Chic Studio' 30582797\n",
      " 250.0 250.0 1 0.0 1.0 'Manhattan' 'Chelsea']\n",
      "[7.1904163 -4.7656364 -4.408526999999999 'medium'\n",
      " '☆Cozy bedroom in Midtown | 1min to 4 subway lines☆' 30708899 133.0 133.0\n",
      " 1 1.0 1.0 'Manhattan' 'Chelsea']\n",
      "[7.191544500000001 -4.8086696 -4.3962536 'medium'\n",
      " '☆Charming bedroom, 5min to Empire State Building☆' 30709202 130.0 130.0\n",
      " 1 1.0 1.0 'Manhattan' 'Chelsea']\n",
      "[8.361692 -11.085065 4.501774 'low'\n",
      " '▲Private Cozy Room at Madison Square Garden▲' 30824786 75.0 37.5 2 0.0\n",
      " 1.0 'Manhattan' 'Chelsea']\n",
      "[-0.9324752000000001 -9.006244 4.30494 'medium'\n",
      " 'Sunny Bedroom in Chelsea Beauty!' 30885792 80.0 80.0 1 1.0 2.0\n",
      " 'Manhattan' 'Chelsea']\n",
      "[4.3737260000000004 -5.4917355 -7.6235094 'medium'\n",
      " 'Gorgeous and spacious 1 BR in Nomad new listing' 30913411 299.0\n",
      " 99.66666666666669 3 1.0 1.0 'Manhattan' 'Chelsea']\n",
      "[-2.0378842 -11.450333 0.40771815 'medium' 'Perfect location in Manhattan'\n",
      " 31054566 68.0 68.0 1 1.0 3.0 'Manhattan' 'Chelsea']\n",
      "[0.51791817 -4.6969185 -6.5047727 'medium' 'Elegant 2 bedroom in Chelsea'\n",
      " 31082026 300.0 150.0 2 2.0 1.0 'Manhattan' 'Chelsea']\n",
      "[7.695525999999999 3.8590605000000004 13.229597 'high'\n",
      " '1 Bedroom/1 Bath Apt in Hudson Yards/Midtown West' 31098262 250.0 250.0\n",
      " 1 1.0 1.0 'Manhattan' 'Chelsea']\n",
      "[0.48592764 -4.6934905 -6.558695299999999 'medium'\n",
      " 'Contemporary 2 bed with an Artistic Edge' 31142348 300.0 150.0 2 2.0 1.0\n",
      " 'Manhattan' 'Chelsea']\n",
      "[-2.7879846 -7.9507685 -0.4373892 'medium'\n",
      " 'The perfect NYC flat in the Meatpacking / Chelsea' 31151736 190.0\n",
      " 63.33333333333334 3 1.0 1.0 'Manhattan' 'Chelsea']\n",
      "[15.394677 -0.78322154 -3.3106324999999996 'medium'\n",
      " 'Large Private Furnished Patio + Cozy Indoors' 31265925 299.0 149.5 2 1.0\n",
      " 1.0 'Manhattan' 'Chelsea']\n",
      "[5.3197074 11.543698 10.878392 'medium'\n",
      " 'Luxury NEW two level suite (Duplex) in Chelsea' 31297452 190.0\n",
      " 63.33333333333334 3 1.0 1.0 'Manhattan' 'Chelsea']\n",
      "[14.799398000000002 1.2752868999999998 -7.5547813999999995 'medium'\n",
      " 'Stylish One Bedroom in Chelsea' 31307385 275.0 137.5 2 1.0 1.0\n",
      " 'Manhattan' 'Chelsea']\n",
      "[10.8001175 -0.3634594 2.8724995 'medium'\n",
      " 'Private Studio apartment in the WV-Street Level' 31382878 180.0 60.0 3\n",
      " 1.0 1.0 'Manhattan' 'Chelsea']\n",
      "[2.2566585999999997 -18.200418 -2.4539522999999996 'medium'\n",
      " 'Room in a beautiful chelsea apt. w/ doorman' 31390350 100.0 100.0 1 1.0\n",
      " 1.0 'Manhattan' 'Chelsea']\n",
      "[-8.972717 4.954855 14.873910999999998 'low'\n",
      " 'Conveniently located Chelsea 2br' 31489863 92.0 46.0 2 1.0 1.0\n",
      " 'Manhattan' 'Chelsea']\n",
      "[1.3124708999999999 -12.704523 -14.008438 'medium'\n",
      " 'Lower manhattan 1 bedroom short or long term' 31543550 86.0 86.0 1 1.0\n",
      " 1.0 'Manhattan' 'Chelsea']\n",
      "[14.288841 0.47367653 -8.310868 'medium'\n",
      " 'Vibrant Chelsea 1 bdrm sleeps  4' 31622417 200.0 100.0 2 1.0 1.0\n",
      " 'Manhattan' 'Chelsea']\n",
      "[2.3146846 -12.283797999999999 4.7964139999999995 'medium'\n",
      " 'Manhattan studio 7' 31667621 220.0 73.33333333333333 3 0.0 1.0\n",
      " 'Manhattan' 'Chelsea']\n",
      "[5.2461433 7.045926 1.6108192 'medium' 'Modern NYC Apartment' 31748621\n",
      " 100.0 50.0 2 0.0 1.0 'Manhattan' 'Chelsea']\n",
      "[-1.1625963 -12.919505000000001 10.965726 'medium'\n",
      " 'Spacious Studio with Amazing Views' 31986426 250.0 83.33333333333333 3\n",
      " 0.0 1.0 'Manhattan' 'Chelsea']\n",
      "[-1.8628468999999996 -7.316453999999999 15.929336 'medium'\n",
      " 'SPACIOUS BRIGHT & COZY 1BR in CHELSEA MANHATTAN' 32113235 180.0 60.0 3\n",
      " 1.0 1.0 'Manhattan' 'Chelsea']\n",
      "[2.0976782000000003 -6.865729300000001 -0.9362671 'medium'\n",
      " 'Luxury Modern Artist Chelsea Apartment' 32168942 500.0\n",
      " 166.66666666666666 3 2.0 1.0 'Manhattan' 'Chelsea']\n",
      "[-3.2596064 -6.047272 4.828682 'low' 'Gem in the heart of Manhattan'\n",
      " 32189288 100.0 33.333333333333336 3 1.0 1.0 'Manhattan' 'Chelsea']\n",
      "[-4.797368 2.8652158 1.5395223 'medium'\n",
      " 'Super Luxury! XL Alcove Studio in heart of Chelsea' 32291386 215.0 107.5\n",
      " 2 0.0 1.0 'Manhattan' 'Chelsea']\n",
      "[-10.974298 2.337081 -2.189806 'medium' 'Shared Apartment - 1 Bedroom'\n",
      " 32449378 180.0 180.0 1 1.0 1.0 'Manhattan' 'Chelsea']\n",
      "[1.480787 11.916285 -0.10168833 'low' 'Sunny Chelsea Loft' 32549565 139.0\n",
      " 46.33333333333334 3 0.0 1.0 'Manhattan' 'Chelsea']\n",
      "[-14.243355 8.902372999999999 11.30615 'medium' 'Cozy Chelsea Apartment'\n",
      " 32663202 65.0 65.0 1 1.0 1.5 'Manhattan' 'Chelsea']\n",
      "[8.337129 -3.8607366 -9.818945 'medium'\n",
      " 'Vintage 3BR Chelsea Loft! Best Location!' 32691375 149.0 74.5 2 3.0 1.0\n",
      " 'Manhattan' 'Chelsea']\n",
      "[9.873424 -4.43055 13.478010000000001 'medium'\n",
      " '曼岛中城 切尔西区CHESEA  21街 闹市中静怡如家的空间' 32748646 80.0 80.0 1 1.0 1.0\n",
      " 'Manhattan' 'Chelsea']\n",
      "[-1.6071995000000001 6.9937195999999995 -11.67987 'medium'\n",
      " 'Israeli Stay NYC' 32763453 150.0 150.0 1 1.0 1.0 'Manhattan' 'Chelsea']\n",
      "[0.04522536 -8.940392 2.5656075 'medium'\n",
      " 'Private bedroom in heart of Downtown Manhattan' 32764575 140.0 70.0 2\n",
      " 1.0 1.0 'Manhattan' 'Chelsea']\n",
      "[-0.43817794 -3.8320029000000004 -4.5632176 'medium'\n",
      " \"Immersive Chelsea's Art House! Great Location!!\" 32773207 149.0 74.5 2\n",
      " 2.0 1.0 'Manhattan' 'Chelsea']\n",
      "[13.722558 -0.19485986 -9.0685425 'medium'\n",
      " 'Bright Luxury 1 Bedroom next to the Highline!' 33037673 295.0 147.5 2\n",
      " 1.0 1.0 'Manhattan' 'Chelsea']\n",
      "[3.9051400000000003 -1.5895274 9.242613 'medium' 'Large Chelsea Bedroom!'\n",
      " 33069506 83.0 83.0 1 1.0 2.0 'Manhattan' 'Chelsea']\n",
      "[-8.416905999999999 0.5464901999999999 -4.15146 'medium'\n",
      " 'Charming and Luxury 1 Bedroom Apartment' 33312951 300.0 150.0 2 1.0 1.0\n",
      " 'Manhattan' 'Chelsea']\n",
      "[-1.2121773999999998 -8.058422 -13.523416500000002 'medium'\n",
      " 'Spacious, sunny 2 bedroom Chelsea apartment!' 33315368 250.0 125.0 2 2.0\n",
      " 1.0 'Manhattan' 'Chelsea']\n",
      "[-4.437468 -4.744632 15.325303 'medium' 'Less is More - in West Chelsea'\n",
      " 33365859 185.0 92.5 2 0.0 1.0 'Manhattan' 'Chelsea']\n",
      "[18.131975 -3.3148258000000004 -0.22440875 'medium'\n",
      " 'Beautiful Chelsea townhouse bedroom' 33595791 115.0 115.0 1 1.0 1.0\n",
      " 'Manhattan' 'Chelsea']\n",
      "[18.161697 -3.3022443999999997 -0.20205684 'medium'\n",
      " 'Beautiful Chelsea Townhouse bedroom' 33608666 110.0 110.0 1 1.0 1.0\n",
      " 'Manhattan' 'Chelsea']\n",
      "[-7.5567025999999995 7.5309405 -4.599036 'medium'\n",
      " 'Cozy studio in Chelsea NYC' 33712513 154.0 77.0 2 0.0 1.0 'Manhattan'\n",
      " 'Chelsea']\n",
      "[13.739196 0.9111232 -3.5199711000000002 'medium'\n",
      " 'Private & Quiet Oasis in the Center of NYC' 33850135 162.0 81.0 2 1.0\n",
      " 1.0 'Manhattan' 'Chelsea']\n",
      "[18.134498999999998 -4.6505904000000005 1.4977216 'medium'\n",
      " 'Manhattan/帝国大夏/ time square【3】' 33935442 130.0 65.0 2 2.0 0.5\n",
      " 'Manhattan' 'Chelsea']\n",
      "[-11.68502 15.639515 -2.4446220000000003 'medium'\n",
      " 'Luxury High Rise with Private Balcony' 33954574 225.0 75.0 3 1.0 1.0\n",
      " 'Manhattan' 'Chelsea']\n",
      "[-3.0680153 -14.448807999999998 11.885197999999999 'medium'\n",
      " 'Private studio next to Penn' 33984941 250.0 125.0 2 0.0 1.0 'Manhattan'\n",
      " 'Chelsea']\n",
      "[-2.288241 -4.854882 12.958916 'medium'\n",
      " 'Lovely Hudson Yards Stonehouse near Penn Station' 33996948 250.0\n",
      " 83.33333333333333 3 2.0 1.0 'Manhattan' 'Chelsea']\n",
      "[6.3460160000000005 -8.825942999999999 -8.106494 'medium'\n",
      " 'Affordable Studio Close to All the Action' 33998274 100.0 50.0 2 0.0 2.5\n",
      " 'Manhattan' 'Chelsea']\n",
      "[9.672114 -8.618507000000001 -12.654278999999999 'medium'\n",
      " 'Entire 3 Bedroom in Central Chelsea Location' 34099071 265.0\n",
      " 88.33333333333331 3 3.0 1.0 'Manhattan' 'Chelsea']\n",
      "[2.003073 -4.113828 -2.0102314999999997 'medium'\n",
      " 'Amazing 3BR Apartment - Incredible Location' 34150501 380.0\n",
      " 126.66666666666669 3 3.0 1.0 'Manhattan' 'Chelsea']\n",
      "[3.1204697999999995 -6.7903747999999995 -12.535282 'high'\n",
      " 'Chelsea Luxury & Cozy 2 Bedroom Apartment' 34156161 249.0 249.0 1 2.0\n",
      " 1.0 'Manhattan' 'Chelsea']\n",
      "[-1.2557453 -5.4222155 2.3051152000000004 'medium'\n",
      " '*Charismatic 1 BR Apartment in Heart of Chelsea*' 34341588 159.0 53.0 3\n",
      " 1.0 1.0 'Manhattan' 'Chelsea']\n",
      "[-4.72098 3.33742 -1.9181068 'medium'\n",
      " 'GORGEOUS WEST CHELSEA TWO BEDROOM with roof deck!' 34343752 195.0 195.0\n",
      " 1 2.0 1.0 'Manhattan' 'Chelsea']\n",
      "[-6.443109 -3.6157067000000005 -13.923347 'low'\n",
      " 'A private bedroom in Chelsea , Manhattan.' 34383329 85.0 42.5 2 1.0 1.0\n",
      " 'Manhattan' 'Chelsea']\n",
      "[9.195711 1.3027925 4.6535269999999995 'medium'\n",
      " 'Chelsea gem in the middle of Manhattan.' 34399874 300.0 100.0 3 1.0 1.0\n",
      " 'Manhattan' 'Chelsea']\n",
      "[7.1907277 -4.764124400000001 -4.4078693 'medium'\n",
      " '★Spacious bedroom in Midtown | Centrally Located★' 34446902 140.0 140.0\n",
      " 1 1.0 1.0 'Manhattan' 'Chelsea']\n",
      "[4.675908 14.796516 9.971067 'medium'\n",
      " 'Large 1 Bedroom Apartment in Chelsea' 34498482 275.0 137.5 2 1.0 1.0\n",
      " 'Manhattan' 'Chelsea']\n",
      "[1.6505903999999998 -4.675523 -1.205396 'medium'\n",
      " 'Charming Garden Flat in the Heart of Chelsea' 34595632 245.0\n",
      " 81.66666666666667 3 0.0 1.0 'Manhattan' 'Chelsea']\n",
      "[4.288298999999999 -7.871214999999999 -10.697965 'medium'\n",
      " 'Mid-Century Modern 6 Mil Chelsea Townhome' 34645902 599.0\n",
      " 199.66666666666663 3 4.0 3.5 'Manhattan' 'Chelsea']\n",
      "[-2.371716 -2.5913727000000004 0.8563379999999999 'high'\n",
      " 'Five-star luxury Apt in Chelsea !' 34659944 333.0 333.0 1 0.0 1.0\n",
      " 'Manhattan' 'Chelsea']\n",
      "[9.524372999999999 -5.5882597 -10.216693 'medium'\n",
      " 'AMAZING 2 BEDROOMS IN HEART OF CHELSEA!!!' 34806115 499.0\n",
      " 166.33333333333334 3 2.0 1.0 'Manhattan' 'Chelsea']\n",
      "[2.2134497000000004 -10.619738 -13.481272 'high'\n",
      " '“Epic” The highest apartment in New York' 34867034 440.0 220.0 2 2.0 1.0\n",
      " 'Manhattan' 'Chelsea']\n",
      "[5.8745074 -13.579137 9.96954 'high' 'Gorgeous Chelsea apartment' 34905935\n",
      " 450.0 450.0 1 1.0 1.0 'Manhattan' 'Chelsea']\n",
      "[-0.45768159999999997 -1.5450491000000002 -16.566187 'medium'\n",
      " 'Private Room in the Heart of Chelsea' 34929016 89.0 89.0 1 1.0 1.0\n",
      " 'Manhattan' 'Chelsea']\n",
      "[2.2762187000000003 -4.4744167 -0.37384686 'medium'\n",
      " 'AMAZING 3 BDRM IN MEATPACKING/CHELSEA/HIGHLINE!!' 34995443 499.0\n",
      " 166.33333333333334 3 3.0 1.0 'Manhattan' 'Chelsea']\n",
      "[2.2634459 -4.4726989999999995 -0.38149562 'medium'\n",
      " 'AMAZING 5 BEDS CHELSEA/MEATPACKING. BEST LOCATION!' 34995803 447.0 149.0\n",
      " 3 2.0 1.0 'Manhattan' 'Chelsea']\n",
      "[2.3036819 -4.476871 -0.35209809999999997 'medium'\n",
      " 'AMAZING 2 BEDS IN MEATPACKING/CHELSEA MARKET!!' 34996136 447.0 149.0 3\n",
      " 1.0 1.0 'Manhattan' 'Chelsea']\n",
      "[-5.8870005999999995 17.510538 -1.444599 'high'\n",
      " 'DUPLUXURY Apartment 5 Star Duplex' 34999415 850.0 850.0 1 4.0 2.0\n",
      " 'Manhattan' 'Chelsea']\n",
      "[-6.764469999999999 14.603720999999998 8.952819 'medium'\n",
      " '⚡Stylish Apt in Trendy Location!! ⭐' 35132775 249.0 124.5 2 1.0 1.0\n",
      " 'Manhattan' 'Chelsea']\n",
      "[0.9926586 -6.544367 -7.6259336 'medium'\n",
      " 'Spacious and stylish 2BR in NoMad - brand new' 35155272 299.0\n",
      " 99.66666666666669 3 2.0 1.0 'Manhattan' 'Chelsea']\n",
      "[15.350525 0.47536388 -1.8947832999999998 'medium'\n",
      " '3 Bedroom by MSG + Empire State' 35165258 500.0 166.66666666666666 3 3.0\n",
      " 1.5 'Manhattan' 'Chelsea']\n",
      "[15.779678 6.8146787 -4.6987824 'high'\n",
      " 'AMAZING CHELSEA Apartment HUGE space' 35232920 210.0 210.0 1 1.0 1.0\n",
      " 'Manhattan' 'Chelsea']\n",
      "[6.606292999999999 -4.7997303 -14.0242 'medium'\n",
      " 'Luxury 2 BR Home in Hudson Yards' 35315156 330.0 110.0 3 2.0 1.0\n",
      " 'Manhattan' 'Chelsea']\n",
      "[8.117788000000001 -3.7324572 -11.841498 'medium'\n",
      " 'Amazing 2 Bedroom Apt in Prime Chelsea' 35315486 305.0\n",
      " 101.66666666666669 3 2.0 1.0 'Manhattan' 'Chelsea']\n",
      "[8.416265 -6.1196322 -10.872049 'medium'\n",
      " 'Beautiful Chelsea Entire Two Bedroom Apartment' 35315680 195.0 65.0 3\n",
      " 2.0 1.0 'Manhattan' 'Chelsea']\n",
      "[5.612122 -15.202498 -3.4894953 'medium' 'Chelsea room near Highline'\n",
      " 35497792 88.0 88.0 1 2.0 1.0 'Manhattan' 'Chelsea']\n",
      "[-0.49925733 -8.288443 10.930303 'medium'\n",
      " 'Spacious 1 Bedroom in the heart of Chelsea' 35507424 290.0 145.0 2 1.0\n",
      " 1.0 'Manhattan' 'Chelsea']\n",
      "[-1.5326456 -12.078273 -12.275379 'medium'\n",
      " 'Beautiful Bedroom in the Heart of New York' 35513661 120.0 120.0 1 1.0\n",
      " 1.0 'Manhattan' 'Chelsea']\n",
      "[-0.31762514 -14.933164999999999 14.827865 'high'\n",
      " 'Two-Bedroom Apartment in Meatpacking District' 35539036 299.0 299.0 1\n",
      " 2.0 1.0 'Manhattan' 'Chelsea']\n",
      "[-3.4560804 -11.926393 -13.6355505 'medium'\n",
      " 'Blissful Private Room in Chelsea' 35577705 110.0 55.0 2 1.0 1.0\n",
      " 'Manhattan' 'Chelsea']\n",
      "[-2.64531 -12.928816000000001 -11.281507000000001 'low'\n",
      " 'Large room + king-sized bed available in Chelsea.' 35639211 120.0 40.0 3\n",
      " 1.0 1.0 'Manhattan' 'Chelsea']\n",
      "[7.221866 -4.763535 -14.556669 'high'\n",
      " 'CENTER of NYC Lux + Style *****5Stars' 35682141 229.0 229.0 1 1.0 1.0\n",
      " 'Manhattan' 'Chelsea']\n",
      "[-1.4664772 -8.174728 11.340821 'medium'\n",
      " 'Great studio located in Heart of Chelsea' 35707367 175.0\n",
      " 58.33333333333334 3 0.0 1.0 'Manhattan' 'Chelsea']\n",
      "[1.1563341999999999 -7.795122 15.457398000000001 'medium'\n",
      " 'AMAZING ONE BED IN MEATPACKING/CHELSEA MARKET!!' 35717735 399.0 133.0 3\n",
      " 1.0 1.0 'Manhattan' 'Chelsea']\n",
      "[10.603622 0.9999608 11.003153 'medium'\n",
      " 'PRIVACY CHELSEA BEAUTY WITH PRIVATE ENTRANCE' 35718849 249.0 83.0 3 1.0\n",
      " 1.0 'Manhattan' 'Chelsea']\n",
      "[-11.212542 4.000112000000001 -0.66439503 'medium'\n",
      " 'Luxury Penthouse  – Chelsea – Manhattan' 35772999 350.0\n",
      " 116.66666666666669 3 3.0 3.5 'Manhattan' 'Chelsea']\n",
      "[-2.6308792000000003 -3.354543 0.0089258645 'medium'\n",
      " 'Sunny, quiet 2 BR apt in the heart of Manhattan' 35842576 223.0\n",
      " 74.33333333333333 3 2.0 1.0 'Manhattan' 'Chelsea']\n",
      "[-2.5044136000000004 -7.583760300000001 -8.140993 'high'\n",
      " 'Cozy & Modern Chelsea Studio' 35874763 269.0 269.0 1 0.0 1.0 'Manhattan'\n",
      " 'Chelsea']\n",
      "[5.328281400000001 -6.491198000000001 -13.948860999999999 'medium'\n",
      " 'Bright Chelsea Entire 2 Bedroom Apartment' 35914632 225.0 75.0 3 2.0 1.0\n",
      " 'Manhattan' 'Chelsea']\n",
      "[3.581111 -6.2428254999999995 3.3676114 'medium'\n",
      " 'Quiet Bedroom in Modern Chelsea Apartment' 35971673 105.0 105.0 1 1.0\n",
      " 1.0 'Manhattan' 'Chelsea']\n",
      "[3.5757112999999996 -6.250676599999999 3.3646982000000003 'medium'\n",
      " 'Private Room + Outdoor Space in Modern Chelsea Apt' 35971885 105.0 105.0\n",
      " 1 1.0 1.0 'Manhattan' 'Chelsea']\n",
      "[8.704595 -6.729792999999999 -10.767119000000001 'medium'\n",
      " 'Astonishing Nomad Apt in the Center Of Manhattan' 36097970 350.0\n",
      " 116.66666666666669 3 1.0 1.0 'Manhattan' 'Chelsea']\n",
      "[-9.415019000000001 2.2115989 -1.3204622 'medium'\n",
      " 'Perfect location, beautiful apartment in the City' 36112469 170.0\n",
      " 56.66666666666666 3 1.0 1.0 'Manhattan' 'Chelsea']\n",
      "[-11.654914999999999 15.928111999999999 -3.9131055 'medium'\n",
      " 'Luxury Chelsea Studio' 36114258 300.0 150.0 2 0.0 1.0 'Manhattan'\n",
      " 'Chelsea']\n",
      "[-1.3218461000000001 -11.778707 11.337586 'medium'\n",
      " 'New Studio Great Location in NYC' 36209463 225.0 75.0 3 0.0 1.0\n",
      " 'Manhattan' 'Chelsea']\n",
      "[2.893077 -13.686881 -15.644608999999999 'medium'\n",
      " 'Private queen bedroom next to Empire State Bldg' 36223408 150.0 50.0 3\n",
      " 1.0 1.0 'Manhattan' 'Chelsea']\n",
      "[1.4662146999999999 -5.7757629999999995 -15.556022 'high'\n",
      " 'Beautiful Home in Center of NYC' 36305475 781.0 781.0 1 3.0 2.0\n",
      " 'Manhattan' 'Chelsea']\n",
      "[2.5047696 -5.202186 -2.4151235 'medium'\n",
      " '2bed Home on Quiet Block Right by The Action' 36309296 299.0 149.5 2 2.0\n",
      " 1.0 'Manhattan' 'Chelsea']\n",
      "[2.32013 -4.476348000000001 -0.3375537 'medium'\n",
      " 'SUPER COZY 2 BEDS IN BEST PART OF CHELSEA!!' 36345911 299.0\n",
      " 99.66666666666669 3 1.0 1.0 'Manhattan' 'Chelsea']\n",
      "[-10.718351 6.7736925999999995 -2.3011515 'medium' 'Clean One Bedroom'\n",
      " 36378818 225.0 75.0 3 1.0 1.0 'Manhattan' 'Chelsea']\n",
      "[1.8938583999999998 -6.000698000000001 -7.8185534 'medium'\n",
      " 'Amazing rare duplex with two balconies in Chelsea!' 36621453 175.0 175.0\n",
      " 1 1.0 1.0 'Manhattan' 'Chelsea']\n",
      "[-1.6369832 -6.6226625 9.040458000000001 'medium'\n",
      " 'Modern and spacious studio apartment w/ elevator!' 36631411 189.0 94.5 2\n",
      " 0.0 1.0 'Manhattan' 'Chelsea']\n",
      "[-8.583677 -10.289852 12.624761999999999 'high'\n",
      " 'Beautiful 2 Bedrooms in the heart of NY' 36640147 275.0 275.0 1 2.0 1.0\n",
      " 'Manhattan' 'Chelsea']\n",
      "[-2.6195009999999996 -12.598684 8.871182000000001 'medium'\n",
      " 'Studio in the heart of Chelsea Manhattan' 36696950 149.0 74.5 2 1.0 1.0\n",
      " 'Manhattan' 'Chelsea']\n",
      "[6.450293 -4.8873887 -14.252542000000002 'medium'\n",
      " 'Best View Modern Luxurious Huge 1BR in HudsonYards' 36803810 298.0\n",
      " 99.33333333333331 3 1.0 1.0 'Manhattan' 'Chelsea']\n",
      "[-0.11717910000000002 -1.9769964 2.8384023 'high'\n",
      " 'Gorgeous RELAX + LUX with 5beds2baths' 36832575 799.0 799.0 1 4.0 1.5\n",
      " 'Manhattan' 'Chelsea']\n",
      "[7.08692 0.49137179999999997 15.5378065 'medium'\n",
      " 'THE BEST VIEW AND LOCATION in Midtown' 36846287 140.0 140.0 1 0.0 1.0\n",
      " 'Manhattan' 'Chelsea']\n",
      "[-5.551787 -13.284804999999999 -10.595 'low'\n",
      " 'Clean and bright Chelsea apartment - NYC' 36939654 60.0 30.0 2 1.0 1.0\n",
      " 'Manhattan' 'Chelsea']\n",
      "[-2.929472 -14.457898000000002 11.783522999999999 'low'\n",
      " 'STUDIO W/  PRIVATE BALCONY IN MANHATTAN' 36943986 100.0\n",
      " 33.333333333333336 3 1.0 1.0 'Manhattan' 'Chelsea']\n",
      "[4.1879506 -2.0594497 -1.5753101999999999 'medium'\n",
      " 'Sparkling Clean Chelsea Studio Apartment' 37003024 200.0 100.0 2 0.0 1.0\n",
      " 'Manhattan' 'Chelsea']\n",
      "[8.526703 -7.201859 -9.475155 'medium' 'One bedroom in Chelsea - Highline'\n",
      " 37021207 195.0 97.5 2 1.0 1.0 'Manhattan' 'Chelsea']\n",
      "[2.2298869999999997 -15.241685999999998 14.015232000000001 'high'\n",
      " 'Modern Luxury in Chelsea - Prime NYC Location' 37022324 225.0 225.0 1\n",
      " 1.0 1.0 'Manhattan' 'Chelsea']\n",
      "[19.913079999999997 -0.0033592603000000003 -1.9276351999999999 'medium'\n",
      " '#Charming 1BR apt, Penn Station..' 37042565 190.0 63.33333333333334 3\n",
      " 1.0 1.0 'Manhattan' 'Chelsea']\n",
      "[7.3346276 10.821171000000001 11.567555 'medium' 'Great Flat in Chelsea..'\n",
      " 37043437 190.0 63.33333333333334 3 2.0 1.0 'Manhattan' 'Chelsea']\n",
      "[7.451954400000001 -4.826997 -14.792485999999998 'medium'\n",
      " 'Luxury Private Home NYC Connection' 37047712 199.0 199.0 1 1.0 1.0\n",
      " 'Manhattan' 'Chelsea']\n",
      "[8.344352 -5.0869117 -15.530287 'high'\n",
      " 'Royalty Traveling SPACE AND LUXURY Home' 37048838 833.0 833.0 1 4.0 1.5\n",
      " 'Manhattan' 'Chelsea']\n",
      "[8.426675999999999 -5.021780000000001 -15.532214999999999 'high'\n",
      " 'CLEAN CHIC CHELSEA NYC' 37049184 225.0 225.0 1 1.0 1.0 'Manhattan'\n",
      " 'Chelsea']\n",
      "[16.687078 -0.5945686 -0.021498572 'high'\n",
      " 'Gorgeous Chelsea 2/2 Luxury Bohemian Chic' 37051903 400.0 400.0 1 2.0\n",
      " 2.0 'Manhattan' 'Chelsea']\n",
      "[19.254618 -0.024034556000000002 -2.4508755 'medium'\n",
      " 'Charming 1BR apt, Penn Station' 37084669 190.0 63.33333333333334 3 1.0\n",
      " 1.0 'Manhattan' 'Chelsea']\n",
      "[7.7904539999999995 -7.0160275 -9.115497 'high' 'Highline Heavan' 37119371\n",
      " 250.0 250.0 1 1.0 1.0 'Manhattan' 'Chelsea']\n",
      "[15.079010999999998 4.5188 12.564196 'medium' 'Luxury 1 bed with Views,'\n",
      " 37157120 388.0 129.33333333333334 3 1.0 1.0 'Manhattan' 'Chelsea']\n",
      "[-7.143745399999999 2.5222695 0.11036079 'medium'\n",
      " 'Charming apartment in Chelsea' 37289871 350.0 116.66666666666669 3 1.0\n",
      " 1.0 'Manhattan' 'Chelsea']\n",
      "[3.111577 -13.387898999999999 -12.957466 'medium'\n",
      " 'Large, beautiful townhouse in Chelsea (Manhattan)' 37294528 104.0 104.0\n",
      " 1 1.0 1.0 'Manhattan' 'Chelsea']\n",
      "[-0.48538919999999997 -11.436419500000001 -0.25012717 'medium'\n",
      " 'Beautiful huge private room' 37384256 100.0 100.0 1 1.0 1.0 'Manhattan'\n",
      " 'Chelsea']\n",
      "[2.2498803 -5.0233099999999995 -7.3582306 'medium'\n",
      " 'Beautiful Studio Apt in K-TOWN' 37491959 180.0 90.0 2 1.0 1.0\n",
      " 'Manhattan' 'Chelsea']\n",
      "[2.2180974 -5.001531 -7.3711899999999995 'medium'\n",
      " 'Amazing Studio Apt in the area of K-TOWN' 37492313 180.0 90.0 2 0.0 1.0\n",
      " 'Manhattan' 'Chelsea']\n",
      "[14.457422 7.932222 12.624561 'high'\n",
      " 'Brand New, Super Comfortable 2 BR Apt In Times Squ' 37494649 236.0 236.0\n",
      " 1 2.0 1.0 'Manhattan' 'Chelsea']\n"
     ]
    }
   ],
   "source": [
    "for row in plotly_data.values:\n",
    "    print(row)"
   ]
  },
  {
   "cell_type": "code",
   "execution_count": 33,
   "metadata": {},
   "outputs": [
    {
     "data": {
      "text/plain": [
       "15        (37.04, 336.0]\n",
       "173       (37.04, 336.0]\n",
       "179       (37.04, 336.0]\n",
       "414       (37.04, 336.0]\n",
       "471       (37.04, 336.0]\n",
       "671       (336.0, 632.0]\n",
       "721       (336.0, 632.0]\n",
       "892       (37.04, 336.0]\n",
       "1014      (336.0, 632.0]\n",
       "1055      (37.04, 336.0]\n",
       "1082      (37.04, 336.0]\n",
       "1167      (37.04, 336.0]\n",
       "1330      (37.04, 336.0]\n",
       "1336      (37.04, 336.0]\n",
       "1454      (37.04, 336.0]\n",
       "1632      (336.0, 632.0]\n",
       "1640      (37.04, 336.0]\n",
       "1669      (37.04, 336.0]\n",
       "1716      (37.04, 336.0]\n",
       "1849      (37.04, 336.0]\n",
       "1852      (37.04, 336.0]\n",
       "2028      (37.04, 336.0]\n",
       "2042      (336.0, 632.0]\n",
       "2044      (37.04, 336.0]\n",
       "2098      (37.04, 336.0]\n",
       "2156      (37.04, 336.0]\n",
       "2160      (37.04, 336.0]\n",
       "2227      (336.0, 632.0]\n",
       "2315      (37.04, 336.0]\n",
       "2388      (37.04, 336.0]\n",
       "2639      (37.04, 336.0]\n",
       "2683      (336.0, 632.0]\n",
       "2696      (37.04, 336.0]\n",
       "2758      (37.04, 336.0]\n",
       "2810      (37.04, 336.0]\n",
       "2838      (37.04, 336.0]\n",
       "2842      (37.04, 336.0]\n",
       "2852      (37.04, 336.0]\n",
       "2870      (37.04, 336.0]\n",
       "2957      (37.04, 336.0]\n",
       "3093      (37.04, 336.0]\n",
       "3196      (37.04, 336.0]\n",
       "3288      (632.0, 928.0]\n",
       "3289      (37.04, 336.0]\n",
       "3309      (37.04, 336.0]\n",
       "3331      (336.0, 632.0]\n",
       "3364      (37.04, 336.0]\n",
       "3365      (632.0, 928.0]\n",
       "3370     (928.0, 1224.0]\n",
       "3439      (37.04, 336.0]\n",
       "3514      (37.04, 336.0]\n",
       "3591      (37.04, 336.0]\n",
       "3805      (37.04, 336.0]\n",
       "3920      (37.04, 336.0]\n",
       "3947      (37.04, 336.0]\n",
       "3968      (37.04, 336.0]\n",
       "3996      (37.04, 336.0]\n",
       "4001      (336.0, 632.0]\n",
       "4129      (37.04, 336.0]\n",
       "4204      (37.04, 336.0]\n",
       "4237      (37.04, 336.0]\n",
       "4294      (336.0, 632.0]\n",
       "4307      (37.04, 336.0]\n",
       "4455      (37.04, 336.0]\n",
       "4522      (37.04, 336.0]\n",
       "4712      (336.0, 632.0]\n",
       "4756      (37.04, 336.0]\n",
       "4779      (37.04, 336.0]\n",
       "4804      (37.04, 336.0]\n",
       "5007      (336.0, 632.0]\n",
       "5012      (37.04, 336.0]\n",
       "5191      (37.04, 336.0]\n",
       "5276      (37.04, 336.0]\n",
       "5297      (37.04, 336.0]\n",
       "5347      (37.04, 336.0]\n",
       "              ...       \n",
       "40558     (37.04, 336.0]\n",
       "40607     (37.04, 336.0]\n",
       "40649     (37.04, 336.0]\n",
       "40722     (37.04, 336.0]\n",
       "40781     (37.04, 336.0]\n",
       "40923     (37.04, 336.0]\n",
       "40986     (336.0, 632.0]\n",
       "41018     (37.04, 336.0]\n",
       "41191     (336.0, 632.0]\n",
       "41282     (336.0, 632.0]\n",
       "41336     (336.0, 632.0]\n",
       "41365     (37.04, 336.0]\n",
       "41494     (336.0, 632.0]\n",
       "41496     (336.0, 632.0]\n",
       "41498     (336.0, 632.0]\n",
       "41511     (632.0, 928.0]\n",
       "41741     (37.04, 336.0]\n",
       "41765     (37.04, 336.0]\n",
       "41798     (336.0, 632.0]\n",
       "41906     (37.04, 336.0]\n",
       "42040     (37.04, 336.0]\n",
       "42044     (37.04, 336.0]\n",
       "42045     (37.04, 336.0]\n",
       "42343     (37.04, 336.0]\n",
       "42347     (37.04, 336.0]\n",
       "42360     (37.04, 336.0]\n",
       "42386     (37.04, 336.0]\n",
       "42448     (37.04, 336.0]\n",
       "42564     (37.04, 336.0]\n",
       "42636     (37.04, 336.0]\n",
       "42679     (37.04, 336.0]\n",
       "42720     (336.0, 632.0]\n",
       "42726     (37.04, 336.0]\n",
       "42806     (336.0, 632.0]\n",
       "42915     (37.04, 336.0]\n",
       "42966     (37.04, 336.0]\n",
       "43027     (37.04, 336.0]\n",
       "43110     (37.04, 336.0]\n",
       "43111     (37.04, 336.0]\n",
       "43281     (336.0, 632.0]\n",
       "43314     (37.04, 336.0]\n",
       "43325     (37.04, 336.0]\n",
       "43467     (37.04, 336.0]\n",
       "43479     (37.04, 336.0]\n",
       "43593     (632.0, 928.0]\n",
       "43605     (37.04, 336.0]\n",
       "43677     (37.04, 336.0]\n",
       "43713     (37.04, 336.0]\n",
       "44082     (37.04, 336.0]\n",
       "44089     (37.04, 336.0]\n",
       "44118     (37.04, 336.0]\n",
       "44197     (37.04, 336.0]\n",
       "44350     (37.04, 336.0]\n",
       "44374     (632.0, 928.0]\n",
       "44408     (37.04, 336.0]\n",
       "44530     (37.04, 336.0]\n",
       "44544     (37.04, 336.0]\n",
       "44613     (37.04, 336.0]\n",
       "44675     (37.04, 336.0]\n",
       "44678     (37.04, 336.0]\n",
       "44716     (37.04, 336.0]\n",
       "44721     (37.04, 336.0]\n",
       "44736     (37.04, 336.0]\n",
       "44743     (632.0, 928.0]\n",
       "44744     (37.04, 336.0]\n",
       "44755     (336.0, 632.0]\n",
       "44821     (37.04, 336.0]\n",
       "44885     (37.04, 336.0]\n",
       "44946     (336.0, 632.0]\n",
       "45192     (336.0, 632.0]\n",
       "45207     (37.04, 336.0]\n",
       "45400     (37.04, 336.0]\n",
       "45577     (37.04, 336.0]\n",
       "45580     (37.04, 336.0]\n",
       "45593     (37.04, 336.0]\n",
       "Name: price, Length: 579, dtype: category\n",
       "Categories (10, interval[float64]): [(37.04, 336.0] < (336.0, 632.0] < (632.0, 928.0] < (928.0, 1224.0] ... (1816.0, 2112.0] < (2112.0, 2408.0] < (2408.0, 2704.0] < (2704.0, 3000.0]]"
      ]
     },
     "execution_count": 33,
     "metadata": {},
     "output_type": "execute_result"
    }
   ],
   "source": [
    "pd.cut(plotly_data.price, bins=10)"
   ]
  },
  {
   "cell_type": "code",
   "execution_count": null,
   "metadata": {},
   "outputs": [],
   "source": []
  },
  {
   "cell_type": "code",
   "execution_count": null,
   "metadata": {},
   "outputs": [],
   "source": []
  }
 ],
 "metadata": {
  "kernelspec": {
   "display_name": "Python 3",
   "language": "python",
   "name": "python3"
  },
  "language_info": {
   "codemirror_mode": {
    "name": "ipython",
    "version": 3
   },
   "file_extension": ".py",
   "mimetype": "text/x-python",
   "name": "python",
   "nbconvert_exporter": "python",
   "pygments_lexer": "ipython3",
   "version": "3.7.3"
  }
 },
 "nbformat": 4,
 "nbformat_minor": 2
}
