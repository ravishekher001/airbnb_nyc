{
 "cells": [
  {
   "cell_type": "markdown",
   "metadata": {},
   "source": [
    "## Turn text columns into numeric features\n",
    "**Feature Engineering**: In this notebook, we will create new features from the cleaned dataset. The following are the goals of this step:\n",
    "- For the amenities column, create a bag-of-words representation.\n",
    "- For the host verifications column, create a bag-of-words representation.\n",
    "- For the description column, create a TF-IDF representation.\n",
    "- Merge this into one dataframe"
   ]
  },
  {
   "cell_type": "code",
   "execution_count": 2,
   "metadata": {},
   "outputs": [],
   "source": [
    "# data managing and display libs\n",
    "import pandas as pd\n",
    "import numpy as np\n",
    "import os\n",
    "import io\n",
    "\n",
    "import matplotlib.pyplot as plt\n",
    "import matplotlib\n",
    "%matplotlib inline \n",
    "\n",
    "# sagemaker libraries\n",
    "import boto3\n",
    "import sagemaker"
   ]
  },
  {
   "cell_type": "code",
   "execution_count": 3,
   "metadata": {},
   "outputs": [],
   "source": [
    "# boto3 client to get S3 data\n",
    "s3_client = boto3.client('s3')\n",
    "bucket_name='skuchkula-sagemaker-airbnb'"
   ]
  },
  {
   "cell_type": "code",
   "execution_count": 29,
   "metadata": {},
   "outputs": [
    {
     "data": {
      "text/plain": [
       "['clean/airbnb_clean.csv', 'detailed_listings.csv', 'summary_listings.csv']"
      ]
     },
     "execution_count": 29,
     "metadata": {},
     "output_type": "execute_result"
    }
   ],
   "source": [
    "# list the bucket objects\n",
    "response = s3_client.list_objects(Bucket=bucket_name)\n",
    "\n",
    "# get list of objects inside the bucket\n",
    "files = [file['Key'] for file in response['Contents']]\n",
    "files"
   ]
  },
  {
   "cell_type": "code",
   "execution_count": 4,
   "metadata": {},
   "outputs": [],
   "source": [
    "airbnb_file = files[0]"
   ]
  },
  {
   "cell_type": "code",
   "execution_count": 6,
   "metadata": {},
   "outputs": [],
   "source": [
    "# download the file from s3\n",
    "def get_data_frame(bucket_name, file_name):\n",
    "    '''\n",
    "    Takes the location of the dataset on S3 and returns a dataframe.\n",
    "    arguments:\n",
    "            bucket_name: the name of the bucket\n",
    "            file_name: the key inside the bucket\n",
    "    returns:\n",
    "            dataframe\n",
    "    '''\n",
    "    # get an S3 object by passing in the bucket and file name\n",
    "    data_object = s3_client.get_object(Bucket=bucket_name, Key=file_name)\n",
    "    \n",
    "    # information is in the \"Body\" of the object\n",
    "    data_body = data_object[\"Body\"].read()\n",
    "    \n",
    "    # read in bytes data\n",
    "    data_stream = io.BytesIO(data_body)\n",
    "    \n",
    "    # create a dataframe\n",
    "    df = pd.read_csv(data_stream, header=0, delimiter=\",\", low_memory=False, keep_default_na=False)\n",
    "    \n",
    "    return df"
   ]
  },
  {
   "cell_type": "code",
   "execution_count": 6,
   "metadata": {},
   "outputs": [],
   "source": [
    "df_airbnb = get_data_frame(bucket_name, airbnb_file)"
   ]
  },
  {
   "cell_type": "code",
   "execution_count": 7,
   "metadata": {},
   "outputs": [
    {
     "data": {
      "text/plain": [
       "(45605, 67)"
      ]
     },
     "execution_count": 7,
     "metadata": {},
     "output_type": "execute_result"
    }
   ],
   "source": [
    "df_airbnb.shape"
   ]
  },
  {
   "cell_type": "markdown",
   "metadata": {},
   "source": [
    "### Create features from amenities values"
   ]
  },
  {
   "cell_type": "code",
   "execution_count": 8,
   "metadata": {},
   "outputs": [
    {
     "data": {
      "text/plain": [
       "0    {TV,Wifi,\"Air conditioning\",Kitchen,\"Paid park...\n",
       "1    {\"Cable TV\",Internet,Wifi,\"Air conditioning\",K...\n",
       "2    {Internet,Wifi,\"Air conditioning\",Kitchen,Elev...\n",
       "3    {TV,\"Cable TV\",Internet,Wifi,Kitchen,\"Buzzer/w...\n",
       "4    {Wifi,\"Air conditioning\",Kitchen,\"Pets live on...\n",
       "Name: amenities, dtype: object"
      ]
     },
     "execution_count": 8,
     "metadata": {},
     "output_type": "execute_result"
    }
   ],
   "source": [
    "df_airbnb.amenities.head()"
   ]
  },
  {
   "cell_type": "code",
   "execution_count": 9,
   "metadata": {},
   "outputs": [],
   "source": [
    "# remove the curly brackets\n",
    "df_airbnb['amenities'] =  df_airbnb['amenities'].apply(lambda x: x[1:-1])"
   ]
  },
  {
   "cell_type": "code",
   "execution_count": 10,
   "metadata": {},
   "outputs": [
    {
     "data": {
      "text/plain": [
       "0    TV,Wifi,\"Air conditioning\",Kitchen,\"Paid parki...\n",
       "1    \"Cable TV\",Internet,Wifi,\"Air conditioning\",Ki...\n",
       "2    Internet,Wifi,\"Air conditioning\",Kitchen,Eleva...\n",
       "3    TV,\"Cable TV\",Internet,Wifi,Kitchen,\"Buzzer/wi...\n",
       "4    Wifi,\"Air conditioning\",Kitchen,\"Pets live on ...\n",
       "Name: amenities, dtype: object"
      ]
     },
     "execution_count": 10,
     "metadata": {},
     "output_type": "execute_result"
    }
   ],
   "source": [
    "df_airbnb.amenities.head()"
   ]
  },
  {
   "cell_type": "code",
   "execution_count": 11,
   "metadata": {},
   "outputs": [],
   "source": [
    "amenities = df_airbnb.amenities"
   ]
  },
  {
   "cell_type": "code",
   "execution_count": 12,
   "metadata": {},
   "outputs": [],
   "source": [
    "# create a dictionary of terms\n",
    "amenities_idx ={}\n",
    "idx = 0\n",
    "corpus = []\n",
    "for i in range(len(amenities)):\n",
    "    items = amenities[i]\n",
    "    items_lower = items.lower()\n",
    "    tokens = items_lower.split(',')\n",
    "    corpus.append(tokens)\n",
    "    for token in tokens:\n",
    "        if token not in amenities_idx:\n",
    "            amenities_idx[token] = idx\n",
    "            idx += 1"
   ]
  },
  {
   "cell_type": "code",
   "execution_count": 13,
   "metadata": {},
   "outputs": [
    {
     "name": "stdout",
     "output_type": "stream",
     "text": [
      "Total number of terms in the corpus:  131\n",
      "Total number of documents in the corpus:  45605\n"
     ]
    }
   ],
   "source": [
    "print(\"Total number of terms in the corpus: \", len(amenities_idx))\n",
    "print(\"Total number of documents in the corpus: \", len(corpus))"
   ]
  },
  {
   "cell_type": "code",
   "execution_count": 14,
   "metadata": {},
   "outputs": [],
   "source": [
    "# Get the number of items and tokens \n",
    "M = len(amenities)\n",
    "N = len(amenities_idx)\n",
    "\n",
    "# Initialize a matrix of zeros\n",
    "A = np.zeros((M, N))"
   ]
  },
  {
   "cell_type": "code",
   "execution_count": 15,
   "metadata": {},
   "outputs": [],
   "source": [
    "# Define the amenity_encoder function\n",
    "def amenity_encoder(tokens):\n",
    "    x = np.zeros(N)\n",
    "    for token in tokens:\n",
    "        # Get the index for each amenity\n",
    "        idx = amenities_idx[token]\n",
    "        # Put 1 at the corresponding indices\n",
    "        x[idx] = 1\n",
    "    return x"
   ]
  },
  {
   "cell_type": "code",
   "execution_count": 16,
   "metadata": {},
   "outputs": [],
   "source": [
    "# Make a document-term matrix\n",
    "i = 0\n",
    "for tokens in corpus:\n",
    "    A[i, :] = amenity_encoder(tokens)\n",
    "    i = i + 1"
   ]
  },
  {
   "cell_type": "code",
   "execution_count": 17,
   "metadata": {},
   "outputs": [
    {
     "data": {
      "text/plain": [
       "(45605, 131)"
      ]
     },
     "execution_count": 17,
     "metadata": {},
     "output_type": "execute_result"
    }
   ],
   "source": [
    "A.shape"
   ]
  },
  {
   "cell_type": "code",
   "execution_count": 18,
   "metadata": {},
   "outputs": [
    {
     "data": {
      "text/plain": [
       "numpy.ndarray"
      ]
     },
     "execution_count": 18,
     "metadata": {},
     "output_type": "execute_result"
    }
   ],
   "source": [
    "type(A)"
   ]
  },
  {
   "cell_type": "code",
   "execution_count": 65,
   "metadata": {},
   "outputs": [
    {
     "data": {
      "text/html": [
       "<div>\n",
       "<style scoped>\n",
       "    .dataframe tbody tr th:only-of-type {\n",
       "        vertical-align: middle;\n",
       "    }\n",
       "\n",
       "    .dataframe tbody tr th {\n",
       "        vertical-align: top;\n",
       "    }\n",
       "\n",
       "    .dataframe thead th {\n",
       "        text-align: right;\n",
       "    }\n",
       "</style>\n",
       "<table border=\"1\" class=\"dataframe\">\n",
       "  <thead>\n",
       "    <tr style=\"text-align: right;\">\n",
       "      <th></th>\n",
       "      <th>tv</th>\n",
       "      <th>wifi</th>\n",
       "      <th>\"air conditioning\"</th>\n",
       "      <th>kitchen</th>\n",
       "      <th>\"paid parking off premises\"</th>\n",
       "      <th>\"free street parking\"</th>\n",
       "      <th>\"indoor fireplace\"</th>\n",
       "      <th>heating</th>\n",
       "      <th>\"family/kid friendly\"</th>\n",
       "      <th>\"smoke detector\"</th>\n",
       "      <th>...</th>\n",
       "      <th>\"lake access\"</th>\n",
       "      <th>\"pool with pool hoist\"</th>\n",
       "      <th>\"full kitchen\"</th>\n",
       "      <th>\"electric profiling bed\"</th>\n",
       "      <th>\"ground floor access\"</th>\n",
       "      <th>\"air purifier\"</th>\n",
       "      <th>\"mobile hoist\"</th>\n",
       "      <th>kitchenette</th>\n",
       "      <th>\"fixed grab bars for shower</th>\n",
       "      <th>\"ceiling hoist\"</th>\n",
       "    </tr>\n",
       "  </thead>\n",
       "  <tbody>\n",
       "    <tr>\n",
       "      <th>0</th>\n",
       "      <td>1.0</td>\n",
       "      <td>1.0</td>\n",
       "      <td>1.0</td>\n",
       "      <td>1.0</td>\n",
       "      <td>1.0</td>\n",
       "      <td>1.0</td>\n",
       "      <td>1.0</td>\n",
       "      <td>1.0</td>\n",
       "      <td>1.0</td>\n",
       "      <td>1.0</td>\n",
       "      <td>...</td>\n",
       "      <td>0.0</td>\n",
       "      <td>0.0</td>\n",
       "      <td>0.0</td>\n",
       "      <td>0.0</td>\n",
       "      <td>0.0</td>\n",
       "      <td>0.0</td>\n",
       "      <td>0.0</td>\n",
       "      <td>0.0</td>\n",
       "      <td>0.0</td>\n",
       "      <td>0.0</td>\n",
       "    </tr>\n",
       "    <tr>\n",
       "      <th>1</th>\n",
       "      <td>0.0</td>\n",
       "      <td>1.0</td>\n",
       "      <td>1.0</td>\n",
       "      <td>1.0</td>\n",
       "      <td>0.0</td>\n",
       "      <td>0.0</td>\n",
       "      <td>0.0</td>\n",
       "      <td>1.0</td>\n",
       "      <td>0.0</td>\n",
       "      <td>1.0</td>\n",
       "      <td>...</td>\n",
       "      <td>0.0</td>\n",
       "      <td>0.0</td>\n",
       "      <td>0.0</td>\n",
       "      <td>0.0</td>\n",
       "      <td>0.0</td>\n",
       "      <td>0.0</td>\n",
       "      <td>0.0</td>\n",
       "      <td>0.0</td>\n",
       "      <td>0.0</td>\n",
       "      <td>0.0</td>\n",
       "    </tr>\n",
       "    <tr>\n",
       "      <th>2</th>\n",
       "      <td>0.0</td>\n",
       "      <td>1.0</td>\n",
       "      <td>1.0</td>\n",
       "      <td>1.0</td>\n",
       "      <td>0.0</td>\n",
       "      <td>1.0</td>\n",
       "      <td>0.0</td>\n",
       "      <td>1.0</td>\n",
       "      <td>0.0</td>\n",
       "      <td>1.0</td>\n",
       "      <td>...</td>\n",
       "      <td>0.0</td>\n",
       "      <td>0.0</td>\n",
       "      <td>0.0</td>\n",
       "      <td>0.0</td>\n",
       "      <td>0.0</td>\n",
       "      <td>0.0</td>\n",
       "      <td>0.0</td>\n",
       "      <td>0.0</td>\n",
       "      <td>0.0</td>\n",
       "      <td>0.0</td>\n",
       "    </tr>\n",
       "    <tr>\n",
       "      <th>3</th>\n",
       "      <td>1.0</td>\n",
       "      <td>1.0</td>\n",
       "      <td>0.0</td>\n",
       "      <td>1.0</td>\n",
       "      <td>0.0</td>\n",
       "      <td>0.0</td>\n",
       "      <td>0.0</td>\n",
       "      <td>1.0</td>\n",
       "      <td>0.0</td>\n",
       "      <td>1.0</td>\n",
       "      <td>...</td>\n",
       "      <td>0.0</td>\n",
       "      <td>0.0</td>\n",
       "      <td>0.0</td>\n",
       "      <td>0.0</td>\n",
       "      <td>0.0</td>\n",
       "      <td>0.0</td>\n",
       "      <td>0.0</td>\n",
       "      <td>0.0</td>\n",
       "      <td>0.0</td>\n",
       "      <td>0.0</td>\n",
       "    </tr>\n",
       "    <tr>\n",
       "      <th>4</th>\n",
       "      <td>0.0</td>\n",
       "      <td>1.0</td>\n",
       "      <td>1.0</td>\n",
       "      <td>1.0</td>\n",
       "      <td>0.0</td>\n",
       "      <td>0.0</td>\n",
       "      <td>0.0</td>\n",
       "      <td>1.0</td>\n",
       "      <td>0.0</td>\n",
       "      <td>0.0</td>\n",
       "      <td>...</td>\n",
       "      <td>0.0</td>\n",
       "      <td>0.0</td>\n",
       "      <td>0.0</td>\n",
       "      <td>0.0</td>\n",
       "      <td>0.0</td>\n",
       "      <td>0.0</td>\n",
       "      <td>0.0</td>\n",
       "      <td>0.0</td>\n",
       "      <td>0.0</td>\n",
       "      <td>0.0</td>\n",
       "    </tr>\n",
       "  </tbody>\n",
       "</table>\n",
       "<p>5 rows × 131 columns</p>\n",
       "</div>"
      ],
      "text/plain": [
       "    tv  wifi  \"air conditioning\"  kitchen  \"paid parking off premises\"  \\\n",
       "0  1.0   1.0                 1.0      1.0                          1.0   \n",
       "1  0.0   1.0                 1.0      1.0                          0.0   \n",
       "2  0.0   1.0                 1.0      1.0                          0.0   \n",
       "3  1.0   1.0                 0.0      1.0                          0.0   \n",
       "4  0.0   1.0                 1.0      1.0                          0.0   \n",
       "\n",
       "   \"free street parking\"  \"indoor fireplace\"  heating  \"family/kid friendly\"  \\\n",
       "0                    1.0                 1.0      1.0                    1.0   \n",
       "1                    0.0                 0.0      1.0                    0.0   \n",
       "2                    1.0                 0.0      1.0                    0.0   \n",
       "3                    0.0                 0.0      1.0                    0.0   \n",
       "4                    0.0                 0.0      1.0                    0.0   \n",
       "\n",
       "   \"smoke detector\"  ...  \"lake access\"  \"pool with pool hoist\"  \\\n",
       "0               1.0  ...            0.0                     0.0   \n",
       "1               1.0  ...            0.0                     0.0   \n",
       "2               1.0  ...            0.0                     0.0   \n",
       "3               1.0  ...            0.0                     0.0   \n",
       "4               0.0  ...            0.0                     0.0   \n",
       "\n",
       "   \"full kitchen\"  \"electric profiling bed\"  \"ground floor access\"  \\\n",
       "0             0.0                       0.0                    0.0   \n",
       "1             0.0                       0.0                    0.0   \n",
       "2             0.0                       0.0                    0.0   \n",
       "3             0.0                       0.0                    0.0   \n",
       "4             0.0                       0.0                    0.0   \n",
       "\n",
       "   \"air purifier\"  \"mobile hoist\"  kitchenette  \"fixed grab bars for shower  \\\n",
       "0             0.0             0.0          0.0                          0.0   \n",
       "1             0.0             0.0          0.0                          0.0   \n",
       "2             0.0             0.0          0.0                          0.0   \n",
       "3             0.0             0.0          0.0                          0.0   \n",
       "4             0.0             0.0          0.0                          0.0   \n",
       "\n",
       "   \"ceiling hoist\"  \n",
       "0              0.0  \n",
       "1              0.0  \n",
       "2              0.0  \n",
       "3              0.0  \n",
       "4              0.0  \n",
       "\n",
       "[5 rows x 131 columns]"
      ]
     },
     "execution_count": 65,
     "metadata": {},
     "output_type": "execute_result"
    }
   ],
   "source": [
    "amenities_features = pd.DataFrame(A, columns=list(amenities_idx.keys()))\n",
    "amenities_features.head()"
   ]
  },
  {
   "cell_type": "code",
   "execution_count": 73,
   "metadata": {},
   "outputs": [],
   "source": [
    "# create a csv file and store it in S3\n",
    "amenities_features.to_csv('amenities_features.csv', index=False)"
   ]
  },
  {
   "cell_type": "code",
   "execution_count": 74,
   "metadata": {},
   "outputs": [],
   "source": [
    "# upload it to S3\n",
    "s3_client.upload_file(Bucket=bucket_name, \n",
    "                      Filename='amenities_features.csv', \n",
    "                      Key='feature_eng/amenities_features.csv')"
   ]
  },
  {
   "cell_type": "markdown",
   "metadata": {},
   "source": [
    "## Create features from host_verifications"
   ]
  },
  {
   "cell_type": "code",
   "execution_count": 20,
   "metadata": {},
   "outputs": [
    {
     "data": {
      "text/plain": [
       "0    ['email', 'phone', 'reviews', 'kba', 'work_ema...\n",
       "1    ['email', 'phone', 'google', 'reviews', 'jumio...\n",
       "2     ['email', 'phone', 'facebook', 'reviews', 'kba']\n",
       "3    ['email', 'phone', 'reviews', 'jumio', 'govern...\n",
       "4    ['email', 'phone', 'facebook', 'reviews', 'off...\n",
       "5            ['email', 'phone', 'facebook', 'reviews']\n",
       "6    ['email', 'phone', 'facebook', 'google', 'revi...\n",
       "7                 ['email', 'phone', 'reviews', 'kba']\n",
       "8    ['email', 'phone', 'manual_online', 'reviews',...\n",
       "9    ['email', 'phone', 'reviews', 'jumio', 'govern...\n",
       "Name: host_verifications, dtype: object"
      ]
     },
     "execution_count": 20,
     "metadata": {},
     "output_type": "execute_result"
    }
   ],
   "source": [
    "df_airbnb.host_verifications[:10]"
   ]
  },
  {
   "cell_type": "code",
   "execution_count": 21,
   "metadata": {},
   "outputs": [
    {
     "data": {
      "text/plain": [
       "['email', 'phone', 'reviews', 'kba', 'work_email']"
      ]
     },
     "execution_count": 21,
     "metadata": {},
     "output_type": "execute_result"
    }
   ],
   "source": [
    "import re\n",
    "re.findall(r'\\w+', df_airbnb.host_verifications[0])"
   ]
  },
  {
   "cell_type": "code",
   "execution_count": 22,
   "metadata": {},
   "outputs": [],
   "source": [
    "df_airbnb.loc[:, 'host_verifications'] = df_airbnb.host_verifications.apply(lambda x: re.findall(r'\\w+', x))"
   ]
  },
  {
   "cell_type": "code",
   "execution_count": 23,
   "metadata": {},
   "outputs": [],
   "source": [
    "verifications = df_airbnb.host_verifications"
   ]
  },
  {
   "cell_type": "code",
   "execution_count": 24,
   "metadata": {},
   "outputs": [],
   "source": [
    "verification_idx = {}\n",
    "idx = 0\n",
    "corpus = []\n",
    "for i in range(len(verifications)):\n",
    "    items = verifications[i]\n",
    "    corpus.append(items)\n",
    "    for item in items:\n",
    "        if item not in verification_idx:\n",
    "            verification_idx[item] = idx\n",
    "            idx += 1"
   ]
  },
  {
   "cell_type": "code",
   "execution_count": 25,
   "metadata": {},
   "outputs": [
    {
     "data": {
      "text/plain": [
       "{'email': 0,\n",
       " 'phone': 1,\n",
       " 'reviews': 2,\n",
       " 'kba': 3,\n",
       " 'work_email': 4,\n",
       " 'google': 5,\n",
       " 'jumio': 6,\n",
       " 'government_id': 7,\n",
       " 'facebook': 8,\n",
       " 'offline_government_id': 9,\n",
       " 'selfie': 10,\n",
       " 'identity_manual': 11,\n",
       " 'manual_online': 12,\n",
       " 'sent_id': 13,\n",
       " 'manual_offline': 14,\n",
       " 'None': 15,\n",
       " 'weibo': 16,\n",
       " 'sesame': 17,\n",
       " 'sesame_offline': 18,\n",
       " 'zhima_selfie': 19}"
      ]
     },
     "execution_count": 25,
     "metadata": {},
     "output_type": "execute_result"
    }
   ],
   "source": [
    "verification_idx"
   ]
  },
  {
   "cell_type": "code",
   "execution_count": 26,
   "metadata": {},
   "outputs": [
    {
     "name": "stdout",
     "output_type": "stream",
     "text": [
      "Total number of terms in the corpus:  20\n",
      "Total number of documents in the corpus:  45605\n"
     ]
    }
   ],
   "source": [
    "print(\"Total number of terms in the corpus: \", len(verification_idx))\n",
    "print(\"Total number of documents in the corpus: \", len(corpus))"
   ]
  },
  {
   "cell_type": "code",
   "execution_count": 27,
   "metadata": {},
   "outputs": [],
   "source": [
    "# Get the number of items and tokens \n",
    "M = len(verifications)\n",
    "N = len(verification_idx)\n",
    "\n",
    "# Initialize a matrix of zeros\n",
    "B = np.zeros((M, N))"
   ]
  },
  {
   "cell_type": "code",
   "execution_count": 28,
   "metadata": {},
   "outputs": [],
   "source": [
    "# Define the verification_encoder function\n",
    "def verification_encoder(tokens):\n",
    "    x = np.zeros(N)\n",
    "    for token in tokens:\n",
    "        # Get the index for each verification\n",
    "        idx = verification_idx[token]\n",
    "        # Put 1 at the corresponding indices\n",
    "        x[idx] = 1\n",
    "    return x"
   ]
  },
  {
   "cell_type": "code",
   "execution_count": 29,
   "metadata": {},
   "outputs": [],
   "source": [
    "# Make a document-term matrix\n",
    "i = 0\n",
    "for tokens in corpus:\n",
    "    B[i, :] = verification_encoder(tokens)\n",
    "    i = i + 1"
   ]
  },
  {
   "cell_type": "code",
   "execution_count": 30,
   "metadata": {},
   "outputs": [
    {
     "data": {
      "text/plain": [
       "(45605, 20)"
      ]
     },
     "execution_count": 30,
     "metadata": {},
     "output_type": "execute_result"
    }
   ],
   "source": [
    "B.shape"
   ]
  },
  {
   "cell_type": "code",
   "execution_count": 59,
   "metadata": {},
   "outputs": [
    {
     "data": {
      "text/plain": [
       "numpy.ndarray"
      ]
     },
     "execution_count": 59,
     "metadata": {},
     "output_type": "execute_result"
    }
   ],
   "source": [
    "type(B)"
   ]
  },
  {
   "cell_type": "code",
   "execution_count": 61,
   "metadata": {},
   "outputs": [
    {
     "data": {
      "text/plain": [
       "['email',\n",
       " 'phone',\n",
       " 'reviews',\n",
       " 'kba',\n",
       " 'work_email',\n",
       " 'google',\n",
       " 'jumio',\n",
       " 'government_id',\n",
       " 'facebook',\n",
       " 'offline_government_id',\n",
       " 'selfie',\n",
       " 'identity_manual',\n",
       " 'manual_online',\n",
       " 'sent_id',\n",
       " 'manual_offline',\n",
       " 'None',\n",
       " 'weibo',\n",
       " 'sesame',\n",
       " 'sesame_offline',\n",
       " 'zhima_selfie']"
      ]
     },
     "execution_count": 61,
     "metadata": {},
     "output_type": "execute_result"
    }
   ],
   "source": [
    "list(verification_idx.keys())"
   ]
  },
  {
   "cell_type": "code",
   "execution_count": 62,
   "metadata": {},
   "outputs": [],
   "source": [
    "verification_features = pd.DataFrame(B, columns=list(verification_idx.keys()))"
   ]
  },
  {
   "cell_type": "code",
   "execution_count": null,
   "metadata": {},
   "outputs": [],
   "source": [
    "verification_features.columns = verification_features.add_prefix('host_verification_by_').columns"
   ]
  },
  {
   "cell_type": "code",
   "execution_count": 63,
   "metadata": {},
   "outputs": [
    {
     "data": {
      "text/plain": [
       "(45605, 20)"
      ]
     },
     "execution_count": 63,
     "metadata": {},
     "output_type": "execute_result"
    }
   ],
   "source": [
    "verification_features.shape"
   ]
  },
  {
   "cell_type": "code",
   "execution_count": 72,
   "metadata": {},
   "outputs": [
    {
     "data": {
      "text/html": [
       "<div>\n",
       "<style scoped>\n",
       "    .dataframe tbody tr th:only-of-type {\n",
       "        vertical-align: middle;\n",
       "    }\n",
       "\n",
       "    .dataframe tbody tr th {\n",
       "        vertical-align: top;\n",
       "    }\n",
       "\n",
       "    .dataframe thead th {\n",
       "        text-align: right;\n",
       "    }\n",
       "</style>\n",
       "<table border=\"1\" class=\"dataframe\">\n",
       "  <thead>\n",
       "    <tr style=\"text-align: right;\">\n",
       "      <th></th>\n",
       "      <th>host_verification_by_email</th>\n",
       "      <th>host_verification_by_phone</th>\n",
       "      <th>host_verification_by_reviews</th>\n",
       "      <th>host_verification_by_kba</th>\n",
       "      <th>host_verification_by_work_email</th>\n",
       "      <th>host_verification_by_google</th>\n",
       "      <th>host_verification_by_jumio</th>\n",
       "      <th>host_verification_by_government_id</th>\n",
       "      <th>host_verification_by_facebook</th>\n",
       "      <th>host_verification_by_offline_government_id</th>\n",
       "      <th>host_verification_by_selfie</th>\n",
       "      <th>host_verification_by_identity_manual</th>\n",
       "      <th>host_verification_by_manual_online</th>\n",
       "      <th>host_verification_by_sent_id</th>\n",
       "      <th>host_verification_by_manual_offline</th>\n",
       "      <th>host_verification_by_None</th>\n",
       "      <th>host_verification_by_weibo</th>\n",
       "      <th>host_verification_by_sesame</th>\n",
       "      <th>host_verification_by_sesame_offline</th>\n",
       "      <th>host_verification_by_zhima_selfie</th>\n",
       "    </tr>\n",
       "  </thead>\n",
       "  <tbody>\n",
       "    <tr>\n",
       "      <th>0</th>\n",
       "      <td>1.0</td>\n",
       "      <td>1.0</td>\n",
       "      <td>1.0</td>\n",
       "      <td>1.0</td>\n",
       "      <td>1.0</td>\n",
       "      <td>0.0</td>\n",
       "      <td>0.0</td>\n",
       "      <td>0.0</td>\n",
       "      <td>0.0</td>\n",
       "      <td>0.0</td>\n",
       "      <td>0.0</td>\n",
       "      <td>0.0</td>\n",
       "      <td>0.0</td>\n",
       "      <td>0.0</td>\n",
       "      <td>0.0</td>\n",
       "      <td>0.0</td>\n",
       "      <td>0.0</td>\n",
       "      <td>0.0</td>\n",
       "      <td>0.0</td>\n",
       "      <td>0.0</td>\n",
       "    </tr>\n",
       "    <tr>\n",
       "      <th>1</th>\n",
       "      <td>1.0</td>\n",
       "      <td>1.0</td>\n",
       "      <td>1.0</td>\n",
       "      <td>0.0</td>\n",
       "      <td>0.0</td>\n",
       "      <td>1.0</td>\n",
       "      <td>1.0</td>\n",
       "      <td>1.0</td>\n",
       "      <td>0.0</td>\n",
       "      <td>0.0</td>\n",
       "      <td>0.0</td>\n",
       "      <td>0.0</td>\n",
       "      <td>0.0</td>\n",
       "      <td>0.0</td>\n",
       "      <td>0.0</td>\n",
       "      <td>0.0</td>\n",
       "      <td>0.0</td>\n",
       "      <td>0.0</td>\n",
       "      <td>0.0</td>\n",
       "      <td>0.0</td>\n",
       "    </tr>\n",
       "    <tr>\n",
       "      <th>2</th>\n",
       "      <td>1.0</td>\n",
       "      <td>1.0</td>\n",
       "      <td>1.0</td>\n",
       "      <td>1.0</td>\n",
       "      <td>0.0</td>\n",
       "      <td>0.0</td>\n",
       "      <td>0.0</td>\n",
       "      <td>0.0</td>\n",
       "      <td>1.0</td>\n",
       "      <td>0.0</td>\n",
       "      <td>0.0</td>\n",
       "      <td>0.0</td>\n",
       "      <td>0.0</td>\n",
       "      <td>0.0</td>\n",
       "      <td>0.0</td>\n",
       "      <td>0.0</td>\n",
       "      <td>0.0</td>\n",
       "      <td>0.0</td>\n",
       "      <td>0.0</td>\n",
       "      <td>0.0</td>\n",
       "    </tr>\n",
       "    <tr>\n",
       "      <th>3</th>\n",
       "      <td>1.0</td>\n",
       "      <td>1.0</td>\n",
       "      <td>1.0</td>\n",
       "      <td>0.0</td>\n",
       "      <td>0.0</td>\n",
       "      <td>0.0</td>\n",
       "      <td>1.0</td>\n",
       "      <td>1.0</td>\n",
       "      <td>0.0</td>\n",
       "      <td>0.0</td>\n",
       "      <td>0.0</td>\n",
       "      <td>0.0</td>\n",
       "      <td>0.0</td>\n",
       "      <td>0.0</td>\n",
       "      <td>0.0</td>\n",
       "      <td>0.0</td>\n",
       "      <td>0.0</td>\n",
       "      <td>0.0</td>\n",
       "      <td>0.0</td>\n",
       "      <td>0.0</td>\n",
       "    </tr>\n",
       "    <tr>\n",
       "      <th>4</th>\n",
       "      <td>1.0</td>\n",
       "      <td>1.0</td>\n",
       "      <td>1.0</td>\n",
       "      <td>0.0</td>\n",
       "      <td>0.0</td>\n",
       "      <td>0.0</td>\n",
       "      <td>0.0</td>\n",
       "      <td>1.0</td>\n",
       "      <td>1.0</td>\n",
       "      <td>1.0</td>\n",
       "      <td>1.0</td>\n",
       "      <td>1.0</td>\n",
       "      <td>0.0</td>\n",
       "      <td>0.0</td>\n",
       "      <td>0.0</td>\n",
       "      <td>0.0</td>\n",
       "      <td>0.0</td>\n",
       "      <td>0.0</td>\n",
       "      <td>0.0</td>\n",
       "      <td>0.0</td>\n",
       "    </tr>\n",
       "  </tbody>\n",
       "</table>\n",
       "</div>"
      ],
      "text/plain": [
       "   host_verification_by_email  host_verification_by_phone  \\\n",
       "0                         1.0                         1.0   \n",
       "1                         1.0                         1.0   \n",
       "2                         1.0                         1.0   \n",
       "3                         1.0                         1.0   \n",
       "4                         1.0                         1.0   \n",
       "\n",
       "   host_verification_by_reviews  host_verification_by_kba  \\\n",
       "0                           1.0                       1.0   \n",
       "1                           1.0                       0.0   \n",
       "2                           1.0                       1.0   \n",
       "3                           1.0                       0.0   \n",
       "4                           1.0                       0.0   \n",
       "\n",
       "   host_verification_by_work_email  host_verification_by_google  \\\n",
       "0                              1.0                          0.0   \n",
       "1                              0.0                          1.0   \n",
       "2                              0.0                          0.0   \n",
       "3                              0.0                          0.0   \n",
       "4                              0.0                          0.0   \n",
       "\n",
       "   host_verification_by_jumio  host_verification_by_government_id  \\\n",
       "0                         0.0                                 0.0   \n",
       "1                         1.0                                 1.0   \n",
       "2                         0.0                                 0.0   \n",
       "3                         1.0                                 1.0   \n",
       "4                         0.0                                 1.0   \n",
       "\n",
       "   host_verification_by_facebook  host_verification_by_offline_government_id  \\\n",
       "0                            0.0                                         0.0   \n",
       "1                            0.0                                         0.0   \n",
       "2                            1.0                                         0.0   \n",
       "3                            0.0                                         0.0   \n",
       "4                            1.0                                         1.0   \n",
       "\n",
       "   host_verification_by_selfie  host_verification_by_identity_manual  \\\n",
       "0                          0.0                                   0.0   \n",
       "1                          0.0                                   0.0   \n",
       "2                          0.0                                   0.0   \n",
       "3                          0.0                                   0.0   \n",
       "4                          1.0                                   1.0   \n",
       "\n",
       "   host_verification_by_manual_online  host_verification_by_sent_id  \\\n",
       "0                                 0.0                           0.0   \n",
       "1                                 0.0                           0.0   \n",
       "2                                 0.0                           0.0   \n",
       "3                                 0.0                           0.0   \n",
       "4                                 0.0                           0.0   \n",
       "\n",
       "   host_verification_by_manual_offline  host_verification_by_None  \\\n",
       "0                                  0.0                        0.0   \n",
       "1                                  0.0                        0.0   \n",
       "2                                  0.0                        0.0   \n",
       "3                                  0.0                        0.0   \n",
       "4                                  0.0                        0.0   \n",
       "\n",
       "   host_verification_by_weibo  host_verification_by_sesame  \\\n",
       "0                         0.0                          0.0   \n",
       "1                         0.0                          0.0   \n",
       "2                         0.0                          0.0   \n",
       "3                         0.0                          0.0   \n",
       "4                         0.0                          0.0   \n",
       "\n",
       "   host_verification_by_sesame_offline  host_verification_by_zhima_selfie  \n",
       "0                                  0.0                                0.0  \n",
       "1                                  0.0                                0.0  \n",
       "2                                  0.0                                0.0  \n",
       "3                                  0.0                                0.0  \n",
       "4                                  0.0                                0.0  "
      ]
     },
     "execution_count": 72,
     "metadata": {},
     "output_type": "execute_result"
    }
   ],
   "source": [
    "verification_features.head()"
   ]
  },
  {
   "cell_type": "code",
   "execution_count": 75,
   "metadata": {},
   "outputs": [],
   "source": [
    "# create a csv file and store it in S3\n",
    "verification_features.to_csv('host_verification_features.csv', index=False)"
   ]
  },
  {
   "cell_type": "code",
   "execution_count": 76,
   "metadata": {},
   "outputs": [],
   "source": [
    "# upload it to S3\n",
    "s3_client.upload_file(Bucket=bucket_name, \n",
    "                      Filename='host_verification_features.csv', \n",
    "                      Key='feature_eng/host_verification_features.csv')"
   ]
  },
  {
   "cell_type": "markdown",
   "metadata": {},
   "source": [
    "## Use a CountVectorizer for all the text columns"
   ]
  },
  {
   "cell_type": "code",
   "execution_count": 8,
   "metadata": {},
   "outputs": [],
   "source": [
    "# Set the display properties so that we can inspect the data\n",
    "pd.set_option(\"display.max_colwidth\", 1000)"
   ]
  },
  {
   "cell_type": "code",
   "execution_count": 9,
   "metadata": {},
   "outputs": [
    {
     "data": {
      "text/html": [
       "<div>\n",
       "<style scoped>\n",
       "    .dataframe tbody tr th:only-of-type {\n",
       "        vertical-align: middle;\n",
       "    }\n",
       "\n",
       "    .dataframe tbody tr th {\n",
       "        vertical-align: top;\n",
       "    }\n",
       "\n",
       "    .dataframe thead th {\n",
       "        text-align: right;\n",
       "    }\n",
       "</style>\n",
       "<table border=\"1\" class=\"dataframe\">\n",
       "  <thead>\n",
       "    <tr style=\"text-align: right;\">\n",
       "      <th></th>\n",
       "      <th>description</th>\n",
       "      <th>summary</th>\n",
       "    </tr>\n",
       "  </thead>\n",
       "  <tbody>\n",
       "    <tr>\n",
       "      <th>0</th>\n",
       "      <td>Find your romantic getaway to this beautiful, spacious skylit studio in the heart of Midtown, Manhattan.  STUNNING SKYLIT STUDIO / 1 BED + SINGLE / FULL BATH / FULL KITCHEN / FIREPLACE / CENTRALLY LOCATED / WiFi + APPLE TV / SHEETS + TOWELS - Spacious (500+ft²), immaculate and nicely furnished &amp; designed studio. - Tuck yourself into the ultra comfortable bed under the skylight. Fall in love with a myriad of bright lights in the city night sky.  - Single-sized bed/convertible floor mattress with luxury bedding (available upon request). - Gorgeous pyramid skylight with amazing diffused natural light, stunning architectural details, soaring high vaulted ceilings, exposed brick, wood burning fireplace, floor seating area with natural zafu cushions, modern style mixed with eclectic art &amp; antique treasures, large full bath, newly renovated kitchen, air conditioning/heat, high speed WiFi Internet, and Apple TV. - Centrally located in the heart of Midtown Manhattan just a few blocks from a...</td>\n",
       "      <td>Find your romantic getaway to this beautiful, spacious skylit studio in the heart of Midtown, Manhattan.  STUNNING SKYLIT STUDIO / 1 BED + SINGLE / FULL BATH / FULL KITCHEN / FIREPLACE / CENTRALLY LOCATED / WiFi + APPLE TV / SHEETS + TOWELS</td>\n",
       "    </tr>\n",
       "    <tr>\n",
       "      <th>1</th>\n",
       "      <td>WELCOME TO OUR INTERNATIONAL URBAN COMMUNITY This Spacious 1 bedroom  is with Plenty of Windows with a View....... Sleeps.....Four Adults.....two in the Livingrm. with (2) Sofa-beds.  (Website hidden by Airbnb) two in the Bedrm.on a very Comfortable Queen Size Bed... A Complete Bathrm.....With Shower and Bathtub....... Fully Equipped with Linens &amp; Towels........ Spacious Living Room......Flat ScreenTelevision.....DVD Player with Movies available for your viewing during your stay............................................................................. Dining Area.....for Morning Coffee or Tea..................................................... The Kitchen Area is Modern with Granite Counter Top... includes the use of a Coffee Maker...Microwave to Heat up a Carry Out/In Meal.... Not suited for a Gourmet Cook...or Top Chef......Sorry!!!! . This Flat is located in HISTORIC HARLEM.... near the Appollo Theater and The Museum Mile...on Fifth Avenue. Sylvia's World Famous Resturant......</td>\n",
       "      <td></td>\n",
       "    </tr>\n",
       "    <tr>\n",
       "      <th>2</th>\n",
       "      <td>Loft apartment with high ceiling and wood flooring located 10 minutes away from Central Park in Harlem - 1 block away from 6 train and 3 blocks from 2 &amp; 3 line. This is in a recently renovated building which includes elevator, trash shoot. marble entrance and laundromat in the basement.  The apartment is a spacious loft studio. The seating area and sleeping area is divided by a bookcase. There is a long hallway entrance where the bathroom and closet for your clothes is situated. The apartment is in mint condition, the walls have been freshly painted a few months ago. Supermarket, and 24 hour convenience store less than 1 block away.  1 block away from Hot Yoga Studio and NY Sports club facility.  Perfect for anyone wanting to stay in Manhattan but get more space.  10 minutes away from midtown and 15 minutes away from downtown. The neighborhood is lively and diverse. You will need to travel at least 10 blocks to find cafe's, restaurants etc.. There are a few restaurants on 100 stree...</td>\n",
       "      <td></td>\n",
       "    </tr>\n",
       "    <tr>\n",
       "      <th>3</th>\n",
       "      <td>My large 1 bedroom apartment is true New York City living.  The apt is in midtown on the east side and centrally located, just a 10-minute walk from Grand Central Station, Empire State Building, Times Square. The kitchen and living room are large and bright with Apple TV. I have a new Queen Bed that sleeps 2 people, and a Queen Aero Bed that can sleep 2 people in the living room. The apartment is located on the 5th floor of a walk up - no elevator (lift). I have a large 1 bedroom apartment centrally located in Midtown East.  A 10 minute walk from Grand Central Station, Times Square, Empire State Building and all major subway and bus lines. The apartment is located on the 5th floor of a pre-war walk up building-no elevator/lift.  The apartment is bright with has high ceilings and flow through rooms. A spacious, cozy living room with Netflix and Apple TV.  A large bright kitchen to sit and enjoy coffee or tea.  The bedroom is spacious with a comfortable queen size bed that sleeps 2. ...</td>\n",
       "      <td>My large 1 bedroom apartment is true New York City living.  The apt is in midtown on the east side and centrally located, just a 10-minute walk from Grand Central Station, Empire State Building, Times Square. The kitchen and living room are large and bright with Apple TV. I have a new Queen Bed that sleeps 2 people, and a Queen Aero Bed that can sleep 2 people in the living room. The apartment is located on the 5th floor of a walk up - no elevator (lift).</td>\n",
       "    </tr>\n",
       "    <tr>\n",
       "      <th>4</th>\n",
       "      <td>HELLO EVERYONE AND THANKS FOR VISITING BLISS ART SPACE!  Thank you all for your support. I've traveled a lot in the last year few years, to the  U.K. Germany, Italy and France! Loved Paris, Berlin and Calabria! Highly recommend all these places.  One room available for rent in a 2 bedroom apt in Bklyn. We share a common space with kitchen. I am an artist(painter, filmmaker) and curator who is working in the film industry while I'm building my art event production businesses. Price above is nightly for one person. Monthly rates available.  Price is $900 per month for one person. Utilities not included, they are about 50 bucks, payable when the bill arrives mid month.   Couples rates are slightly more for monthly and 90$ per night short term. If you are a couple please Iet me know and I’ll give you the monthly rate for that. Room rental is on a temporary basis, perfect from 2- 6 months - no long term requests please! At the moment I AM ONLY TAKING BOOKINGS OF AT LEAST ONE OR ONE AND ...</td>\n",
       "      <td></td>\n",
       "    </tr>\n",
       "  </tbody>\n",
       "</table>\n",
       "</div>"
      ],
      "text/plain": [
       "                                                                                                                                                                                                                                                                                                                                                                                                                                                                                                                                                                                                                                                                                                                                                                                                                                                                                                                                                                                                                               description  \\\n",
       "0  Find your romantic getaway to this beautiful, spacious skylit studio in the heart of Midtown, Manhattan.  STUNNING SKYLIT STUDIO / 1 BED + SINGLE / FULL BATH / FULL KITCHEN / FIREPLACE / CENTRALLY LOCATED / WiFi + APPLE TV / SHEETS + TOWELS - Spacious (500+ft²), immaculate and nicely furnished & designed studio. - Tuck yourself into the ultra comfortable bed under the skylight. Fall in love with a myriad of bright lights in the city night sky.  - Single-sized bed/convertible floor mattress with luxury bedding (available upon request). - Gorgeous pyramid skylight with amazing diffused natural light, stunning architectural details, soaring high vaulted ceilings, exposed brick, wood burning fireplace, floor seating area with natural zafu cushions, modern style mixed with eclectic art & antique treasures, large full bath, newly renovated kitchen, air conditioning/heat, high speed WiFi Internet, and Apple TV. - Centrally located in the heart of Midtown Manhattan just a few blocks from a...   \n",
       "1  WELCOME TO OUR INTERNATIONAL URBAN COMMUNITY This Spacious 1 bedroom  is with Plenty of Windows with a View....... Sleeps.....Four Adults.....two in the Livingrm. with (2) Sofa-beds.  (Website hidden by Airbnb) two in the Bedrm.on a very Comfortable Queen Size Bed... A Complete Bathrm.....With Shower and Bathtub....... Fully Equipped with Linens & Towels........ Spacious Living Room......Flat ScreenTelevision.....DVD Player with Movies available for your viewing during your stay............................................................................. Dining Area.....for Morning Coffee or Tea..................................................... The Kitchen Area is Modern with Granite Counter Top... includes the use of a Coffee Maker...Microwave to Heat up a Carry Out/In Meal.... Not suited for a Gourmet Cook...or Top Chef......Sorry!!!! . This Flat is located in HISTORIC HARLEM.... near the Appollo Theater and The Museum Mile...on Fifth Avenue. Sylvia's World Famous Resturant......   \n",
       "2  Loft apartment with high ceiling and wood flooring located 10 minutes away from Central Park in Harlem - 1 block away from 6 train and 3 blocks from 2 & 3 line. This is in a recently renovated building which includes elevator, trash shoot. marble entrance and laundromat in the basement.  The apartment is a spacious loft studio. The seating area and sleeping area is divided by a bookcase. There is a long hallway entrance where the bathroom and closet for your clothes is situated. The apartment is in mint condition, the walls have been freshly painted a few months ago. Supermarket, and 24 hour convenience store less than 1 block away.  1 block away from Hot Yoga Studio and NY Sports club facility.  Perfect for anyone wanting to stay in Manhattan but get more space.  10 minutes away from midtown and 15 minutes away from downtown. The neighborhood is lively and diverse. You will need to travel at least 10 blocks to find cafe's, restaurants etc.. There are a few restaurants on 100 stree...   \n",
       "3  My large 1 bedroom apartment is true New York City living.  The apt is in midtown on the east side and centrally located, just a 10-minute walk from Grand Central Station, Empire State Building, Times Square. The kitchen and living room are large and bright with Apple TV. I have a new Queen Bed that sleeps 2 people, and a Queen Aero Bed that can sleep 2 people in the living room. The apartment is located on the 5th floor of a walk up - no elevator (lift). I have a large 1 bedroom apartment centrally located in Midtown East.  A 10 minute walk from Grand Central Station, Times Square, Empire State Building and all major subway and bus lines. The apartment is located on the 5th floor of a pre-war walk up building-no elevator/lift.  The apartment is bright with has high ceilings and flow through rooms. A spacious, cozy living room with Netflix and Apple TV.  A large bright kitchen to sit and enjoy coffee or tea.  The bedroom is spacious with a comfortable queen size bed that sleeps 2. ...   \n",
       "4  HELLO EVERYONE AND THANKS FOR VISITING BLISS ART SPACE!  Thank you all for your support. I've traveled a lot in the last year few years, to the  U.K. Germany, Italy and France! Loved Paris, Berlin and Calabria! Highly recommend all these places.  One room available for rent in a 2 bedroom apt in Bklyn. We share a common space with kitchen. I am an artist(painter, filmmaker) and curator who is working in the film industry while I'm building my art event production businesses. Price above is nightly for one person. Monthly rates available.  Price is $900 per month for one person. Utilities not included, they are about 50 bucks, payable when the bill arrives mid month.   Couples rates are slightly more for monthly and 90$ per night short term. If you are a couple please Iet me know and I’ll give you the monthly rate for that. Room rental is on a temporary basis, perfect from 2- 6 months - no long term requests please! At the moment I AM ONLY TAKING BOOKINGS OF AT LEAST ONE OR ONE AND ...   \n",
       "\n",
       "                                                                                                                                                                                                                                                                                                                                                                                                                                                                       summary  \n",
       "0                                                                                                                                                                                                                             Find your romantic getaway to this beautiful, spacious skylit studio in the heart of Midtown, Manhattan.  STUNNING SKYLIT STUDIO / 1 BED + SINGLE / FULL BATH / FULL KITCHEN / FIREPLACE / CENTRALLY LOCATED / WiFi + APPLE TV / SHEETS + TOWELS  \n",
       "1                                                                                                                                                                                                                                                                                                                                                                                                                                                                               \n",
       "2                                                                                                                                                                                                                                                                                                                                                                                                                                                                               \n",
       "3  My large 1 bedroom apartment is true New York City living.  The apt is in midtown on the east side and centrally located, just a 10-minute walk from Grand Central Station, Empire State Building, Times Square. The kitchen and living room are large and bright with Apple TV. I have a new Queen Bed that sleeps 2 people, and a Queen Aero Bed that can sleep 2 people in the living room. The apartment is located on the 5th floor of a walk up - no elevator (lift).  \n",
       "4                                                                                                                                                                                                                                                                                                                                                                                                                                                                               "
      ]
     },
     "execution_count": 9,
     "metadata": {},
     "output_type": "execute_result"
    }
   ],
   "source": [
    "TEXT_COLUMNS = ['description', 'summary']\n",
    "df_airbnb[TEXT_COLUMNS].head()"
   ]
  },
  {
   "cell_type": "code",
   "execution_count": 12,
   "metadata": {},
   "outputs": [],
   "source": [
    "# use descriptions column\n",
    "descriptions = list(df_airbnb.description)\n",
    "\n",
    "# send this list of descriptions through my nlp pipeline\n",
    "clean_descriptions = nlp_pipeline(descriptions)"
   ]
  },
  {
   "cell_type": "code",
   "execution_count": 15,
   "metadata": {},
   "outputs": [],
   "source": [
    "clean_descriptions = None\n",
    "df_airbnb = None"
   ]
  },
  {
   "cell_type": "code",
   "execution_count": 13,
   "metadata": {},
   "outputs": [
    {
     "data": {
      "text/plain": [
       "['find romantic getaway beautiful spacious studio heart manhattan stun studio single full bath full kitchen fireplace centrally locate wifi apple sheet towel spacious immaculate nicely furnish design studio tuck ultra comfortable skylight fall love myriad bright light city night single size floor mattress luxury bedding available request gorgeous pyramid skylight amaze diffuse natural light stun architectural detail soaring high vault ceiling expose brick wood burning fireplace floor seating area natural cushion modern style eclectic antique treasure large full bath newly renovate kitchen high speed wifi internet apple centrally locate heart manhattan block',\n",
       " 'welcome international urban community spacious plenty window view sofa website hide comfortable queen size complete shower bathtub fully equip linen towel spacious living player movie available viewing stay dining morning coffee kitchen area modern granite counter include coffee heat carry meal suit gourmet flat locate historic harlem near theater museum fifth avenue world famous',\n",
       " 'loft high ceiling wood flooring locate minute away central park harlem block away train block line recently renovate building include elevator trash shoot marble entrance laundromat basement spacious loft studio seating area sleeping area divide bookcase long hallway entrance closet clothes situate mint condition wall freshly paint month supermarket hour convenience store block away block away yoga studio sport club facility perfect want stay manhattan space minute away minute away downtown neighborhood lively diverse need travel least block find cafe restaurant restaurant street',\n",
       " 'large true york city living east side centrally locate minute walk grand central station empire state building time square kitchen living room large bright apple queen sleep people queen sleep people living room locate floor walk elevator lift large centrally locate east minute walk grand central station time square empire state building major subway line locate floor walk building bright high ceiling flow room spacious cozy living room apple large bright kitchen enjoy coffee spacious comfortable queen size sleep',\n",
       " 'hello thanks visiting bliss space thank support travel last year year germany italy france love paris berlin calabria highly recommend place room available rent share common space kitchen filmmaker curator working film industry building event production business price nightly person monthly rate available price month person utility include buck payable bill arrive month couple rate slightly monthly night short term couple please know give monthly rate room rental temporary basis perfect month long term request please moment taking booking least',\n",
       " 'please expect luxury basic room center manhattan large furnish private room share host locate block away central park avenue close subway station columbus circle street great restaurant broadway transportation easily accessible cost room night weekly rate available guest also feature hardwood floor second floor walk full size microwave small refrigerator well appliance wire internet wifi electric heat sheet towel include kitchen available living room come time except midnight basic check time flexible schedule please please living room private place host',\n",
       " 'best guest seeking safe clean spare room family comfortable independent accommodate family noise quiet hour afraid friendly year golden guest perfectly clean peeling paint short guest want feel like stay sister visiting city sister change sheet clean stay family little guest room enjoy privacy warm welcome security guest room comfortable clean small well outfit single fabulous mattress firm time share immediately across hall share sense suite family second bath stay fully supply shampoo conditioner scrub soap',\n",
       " 'sunny quiet heart east village hardwood floor window every room beautiful retro furnishing huge flat screen cable separate full size ceiling kitchen living room make room total small clean elevator building require deposit cleaning schedule handy deposit return departure original condition minimum stay month ideal someone stay year east village romantic artist neighborhood best restaurant bar shop city train second avenue minute walk train street minute walk avenue right outside hope enjoy using apple please make sure sign check otherwise charge show',\n",
       " 'live like instead stuffy tiny overprice hotel small cozy nestle southern part historic lower east side step subway walking distance cool neighborhood please note automatically book messaging first thanks cute cozy lower east side adjacent lower manhattan step train east broadway stop close street many bar restaurant shop clean fully equip kitchen cable heat wireless internet locate floor well maintain walk building walking distance soho east village little italy close brooklyn place better hotel price list people possible accommodate extra charge ideal',\n",
       " 'beautiful upper west side great location close columbia university beautiful cathedral block central park riverside park morning side park many amaze restaurant step away small block train block train charm sunny comfortable full size fold couch living room brand kitchen brand internet floor elevator building evening doorman cant wait hear deposit require']"
      ]
     },
     "execution_count": 13,
     "metadata": {},
     "output_type": "execute_result"
    }
   ],
   "source": [
    "# rejoin the tokens to form strings which will be used to vectorize\n",
    "clean_descriptions_text = [' '.join(item) for item in clean_descriptions]\n",
    "\n",
    "clean_descriptions_text[:10]"
   ]
  },
  {
   "cell_type": "markdown",
   "metadata": {},
   "source": [
    "## Vectorize the corpus"
   ]
  },
  {
   "cell_type": "code",
   "execution_count": 16,
   "metadata": {},
   "outputs": [
    {
     "data": {
      "text/plain": [
       "(45605, 2000)"
      ]
     },
     "execution_count": 16,
     "metadata": {},
     "output_type": "execute_result"
    }
   ],
   "source": [
    "from sklearn.feature_extraction.text import TfidfVectorizer\n",
    "\n",
    "tfidf_vectorizer = TfidfVectorizer(min_df=10, max_df=0.95, max_features=2000,\n",
    "                                   ngram_range=(1,1), stop_words='english')\n",
    "\n",
    "tfidf_feature_matrix = tfidf_vectorizer.fit_transform(clean_descriptions_text)\n",
    "\n",
    "tfidf_feature_matrix.shape"
   ]
  },
  {
   "cell_type": "code",
   "execution_count": 17,
   "metadata": {},
   "outputs": [
    {
     "data": {
      "text/plain": [
       "scipy.sparse.csr.csr_matrix"
      ]
     },
     "execution_count": 17,
     "metadata": {},
     "output_type": "execute_result"
    }
   ],
   "source": [
    "type(tfidf_feature_matrix)"
   ]
  },
  {
   "cell_type": "code",
   "execution_count": 18,
   "metadata": {},
   "outputs": [
    {
     "data": {
      "text/plain": [
       "['able',\n",
       " 'abode',\n",
       " 'abound',\n",
       " 'absolute',\n",
       " 'absolutely',\n",
       " 'abundance',\n",
       " 'abundant',\n",
       " 'academy',\n",
       " 'accent',\n",
       " 'accept']"
      ]
     },
     "metadata": {},
     "output_type": "display_data"
    },
    {
     "data": {
      "text/plain": [
       "['yankee',\n",
       " 'yard',\n",
       " 'year',\n",
       " 'yellow',\n",
       " 'yoga',\n",
       " 'york',\n",
       " 'young',\n",
       " 'yummy',\n",
       " 'zero',\n",
       " 'zone']"
      ]
     },
     "metadata": {},
     "output_type": "display_data"
    }
   ],
   "source": [
    "display(tfidf_vectorizer.get_feature_names()[:10])\n",
    "display(tfidf_vectorizer.get_feature_names()[-10:])"
   ]
  },
  {
   "cell_type": "code",
   "execution_count": 21,
   "metadata": {},
   "outputs": [
    {
     "data": {
      "text/html": [
       "<div>\n",
       "<style scoped>\n",
       "    .dataframe tbody tr th:only-of-type {\n",
       "        vertical-align: middle;\n",
       "    }\n",
       "\n",
       "    .dataframe tbody tr th {\n",
       "        vertical-align: top;\n",
       "    }\n",
       "\n",
       "    .dataframe thead th {\n",
       "        text-align: right;\n",
       "    }\n",
       "</style>\n",
       "<table border=\"1\" class=\"dataframe\">\n",
       "  <thead>\n",
       "    <tr style=\"text-align: right;\">\n",
       "      <th></th>\n",
       "      <th>able</th>\n",
       "      <th>abode</th>\n",
       "      <th>abound</th>\n",
       "      <th>absolute</th>\n",
       "      <th>absolutely</th>\n",
       "      <th>abundance</th>\n",
       "      <th>abundant</th>\n",
       "      <th>academy</th>\n",
       "      <th>accent</th>\n",
       "      <th>accept</th>\n",
       "      <th>...</th>\n",
       "      <th>yankee</th>\n",
       "      <th>yard</th>\n",
       "      <th>year</th>\n",
       "      <th>yellow</th>\n",
       "      <th>yoga</th>\n",
       "      <th>york</th>\n",
       "      <th>young</th>\n",
       "      <th>yummy</th>\n",
       "      <th>zero</th>\n",
       "      <th>zone</th>\n",
       "    </tr>\n",
       "  </thead>\n",
       "  <tbody>\n",
       "    <tr>\n",
       "      <th>0</th>\n",
       "      <td>0.0</td>\n",
       "      <td>0.0</td>\n",
       "      <td>0.0</td>\n",
       "      <td>0.0</td>\n",
       "      <td>0.0</td>\n",
       "      <td>0.0</td>\n",
       "      <td>0.0</td>\n",
       "      <td>0.0</td>\n",
       "      <td>0.0</td>\n",
       "      <td>0.0</td>\n",
       "      <td>...</td>\n",
       "      <td>0.0</td>\n",
       "      <td>0.0</td>\n",
       "      <td>0.00000</td>\n",
       "      <td>0.0</td>\n",
       "      <td>0.000000</td>\n",
       "      <td>0.000000</td>\n",
       "      <td>0.0</td>\n",
       "      <td>0.0</td>\n",
       "      <td>0.0</td>\n",
       "      <td>0.0</td>\n",
       "    </tr>\n",
       "    <tr>\n",
       "      <th>1</th>\n",
       "      <td>0.0</td>\n",
       "      <td>0.0</td>\n",
       "      <td>0.0</td>\n",
       "      <td>0.0</td>\n",
       "      <td>0.0</td>\n",
       "      <td>0.0</td>\n",
       "      <td>0.0</td>\n",
       "      <td>0.0</td>\n",
       "      <td>0.0</td>\n",
       "      <td>0.0</td>\n",
       "      <td>...</td>\n",
       "      <td>0.0</td>\n",
       "      <td>0.0</td>\n",
       "      <td>0.00000</td>\n",
       "      <td>0.0</td>\n",
       "      <td>0.000000</td>\n",
       "      <td>0.000000</td>\n",
       "      <td>0.0</td>\n",
       "      <td>0.0</td>\n",
       "      <td>0.0</td>\n",
       "      <td>0.0</td>\n",
       "    </tr>\n",
       "    <tr>\n",
       "      <th>2</th>\n",
       "      <td>0.0</td>\n",
       "      <td>0.0</td>\n",
       "      <td>0.0</td>\n",
       "      <td>0.0</td>\n",
       "      <td>0.0</td>\n",
       "      <td>0.0</td>\n",
       "      <td>0.0</td>\n",
       "      <td>0.0</td>\n",
       "      <td>0.0</td>\n",
       "      <td>0.0</td>\n",
       "      <td>...</td>\n",
       "      <td>0.0</td>\n",
       "      <td>0.0</td>\n",
       "      <td>0.00000</td>\n",
       "      <td>0.0</td>\n",
       "      <td>0.137645</td>\n",
       "      <td>0.000000</td>\n",
       "      <td>0.0</td>\n",
       "      <td>0.0</td>\n",
       "      <td>0.0</td>\n",
       "      <td>0.0</td>\n",
       "    </tr>\n",
       "    <tr>\n",
       "      <th>3</th>\n",
       "      <td>0.0</td>\n",
       "      <td>0.0</td>\n",
       "      <td>0.0</td>\n",
       "      <td>0.0</td>\n",
       "      <td>0.0</td>\n",
       "      <td>0.0</td>\n",
       "      <td>0.0</td>\n",
       "      <td>0.0</td>\n",
       "      <td>0.0</td>\n",
       "      <td>0.0</td>\n",
       "      <td>...</td>\n",
       "      <td>0.0</td>\n",
       "      <td>0.0</td>\n",
       "      <td>0.00000</td>\n",
       "      <td>0.0</td>\n",
       "      <td>0.000000</td>\n",
       "      <td>0.074083</td>\n",
       "      <td>0.0</td>\n",
       "      <td>0.0</td>\n",
       "      <td>0.0</td>\n",
       "      <td>0.0</td>\n",
       "    </tr>\n",
       "    <tr>\n",
       "      <th>4</th>\n",
       "      <td>0.0</td>\n",
       "      <td>0.0</td>\n",
       "      <td>0.0</td>\n",
       "      <td>0.0</td>\n",
       "      <td>0.0</td>\n",
       "      <td>0.0</td>\n",
       "      <td>0.0</td>\n",
       "      <td>0.0</td>\n",
       "      <td>0.0</td>\n",
       "      <td>0.0</td>\n",
       "      <td>...</td>\n",
       "      <td>0.0</td>\n",
       "      <td>0.0</td>\n",
       "      <td>0.18384</td>\n",
       "      <td>0.0</td>\n",
       "      <td>0.000000</td>\n",
       "      <td>0.000000</td>\n",
       "      <td>0.0</td>\n",
       "      <td>0.0</td>\n",
       "      <td>0.0</td>\n",
       "      <td>0.0</td>\n",
       "    </tr>\n",
       "  </tbody>\n",
       "</table>\n",
       "<p>5 rows × 2000 columns</p>\n",
       "</div>"
      ],
      "text/plain": [
       "   able  abode  abound  absolute  absolutely  abundance  abundant  academy  \\\n",
       "0   0.0    0.0     0.0       0.0         0.0        0.0       0.0      0.0   \n",
       "1   0.0    0.0     0.0       0.0         0.0        0.0       0.0      0.0   \n",
       "2   0.0    0.0     0.0       0.0         0.0        0.0       0.0      0.0   \n",
       "3   0.0    0.0     0.0       0.0         0.0        0.0       0.0      0.0   \n",
       "4   0.0    0.0     0.0       0.0         0.0        0.0       0.0      0.0   \n",
       "\n",
       "   accent  accept  ...  yankee  yard     year  yellow      yoga      york  \\\n",
       "0     0.0     0.0  ...     0.0   0.0  0.00000     0.0  0.000000  0.000000   \n",
       "1     0.0     0.0  ...     0.0   0.0  0.00000     0.0  0.000000  0.000000   \n",
       "2     0.0     0.0  ...     0.0   0.0  0.00000     0.0  0.137645  0.000000   \n",
       "3     0.0     0.0  ...     0.0   0.0  0.00000     0.0  0.000000  0.074083   \n",
       "4     0.0     0.0  ...     0.0   0.0  0.18384     0.0  0.000000  0.000000   \n",
       "\n",
       "   young  yummy  zero  zone  \n",
       "0    0.0    0.0   0.0   0.0  \n",
       "1    0.0    0.0   0.0   0.0  \n",
       "2    0.0    0.0   0.0   0.0  \n",
       "3    0.0    0.0   0.0   0.0  \n",
       "4    0.0    0.0   0.0   0.0  \n",
       "\n",
       "[5 rows x 2000 columns]"
      ]
     },
     "execution_count": 21,
     "metadata": {},
     "output_type": "execute_result"
    }
   ],
   "source": [
    "# create a dataframe from feature matrix\n",
    "feature_matrix_df = pd.DataFrame(tfidf_feature_matrix.toarray(), \n",
    "                                 columns=tfidf_vectorizer.get_feature_names())\n",
    "\n",
    "feature_matrix_df.head()"
   ]
  },
  {
   "cell_type": "code",
   "execution_count": 23,
   "metadata": {},
   "outputs": [
    {
     "data": {
      "text/plain": [
       "(45605, 2000)"
      ]
     },
     "execution_count": 23,
     "metadata": {},
     "output_type": "execute_result"
    }
   ],
   "source": [
    "feature_matrix_df.shape"
   ]
  },
  {
   "cell_type": "code",
   "execution_count": 24,
   "metadata": {},
   "outputs": [],
   "source": [
    "# create a csv file and store it in S3\n",
    "feature_matrix_df.to_csv('description_features.csv', index=False)"
   ]
  },
  {
   "cell_type": "code",
   "execution_count": 25,
   "metadata": {},
   "outputs": [],
   "source": [
    "# upload it to S3\n",
    "s3_client.upload_file(Bucket=bucket_name, \n",
    "                      Filename='description_features.csv', \n",
    "                      Key='feature_eng/description_features.csv')"
   ]
  },
  {
   "cell_type": "markdown",
   "metadata": {},
   "source": [
    "## Merge all the dataframes"
   ]
  },
  {
   "cell_type": "code",
   "execution_count": 4,
   "metadata": {},
   "outputs": [
    {
     "data": {
      "text/plain": [
       "['clean/airbnb_clean.csv',\n",
       " 'detailed_listings.csv',\n",
       " 'feature_eng/amenities_features.csv',\n",
       " 'feature_eng/description_features.csv',\n",
       " 'feature_eng/host_verification_features.csv',\n",
       " 'summary_listings.csv']"
      ]
     },
     "execution_count": 4,
     "metadata": {},
     "output_type": "execute_result"
    }
   ],
   "source": [
    "# list the bucket objects\n",
    "response = s3_client.list_objects(Bucket=bucket_name)\n",
    "\n",
    "# get list of objects inside the bucket\n",
    "files = [file['Key'] for file in response['Contents']]\n",
    "files"
   ]
  },
  {
   "cell_type": "code",
   "execution_count": null,
   "metadata": {},
   "outputs": [],
   "source": [
    "amenities_df = get_data_frame(bucket_name, 'feature_eng/amenities_features.csv')\n",
    "host_verification_df = get_data_frame(bucket_name, 'feature_eng/host_verification_features.csv')\n",
    "description_df = get_data_frame(bucket_name, 'feature_eng/description_features.csv')"
   ]
  },
  {
   "cell_type": "code",
   "execution_count": null,
   "metadata": {},
   "outputs": [],
   "source": [
    "merged_df = pd.concat([amenities_df, host_verification_df, description_df], axis='columns')"
   ]
  },
  {
   "cell_type": "markdown",
   "metadata": {},
   "source": [
    "## Appendix"
   ]
  },
  {
   "cell_type": "code",
   "execution_count": 119,
   "metadata": {},
   "outputs": [
    {
     "name": "stdout",
     "output_type": "stream",
     "text": [
      "[nltk_data] Downloading package wordnet to /home/ec2-user/nltk_data...\n",
      "[nltk_data]   Unzipping corpora/wordnet.zip.\n"
     ]
    },
    {
     "data": {
      "text/plain": [
       "True"
      ]
     },
     "execution_count": 119,
     "metadata": {},
     "output_type": "execute_result"
    }
   ],
   "source": [
    "import nltk\n",
    "nltk.download('wordnet')\n",
    "nltk.download('stopwords')"
   ]
  },
  {
   "cell_type": "code",
   "execution_count": 11,
   "metadata": {},
   "outputs": [],
   "source": [
    "import re\n",
    "import pandas as pd\n",
    "import numpy as np\n",
    "import nltk\n",
    "import string\n",
    "from nltk.stem import WordNetLemmatizer\n",
    "from nltk.corpus import wordnet as wn\n",
    "\n",
    "# define some common lingo\n",
    "custom_stopwords = ['bedroom', 'bathroom', 'apartment']\n",
    "\n",
    "def remove_hypens(book_text):\n",
    "    return re.sub(r'(\\w+)-(\\w+)-?(\\w)?', r'\\1 \\2 \\3', book_text)\n",
    "\n",
    "# tokenize text\n",
    "def tokenize_text(book_text):\n",
    "    TOKEN_PATTERN = r'\\s+'\n",
    "    regex_wt = nltk.RegexpTokenizer(pattern=TOKEN_PATTERN, gaps=True)\n",
    "    word_tokens = regex_wt.tokenize(book_text)\n",
    "    return word_tokens\n",
    "\n",
    "def remove_characters_after_tokenization(tokens):\n",
    "    pattern = re.compile('[{}]'.format(re.escape(string.punctuation))) \n",
    "    filtered_tokens = filter(None, [pattern.sub('', token) for token in tokens]) \n",
    "    return filtered_tokens\n",
    "\n",
    "def convert_to_lowercase(tokens):\n",
    "    return [token.lower() for token in tokens if token.isalpha()]\n",
    "\n",
    "def remove_stopwords(tokens, custom_stopwords):\n",
    "    stopword_list = nltk.corpus.stopwords.words('english')\n",
    "    stopword_list += custom_stopwords\n",
    "    filtered_tokens = [token for token in tokens if token not in stopword_list]\n",
    "    return filtered_tokens\n",
    "\n",
    "def get_lemma(tokens):\n",
    "    lemmas = []\n",
    "    for word in tokens:\n",
    "        lemma = wn.morphy(word)\n",
    "        if lemma is None:\n",
    "            lemmas.append(word)\n",
    "        else:\n",
    "            lemmas.append(lemma)\n",
    "    return lemmas\n",
    "\n",
    "def remove_short_tokens(tokens):\n",
    "    return [token for token in tokens if len(token) > 3]\n",
    "\n",
    "def keep_only_words_in_wordnet(tokens):\n",
    "    return [token for token in tokens if wn.synsets(token)]\n",
    "\n",
    "def apply_lemmatize(tokens, wnl=WordNetLemmatizer()):\n",
    "    return [wnl.lemmatize(token) for token in tokens]\n",
    "\n",
    "# I like to think of each row of text as a book\n",
    "# input to this function is a list of books\n",
    "def nlp_pipeline(book_texts):\n",
    "    clean_books = []\n",
    "    for book in book_texts:\n",
    "        book = remove_hypens(book)\n",
    "        book_i = tokenize_text(book)\n",
    "        book_i = remove_characters_after_tokenization(book_i)\n",
    "        book_i = convert_to_lowercase(book_i)\n",
    "        book_i = remove_stopwords(book_i, custom_stopwords)\n",
    "        book_i = get_lemma(book_i)\n",
    "        book_i = remove_short_tokens(book_i)\n",
    "        book_i = keep_only_words_in_wordnet(book_i)\n",
    "        book_i = apply_lemmatize(book_i)\n",
    "        clean_books.append(book_i)\n",
    "    return clean_books"
   ]
  }
 ],
 "metadata": {
  "kernelspec": {
   "display_name": "conda_mxnet_p36",
   "language": "python",
   "name": "conda_mxnet_p36"
  },
  "language_info": {
   "codemirror_mode": {
    "name": "ipython",
    "version": 3
   },
   "file_extension": ".py",
   "mimetype": "text/x-python",
   "name": "python",
   "nbconvert_exporter": "python",
   "pygments_lexer": "ipython3",
   "version": "3.6.5"
  }
 },
 "nbformat": 4,
 "nbformat_minor": 2
}
