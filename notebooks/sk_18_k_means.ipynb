{
 "cells": [
  {
   "cell_type": "markdown",
   "metadata": {},
   "source": [
    "## K-means\n",
    "The objective of K-means is simply to group *similar* data points together and discover underlying patterns. To achieve this objective, K-means looks for a fixed number (k) of clusters in a dataset. A cluster refers to a collection of data points aggregated together because of certain similarities. You’ll define a target number k, which refers to the number of centroids you need in the dataset. This is how the algorithm works:\n",
    "- It starts by selecting randomly allocated centriods, which are used as the beginning points of every cluster, and then performs iterative calculations to optimize the position of the centriods.\n",
    "- This process continues until: \n",
    "    - The centroids have stabilized — there is no change in their values because the clustering has been successful.\n",
    "    - The defined number of iterations has been achieved.\n",
    "\n",
    "For accurate clustering results K-means expects the data to adhere to the following assumptions:\n",
    "- Equal average values of variables\n",
    "- Equal standard deviation of variables\n",
    "- Symmetrical distribution of variables\n",
    "\n",
    "It is our duty to ensure that these assumptions have been met during the pre-processing stage. We tackled these assumptions in the data pre-processing stage, so we are good to continue with our clustering task. \n",
    "\n",
    "The last thing we need before we get the clusters is to choose the number of clusters. The next section deals with methods for choosing the right number of clusters for our dataset."
   ]
  },
  {
   "cell_type": "markdown",
   "metadata": {},
   "source": [
    "## Deciding on the K-value\n",
    "There are several methods for deciding the correct k-value:\n",
    "- Visual Methods: elbow criteria\n",
    "- Mathematical methods: silhouette coefficient\n",
    "- Experimentation and interpretation\n",
    "\n",
    "We will be using the elbow method to decide the value of K to use. The **elbow criterion method, plots the number of clusters against within-cluster sum-of-squared-errors (SSE)** - *which is the sum of squared distances from every data point to their cluster center.*  We then look at the chart to find where the decrease in SSE slows down and becomes somewhat marginal, that point looks like an elbow and suggests the point of diminishing returns by increasing the number of clusters. This point represents the optimal number of clusters from a sum-of-squared-errors perspective. However, we should choose several options around the elbow to test what makes the most sense. "
   ]
  },
  {
   "cell_type": "code",
   "execution_count": 24,
   "metadata": {},
   "outputs": [
    {
     "data": {
      "text/html": [
       "<div>\n",
       "<style scoped>\n",
       "    .dataframe tbody tr th:only-of-type {\n",
       "        vertical-align: middle;\n",
       "    }\n",
       "\n",
       "    .dataframe tbody tr th {\n",
       "        vertical-align: top;\n",
       "    }\n",
       "\n",
       "    .dataframe thead th {\n",
       "        text-align: right;\n",
       "    }\n",
       "</style>\n",
       "<table border=\"1\" class=\"dataframe\">\n",
       "  <thead>\n",
       "    <tr style=\"text-align: right;\">\n",
       "      <th></th>\n",
       "      <th>price_category</th>\n",
       "      <th>name</th>\n",
       "      <th>id</th>\n",
       "      <th>price</th>\n",
       "      <th>adjusted_price</th>\n",
       "      <th>minimum_nights</th>\n",
       "      <th>bedrooms</th>\n",
       "      <th>bathrooms</th>\n",
       "      <th>neighbourhood_group_cleansed</th>\n",
       "      <th>neighbourhood_cleansed</th>\n",
       "      <th>...</th>\n",
       "      <th>40</th>\n",
       "      <th>41</th>\n",
       "      <th>42</th>\n",
       "      <th>43</th>\n",
       "      <th>44</th>\n",
       "      <th>45</th>\n",
       "      <th>46</th>\n",
       "      <th>47</th>\n",
       "      <th>48</th>\n",
       "      <th>49</th>\n",
       "    </tr>\n",
       "  </thead>\n",
       "  <tbody>\n",
       "    <tr>\n",
       "      <th>0</th>\n",
       "      <td>high</td>\n",
       "      <td>Skylit Midtown Castle</td>\n",
       "      <td>2595</td>\n",
       "      <td>225.0</td>\n",
       "      <td>225.000000</td>\n",
       "      <td>1</td>\n",
       "      <td>0.0</td>\n",
       "      <td>1.0</td>\n",
       "      <td>Manhattan</td>\n",
       "      <td>Midtown</td>\n",
       "      <td>...</td>\n",
       "      <td>0.576904</td>\n",
       "      <td>0.466956</td>\n",
       "      <td>0.331311</td>\n",
       "      <td>0.261779</td>\n",
       "      <td>-0.330193</td>\n",
       "      <td>1.620287</td>\n",
       "      <td>0.867739</td>\n",
       "      <td>-0.798060</td>\n",
       "      <td>-0.576860</td>\n",
       "      <td>-0.254925</td>\n",
       "    </tr>\n",
       "    <tr>\n",
       "      <th>1</th>\n",
       "      <td>medium</td>\n",
       "      <td>THE VILLAGE OF HARLEM....NEW YORK !</td>\n",
       "      <td>3647</td>\n",
       "      <td>150.0</td>\n",
       "      <td>50.000000</td>\n",
       "      <td>3</td>\n",
       "      <td>1.0</td>\n",
       "      <td>1.0</td>\n",
       "      <td>Manhattan</td>\n",
       "      <td>Harlem</td>\n",
       "      <td>...</td>\n",
       "      <td>-0.252328</td>\n",
       "      <td>0.226731</td>\n",
       "      <td>0.269839</td>\n",
       "      <td>-0.211928</td>\n",
       "      <td>0.147831</td>\n",
       "      <td>1.354929</td>\n",
       "      <td>0.801862</td>\n",
       "      <td>-0.292820</td>\n",
       "      <td>-0.804985</td>\n",
       "      <td>-0.202175</td>\n",
       "    </tr>\n",
       "    <tr>\n",
       "      <th>2</th>\n",
       "      <td>low</td>\n",
       "      <td>Entire Apt: Spacious Studio/Loft by central park</td>\n",
       "      <td>5022</td>\n",
       "      <td>80.0</td>\n",
       "      <td>8.000000</td>\n",
       "      <td>10</td>\n",
       "      <td>1.0</td>\n",
       "      <td>1.0</td>\n",
       "      <td>Manhattan</td>\n",
       "      <td>East Harlem</td>\n",
       "      <td>...</td>\n",
       "      <td>0.193168</td>\n",
       "      <td>0.068044</td>\n",
       "      <td>0.015844</td>\n",
       "      <td>0.197295</td>\n",
       "      <td>-0.167786</td>\n",
       "      <td>1.117572</td>\n",
       "      <td>0.749340</td>\n",
       "      <td>0.109282</td>\n",
       "      <td>-0.870940</td>\n",
       "      <td>-0.278948</td>\n",
       "    </tr>\n",
       "    <tr>\n",
       "      <th>3</th>\n",
       "      <td>medium</td>\n",
       "      <td>Large Cozy 1 BR Apartment In Midtown East</td>\n",
       "      <td>5099</td>\n",
       "      <td>200.0</td>\n",
       "      <td>66.666667</td>\n",
       "      <td>3</td>\n",
       "      <td>1.0</td>\n",
       "      <td>1.0</td>\n",
       "      <td>Manhattan</td>\n",
       "      <td>Murray Hill</td>\n",
       "      <td>...</td>\n",
       "      <td>0.416250</td>\n",
       "      <td>-0.057388</td>\n",
       "      <td>0.073780</td>\n",
       "      <td>0.143102</td>\n",
       "      <td>0.198163</td>\n",
       "      <td>1.440193</td>\n",
       "      <td>0.641507</td>\n",
       "      <td>-0.021390</td>\n",
       "      <td>-0.912154</td>\n",
       "      <td>-0.285108</td>\n",
       "    </tr>\n",
       "    <tr>\n",
       "      <th>4</th>\n",
       "      <td>low</td>\n",
       "      <td>BlissArtsSpace!</td>\n",
       "      <td>5121</td>\n",
       "      <td>60.0</td>\n",
       "      <td>1.333333</td>\n",
       "      <td>45</td>\n",
       "      <td>1.0</td>\n",
       "      <td>1.0</td>\n",
       "      <td>Brooklyn</td>\n",
       "      <td>Bedford-Stuyvesant</td>\n",
       "      <td>...</td>\n",
       "      <td>-0.214280</td>\n",
       "      <td>-0.095810</td>\n",
       "      <td>0.224063</td>\n",
       "      <td>0.083689</td>\n",
       "      <td>-0.192449</td>\n",
       "      <td>0.410582</td>\n",
       "      <td>0.017357</td>\n",
       "      <td>0.246550</td>\n",
       "      <td>0.796558</td>\n",
       "      <td>0.307420</td>\n",
       "    </tr>\n",
       "  </tbody>\n",
       "</table>\n",
       "<p>5 rows × 60 columns</p>\n",
       "</div>"
      ],
      "text/plain": [
       "  price_category                                              name    id  \\\n",
       "0           high                             Skylit Midtown Castle  2595   \n",
       "1         medium               THE VILLAGE OF HARLEM....NEW YORK !  3647   \n",
       "2            low  Entire Apt: Spacious Studio/Loft by central park  5022   \n",
       "3         medium         Large Cozy 1 BR Apartment In Midtown East  5099   \n",
       "4            low                                   BlissArtsSpace!  5121   \n",
       "\n",
       "   price  adjusted_price  minimum_nights  bedrooms  bathrooms  \\\n",
       "0  225.0      225.000000               1       0.0        1.0   \n",
       "1  150.0       50.000000               3       1.0        1.0   \n",
       "2   80.0        8.000000              10       1.0        1.0   \n",
       "3  200.0       66.666667               3       1.0        1.0   \n",
       "4   60.0        1.333333              45       1.0        1.0   \n",
       "\n",
       "  neighbourhood_group_cleansed neighbourhood_cleansed  ...        40  \\\n",
       "0                    Manhattan                Midtown  ...  0.576904   \n",
       "1                    Manhattan                 Harlem  ... -0.252328   \n",
       "2                    Manhattan            East Harlem  ...  0.193168   \n",
       "3                    Manhattan            Murray Hill  ...  0.416250   \n",
       "4                     Brooklyn     Bedford-Stuyvesant  ... -0.214280   \n",
       "\n",
       "         41        42        43        44        45        46        47  \\\n",
       "0  0.466956  0.331311  0.261779 -0.330193  1.620287  0.867739 -0.798060   \n",
       "1  0.226731  0.269839 -0.211928  0.147831  1.354929  0.801862 -0.292820   \n",
       "2  0.068044  0.015844  0.197295 -0.167786  1.117572  0.749340  0.109282   \n",
       "3 -0.057388  0.073780  0.143102  0.198163  1.440193  0.641507 -0.021390   \n",
       "4 -0.095810  0.224063  0.083689 -0.192449  0.410582  0.017357  0.246550   \n",
       "\n",
       "         48        49  \n",
       "0 -0.576860 -0.254925  \n",
       "1 -0.804985 -0.202175  \n",
       "2 -0.870940 -0.278948  \n",
       "3 -0.912154 -0.285108  \n",
       "4  0.796558  0.307420  \n",
       "\n",
       "[5 rows x 60 columns]"
      ]
     },
     "execution_count": 24,
     "metadata": {},
     "output_type": "execute_result"
    }
   ],
   "source": [
    "# import the necessary libraries\n",
    "import seaborn as sns\n",
    "import matplotlib.pyplot as plt\n",
    "import pandas as pd\n",
    "\n",
    "# get the data\n",
    "data = pd.read_csv('../data/raw/airbnb_final.csv')\n",
    "data.head()"
   ]
  },
  {
   "cell_type": "code",
   "execution_count": 25,
   "metadata": {},
   "outputs": [],
   "source": [
    "# gather all the PCA components\n",
    "# rename the PC columns\n",
    "pc_col_names = [\"pc_\" + item for item in list(data.columns[10:])]\n",
    "\n",
    "# extract the 50 principal components\n",
    "pc_data = data.iloc[:, 10:]\n",
    "\n",
    "# rename the columns\n",
    "pc_data.columns = pc_col_names"
   ]
  },
  {
   "cell_type": "markdown",
   "metadata": {},
   "source": [
    "We are going to use the 50 principal components that we constructed in this post: [NYC Airbnb PCA](https://shravan-kuchkula.github.io/nyc-airbnb-pca/) .Displayed below is the shape and head of these components."
   ]
  },
  {
   "cell_type": "code",
   "execution_count": 26,
   "metadata": {},
   "outputs": [
    {
     "data": {
      "text/plain": [
       "(45605, 50)"
      ]
     },
     "execution_count": 26,
     "metadata": {},
     "output_type": "execute_result"
    }
   ],
   "source": [
    "pc_data.shape"
   ]
  },
  {
   "cell_type": "code",
   "execution_count": 27,
   "metadata": {},
   "outputs": [
    {
     "data": {
      "text/html": [
       "<div>\n",
       "<style scoped>\n",
       "    .dataframe tbody tr th:only-of-type {\n",
       "        vertical-align: middle;\n",
       "    }\n",
       "\n",
       "    .dataframe tbody tr th {\n",
       "        vertical-align: top;\n",
       "    }\n",
       "\n",
       "    .dataframe thead th {\n",
       "        text-align: right;\n",
       "    }\n",
       "</style>\n",
       "<table border=\"1\" class=\"dataframe\">\n",
       "  <thead>\n",
       "    <tr style=\"text-align: right;\">\n",
       "      <th></th>\n",
       "      <th>pc_0</th>\n",
       "      <th>pc_1</th>\n",
       "      <th>pc_2</th>\n",
       "      <th>pc_3</th>\n",
       "      <th>pc_4</th>\n",
       "      <th>pc_5</th>\n",
       "      <th>pc_6</th>\n",
       "      <th>pc_7</th>\n",
       "      <th>pc_8</th>\n",
       "      <th>pc_9</th>\n",
       "      <th>...</th>\n",
       "      <th>pc_40</th>\n",
       "      <th>pc_41</th>\n",
       "      <th>pc_42</th>\n",
       "      <th>pc_43</th>\n",
       "      <th>pc_44</th>\n",
       "      <th>pc_45</th>\n",
       "      <th>pc_46</th>\n",
       "      <th>pc_47</th>\n",
       "      <th>pc_48</th>\n",
       "      <th>pc_49</th>\n",
       "    </tr>\n",
       "  </thead>\n",
       "  <tbody>\n",
       "    <tr>\n",
       "      <th>0</th>\n",
       "      <td>2.658552</td>\n",
       "      <td>-1.455526</td>\n",
       "      <td>0.699093</td>\n",
       "      <td>-0.553412</td>\n",
       "      <td>-0.125384</td>\n",
       "      <td>-0.654187</td>\n",
       "      <td>-0.044713</td>\n",
       "      <td>-0.001357</td>\n",
       "      <td>0.108582</td>\n",
       "      <td>1.333186</td>\n",
       "      <td>...</td>\n",
       "      <td>0.576904</td>\n",
       "      <td>0.466956</td>\n",
       "      <td>0.331311</td>\n",
       "      <td>0.261779</td>\n",
       "      <td>-0.330193</td>\n",
       "      <td>1.620287</td>\n",
       "      <td>0.867739</td>\n",
       "      <td>-0.798060</td>\n",
       "      <td>-0.576860</td>\n",
       "      <td>-0.254925</td>\n",
       "    </tr>\n",
       "    <tr>\n",
       "      <th>1</th>\n",
       "      <td>-1.644174</td>\n",
       "      <td>-0.715321</td>\n",
       "      <td>1.097099</td>\n",
       "      <td>0.893833</td>\n",
       "      <td>0.399013</td>\n",
       "      <td>-0.139751</td>\n",
       "      <td>-1.183842</td>\n",
       "      <td>-1.132572</td>\n",
       "      <td>0.996817</td>\n",
       "      <td>0.151908</td>\n",
       "      <td>...</td>\n",
       "      <td>-0.252328</td>\n",
       "      <td>0.226731</td>\n",
       "      <td>0.269839</td>\n",
       "      <td>-0.211928</td>\n",
       "      <td>0.147831</td>\n",
       "      <td>1.354929</td>\n",
       "      <td>0.801862</td>\n",
       "      <td>-0.292820</td>\n",
       "      <td>-0.804985</td>\n",
       "      <td>-0.202175</td>\n",
       "    </tr>\n",
       "    <tr>\n",
       "      <th>2</th>\n",
       "      <td>-1.012114</td>\n",
       "      <td>-1.718006</td>\n",
       "      <td>-0.320889</td>\n",
       "      <td>-0.356113</td>\n",
       "      <td>0.113797</td>\n",
       "      <td>0.392780</td>\n",
       "      <td>-0.399569</td>\n",
       "      <td>-0.819086</td>\n",
       "      <td>-0.133456</td>\n",
       "      <td>-0.200684</td>\n",
       "      <td>...</td>\n",
       "      <td>0.193168</td>\n",
       "      <td>0.068044</td>\n",
       "      <td>0.015844</td>\n",
       "      <td>0.197295</td>\n",
       "      <td>-0.167786</td>\n",
       "      <td>1.117572</td>\n",
       "      <td>0.749340</td>\n",
       "      <td>0.109282</td>\n",
       "      <td>-0.870940</td>\n",
       "      <td>-0.278948</td>\n",
       "    </tr>\n",
       "    <tr>\n",
       "      <th>3</th>\n",
       "      <td>0.067402</td>\n",
       "      <td>-0.520919</td>\n",
       "      <td>-0.263865</td>\n",
       "      <td>0.353879</td>\n",
       "      <td>-0.907122</td>\n",
       "      <td>-0.906052</td>\n",
       "      <td>-1.158888</td>\n",
       "      <td>-0.624668</td>\n",
       "      <td>-0.071571</td>\n",
       "      <td>0.780228</td>\n",
       "      <td>...</td>\n",
       "      <td>0.416250</td>\n",
       "      <td>-0.057388</td>\n",
       "      <td>0.073780</td>\n",
       "      <td>0.143102</td>\n",
       "      <td>0.198163</td>\n",
       "      <td>1.440193</td>\n",
       "      <td>0.641507</td>\n",
       "      <td>-0.021390</td>\n",
       "      <td>-0.912154</td>\n",
       "      <td>-0.285108</td>\n",
       "    </tr>\n",
       "    <tr>\n",
       "      <th>4</th>\n",
       "      <td>-1.666907</td>\n",
       "      <td>1.296202</td>\n",
       "      <td>0.520533</td>\n",
       "      <td>0.659033</td>\n",
       "      <td>1.262238</td>\n",
       "      <td>-0.516450</td>\n",
       "      <td>-0.827510</td>\n",
       "      <td>-0.678685</td>\n",
       "      <td>0.010626</td>\n",
       "      <td>0.180606</td>\n",
       "      <td>...</td>\n",
       "      <td>-0.214280</td>\n",
       "      <td>-0.095810</td>\n",
       "      <td>0.224063</td>\n",
       "      <td>0.083689</td>\n",
       "      <td>-0.192449</td>\n",
       "      <td>0.410582</td>\n",
       "      <td>0.017357</td>\n",
       "      <td>0.246550</td>\n",
       "      <td>0.796558</td>\n",
       "      <td>0.307420</td>\n",
       "    </tr>\n",
       "  </tbody>\n",
       "</table>\n",
       "<p>5 rows × 50 columns</p>\n",
       "</div>"
      ],
      "text/plain": [
       "       pc_0      pc_1      pc_2      pc_3      pc_4      pc_5      pc_6  \\\n",
       "0  2.658552 -1.455526  0.699093 -0.553412 -0.125384 -0.654187 -0.044713   \n",
       "1 -1.644174 -0.715321  1.097099  0.893833  0.399013 -0.139751 -1.183842   \n",
       "2 -1.012114 -1.718006 -0.320889 -0.356113  0.113797  0.392780 -0.399569   \n",
       "3  0.067402 -0.520919 -0.263865  0.353879 -0.907122 -0.906052 -1.158888   \n",
       "4 -1.666907  1.296202  0.520533  0.659033  1.262238 -0.516450 -0.827510   \n",
       "\n",
       "       pc_7      pc_8      pc_9  ...     pc_40     pc_41     pc_42     pc_43  \\\n",
       "0 -0.001357  0.108582  1.333186  ...  0.576904  0.466956  0.331311  0.261779   \n",
       "1 -1.132572  0.996817  0.151908  ... -0.252328  0.226731  0.269839 -0.211928   \n",
       "2 -0.819086 -0.133456 -0.200684  ...  0.193168  0.068044  0.015844  0.197295   \n",
       "3 -0.624668 -0.071571  0.780228  ...  0.416250 -0.057388  0.073780  0.143102   \n",
       "4 -0.678685  0.010626  0.180606  ... -0.214280 -0.095810  0.224063  0.083689   \n",
       "\n",
       "      pc_44     pc_45     pc_46     pc_47     pc_48     pc_49  \n",
       "0 -0.330193  1.620287  0.867739 -0.798060 -0.576860 -0.254925  \n",
       "1  0.147831  1.354929  0.801862 -0.292820 -0.804985 -0.202175  \n",
       "2 -0.167786  1.117572  0.749340  0.109282 -0.870940 -0.278948  \n",
       "3  0.198163  1.440193  0.641507 -0.021390 -0.912154 -0.285108  \n",
       "4 -0.192449  0.410582  0.017357  0.246550  0.796558  0.307420  \n",
       "\n",
       "[5 rows x 50 columns]"
      ]
     },
     "execution_count": 27,
     "metadata": {},
     "output_type": "execute_result"
    }
   ],
   "source": [
    "pc_data.head()"
   ]
  },
  {
   "cell_type": "markdown",
   "metadata": {},
   "source": [
    "### Fit K-means for K=1 to K=10 clusters"
   ]
  },
  {
   "cell_type": "code",
   "execution_count": 28,
   "metadata": {},
   "outputs": [],
   "source": [
    "# Fit Kmeans and calculate SSE for each k value\n",
    "sse = {}\n",
    "for k in range(1, 11):\n",
    "    kmeans = KMeans(n_clusters=k, random_state=1)\n",
    "    kmeans.fit(pc_data)\n",
    "    sse[k] = kmeans.inertia_ # sum of squared distances to the closest cluster centers"
   ]
  },
  {
   "cell_type": "code",
   "execution_count": 29,
   "metadata": {},
   "outputs": [
    {
     "data": {
      "image/png": "[encoded data removed]",
      "text/plain": [
       "<Figure size 432x288 with 1 Axes>"
      ]
     },
     "metadata": {
      "needs_background": "light"
     },
     "output_type": "display_data"
    }
   ],
   "source": [
    "# plot SSE for each k\n",
    "plt.title('The Elbow Method')\n",
    "plt.xlabel('k')\n",
    "plt.ylabel('SSE')\n",
    "sns.pointplot(x=list(sse.keys()), y=list(sse.values()))\n",
    "plt.show()"
   ]
  },
  {
   "cell_type": "markdown",
   "metadata": {},
   "source": [
    "### Using K=3\n",
    "Looking at the above Elbow plot, we can see that for K-values of 2 and 3, there is a sharp decrease in SSE. I chose the value of K=3 instead of K=2, since I broke down the airbnb listings into 3 price categories: high, medium, low, and I want to see if K-means clustering picked out the listings by grouping them as per their price range."
   ]
  },
  {
   "cell_type": "code",
   "execution_count": 30,
   "metadata": {},
   "outputs": [
    {
     "data": {
      "text/plain": [
       "KMeans(algorithm='auto', copy_x=True, init='k-means++', max_iter=300,\n",
       "       n_clusters=3, n_init=10, n_jobs=None, precompute_distances='auto',\n",
       "       random_state=1, tol=0.0001, verbose=0)"
      ]
     },
     "execution_count": 30,
     "metadata": {},
     "output_type": "execute_result"
    }
   ],
   "source": [
    "kmeans = KMeans(n_clusters=3, random_state=1)\n",
    "kmeans.fit(pc_data)"
   ]
  },
  {
   "cell_type": "code",
   "execution_count": 31,
   "metadata": {},
   "outputs": [
    {
     "data": {
      "text/plain": [
       "(45605, 51)"
      ]
     },
     "execution_count": 31,
     "metadata": {},
     "output_type": "execute_result"
    }
   ],
   "source": [
    "# get the labels\n",
    "cluster_labels = kmeans.labels_\n",
    "\n",
    "# assign these clusters back into the dataframe\n",
    "pc_data_k3 = pc_data.assign(cluster=cluster_labels)\n",
    "\n",
    "# display the shape\n",
    "pc_data_k3.shape"
   ]
  },
  {
   "cell_type": "code",
   "execution_count": 32,
   "metadata": {},
   "outputs": [
    {
     "data": {
      "text/plain": [
       "2    16801\n",
       "0    14767\n",
       "1    14037\n",
       "Name: cluster, dtype: int64"
      ]
     },
     "execution_count": 32,
     "metadata": {},
     "output_type": "execute_result"
    }
   ],
   "source": [
    "pc_data_k3.cluster.value_counts()"
   ]
  },
  {
   "cell_type": "markdown",
   "metadata": {},
   "source": [
    "## Combine cluster labels with the main dataset for visualization"
   ]
  },
  {
   "cell_type": "code",
   "execution_count": 36,
   "metadata": {},
   "outputs": [
    {
     "data": {
      "text/plain": [
       "['price_category',\n",
       " 'name',\n",
       " 'id',\n",
       " 'price',\n",
       " 'adjusted_price',\n",
       " 'minimum_nights',\n",
       " 'bedrooms',\n",
       " 'bathrooms',\n",
       " 'neighbourhood_group_cleansed',\n",
       " 'neighbourhood_cleansed']"
      ]
     },
     "execution_count": 36,
     "metadata": {},
     "output_type": "execute_result"
    }
   ],
   "source": [
    "other_col_names = list(data.columns[:10])\n",
    "other_col_names"
   ]
  },
  {
   "cell_type": "code",
   "execution_count": 38,
   "metadata": {},
   "outputs": [
    {
     "data": {
      "text/plain": [
       "(45605, 10)"
      ]
     },
     "execution_count": 38,
     "metadata": {},
     "output_type": "execute_result"
    }
   ],
   "source": [
    "k_means_visual = data[other_col_names]\n",
    "k_means_visual.shape"
   ]
  },
  {
   "cell_type": "code",
   "execution_count": 41,
   "metadata": {},
   "outputs": [
    {
     "data": {
      "text/html": [
       "<div>\n",
       "<style scoped>\n",
       "    .dataframe tbody tr th:only-of-type {\n",
       "        vertical-align: middle;\n",
       "    }\n",
       "\n",
       "    .dataframe tbody tr th {\n",
       "        vertical-align: top;\n",
       "    }\n",
       "\n",
       "    .dataframe thead th {\n",
       "        text-align: right;\n",
       "    }\n",
       "</style>\n",
       "<table border=\"1\" class=\"dataframe\">\n",
       "  <thead>\n",
       "    <tr style=\"text-align: right;\">\n",
       "      <th></th>\n",
       "      <th>price_category</th>\n",
       "      <th>name</th>\n",
       "      <th>id</th>\n",
       "      <th>price</th>\n",
       "      <th>adjusted_price</th>\n",
       "      <th>minimum_nights</th>\n",
       "      <th>bedrooms</th>\n",
       "      <th>bathrooms</th>\n",
       "      <th>neighbourhood_group_cleansed</th>\n",
       "      <th>neighbourhood_cleansed</th>\n",
       "      <th>cluster</th>\n",
       "    </tr>\n",
       "  </thead>\n",
       "  <tbody>\n",
       "    <tr>\n",
       "      <th>0</th>\n",
       "      <td>high</td>\n",
       "      <td>Skylit Midtown Castle</td>\n",
       "      <td>2595</td>\n",
       "      <td>225.0</td>\n",
       "      <td>225.000000</td>\n",
       "      <td>1</td>\n",
       "      <td>0.0</td>\n",
       "      <td>1.0</td>\n",
       "      <td>Manhattan</td>\n",
       "      <td>Midtown</td>\n",
       "      <td>1</td>\n",
       "    </tr>\n",
       "    <tr>\n",
       "      <th>1</th>\n",
       "      <td>medium</td>\n",
       "      <td>THE VILLAGE OF HARLEM....NEW YORK !</td>\n",
       "      <td>3647</td>\n",
       "      <td>150.0</td>\n",
       "      <td>50.000000</td>\n",
       "      <td>3</td>\n",
       "      <td>1.0</td>\n",
       "      <td>1.0</td>\n",
       "      <td>Manhattan</td>\n",
       "      <td>Harlem</td>\n",
       "      <td>2</td>\n",
       "    </tr>\n",
       "    <tr>\n",
       "      <th>2</th>\n",
       "      <td>low</td>\n",
       "      <td>Entire Apt: Spacious Studio/Loft by central park</td>\n",
       "      <td>5022</td>\n",
       "      <td>80.0</td>\n",
       "      <td>8.000000</td>\n",
       "      <td>10</td>\n",
       "      <td>1.0</td>\n",
       "      <td>1.0</td>\n",
       "      <td>Manhattan</td>\n",
       "      <td>East Harlem</td>\n",
       "      <td>2</td>\n",
       "    </tr>\n",
       "    <tr>\n",
       "      <th>3</th>\n",
       "      <td>medium</td>\n",
       "      <td>Large Cozy 1 BR Apartment In Midtown East</td>\n",
       "      <td>5099</td>\n",
       "      <td>200.0</td>\n",
       "      <td>66.666667</td>\n",
       "      <td>3</td>\n",
       "      <td>1.0</td>\n",
       "      <td>1.0</td>\n",
       "      <td>Manhattan</td>\n",
       "      <td>Murray Hill</td>\n",
       "      <td>2</td>\n",
       "    </tr>\n",
       "    <tr>\n",
       "      <th>4</th>\n",
       "      <td>low</td>\n",
       "      <td>BlissArtsSpace!</td>\n",
       "      <td>5121</td>\n",
       "      <td>60.0</td>\n",
       "      <td>1.333333</td>\n",
       "      <td>45</td>\n",
       "      <td>1.0</td>\n",
       "      <td>1.0</td>\n",
       "      <td>Brooklyn</td>\n",
       "      <td>Bedford-Stuyvesant</td>\n",
       "      <td>0</td>\n",
       "    </tr>\n",
       "  </tbody>\n",
       "</table>\n",
       "</div>"
      ],
      "text/plain": [
       "  price_category                                              name    id  \\\n",
       "0           high                             Skylit Midtown Castle  2595   \n",
       "1         medium               THE VILLAGE OF HARLEM....NEW YORK !  3647   \n",
       "2            low  Entire Apt: Spacious Studio/Loft by central park  5022   \n",
       "3         medium         Large Cozy 1 BR Apartment In Midtown East  5099   \n",
       "4            low                                   BlissArtsSpace!  5121   \n",
       "\n",
       "   price  adjusted_price  minimum_nights  bedrooms  bathrooms  \\\n",
       "0  225.0      225.000000               1       0.0        1.0   \n",
       "1  150.0       50.000000               3       1.0        1.0   \n",
       "2   80.0        8.000000              10       1.0        1.0   \n",
       "3  200.0       66.666667               3       1.0        1.0   \n",
       "4   60.0        1.333333              45       1.0        1.0   \n",
       "\n",
       "  neighbourhood_group_cleansed neighbourhood_cleansed  cluster  \n",
       "0                    Manhattan                Midtown        1  \n",
       "1                    Manhattan                 Harlem        2  \n",
       "2                    Manhattan            East Harlem        2  \n",
       "3                    Manhattan            Murray Hill        2  \n",
       "4                     Brooklyn     Bedford-Stuyvesant        0  "
      ]
     },
     "execution_count": 41,
     "metadata": {},
     "output_type": "execute_result"
    }
   ],
   "source": [
    "k_means_visual = k_means_visual.assign(cluster=cluster_labels)\n",
    "k_means_visual.head()"
   ]
  },
  {
   "cell_type": "code",
   "execution_count": 42,
   "metadata": {},
   "outputs": [
    {
     "data": {
      "text/plain": [
       "(45605, 11)"
      ]
     },
     "execution_count": 42,
     "metadata": {},
     "output_type": "execute_result"
    }
   ],
   "source": [
    "k_means_visual.shape"
   ]
  },
  {
   "cell_type": "markdown",
   "metadata": {},
   "source": [
    "## Save and upload to S3"
   ]
  },
  {
   "cell_type": "code",
   "execution_count": 43,
   "metadata": {},
   "outputs": [],
   "source": [
    "k_means_visual.to_csv('k_means_visual.csv', index=False)"
   ]
  },
  {
   "cell_type": "code",
   "execution_count": 45,
   "metadata": {},
   "outputs": [],
   "source": [
    "import configparser\n",
    "config = configparser.ConfigParser()\n",
    "config.read_file(open('/Users/shravan/projects/interview-prep/credentials.cfg'))\n",
    "\n",
    "KEY = config.get('AWS','KEY')\n",
    "SECRET = config.get('AWS','SECRET')"
   ]
  },
  {
   "cell_type": "code",
   "execution_count": 46,
   "metadata": {},
   "outputs": [],
   "source": [
    "import boto3\n",
    "\n",
    "# Generate the boto3 client for interacting with S3\n",
    "s3 = boto3.client('s3', region_name='us-east-1', \n",
    "                        # Set up AWS credentials \n",
    "                        aws_access_key_id=KEY, \n",
    "                        aws_secret_access_key=SECRET)"
   ]
  },
  {
   "cell_type": "code",
   "execution_count": 47,
   "metadata": {},
   "outputs": [],
   "source": [
    "s3.upload_file(Bucket='skuchkula-sagemaker-airbnb',\n",
    "              Filename='k_means_visual.csv',\n",
    "              Key='feature/k_means_visual.csv')"
   ]
  }
 ],
 "metadata": {
  "kernelspec": {
   "display_name": "Python 3",
   "language": "python",
   "name": "python3"
  },
  "language_info": {
   "codemirror_mode": {
    "name": "ipython",
    "version": 3
   },
   "file_extension": ".py",
   "mimetype": "text/x-python",
   "name": "python",
   "nbconvert_exporter": "python",
   "pygments_lexer": "ipython3",
   "version": "3.7.3"
  }
 },
 "nbformat": 4,
 "nbformat_minor": 2
}
