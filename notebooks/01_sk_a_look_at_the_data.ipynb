{
 "cells": [
  {
   "cell_type": "markdown",
   "metadata": {},
   "source": [
    "### A Look at the Data\n",
    "\n",
    "In order to get a better understanding of the data, let's take a look at some of the characteristics of the dataset. First, let's read in the data and necessary libraries."
   ]
  },
  {
   "cell_type": "code",
   "execution_count": 1,
   "metadata": {},
   "outputs": [],
   "source": [
    "import numpy as np\n",
    "import pandas as pd\n",
    "import matplotlib.pyplot as plt\n",
    "from IPython import display\n",
    "import os\n",
    "import json\n",
    "\n",
    "pd.options.display.max_colwidth=200\n",
    "%matplotlib inline"
   ]
  },
  {
   "cell_type": "code",
   "execution_count": 2,
   "metadata": {},
   "outputs": [],
   "source": [
    "# data directory\n",
    "data_dir = \"../data\"\n",
    "raw_data = os.path.join(data_dir, \"raw\")"
   ]
  },
  {
   "cell_type": "code",
   "execution_count": 3,
   "metadata": {},
   "outputs": [
    {
     "data": {
      "text/html": [
       "<div>\n",
       "<style scoped>\n",
       "    .dataframe tbody tr th:only-of-type {\n",
       "        vertical-align: middle;\n",
       "    }\n",
       "\n",
       "    .dataframe tbody tr th {\n",
       "        vertical-align: top;\n",
       "    }\n",
       "\n",
       "    .dataframe thead th {\n",
       "        text-align: right;\n",
       "    }\n",
       "</style>\n",
       "<table border=\"1\" class=\"dataframe\">\n",
       "  <thead>\n",
       "    <tr style=\"text-align: right;\">\n",
       "      <th></th>\n",
       "      <th>0</th>\n",
       "    </tr>\n",
       "  </thead>\n",
       "  <tbody>\n",
       "    <tr>\n",
       "      <td>detailed_listings.csv</td>\n",
       "      <td>Detailed Listings data for New York City</td>\n",
       "    </tr>\n",
       "    <tr>\n",
       "      <td>detailed_calendar.csv</td>\n",
       "      <td>Detailed Calendar Data for listings in New York City</td>\n",
       "    </tr>\n",
       "    <tr>\n",
       "      <td>detailed_reviews.csv</td>\n",
       "      <td>Detailed Review Data for listings in New York City</td>\n",
       "    </tr>\n",
       "    <tr>\n",
       "      <td>summary_listings.csv</td>\n",
       "      <td>Summary information and metrics for listings in New York City (good for visualisations).</td>\n",
       "    </tr>\n",
       "    <tr>\n",
       "      <td>summary_reviews.csv</td>\n",
       "      <td>Summary Review data and Listing ID (to facilitate time based analytics and visualisations linked to a listing).</td>\n",
       "    </tr>\n",
       "    <tr>\n",
       "      <td>neighbourhoods.csv</td>\n",
       "      <td>Neighbourhood list for geo filter. Sourced from city or open source GIS files.</td>\n",
       "    </tr>\n",
       "    <tr>\n",
       "      <td>neighbourhoods.geojson</td>\n",
       "      <td>GeoJSON file of neighbourhoods of the city.</td>\n",
       "    </tr>\n",
       "  </tbody>\n",
       "</table>\n",
       "</div>"
      ],
      "text/plain": [
       "                                                                                                                                      0\n",
       "detailed_listings.csv                                                                          Detailed Listings data for New York City\n",
       "detailed_calendar.csv                                                              Detailed Calendar Data for listings in New York City\n",
       "detailed_reviews.csv                                                                 Detailed Review Data for listings in New York City\n",
       "summary_listings.csv                           Summary information and metrics for listings in New York City (good for visualisations).\n",
       "summary_reviews.csv     Summary Review data and Listing ID (to facilitate time based analytics and visualisations linked to a listing).\n",
       "neighbourhoods.csv                                       Neighbourhood list for geo filter. Sourced from city or open source GIS files.\n",
       "neighbourhoods.geojson                                                                      GeoJSON file of neighbourhoods of the city."
      ]
     },
     "execution_count": 3,
     "metadata": {},
     "output_type": "execute_result"
    }
   ],
   "source": [
    "# data description\n",
    "data_desc = pd.DataFrame([json.loads(open('../data/raw/data_description.json').read())]).T\n",
    "data_desc"
   ]
  },
  {
   "cell_type": "code",
   "execution_count": 4,
   "metadata": {},
   "outputs": [],
   "source": [
    "df = pd.read_csv(os.path.join(raw_data, \"detailed_listings.csv\"), low_memory=False)"
   ]
  },
  {
   "cell_type": "code",
   "execution_count": 5,
   "metadata": {},
   "outputs": [
    {
     "data": {
      "text/plain": [
       "(48864, 106)"
      ]
     },
     "execution_count": 5,
     "metadata": {},
     "output_type": "execute_result"
    }
   ],
   "source": [
    "df.shape"
   ]
  },
  {
   "cell_type": "code",
   "execution_count": 6,
   "metadata": {},
   "outputs": [
    {
     "data": {
      "text/plain": [
       "198"
      ]
     },
     "execution_count": 6,
     "metadata": {},
     "output_type": "execute_result"
    }
   ],
   "source": [
    "len(list(df.neighbourhood.unique()))"
   ]
  },
  {
   "cell_type": "code",
   "execution_count": 7,
   "metadata": {},
   "outputs": [
    {
     "data": {
      "text/plain": [
       "222"
      ]
     },
     "execution_count": 7,
     "metadata": {},
     "output_type": "execute_result"
    }
   ],
   "source": [
    "len(list(df.neighbourhood_cleansed.unique()))"
   ]
  },
  {
   "cell_type": "code",
   "execution_count": 8,
   "metadata": {},
   "outputs": [
    {
     "data": {
      "text/plain": [
       "Index(['neighborhood_overview', 'host_neighbourhood', 'neighbourhood',\n",
       "       'neighbourhood_cleansed', 'neighbourhood_group_cleansed'],\n",
       "      dtype='object')"
      ]
     },
     "execution_count": 8,
     "metadata": {},
     "output_type": "execute_result"
    }
   ],
   "source": [
    "df.columns[df.columns.str.contains(\"neigh\")]"
   ]
  },
  {
   "cell_type": "code",
   "execution_count": 9,
   "metadata": {},
   "outputs": [
    {
     "data": {
      "text/plain": [
       "Manhattan        21456\n",
       "Brooklyn         20114\n",
       "Queens            5811\n",
       "Bronx             1105\n",
       "Staten Island      378\n",
       "Name: neighbourhood_group_cleansed, dtype: int64"
      ]
     },
     "execution_count": 9,
     "metadata": {},
     "output_type": "execute_result"
    }
   ],
   "source": [
    "df.neighbourhood_group_cleansed.value_counts()"
   ]
  },
  {
   "cell_type": "code",
   "execution_count": 67,
   "metadata": {},
   "outputs": [
    {
     "data": {
      "text/plain": [
       "16975"
      ]
     },
     "execution_count": 67,
     "metadata": {},
     "output_type": "execute_result"
    }
   ],
   "source": [
    "df.transit.isnull().sum()"
   ]
  },
  {
   "cell_type": "code",
   "execution_count": 68,
   "metadata": {},
   "outputs": [
    {
     "data": {
      "text/plain": [
       "Entire home/apt    25296\n",
       "Private room       22397\n",
       "Shared room         1171\n",
       "Name: room_type, dtype: int64"
      ]
     },
     "execution_count": 68,
     "metadata": {},
     "output_type": "execute_result"
    }
   ],
   "source": [
    "df.room_type.value_counts()"
   ]
  },
  {
   "cell_type": "code",
   "execution_count": 73,
   "metadata": {},
   "outputs": [
    {
     "data": {
      "text/plain": [
       "1.0     31207\n",
       "2.0     10408\n",
       "3.0      3587\n",
       "4.0      1524\n",
       "0.0      1027\n",
       "5.0       537\n",
       "6.0       270\n",
       "7.0        87\n",
       "8.0        67\n",
       "9.0        37\n",
       "12.0       19\n",
       "11.0       17\n",
       "10.0       13\n",
       "13.0        8\n",
       "16.0        3\n",
       "15.0        3\n",
       "14.0        2\n",
       "21.0        2\n",
       "26.0        1\n",
       "40.0        1\n",
       "17.0        1\n",
       "22.0        1\n",
       "Name: beds, dtype: int64"
      ]
     },
     "execution_count": 73,
     "metadata": {},
     "output_type": "execute_result"
    }
   ],
   "source": [
    "df.beds.value_counts()"
   ]
  },
  {
   "cell_type": "code",
   "execution_count": 74,
   "metadata": {},
   "outputs": [
    {
     "data": {
      "text/plain": [
       "Apartment                 38605\n",
       "House                      3846\n",
       "Townhouse                  1659\n",
       "Condominium                1495\n",
       "Loft                       1412\n",
       "Serviced apartment          505\n",
       "Guest suite                 363\n",
       "Hotel                       227\n",
       "Boutique hotel              190\n",
       "Other                       118\n",
       "Bed and breakfast            88\n",
       "Resort                       72\n",
       "Hostel                       62\n",
       "Guesthouse                   56\n",
       "Bungalow                     38\n",
       "Villa                        28\n",
       "Tiny house                   19\n",
       "Aparthotel                   17\n",
       "Boat                         13\n",
       "Camper/RV                    10\n",
       "Cottage                       7\n",
       "Tent                          6\n",
       "Earth house                   4\n",
       "Houseboat                     3\n",
       "Cabin                         3\n",
       "Casa particular (Cuba)        2\n",
       "Yurt                          2\n",
       "Farm stay                     2\n",
       "Bus                           2\n",
       "Cave                          2\n",
       "Barn                          2\n",
       "Nature lodge                  1\n",
       "Lighthouse                    1\n",
       "Treehouse                     1\n",
       "Timeshare                     1\n",
       "Dome house                    1\n",
       "Castle                        1\n",
       "Name: property_type, dtype: int64"
      ]
     },
     "execution_count": 74,
     "metadata": {},
     "output_type": "execute_result"
    }
   ],
   "source": [
    "df.property_type.value_counts()"
   ]
  },
  {
   "cell_type": "code",
   "execution_count": 79,
   "metadata": {
    "scrolled": false
   },
   "outputs": [
    {
     "name": "stdout",
     "output_type": "stream",
     "text": [
      "<class 'pandas.core.frame.DataFrame'>\n",
      "RangeIndex: 48864 entries, 0 to 48863\n",
      "Data columns (total 106 columns):\n",
      "id                                              int64\n",
      "listing_url                                     object\n",
      "scrape_id                                       int64\n",
      "last_scraped                                    object\n",
      "name                                            object\n",
      "summary                                         object\n",
      "space                                           object\n",
      "description                                     object\n",
      "experiences_offered                             object\n",
      "neighborhood_overview                           object\n",
      "notes                                           object\n",
      "transit                                         object\n",
      "access                                          object\n",
      "interaction                                     object\n",
      "house_rules                                     object\n",
      "thumbnail_url                                   float64\n",
      "medium_url                                      float64\n",
      "picture_url                                     object\n",
      "xl_picture_url                                  float64\n",
      "host_id                                         int64\n",
      "host_url                                        object\n",
      "host_name                                       object\n",
      "host_since                                      object\n",
      "host_location                                   object\n",
      "host_about                                      object\n",
      "host_response_time                              object\n",
      "host_response_rate                              object\n",
      "host_acceptance_rate                            float64\n",
      "host_is_superhost                               object\n",
      "host_thumbnail_url                              object\n",
      "host_picture_url                                object\n",
      "host_neighbourhood                              object\n",
      "host_listings_count                             float64\n",
      "host_total_listings_count                       float64\n",
      "host_verifications                              object\n",
      "host_has_profile_pic                            object\n",
      "host_identity_verified                          object\n",
      "street                                          object\n",
      "neighbourhood                                   object\n",
      "neighbourhood_cleansed                          object\n",
      "neighbourhood_group_cleansed                    object\n",
      "city                                            object\n",
      "state                                           object\n",
      "zipcode                                         object\n",
      "market                                          object\n",
      "smart_location                                  object\n",
      "country_code                                    object\n",
      "country                                         object\n",
      "latitude                                        float64\n",
      "longitude                                       float64\n",
      "is_location_exact                               object\n",
      "property_type                                   object\n",
      "room_type                                       object\n",
      "accommodates                                    int64\n",
      "bathrooms                                       float64\n",
      "bedrooms                                        float64\n",
      "beds                                            float64\n",
      "bed_type                                        object\n",
      "amenities                                       object\n",
      "square_feet                                     float64\n",
      "price                                           object\n",
      "weekly_price                                    object\n",
      "monthly_price                                   object\n",
      "security_deposit                                object\n",
      "cleaning_fee                                    object\n",
      "guests_included                                 int64\n",
      "extra_people                                    object\n",
      "minimum_nights                                  int64\n",
      "maximum_nights                                  int64\n",
      "minimum_minimum_nights                          int64\n",
      "maximum_minimum_nights                          int64\n",
      "minimum_maximum_nights                          int64\n",
      "maximum_maximum_nights                          int64\n",
      "minimum_nights_avg_ntm                          float64\n",
      "maximum_nights_avg_ntm                          float64\n",
      "calendar_updated                                object\n",
      "has_availability                                object\n",
      "availability_30                                 int64\n",
      "availability_60                                 int64\n",
      "availability_90                                 int64\n",
      "availability_365                                int64\n",
      "calendar_last_scraped                           object\n",
      "number_of_reviews                               int64\n",
      "number_of_reviews_ltm                           int64\n",
      "first_review                                    object\n",
      "last_review                                     object\n",
      "review_scores_rating                            float64\n",
      "review_scores_accuracy                          float64\n",
      "review_scores_cleanliness                       float64\n",
      "review_scores_checkin                           float64\n",
      "review_scores_communication                     float64\n",
      "review_scores_location                          float64\n",
      "review_scores_value                             float64\n",
      "requires_license                                object\n",
      "license                                         object\n",
      "jurisdiction_names                              object\n",
      "instant_bookable                                object\n",
      "is_business_travel_ready                        object\n",
      "cancellation_policy                             object\n",
      "require_guest_profile_picture                   object\n",
      "require_guest_phone_verification                object\n",
      "calculated_host_listings_count                  int64\n",
      "calculated_host_listings_count_entire_homes     int64\n",
      "calculated_host_listings_count_private_rooms    int64\n",
      "calculated_host_listings_count_shared_rooms     int64\n",
      "reviews_per_month                               float64\n",
      "dtypes: float64(22), int64(21), object(63)\n",
      "memory usage: 39.5+ MB\n"
     ]
    }
   ],
   "source": [
    "df.info(verbose=True)"
   ]
  },
  {
   "cell_type": "code",
   "execution_count": 75,
   "metadata": {},
   "outputs": [],
   "source": [
    "df_summary_listings = pd.read_csv(os.path.join(raw_data, \"summary_listings.csv\"))"
   ]
  },
  {
   "cell_type": "code",
   "execution_count": 77,
   "metadata": {},
   "outputs": [
    {
     "name": "stdout",
     "output_type": "stream",
     "text": [
      "<class 'pandas.core.frame.DataFrame'>\n",
      "RangeIndex: 48864 entries, 0 to 48863\n",
      "Data columns (total 16 columns):\n",
      "id                                48864 non-null int64\n",
      "name                              48848 non-null object\n",
      "host_id                           48864 non-null int64\n",
      "host_name                         48846 non-null object\n",
      "neighbourhood_group               48864 non-null object\n",
      "neighbourhood                     48864 non-null object\n",
      "latitude                          48864 non-null float64\n",
      "longitude                         48864 non-null float64\n",
      "room_type                         48864 non-null object\n",
      "price                             48864 non-null int64\n",
      "minimum_nights                    48864 non-null int64\n",
      "number_of_reviews                 48864 non-null int64\n",
      "last_review                       38733 non-null object\n",
      "reviews_per_month                 38733 non-null float64\n",
      "calculated_host_listings_count    48864 non-null int64\n",
      "availability_365                  48864 non-null int64\n",
      "dtypes: float64(3), int64(7), object(6)\n",
      "memory usage: 6.0+ MB\n"
     ]
    }
   ],
   "source": [
    "df_summary_listings.info(verbose=True)"
   ]
  },
  {
   "cell_type": "code",
   "execution_count": 40,
   "metadata": {},
   "outputs": [
    {
     "data": {
      "text/html": [
       "<div>\n",
       "<style scoped>\n",
       "    .dataframe tbody tr th:only-of-type {\n",
       "        vertical-align: middle;\n",
       "    }\n",
       "\n",
       "    .dataframe tbody tr th {\n",
       "        vertical-align: top;\n",
       "    }\n",
       "\n",
       "    .dataframe thead th {\n",
       "        text-align: right;\n",
       "    }\n",
       "</style>\n",
       "<table border=\"1\" class=\"dataframe\">\n",
       "  <thead>\n",
       "    <tr style=\"text-align: right;\">\n",
       "      <th></th>\n",
       "      <th>id</th>\n",
       "      <th>name</th>\n",
       "      <th>host_id</th>\n",
       "      <th>host_name</th>\n",
       "      <th>neighbourhood_group</th>\n",
       "      <th>neighbourhood</th>\n",
       "      <th>latitude</th>\n",
       "      <th>longitude</th>\n",
       "      <th>room_type</th>\n",
       "      <th>price</th>\n",
       "      <th>minimum_nights</th>\n",
       "      <th>number_of_reviews</th>\n",
       "      <th>last_review</th>\n",
       "      <th>reviews_per_month</th>\n",
       "      <th>calculated_host_listings_count</th>\n",
       "      <th>availability_365</th>\n",
       "    </tr>\n",
       "  </thead>\n",
       "  <tbody>\n",
       "    <tr>\n",
       "      <th>0</th>\n",
       "      <td>2595</td>\n",
       "      <td>Skylit Midtown Castle</td>\n",
       "      <td>2845</td>\n",
       "      <td>Jennifer</td>\n",
       "      <td>Manhattan</td>\n",
       "      <td>Midtown</td>\n",
       "      <td>40.75362</td>\n",
       "      <td>-73.98377</td>\n",
       "      <td>Entire home/apt</td>\n",
       "      <td>225</td>\n",
       "      <td>1</td>\n",
       "      <td>46</td>\n",
       "      <td>2019-07-14</td>\n",
       "      <td>0.39</td>\n",
       "      <td>2</td>\n",
       "      <td>288</td>\n",
       "    </tr>\n",
       "    <tr>\n",
       "      <th>1</th>\n",
       "      <td>3647</td>\n",
       "      <td>THE VILLAGE OF HARLEM....NEW YORK !</td>\n",
       "      <td>4632</td>\n",
       "      <td>Elisabeth</td>\n",
       "      <td>Manhattan</td>\n",
       "      <td>Harlem</td>\n",
       "      <td>40.80902</td>\n",
       "      <td>-73.94190</td>\n",
       "      <td>Private room</td>\n",
       "      <td>150</td>\n",
       "      <td>3</td>\n",
       "      <td>0</td>\n",
       "      <td>NaN</td>\n",
       "      <td>NaN</td>\n",
       "      <td>1</td>\n",
       "      <td>365</td>\n",
       "    </tr>\n",
       "    <tr>\n",
       "      <th>2</th>\n",
       "      <td>3831</td>\n",
       "      <td>Cozy Entire Floor of Brownstone</td>\n",
       "      <td>4869</td>\n",
       "      <td>LisaRoxanne</td>\n",
       "      <td>Brooklyn</td>\n",
       "      <td>Clinton Hill</td>\n",
       "      <td>40.68514</td>\n",
       "      <td>-73.95976</td>\n",
       "      <td>Entire home/apt</td>\n",
       "      <td>89</td>\n",
       "      <td>1</td>\n",
       "      <td>274</td>\n",
       "      <td>2019-07-26</td>\n",
       "      <td>4.64</td>\n",
       "      <td>1</td>\n",
       "      <td>212</td>\n",
       "    </tr>\n",
       "    <tr>\n",
       "      <th>3</th>\n",
       "      <td>5022</td>\n",
       "      <td>Entire Apt: Spacious Studio/Loft by central park</td>\n",
       "      <td>7192</td>\n",
       "      <td>Laura</td>\n",
       "      <td>Manhattan</td>\n",
       "      <td>East Harlem</td>\n",
       "      <td>40.79851</td>\n",
       "      <td>-73.94399</td>\n",
       "      <td>Entire home/apt</td>\n",
       "      <td>80</td>\n",
       "      <td>10</td>\n",
       "      <td>9</td>\n",
       "      <td>2018-11-19</td>\n",
       "      <td>0.10</td>\n",
       "      <td>1</td>\n",
       "      <td>0</td>\n",
       "    </tr>\n",
       "    <tr>\n",
       "      <th>4</th>\n",
       "      <td>5099</td>\n",
       "      <td>Large Cozy 1 BR Apartment In Midtown East</td>\n",
       "      <td>7322</td>\n",
       "      <td>Chris</td>\n",
       "      <td>Manhattan</td>\n",
       "      <td>Murray Hill</td>\n",
       "      <td>40.74767</td>\n",
       "      <td>-73.97500</td>\n",
       "      <td>Entire home/apt</td>\n",
       "      <td>200</td>\n",
       "      <td>3</td>\n",
       "      <td>75</td>\n",
       "      <td>2019-07-21</td>\n",
       "      <td>0.60</td>\n",
       "      <td>1</td>\n",
       "      <td>127</td>\n",
       "    </tr>\n",
       "  </tbody>\n",
       "</table>\n",
       "</div>"
      ],
      "text/plain": [
       "     id                                              name  host_id  \\\n",
       "0  2595                             Skylit Midtown Castle     2845   \n",
       "1  3647               THE VILLAGE OF HARLEM....NEW YORK !     4632   \n",
       "2  3831                   Cozy Entire Floor of Brownstone     4869   \n",
       "3  5022  Entire Apt: Spacious Studio/Loft by central park     7192   \n",
       "4  5099         Large Cozy 1 BR Apartment In Midtown East     7322   \n",
       "\n",
       "     host_name neighbourhood_group neighbourhood  latitude  longitude  \\\n",
       "0     Jennifer           Manhattan       Midtown  40.75362  -73.98377   \n",
       "1    Elisabeth           Manhattan        Harlem  40.80902  -73.94190   \n",
       "2  LisaRoxanne            Brooklyn  Clinton Hill  40.68514  -73.95976   \n",
       "3        Laura           Manhattan   East Harlem  40.79851  -73.94399   \n",
       "4        Chris           Manhattan   Murray Hill  40.74767  -73.97500   \n",
       "\n",
       "         room_type  price  minimum_nights  number_of_reviews last_review  \\\n",
       "0  Entire home/apt    225               1                 46  2019-07-14   \n",
       "1     Private room    150               3                  0         NaN   \n",
       "2  Entire home/apt     89               1                274  2019-07-26   \n",
       "3  Entire home/apt     80              10                  9  2018-11-19   \n",
       "4  Entire home/apt    200               3                 75  2019-07-21   \n",
       "\n",
       "   reviews_per_month  calculated_host_listings_count  availability_365  \n",
       "0               0.39                               2               288  \n",
       "1                NaN                               1               365  \n",
       "2               4.64                               1               212  \n",
       "3               0.10                               1                 0  \n",
       "4               0.60                               1               127  "
      ]
     },
     "execution_count": 40,
     "metadata": {},
     "output_type": "execute_result"
    }
   ],
   "source": [
    "df_summary_listings.head()"
   ]
  },
  {
   "cell_type": "code",
   "execution_count": 41,
   "metadata": {},
   "outputs": [
    {
     "data": {
      "text/html": [
       "<div>\n",
       "<style scoped>\n",
       "    .dataframe tbody tr th:only-of-type {\n",
       "        vertical-align: middle;\n",
       "    }\n",
       "\n",
       "    .dataframe tbody tr th {\n",
       "        vertical-align: top;\n",
       "    }\n",
       "\n",
       "    .dataframe thead th {\n",
       "        text-align: right;\n",
       "    }\n",
       "</style>\n",
       "<table border=\"1\" class=\"dataframe\">\n",
       "  <thead>\n",
       "    <tr style=\"text-align: right;\">\n",
       "      <th></th>\n",
       "      <th>id</th>\n",
       "      <th>listing_url</th>\n",
       "      <th>scrape_id</th>\n",
       "      <th>last_scraped</th>\n",
       "      <th>name</th>\n",
       "      <th>summary</th>\n",
       "      <th>space</th>\n",
       "      <th>description</th>\n",
       "      <th>experiences_offered</th>\n",
       "      <th>neighborhood_overview</th>\n",
       "      <th>...</th>\n",
       "      <th>instant_bookable</th>\n",
       "      <th>is_business_travel_ready</th>\n",
       "      <th>cancellation_policy</th>\n",
       "      <th>require_guest_profile_picture</th>\n",
       "      <th>require_guest_phone_verification</th>\n",
       "      <th>calculated_host_listings_count</th>\n",
       "      <th>calculated_host_listings_count_entire_homes</th>\n",
       "      <th>calculated_host_listings_count_private_rooms</th>\n",
       "      <th>calculated_host_listings_count_shared_rooms</th>\n",
       "      <th>reviews_per_month</th>\n",
       "    </tr>\n",
       "  </thead>\n",
       "  <tbody>\n",
       "    <tr>\n",
       "      <th>0</th>\n",
       "      <td>2595</td>\n",
       "      <td>https://www.airbnb.com/rooms/2595</td>\n",
       "      <td>20190806030549</td>\n",
       "      <td>2019-08-07</td>\n",
       "      <td>Skylit Midtown Castle</td>\n",
       "      <td>Find your romantic getaway to this beautiful, spacious skylit studio in the heart of Midtown, Manhattan.  STUNNING SKYLIT STUDIO / 1 BED + SINGLE / FULL BATH / FULL KITCHEN / FIREPLACE / CENTRALLY...</td>\n",
       "      <td>- Spacious (500+ft²), immaculate and nicely furnished &amp; designed studio. - Tuck yourself into the ultra comfortable bed under the skylight. Fall in love with a myriad of bright lights in the city ...</td>\n",
       "      <td>Find your romantic getaway to this beautiful, spacious skylit studio in the heart of Midtown, Manhattan.  STUNNING SKYLIT STUDIO / 1 BED + SINGLE / FULL BATH / FULL KITCHEN / FIREPLACE / CENTRALLY...</td>\n",
       "      <td>none</td>\n",
       "      <td>Centrally located in the heart of Manhattan just a few blocks from all subway connections in the very desirable Midtown location a few minutes walk to Times Square, the Theater District, Bryant Pa...</td>\n",
       "      <td>...</td>\n",
       "      <td>f</td>\n",
       "      <td>f</td>\n",
       "      <td>strict_14_with_grace_period</td>\n",
       "      <td>t</td>\n",
       "      <td>t</td>\n",
       "      <td>2</td>\n",
       "      <td>1</td>\n",
       "      <td>0</td>\n",
       "      <td>1</td>\n",
       "      <td>0.39</td>\n",
       "    </tr>\n",
       "    <tr>\n",
       "      <th>1</th>\n",
       "      <td>3647</td>\n",
       "      <td>https://www.airbnb.com/rooms/3647</td>\n",
       "      <td>20190806030549</td>\n",
       "      <td>2019-08-06</td>\n",
       "      <td>THE VILLAGE OF HARLEM....NEW YORK !</td>\n",
       "      <td>NaN</td>\n",
       "      <td>WELCOME TO OUR INTERNATIONAL URBAN COMMUNITY This Spacious 1 bedroom  is with Plenty of Windows with a View....... Sleeps.....Four Adults.....two in the Livingrm. with (2) Sofa-beds.  (Website hid...</td>\n",
       "      <td>WELCOME TO OUR INTERNATIONAL URBAN COMMUNITY This Spacious 1 bedroom  is with Plenty of Windows with a View....... Sleeps.....Four Adults.....two in the Livingrm. with (2) Sofa-beds.  (Website hid...</td>\n",
       "      <td>none</td>\n",
       "      <td>NaN</td>\n",
       "      <td>...</td>\n",
       "      <td>f</td>\n",
       "      <td>f</td>\n",
       "      <td>strict_14_with_grace_period</td>\n",
       "      <td>t</td>\n",
       "      <td>t</td>\n",
       "      <td>1</td>\n",
       "      <td>0</td>\n",
       "      <td>1</td>\n",
       "      <td>0</td>\n",
       "      <td>NaN</td>\n",
       "    </tr>\n",
       "    <tr>\n",
       "      <th>2</th>\n",
       "      <td>3831</td>\n",
       "      <td>https://www.airbnb.com/rooms/3831</td>\n",
       "      <td>20190806030549</td>\n",
       "      <td>2019-08-06</td>\n",
       "      <td>Cozy Entire Floor of Brownstone</td>\n",
       "      <td>Urban retreat: enjoy 500 s.f. floor in 1899 brownstone, with wood and ceramic flooring throughout (completed Aug. 2015 through Sept. 2015), roomy bdrm, &amp; upgraded kitchen &amp; bathroom (completed Oct...</td>\n",
       "      <td>Greetings!      We own a double-duplex brownstone in Clinton Hill on Gates near Classon Avenue -  (7 blocks to C train, 5 blocks to G train, minutes to all), in which we host on the entire top flo...</td>\n",
       "      <td>Urban retreat: enjoy 500 s.f. floor in 1899 brownstone, with wood and ceramic flooring throughout (completed Aug. 2015 through Sept. 2015), roomy bdrm, &amp; upgraded kitchen &amp; bathroom (completed Oct...</td>\n",
       "      <td>none</td>\n",
       "      <td>Just the right mix of urban center and local neighborhood; close to all but enough quiet for a calming walk.</td>\n",
       "      <td>...</td>\n",
       "      <td>f</td>\n",
       "      <td>f</td>\n",
       "      <td>moderate</td>\n",
       "      <td>f</td>\n",
       "      <td>f</td>\n",
       "      <td>1</td>\n",
       "      <td>1</td>\n",
       "      <td>0</td>\n",
       "      <td>0</td>\n",
       "      <td>4.64</td>\n",
       "    </tr>\n",
       "    <tr>\n",
       "      <th>3</th>\n",
       "      <td>5022</td>\n",
       "      <td>https://www.airbnb.com/rooms/5022</td>\n",
       "      <td>20190806030549</td>\n",
       "      <td>2019-08-06</td>\n",
       "      <td>Entire Apt: Spacious Studio/Loft by central park</td>\n",
       "      <td>NaN</td>\n",
       "      <td>Loft apartment with high ceiling and wood flooring located 10 minutes away from Central Park in Harlem - 1 block away from 6 train and 3 blocks from 2 &amp; 3 line. This is in a recently renovated bui...</td>\n",
       "      <td>Loft apartment with high ceiling and wood flooring located 10 minutes away from Central Park in Harlem - 1 block away from 6 train and 3 blocks from 2 &amp; 3 line. This is in a recently renovated bui...</td>\n",
       "      <td>none</td>\n",
       "      <td>NaN</td>\n",
       "      <td>...</td>\n",
       "      <td>f</td>\n",
       "      <td>f</td>\n",
       "      <td>strict_14_with_grace_period</td>\n",
       "      <td>t</td>\n",
       "      <td>t</td>\n",
       "      <td>1</td>\n",
       "      <td>1</td>\n",
       "      <td>0</td>\n",
       "      <td>0</td>\n",
       "      <td>0.10</td>\n",
       "    </tr>\n",
       "    <tr>\n",
       "      <th>4</th>\n",
       "      <td>5099</td>\n",
       "      <td>https://www.airbnb.com/rooms/5099</td>\n",
       "      <td>20190806030549</td>\n",
       "      <td>2019-08-06</td>\n",
       "      <td>Large Cozy 1 BR Apartment In Midtown East</td>\n",
       "      <td>My large 1 bedroom apartment is true New York City living.  The apt is in midtown on the east side and centrally located, just a 10-minute walk from Grand Central Station, Empire State Building, T...</td>\n",
       "      <td>I have a large 1 bedroom apartment centrally located in Midtown East.  A 10 minute walk from Grand Central Station, Times Square, Empire State Building and all major subway and bus lines. The apar...</td>\n",
       "      <td>My large 1 bedroom apartment is true New York City living.  The apt is in midtown on the east side and centrally located, just a 10-minute walk from Grand Central Station, Empire State Building, T...</td>\n",
       "      <td>none</td>\n",
       "      <td>My neighborhood in Midtown East is called Murray Hill. The area is very centrally located with easy access to explore . The apartment is about 5 blocks (7 minute walk) to the United Nations and Gr...</td>\n",
       "      <td>...</td>\n",
       "      <td>f</td>\n",
       "      <td>f</td>\n",
       "      <td>strict_14_with_grace_period</td>\n",
       "      <td>t</td>\n",
       "      <td>t</td>\n",
       "      <td>1</td>\n",
       "      <td>1</td>\n",
       "      <td>0</td>\n",
       "      <td>0</td>\n",
       "      <td>0.60</td>\n",
       "    </tr>\n",
       "  </tbody>\n",
       "</table>\n",
       "<p>5 rows × 106 columns</p>\n",
       "</div>"
      ],
      "text/plain": [
       "     id                        listing_url       scrape_id last_scraped  \\\n",
       "0  2595  https://www.airbnb.com/rooms/2595  20190806030549   2019-08-07   \n",
       "1  3647  https://www.airbnb.com/rooms/3647  20190806030549   2019-08-06   \n",
       "2  3831  https://www.airbnb.com/rooms/3831  20190806030549   2019-08-06   \n",
       "3  5022  https://www.airbnb.com/rooms/5022  20190806030549   2019-08-06   \n",
       "4  5099  https://www.airbnb.com/rooms/5099  20190806030549   2019-08-06   \n",
       "\n",
       "                                               name  \\\n",
       "0                             Skylit Midtown Castle   \n",
       "1               THE VILLAGE OF HARLEM....NEW YORK !   \n",
       "2                   Cozy Entire Floor of Brownstone   \n",
       "3  Entire Apt: Spacious Studio/Loft by central park   \n",
       "4         Large Cozy 1 BR Apartment In Midtown East   \n",
       "\n",
       "                                                                                                                                                                                                   summary  \\\n",
       "0  Find your romantic getaway to this beautiful, spacious skylit studio in the heart of Midtown, Manhattan.  STUNNING SKYLIT STUDIO / 1 BED + SINGLE / FULL BATH / FULL KITCHEN / FIREPLACE / CENTRALLY...   \n",
       "1                                                                                                                                                                                                      NaN   \n",
       "2  Urban retreat: enjoy 500 s.f. floor in 1899 brownstone, with wood and ceramic flooring throughout (completed Aug. 2015 through Sept. 2015), roomy bdrm, & upgraded kitchen & bathroom (completed Oct...   \n",
       "3                                                                                                                                                                                                      NaN   \n",
       "4  My large 1 bedroom apartment is true New York City living.  The apt is in midtown on the east side and centrally located, just a 10-minute walk from Grand Central Station, Empire State Building, T...   \n",
       "\n",
       "                                                                                                                                                                                                     space  \\\n",
       "0  - Spacious (500+ft²), immaculate and nicely furnished & designed studio. - Tuck yourself into the ultra comfortable bed under the skylight. Fall in love with a myriad of bright lights in the city ...   \n",
       "1  WELCOME TO OUR INTERNATIONAL URBAN COMMUNITY This Spacious 1 bedroom  is with Plenty of Windows with a View....... Sleeps.....Four Adults.....two in the Livingrm. with (2) Sofa-beds.  (Website hid...   \n",
       "2  Greetings!      We own a double-duplex brownstone in Clinton Hill on Gates near Classon Avenue -  (7 blocks to C train, 5 blocks to G train, minutes to all), in which we host on the entire top flo...   \n",
       "3  Loft apartment with high ceiling and wood flooring located 10 minutes away from Central Park in Harlem - 1 block away from 6 train and 3 blocks from 2 & 3 line. This is in a recently renovated bui...   \n",
       "4  I have a large 1 bedroom apartment centrally located in Midtown East.  A 10 minute walk from Grand Central Station, Times Square, Empire State Building and all major subway and bus lines. The apar...   \n",
       "\n",
       "                                                                                                                                                                                               description  \\\n",
       "0  Find your romantic getaway to this beautiful, spacious skylit studio in the heart of Midtown, Manhattan.  STUNNING SKYLIT STUDIO / 1 BED + SINGLE / FULL BATH / FULL KITCHEN / FIREPLACE / CENTRALLY...   \n",
       "1  WELCOME TO OUR INTERNATIONAL URBAN COMMUNITY This Spacious 1 bedroom  is with Plenty of Windows with a View....... Sleeps.....Four Adults.....two in the Livingrm. with (2) Sofa-beds.  (Website hid...   \n",
       "2  Urban retreat: enjoy 500 s.f. floor in 1899 brownstone, with wood and ceramic flooring throughout (completed Aug. 2015 through Sept. 2015), roomy bdrm, & upgraded kitchen & bathroom (completed Oct...   \n",
       "3  Loft apartment with high ceiling and wood flooring located 10 minutes away from Central Park in Harlem - 1 block away from 6 train and 3 blocks from 2 & 3 line. This is in a recently renovated bui...   \n",
       "4  My large 1 bedroom apartment is true New York City living.  The apt is in midtown on the east side and centrally located, just a 10-minute walk from Grand Central Station, Empire State Building, T...   \n",
       "\n",
       "  experiences_offered  \\\n",
       "0                none   \n",
       "1                none   \n",
       "2                none   \n",
       "3                none   \n",
       "4                none   \n",
       "\n",
       "                                                                                                                                                                                     neighborhood_overview  \\\n",
       "0  Centrally located in the heart of Manhattan just a few blocks from all subway connections in the very desirable Midtown location a few minutes walk to Times Square, the Theater District, Bryant Pa...   \n",
       "1                                                                                                                                                                                                      NaN   \n",
       "2                                                                                             Just the right mix of urban center and local neighborhood; close to all but enough quiet for a calming walk.   \n",
       "3                                                                                                                                                                                                      NaN   \n",
       "4  My neighborhood in Midtown East is called Murray Hill. The area is very centrally located with easy access to explore . The apartment is about 5 blocks (7 minute walk) to the United Nations and Gr...   \n",
       "\n",
       "         ...         instant_bookable is_business_travel_ready  \\\n",
       "0        ...                        f                        f   \n",
       "1        ...                        f                        f   \n",
       "2        ...                        f                        f   \n",
       "3        ...                        f                        f   \n",
       "4        ...                        f                        f   \n",
       "\n",
       "           cancellation_policy require_guest_profile_picture  \\\n",
       "0  strict_14_with_grace_period                             t   \n",
       "1  strict_14_with_grace_period                             t   \n",
       "2                     moderate                             f   \n",
       "3  strict_14_with_grace_period                             t   \n",
       "4  strict_14_with_grace_period                             t   \n",
       "\n",
       "  require_guest_phone_verification  calculated_host_listings_count  \\\n",
       "0                                t                               2   \n",
       "1                                t                               1   \n",
       "2                                f                               1   \n",
       "3                                t                               1   \n",
       "4                                t                               1   \n",
       "\n",
       "   calculated_host_listings_count_entire_homes  \\\n",
       "0                                            1   \n",
       "1                                            0   \n",
       "2                                            1   \n",
       "3                                            1   \n",
       "4                                            1   \n",
       "\n",
       "  calculated_host_listings_count_private_rooms  \\\n",
       "0                                            0   \n",
       "1                                            1   \n",
       "2                                            0   \n",
       "3                                            0   \n",
       "4                                            0   \n",
       "\n",
       "   calculated_host_listings_count_shared_rooms  reviews_per_month  \n",
       "0                                            1               0.39  \n",
       "1                                            0                NaN  \n",
       "2                                            0               4.64  \n",
       "3                                            0               0.10  \n",
       "4                                            0               0.60  \n",
       "\n",
       "[5 rows x 106 columns]"
      ]
     },
     "execution_count": 41,
     "metadata": {},
     "output_type": "execute_result"
    }
   ],
   "source": [
    "df_detailed_listings.head()"
   ]
  },
  {
   "cell_type": "markdown",
   "metadata": {},
   "source": [
    "## Explore df_summary_listings"
   ]
  },
  {
   "cell_type": "code",
   "execution_count": 81,
   "metadata": {},
   "outputs": [
    {
     "data": {
      "text/plain": [
       "(48864, 16)"
      ]
     },
     "execution_count": 81,
     "metadata": {},
     "output_type": "execute_result"
    }
   ],
   "source": [
    "df_summary_listings.shape"
   ]
  },
  {
   "cell_type": "code",
   "execution_count": 82,
   "metadata": {},
   "outputs": [
    {
     "name": "stdout",
     "output_type": "stream",
     "text": [
      "<class 'pandas.core.frame.DataFrame'>\n",
      "RangeIndex: 48864 entries, 0 to 48863\n",
      "Data columns (total 16 columns):\n",
      "id                                48864 non-null int64\n",
      "name                              48848 non-null object\n",
      "host_id                           48864 non-null int64\n",
      "host_name                         48846 non-null object\n",
      "neighbourhood_group               48864 non-null object\n",
      "neighbourhood                     48864 non-null object\n",
      "latitude                          48864 non-null float64\n",
      "longitude                         48864 non-null float64\n",
      "room_type                         48864 non-null object\n",
      "price                             48864 non-null int64\n",
      "minimum_nights                    48864 non-null int64\n",
      "number_of_reviews                 48864 non-null int64\n",
      "last_review                       38733 non-null object\n",
      "reviews_per_month                 38733 non-null float64\n",
      "calculated_host_listings_count    48864 non-null int64\n",
      "availability_365                  48864 non-null int64\n",
      "dtypes: float64(3), int64(7), object(6)\n",
      "memory usage: 6.0+ MB\n"
     ]
    }
   ],
   "source": [
    "df_summary_listings.info()"
   ]
  },
  {
   "cell_type": "code",
   "execution_count": 86,
   "metadata": {},
   "outputs": [],
   "source": [
    "cols = [\"id\", \"latitude\", \"longitude\", \"neighbourhood_group\", \"availability_365\", \"price\"]"
   ]
  },
  {
   "cell_type": "code",
   "execution_count": 87,
   "metadata": {},
   "outputs": [
    {
     "data": {
      "text/html": [
       "<div>\n",
       "<style scoped>\n",
       "    .dataframe tbody tr th:only-of-type {\n",
       "        vertical-align: middle;\n",
       "    }\n",
       "\n",
       "    .dataframe tbody tr th {\n",
       "        vertical-align: top;\n",
       "    }\n",
       "\n",
       "    .dataframe thead th {\n",
       "        text-align: right;\n",
       "    }\n",
       "</style>\n",
       "<table border=\"1\" class=\"dataframe\">\n",
       "  <thead>\n",
       "    <tr style=\"text-align: right;\">\n",
       "      <th></th>\n",
       "      <th>id</th>\n",
       "      <th>latitude</th>\n",
       "      <th>longitude</th>\n",
       "      <th>neighbourhood_group</th>\n",
       "      <th>availability_365</th>\n",
       "      <th>price</th>\n",
       "    </tr>\n",
       "  </thead>\n",
       "  <tbody>\n",
       "    <tr>\n",
       "      <th>0</th>\n",
       "      <td>2595</td>\n",
       "      <td>40.75362</td>\n",
       "      <td>-73.98377</td>\n",
       "      <td>Manhattan</td>\n",
       "      <td>288</td>\n",
       "      <td>225</td>\n",
       "    </tr>\n",
       "    <tr>\n",
       "      <th>1</th>\n",
       "      <td>3647</td>\n",
       "      <td>40.80902</td>\n",
       "      <td>-73.94190</td>\n",
       "      <td>Manhattan</td>\n",
       "      <td>365</td>\n",
       "      <td>150</td>\n",
       "    </tr>\n",
       "    <tr>\n",
       "      <th>2</th>\n",
       "      <td>3831</td>\n",
       "      <td>40.68514</td>\n",
       "      <td>-73.95976</td>\n",
       "      <td>Brooklyn</td>\n",
       "      <td>212</td>\n",
       "      <td>89</td>\n",
       "    </tr>\n",
       "    <tr>\n",
       "      <th>3</th>\n",
       "      <td>5022</td>\n",
       "      <td>40.79851</td>\n",
       "      <td>-73.94399</td>\n",
       "      <td>Manhattan</td>\n",
       "      <td>0</td>\n",
       "      <td>80</td>\n",
       "    </tr>\n",
       "    <tr>\n",
       "      <th>4</th>\n",
       "      <td>5099</td>\n",
       "      <td>40.74767</td>\n",
       "      <td>-73.97500</td>\n",
       "      <td>Manhattan</td>\n",
       "      <td>127</td>\n",
       "      <td>200</td>\n",
       "    </tr>\n",
       "  </tbody>\n",
       "</table>\n",
       "</div>"
      ],
      "text/plain": [
       "     id  latitude  longitude neighbourhood_group  availability_365  price\n",
       "0  2595  40.75362  -73.98377           Manhattan               288    225\n",
       "1  3647  40.80902  -73.94190           Manhattan               365    150\n",
       "2  3831  40.68514  -73.95976            Brooklyn               212     89\n",
       "3  5022  40.79851  -73.94399           Manhattan                 0     80\n",
       "4  5099  40.74767  -73.97500           Manhattan               127    200"
      ]
     },
     "execution_count": 87,
     "metadata": {},
     "output_type": "execute_result"
    }
   ],
   "source": [
    "df_summary_listings[cols].head()"
   ]
  },
  {
   "cell_type": "code",
   "execution_count": 88,
   "metadata": {},
   "outputs": [],
   "source": [
    "import matplotlib.pyplot as plt"
   ]
  },
  {
   "cell_type": "code",
   "execution_count": 91,
   "metadata": {},
   "outputs": [
    {
     "ename": "ImportError",
     "evalue": "dlopen(/Users/Shravan/anaconda3/envs/xgboost/lib/python3.6/site-packages/fiona/ogrext.cpython-36m-darwin.so, 2): Library not loaded: @rpath/libkea.1.4.7.dylib\n  Referenced from: /Users/Shravan/anaconda3/envs/xgboost/lib/libgdal.20.dylib\n  Reason: image not found",
     "output_type": "error",
     "traceback": [
      "\u001b[0;31m---------------------------------------------------------------------------\u001b[0m",
      "\u001b[0;31mImportError\u001b[0m                               Traceback (most recent call last)",
      "\u001b[0;32m<ipython-input-91-fc7d1d298f0c>\u001b[0m in \u001b[0;36m<module>\u001b[0;34m()\u001b[0m\n\u001b[0;32m----> 1\u001b[0;31m \u001b[0;32mimport\u001b[0m \u001b[0mgeopandas\u001b[0m\u001b[0;34m\u001b[0m\u001b[0m\n\u001b[0m",
      "\u001b[0;32m~/anaconda3/envs/xgboost/lib/python3.6/site-packages/geopandas/__init__.py\u001b[0m in \u001b[0;36m<module>\u001b[0;34m()\u001b[0m\n\u001b[1;32m      3\u001b[0m \u001b[0;32mfrom\u001b[0m \u001b[0mgeopandas\u001b[0m\u001b[0;34m.\u001b[0m\u001b[0mgeodataframe\u001b[0m \u001b[0;32mimport\u001b[0m \u001b[0mpoints_from_xy\u001b[0m\u001b[0;34m\u001b[0m\u001b[0m\n\u001b[1;32m      4\u001b[0m \u001b[0;34m\u001b[0m\u001b[0m\n\u001b[0;32m----> 5\u001b[0;31m \u001b[0;32mfrom\u001b[0m \u001b[0mgeopandas\u001b[0m\u001b[0;34m.\u001b[0m\u001b[0mio\u001b[0m\u001b[0;34m.\u001b[0m\u001b[0mfile\u001b[0m \u001b[0;32mimport\u001b[0m \u001b[0mread_file\u001b[0m\u001b[0;34m\u001b[0m\u001b[0m\n\u001b[0m\u001b[1;32m      6\u001b[0m \u001b[0;32mfrom\u001b[0m \u001b[0mgeopandas\u001b[0m\u001b[0;34m.\u001b[0m\u001b[0mio\u001b[0m\u001b[0;34m.\u001b[0m\u001b[0msql\u001b[0m \u001b[0;32mimport\u001b[0m \u001b[0mread_postgis\u001b[0m\u001b[0;34m\u001b[0m\u001b[0m\n\u001b[1;32m      7\u001b[0m \u001b[0;32mfrom\u001b[0m \u001b[0mgeopandas\u001b[0m\u001b[0;34m.\u001b[0m\u001b[0mtools\u001b[0m \u001b[0;32mimport\u001b[0m \u001b[0msjoin\u001b[0m\u001b[0;34m\u001b[0m\u001b[0m\n",
      "\u001b[0;32m~/anaconda3/envs/xgboost/lib/python3.6/site-packages/geopandas/io/file.py\u001b[0m in \u001b[0;36m<module>\u001b[0;34m()\u001b[0m\n\u001b[1;32m      2\u001b[0m \u001b[0;32mfrom\u001b[0m \u001b[0mdistutils\u001b[0m\u001b[0;34m.\u001b[0m\u001b[0mversion\u001b[0m \u001b[0;32mimport\u001b[0m \u001b[0mLooseVersion\u001b[0m\u001b[0;34m\u001b[0m\u001b[0m\n\u001b[1;32m      3\u001b[0m \u001b[0;34m\u001b[0m\u001b[0m\n\u001b[0;32m----> 4\u001b[0;31m \u001b[0;32mimport\u001b[0m \u001b[0mfiona\u001b[0m\u001b[0;34m\u001b[0m\u001b[0m\n\u001b[0m\u001b[1;32m      5\u001b[0m \u001b[0;32mimport\u001b[0m \u001b[0mnumpy\u001b[0m \u001b[0;32mas\u001b[0m \u001b[0mnp\u001b[0m\u001b[0;34m\u001b[0m\u001b[0m\n\u001b[1;32m      6\u001b[0m \u001b[0;34m\u001b[0m\u001b[0m\n",
      "\u001b[0;32m~/anaconda3/envs/xgboost/lib/python3.6/site-packages/fiona/__init__.py\u001b[0m in \u001b[0;36m<module>\u001b[0;34m()\u001b[0m\n\u001b[1;32m     67\u001b[0m \u001b[0;32mfrom\u001b[0m \u001b[0msix\u001b[0m \u001b[0;32mimport\u001b[0m \u001b[0mstring_types\u001b[0m\u001b[0;34m\u001b[0m\u001b[0m\n\u001b[1;32m     68\u001b[0m \u001b[0;34m\u001b[0m\u001b[0m\n\u001b[0;32m---> 69\u001b[0;31m \u001b[0;32mfrom\u001b[0m \u001b[0mfiona\u001b[0m\u001b[0;34m.\u001b[0m\u001b[0mcollection\u001b[0m \u001b[0;32mimport\u001b[0m \u001b[0mCollection\u001b[0m\u001b[0;34m,\u001b[0m \u001b[0mBytesCollection\u001b[0m\u001b[0;34m,\u001b[0m \u001b[0mvsi_path\u001b[0m\u001b[0;34m\u001b[0m\u001b[0m\n\u001b[0m\u001b[1;32m     70\u001b[0m \u001b[0;32mfrom\u001b[0m \u001b[0mfiona\u001b[0m\u001b[0;34m.\u001b[0m\u001b[0m_drivers\u001b[0m \u001b[0;32mimport\u001b[0m \u001b[0mdriver_count\u001b[0m\u001b[0;34m,\u001b[0m \u001b[0mGDALEnv\u001b[0m\u001b[0;34m\u001b[0m\u001b[0m\n\u001b[1;32m     71\u001b[0m \u001b[0;32mfrom\u001b[0m \u001b[0mfiona\u001b[0m\u001b[0;34m.\u001b[0m\u001b[0mdrvsupport\u001b[0m \u001b[0;32mimport\u001b[0m \u001b[0msupported_drivers\u001b[0m\u001b[0;34m\u001b[0m\u001b[0m\n",
      "\u001b[0;32m~/anaconda3/envs/xgboost/lib/python3.6/site-packages/fiona/collection.py\u001b[0m in \u001b[0;36m<module>\u001b[0;34m()\u001b[0m\n\u001b[1;32m      7\u001b[0m \u001b[0;34m\u001b[0m\u001b[0m\n\u001b[1;32m      8\u001b[0m \u001b[0;32mfrom\u001b[0m \u001b[0mfiona\u001b[0m \u001b[0;32mimport\u001b[0m \u001b[0mcompat\u001b[0m\u001b[0;34m\u001b[0m\u001b[0m\n\u001b[0;32m----> 9\u001b[0;31m \u001b[0;32mfrom\u001b[0m \u001b[0mfiona\u001b[0m\u001b[0;34m.\u001b[0m\u001b[0mogrext\u001b[0m \u001b[0;32mimport\u001b[0m \u001b[0mIterator\u001b[0m\u001b[0;34m,\u001b[0m \u001b[0mItemsIterator\u001b[0m\u001b[0;34m,\u001b[0m \u001b[0mKeysIterator\u001b[0m\u001b[0;34m\u001b[0m\u001b[0m\n\u001b[0m\u001b[1;32m     10\u001b[0m \u001b[0;32mfrom\u001b[0m \u001b[0mfiona\u001b[0m\u001b[0;34m.\u001b[0m\u001b[0mogrext\u001b[0m \u001b[0;32mimport\u001b[0m \u001b[0mSession\u001b[0m\u001b[0;34m,\u001b[0m \u001b[0mWritingSession\u001b[0m\u001b[0;34m\u001b[0m\u001b[0m\n\u001b[1;32m     11\u001b[0m from fiona.ogrext import (\n",
      "\u001b[0;31mImportError\u001b[0m: dlopen(/Users/Shravan/anaconda3/envs/xgboost/lib/python3.6/site-packages/fiona/ogrext.cpython-36m-darwin.so, 2): Library not loaded: @rpath/libkea.1.4.7.dylib\n  Referenced from: /Users/Shravan/anaconda3/envs/xgboost/lib/libgdal.20.dylib\n  Reason: image not found"
     ]
    }
   ],
   "source": [
    "import geopandas"
   ]
  },
  {
   "cell_type": "code",
   "execution_count": null,
   "metadata": {},
   "outputs": [],
   "source": []
  },
  {
   "cell_type": "code",
   "execution_count": null,
   "metadata": {},
   "outputs": [],
   "source": []
  },
  {
   "cell_type": "code",
   "execution_count": null,
   "metadata": {},
   "outputs": [],
   "source": []
  },
  {
   "cell_type": "code",
   "execution_count": null,
   "metadata": {},
   "outputs": [],
   "source": []
  },
  {
   "cell_type": "code",
   "execution_count": null,
   "metadata": {},
   "outputs": [],
   "source": []
  },
  {
   "cell_type": "code",
   "execution_count": null,
   "metadata": {},
   "outputs": [],
   "source": []
  },
  {
   "cell_type": "code",
   "execution_count": null,
   "metadata": {},
   "outputs": [],
   "source": []
  },
  {
   "cell_type": "code",
   "execution_count": null,
   "metadata": {},
   "outputs": [],
   "source": []
  },
  {
   "cell_type": "code",
   "execution_count": null,
   "metadata": {},
   "outputs": [],
   "source": []
  },
  {
   "cell_type": "code",
   "execution_count": null,
   "metadata": {},
   "outputs": [],
   "source": []
  },
  {
   "cell_type": "code",
   "execution_count": null,
   "metadata": {},
   "outputs": [],
   "source": []
  },
  {
   "cell_type": "code",
   "execution_count": 42,
   "metadata": {},
   "outputs": [],
   "source": [
    "df_calendar = pd.read_csv(os.path.join(raw_data, \"detailed_calendar.csv\"), nrows=100)"
   ]
  },
  {
   "cell_type": "code",
   "execution_count": 43,
   "metadata": {},
   "outputs": [
    {
     "name": "stdout",
     "output_type": "stream",
     "text": [
      "<class 'pandas.core.frame.DataFrame'>\n",
      "RangeIndex: 100 entries, 0 to 99\n",
      "Data columns (total 7 columns):\n",
      "listing_id        100 non-null int64\n",
      "date              100 non-null object\n",
      "available         100 non-null object\n",
      "price             100 non-null object\n",
      "adjusted_price    100 non-null object\n",
      "minimum_nights    100 non-null int64\n",
      "maximum_nights    100 non-null int64\n",
      "dtypes: int64(3), object(4)\n",
      "memory usage: 5.5+ KB\n"
     ]
    }
   ],
   "source": [
    "df_calendar.info(verbose=True)"
   ]
  },
  {
   "cell_type": "code",
   "execution_count": 46,
   "metadata": {},
   "outputs": [
    {
     "data": {
      "text/html": [
       "<div>\n",
       "<style scoped>\n",
       "    .dataframe tbody tr th:only-of-type {\n",
       "        vertical-align: middle;\n",
       "    }\n",
       "\n",
       "    .dataframe tbody tr th {\n",
       "        vertical-align: top;\n",
       "    }\n",
       "\n",
       "    .dataframe thead th {\n",
       "        text-align: right;\n",
       "    }\n",
       "</style>\n",
       "<table border=\"1\" class=\"dataframe\">\n",
       "  <thead>\n",
       "    <tr style=\"text-align: right;\">\n",
       "      <th></th>\n",
       "      <th>listing_id</th>\n",
       "      <th>date</th>\n",
       "      <th>available</th>\n",
       "      <th>price</th>\n",
       "      <th>adjusted_price</th>\n",
       "      <th>minimum_nights</th>\n",
       "      <th>maximum_nights</th>\n",
       "    </tr>\n",
       "  </thead>\n",
       "  <tbody>\n",
       "    <tr>\n",
       "      <th>0</th>\n",
       "      <td>38638</td>\n",
       "      <td>2019-08-06</td>\n",
       "      <td>f</td>\n",
       "      <td>$219.00</td>\n",
       "      <td>$219.00</td>\n",
       "      <td>4</td>\n",
       "      <td>200</td>\n",
       "    </tr>\n",
       "    <tr>\n",
       "      <th>1</th>\n",
       "      <td>16595</td>\n",
       "      <td>2019-08-06</td>\n",
       "      <td>t</td>\n",
       "      <td>$275.00</td>\n",
       "      <td>$275.00</td>\n",
       "      <td>1</td>\n",
       "      <td>1124</td>\n",
       "    </tr>\n",
       "    <tr>\n",
       "      <th>2</th>\n",
       "      <td>16595</td>\n",
       "      <td>2019-08-07</td>\n",
       "      <td>f</td>\n",
       "      <td>$225.00</td>\n",
       "      <td>$225.00</td>\n",
       "      <td>1</td>\n",
       "      <td>1124</td>\n",
       "    </tr>\n",
       "    <tr>\n",
       "      <th>3</th>\n",
       "      <td>16595</td>\n",
       "      <td>2019-08-08</td>\n",
       "      <td>t</td>\n",
       "      <td>$225.00</td>\n",
       "      <td>$225.00</td>\n",
       "      <td>1</td>\n",
       "      <td>1124</td>\n",
       "    </tr>\n",
       "    <tr>\n",
       "      <th>4</th>\n",
       "      <td>16595</td>\n",
       "      <td>2019-08-09</td>\n",
       "      <td>f</td>\n",
       "      <td>$225.00</td>\n",
       "      <td>$225.00</td>\n",
       "      <td>1</td>\n",
       "      <td>1124</td>\n",
       "    </tr>\n",
       "    <tr>\n",
       "      <th>5</th>\n",
       "      <td>16595</td>\n",
       "      <td>2019-08-10</td>\n",
       "      <td>f</td>\n",
       "      <td>$225.00</td>\n",
       "      <td>$225.00</td>\n",
       "      <td>1</td>\n",
       "      <td>1124</td>\n",
       "    </tr>\n",
       "    <tr>\n",
       "      <th>6</th>\n",
       "      <td>16595</td>\n",
       "      <td>2019-08-11</td>\n",
       "      <td>f</td>\n",
       "      <td>$225.00</td>\n",
       "      <td>$225.00</td>\n",
       "      <td>1</td>\n",
       "      <td>1124</td>\n",
       "    </tr>\n",
       "    <tr>\n",
       "      <th>7</th>\n",
       "      <td>16595</td>\n",
       "      <td>2019-08-12</td>\n",
       "      <td>f</td>\n",
       "      <td>$225.00</td>\n",
       "      <td>$225.00</td>\n",
       "      <td>1</td>\n",
       "      <td>1124</td>\n",
       "    </tr>\n",
       "    <tr>\n",
       "      <th>8</th>\n",
       "      <td>16595</td>\n",
       "      <td>2019-08-13</td>\n",
       "      <td>f</td>\n",
       "      <td>$225.00</td>\n",
       "      <td>$225.00</td>\n",
       "      <td>1</td>\n",
       "      <td>1124</td>\n",
       "    </tr>\n",
       "    <tr>\n",
       "      <th>9</th>\n",
       "      <td>16595</td>\n",
       "      <td>2019-08-14</td>\n",
       "      <td>f</td>\n",
       "      <td>$225.00</td>\n",
       "      <td>$225.00</td>\n",
       "      <td>1</td>\n",
       "      <td>1124</td>\n",
       "    </tr>\n",
       "  </tbody>\n",
       "</table>\n",
       "</div>"
      ],
      "text/plain": [
       "   listing_id        date available    price adjusted_price  minimum_nights  \\\n",
       "0       38638  2019-08-06         f  $219.00        $219.00               4   \n",
       "1       16595  2019-08-06         t  $275.00        $275.00               1   \n",
       "2       16595  2019-08-07         f  $225.00        $225.00               1   \n",
       "3       16595  2019-08-08         t  $225.00        $225.00               1   \n",
       "4       16595  2019-08-09         f  $225.00        $225.00               1   \n",
       "5       16595  2019-08-10         f  $225.00        $225.00               1   \n",
       "6       16595  2019-08-11         f  $225.00        $225.00               1   \n",
       "7       16595  2019-08-12         f  $225.00        $225.00               1   \n",
       "8       16595  2019-08-13         f  $225.00        $225.00               1   \n",
       "9       16595  2019-08-14         f  $225.00        $225.00               1   \n",
       "\n",
       "   maximum_nights  \n",
       "0             200  \n",
       "1            1124  \n",
       "2            1124  \n",
       "3            1124  \n",
       "4            1124  \n",
       "5            1124  \n",
       "6            1124  \n",
       "7            1124  \n",
       "8            1124  \n",
       "9            1124  "
      ]
     },
     "execution_count": 46,
     "metadata": {},
     "output_type": "execute_result"
    }
   ],
   "source": [
    "df_calendar.head(10)"
   ]
  },
  {
   "cell_type": "code",
   "execution_count": 54,
   "metadata": {},
   "outputs": [],
   "source": [
    "df_neighbourhood = pd.read_csv(os.path.join(raw_data, \"neighbourhoods.csv\"))"
   ]
  },
  {
   "cell_type": "code",
   "execution_count": 55,
   "metadata": {},
   "outputs": [
    {
     "data": {
      "text/plain": [
       "(230, 2)"
      ]
     },
     "execution_count": 55,
     "metadata": {},
     "output_type": "execute_result"
    }
   ],
   "source": [
    "df_neighbourhood.shape"
   ]
  },
  {
   "cell_type": "code",
   "execution_count": 56,
   "metadata": {},
   "outputs": [
    {
     "data": {
      "text/html": [
       "<div>\n",
       "<style scoped>\n",
       "    .dataframe tbody tr th:only-of-type {\n",
       "        vertical-align: middle;\n",
       "    }\n",
       "\n",
       "    .dataframe tbody tr th {\n",
       "        vertical-align: top;\n",
       "    }\n",
       "\n",
       "    .dataframe thead th {\n",
       "        text-align: right;\n",
       "    }\n",
       "</style>\n",
       "<table border=\"1\" class=\"dataframe\">\n",
       "  <thead>\n",
       "    <tr style=\"text-align: right;\">\n",
       "      <th></th>\n",
       "      <th>neighbourhood_group</th>\n",
       "      <th>neighbourhood</th>\n",
       "    </tr>\n",
       "  </thead>\n",
       "  <tbody>\n",
       "    <tr>\n",
       "      <th>0</th>\n",
       "      <td>Bronx</td>\n",
       "      <td>Allerton</td>\n",
       "    </tr>\n",
       "    <tr>\n",
       "      <th>1</th>\n",
       "      <td>Bronx</td>\n",
       "      <td>Baychester</td>\n",
       "    </tr>\n",
       "    <tr>\n",
       "      <th>2</th>\n",
       "      <td>Bronx</td>\n",
       "      <td>Belmont</td>\n",
       "    </tr>\n",
       "    <tr>\n",
       "      <th>3</th>\n",
       "      <td>Bronx</td>\n",
       "      <td>Bronxdale</td>\n",
       "    </tr>\n",
       "    <tr>\n",
       "      <th>4</th>\n",
       "      <td>Bronx</td>\n",
       "      <td>Castle Hill</td>\n",
       "    </tr>\n",
       "  </tbody>\n",
       "</table>\n",
       "</div>"
      ],
      "text/plain": [
       "  neighbourhood_group neighbourhood\n",
       "0               Bronx      Allerton\n",
       "1               Bronx    Baychester\n",
       "2               Bronx       Belmont\n",
       "3               Bronx     Bronxdale\n",
       "4               Bronx   Castle Hill"
      ]
     },
     "execution_count": 56,
     "metadata": {},
     "output_type": "execute_result"
    }
   ],
   "source": [
    "df_neighbourhood.head()"
   ]
  },
  {
   "cell_type": "code",
   "execution_count": null,
   "metadata": {},
   "outputs": [],
   "source": []
  }
 ],
 "metadata": {
  "kernelspec": {
   "display_name": "Python 3",
   "language": "python",
   "name": "python3"
  },
  "language_info": {
   "codemirror_mode": {
    "name": "ipython",
    "version": 3
   },
   "file_extension": ".py",
   "mimetype": "text/x-python",
   "name": "python",
   "nbconvert_exporter": "python",
   "pygments_lexer": "ipython3",
   "version": "3.7.4"
  }
 },
 "nbformat": 4,
 "nbformat_minor": 2
}
